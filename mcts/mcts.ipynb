{
 "cells": [
  {
   "cell_type": "code",
   "execution_count": 1,
   "metadata": {},
   "outputs": [],
   "source": [
    "import gym\n",
    "import numpy as np\n"
   ]
  },
  {
   "cell_type": "code",
   "execution_count": 10,
   "metadata": {},
   "outputs": [],
   "source": [
    "class FrozenLakeModel:\n",
    "    def __init__(self, transitions):\n",
    "        self.model = transitions\n",
    "\n",
    "    def step(self, obs, action):\n",
    "        return self.model[obs][action][0]\n",
    "    \n",
    "    def actions(self, obs):\n",
    "        return list(self.model[obs].keys())\n",
    "\n",
    "\n",
    "class MCTS:\n",
    "    def __init__(self, cur_state, model):\n",
    "        self.cur_state = cur_state\n",
    "        self.model = model\n",
    "    \n",
    "    def search(self):\n",
    "\n",
    "        root = Node(self.cur_state)\n",
    "        while self._running(root):\n",
    "            next_node = self._treePolicy(root)\n",
    "            reward = self._rolloutPolicy(next_node)\n",
    "            self._backup(next_node, reward)\n",
    "        \n",
    "        return self._best_action(root), root\n",
    "\n",
    "    def _running(self):\n",
    "        pass\n",
    "\n",
    "    def _best_action(self, root):\n",
    "        pass\n",
    "\n",
    "    def _treePolicy(self, cur_node):\n",
    "        pass\n",
    "\n",
    "    def _rolloutPolicy(self, cur_node):\n",
    "        pass\n",
    "\n",
    "    def _backup(self, cur_node, reward):\n",
    "        pass\n",
    "\n",
    "class Node:\n",
    "    def __init__(self, state, action=None):\n",
    "        self.state = state\n",
    "        self.action = action\n",
    "\n",
    "\n",
    "def run_episode(env, model):\n",
    "    obs = env.reset()\n",
    "    done = False\n",
    "\n",
    "    ep_r = 0\n",
    "    while not done:\n",
    "        action, values = MCTS(env, model).search()\n",
    "        obs, r, done, info = env.step(action)\n",
    "\n",
    "        ep_r += r\n",
    "    \n",
    "    return ep_r, values # TODO: might want to return list of values for each step and stitch together\n",
    "        \n",
    "\n"
   ]
  },
  {
   "cell_type": "code",
   "execution_count": null,
   "metadata": {},
   "outputs": [],
   "source": []
  }
 ],
 "metadata": {
  "kernelspec": {
   "display_name": "Python 3.10.6 64-bit",
   "language": "python",
   "name": "python3"
  },
  "language_info": {
   "codemirror_mode": {
    "name": "ipython",
    "version": 3
   },
   "file_extension": ".py",
   "mimetype": "text/x-python",
   "name": "python",
   "nbconvert_exporter": "python",
   "pygments_lexer": "ipython3",
   "version": "3.10.6"
  },
  "orig_nbformat": 4,
  "vscode": {
   "interpreter": {
    "hash": "e7370f93d1d0cde622a1f8e1c04877d8463912d04d973331ad4851f04de6915a"
   }
  }
 },
 "nbformat": 4,
 "nbformat_minor": 2
}
