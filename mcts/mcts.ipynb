{
 "cells": [
  {
   "cell_type": "code",
   "execution_count": 2,
   "metadata": {},
   "outputs": [
    {
     "name": "stderr",
     "output_type": "stream",
     "text": [
      "/home/luke/.local/lib/python3.10/site-packages/tqdm/auto.py:22: TqdmWarning: IProgress not found. Please update jupyter and ipywidgets. See https://ipywidgets.readthedocs.io/en/stable/user_install.html\n",
      "  from .autonotebook import tqdm as notebook_tqdm\n"
     ]
    }
   ],
   "source": [
    "import gym\n",
    "from gym.spaces.utils import flatdim\n",
    "import numpy as np\n",
    "import matplotlib.pyplot as plt\n",
    "# from tqdm import trange\n",
    "from tqdm.auto import tqdm  # notebook compatible\n",
    "from minigrid.envs import FourRoomsEnv\n",
    "import matplotlib.pyplot as plt\n",
    "import graphviz\n",
    "from copy import deepcopy\n",
    "from collections import defaultdict"
   ]
  },
  {
   "cell_type": "code",
   "execution_count": 49,
   "metadata": {},
   "outputs": [],
   "source": [
    "class FrozenLakeModel:\n",
    "    def __init__(self, transitions):\n",
    "        self.model = transitions\n",
    "\n",
    "    def step(self, obs, action):\n",
    "        _, next_obs, r, done =  self.model[obs][action][0]\n",
    "        return next_obs, r, done, _\n",
    "    \n",
    "    def actions(self, obs):\n",
    "        return list(self.model[obs].keys())\n",
    "\n",
    "class Node:\n",
    "    def __init__(self, state, action=None):\n",
    "        self.state = state\n",
    "        self.action = action\n",
    "        self.reward = 0\n",
    "        self.done = False\n",
    "\n",
    "        self.parent = None\n",
    "        self.children = {}\n",
    "\n",
    "        self.value = 0.0\n",
    "        self.visits = 0\n",
    "    \n",
    "    def __repr__(self):\n",
    "        return f\"Node: (s:{self.state}, a:{self.action}, r:{self.reward}, d:{self.done})\"\n",
    "    \n",
    "    def update_stats(self, val):\n",
    "        self.visits += 1\n",
    "        self.value += (val - self.value) / float(self.visits)\n",
    "\n",
    "class MCTS:\n",
    "    def __init__(self, cur_state, model, hparams):\n",
    "        self.cur_state = cur_state\n",
    "        self.model = model\n",
    "        self.iters: int = hparams[\"iters\"]\n",
    "        self.discount = hparams.get(\"discount\", 0.99) \n",
    "        self.sim_depth = hparams.get(\"sim_depth\", 1000)\n",
    "        self.rollout_heuristic = hparams.get(\"rollout_heuristic\", None)\n",
    "        self.expansion_heuristic = hparams.get(\"expansion_heuristic\", None)\n",
    "        self.dupes: dict[tuple, Node] = {}\n",
    "    \n",
    "    def search(self):\n",
    "        root = Node(self.cur_state)\n",
    "        print(\"Running MCTS.\")\n",
    "        pbar = tqdm(range(self.iters))\n",
    "        for i in pbar:\n",
    "            next_node = self._treePolicy(root)\n",
    "            reward = self._rolloutPolicy(next_node)\n",
    "            self._backup(next_node, reward)\n",
    "\n",
    "            pbar.set_description(f\"Action Values: {[child.value for child in root.children.values()]}\")\n",
    "        \n",
    "        print(\"MCTS finished.\")\n",
    "        return self._best_action(root), root\n",
    "\n",
    "    # \"Most Robust Child\" selection: http://www.incompleteideas.net/609%20dropbox/other%20readings%20and%20resources/MCTS-survey.pdf\n",
    "    def _best_action(self, root):\n",
    "        return max(root.children.values(), key = lambda child: child.visits).action\n",
    "\n",
    "    # Tree Policy explores current tree up to edge.\n",
    "    def _treePolicy(self, cur_node) -> Node:\n",
    "\n",
    "        next_node = cur_node\n",
    "        while not next_node.done:\n",
    "            if not self._expanded(next_node):\n",
    "                return self._expand(next_node)\n",
    "            else:\n",
    "                next_node = self._UCT(next_node)\n",
    "\n",
    "        return next_node\n",
    "\n",
    "    # Rollout policy performs random (or via some policy) rollouts til termination. Returns reward.\n",
    "    def _rolloutPolicy(self, node: Node) -> float:\n",
    "        \n",
    "        cur_node = node\n",
    "        done = False\n",
    "        cum_reward = node.reward\n",
    "        for _ in range(self.sim_depth):\n",
    "            if self.rollout_heuristic is not None:\n",
    "                action = np.random.choice(self.model.actions(cur_node.state), p=self.heuristic)\n",
    "            else:\n",
    "                action = np.random.choice(self.model.actions(cur_node.state))\n",
    "\n",
    "            next_obs, r, done, _ = self.model.step(cur_node.state, action) \n",
    "\n",
    "            cum_reward += r\n",
    "            if done:\n",
    "                break\n",
    "                \n",
    "            cur_node = Node(next_obs)\n",
    "        return cum_reward\n",
    "\n",
    "    def _UCT(self, node: Node) -> Node:\n",
    "        children: list[Node] = list(node.children.values())\n",
    "        weights = [child.value + 1.5 * np.sqrt(np.log(node.visits + 1e-6) / (child.visits + 1e-6)) for child in children]\n",
    "        weights = np.array(weights) / sum(weights)\n",
    "        return np.random.choice(children, p=weights)\n",
    "\n",
    "    def _expanded(self, node: Node) -> bool:\n",
    "        return set(self.model.actions(node.state)) == set(node.children.keys())\n",
    "\n",
    "    def _expand(self, node: Node) -> Node:\n",
    "\n",
    "        # Sample random action\n",
    "        actions = self.model.actions(node.state)\n",
    "        if (len(node.children.keys()) > 0):\n",
    "            for performed in list(node.children.keys()):\n",
    "                actions.remove(performed)\n",
    "\n",
    "        if(self.expansion_heuristic is not None):\n",
    "            available_probs = self.expansion_heuristic[actions]\n",
    "            normalize = sum(self.expansion_heuristic[actions])\n",
    "            modified_probs = available_probs/normalize if normalize > 0 else np.ones_like(available_probs) / sum(np.ones_like(available_probs))\n",
    "            action = np.random.choice(actions, p=modified_probs)\n",
    "        else: \n",
    "            action = np.random.choice(actions)\n",
    "\n",
    "        next_obs, r, done, _ = self.model.step(node.state, action)\n",
    "\n",
    "        # if next_obs in self.dupes:\n",
    "        #     return self.dupes[next_obs]\n",
    "\n",
    "        # Construct new node\n",
    "        next_node = Node(next_obs, action)\n",
    "        next_node.parent = node\n",
    "        next_node.reward = r\n",
    "        next_node.done = done\n",
    "\n",
    "        # Add to list of children\n",
    "        node.children[action] = next_node\n",
    "        self.dupes[next_obs] = next_node\n",
    "\n",
    "        return next_node\n",
    "\n",
    "\n",
    "\n",
    "    def _backup(self, node: Node, reward: float) -> None:\n",
    "        node.update_stats(reward)\n",
    "\n",
    "        while node.parent:\n",
    "            node = node.parent\n",
    "            node.update_stats(self.discount * reward)\n",
    "\n",
    "# For viz purposes\n",
    "def unpack(root: Node, graph, ignore, action_map=None):\n",
    "    if (not root.parent):\n",
    "        graph.node(str(root.state))\n",
    "\n",
    "    if len(root.children.values()) == 0:\n",
    "        return graph\n",
    "    \n",
    "    for child in root.children.values():\n",
    "        if (not (str(root.state), str(child.state), child.action) in ignore):\n",
    "            graph.edge(str(root.state), str(child.state), label=str(child.action if not action_map else action_map[child.action]))\n",
    "            ignore.add((str(root.state), str(child.state), child.action))\n",
    "\n",
    "        graph = unpack(child, graph, ignore, action_map=action_map)\n",
    "    \n",
    "    return graph\n",
    "\n",
    "# Visualize visitation frequency\n",
    "def unpack_visits(root: Node, visit_freqs=defaultdict(lambda: 0)):\n",
    "    if len(root.children.values()) == 0:\n",
    "        visit_freqs[root.state] += root.visits\n",
    "    \n",
    "    for child in root.children.values():\n",
    "        visit_freqs = unpack_visits(child, visit_freqs)\n",
    "    \n",
    "    return visit_freqs"
   ]
  },
  {
   "cell_type": "code",
   "execution_count": 50,
   "metadata": {},
   "outputs": [
    {
     "name": "stdout",
     "output_type": "stream",
     "text": [
      "Running MCTS.\n"
     ]
    },
    {
     "name": "stderr",
     "output_type": "stream",
     "text": [
      "Action Values: [0.007586206896551722, 0.01948818897637794, 0.020286885245901633, 0.016431535269709543]: 100%|██████████| 1000/1000 [00:01<00:00, 503.94it/s] \n"
     ]
    },
    {
     "name": "stdout",
     "output_type": "stream",
     "text": [
      "MCTS finished.\n",
      "Running MCTS.\n"
     ]
    },
    {
     "name": "stderr",
     "output_type": "stream",
     "text": [
      "Action Values: [0.0, 0.02302325581395349, 0.011556420233463031, 0.00767441860465116]: 100%|██████████| 1000/1000 [00:01<00:00, 548.38it/s]  \n"
     ]
    },
    {
     "name": "stdout",
     "output_type": "stream",
     "text": [
      "MCTS finished.\n",
      "Running MCTS.\n"
     ]
    },
    {
     "name": "stderr",
     "output_type": "stream",
     "text": [
      "Action Values: [0.0, 0.01889312977099235, 0.011927710843373485, 0.01603238866396761]: 100%|██████████| 1000/1000 [00:01<00:00, 563.30it/s]  \n"
     ]
    },
    {
     "name": "stdout",
     "output_type": "stream",
     "text": [
      "MCTS finished.\n",
      "Running MCTS.\n"
     ]
    },
    {
     "name": "stderr",
     "output_type": "stream",
     "text": [
      "Action Values: [0.004267241379310343, 0.008048780487804877, 0.01577689243027888, 0.02922509225092251]: 100%|██████████| 1000/1000 [00:01<00:00, 528.59it/s]  \n"
     ]
    },
    {
     "name": "stdout",
     "output_type": "stream",
     "text": [
      "MCTS finished.\n",
      "Running MCTS.\n"
     ]
    },
    {
     "name": "stderr",
     "output_type": "stream",
     "text": [
      "Action Values: [0.0, 0.02686046511627906, 0.07043478260869564, 0.015408560311284042]: 100%|██████████| 1000/1000 [00:01<00:00, 550.18it/s] \n"
     ]
    },
    {
     "name": "stdout",
     "output_type": "stream",
     "text": [
      "MCTS finished.\n",
      "Running MCTS.\n"
     ]
    },
    {
     "name": "stderr",
     "output_type": "stream",
     "text": [
      "Action Values: [0.0, 0.019038461538461535, 0.015468749999999995, 0.01146718146718147]: 100%|██████████| 1000/1000 [00:01<00:00, 525.49it/s] \n"
     ]
    },
    {
     "name": "stdout",
     "output_type": "stream",
     "text": [
      "MCTS finished.\n",
      "Running MCTS.\n"
     ]
    },
    {
     "name": "stderr",
     "output_type": "stream",
     "text": [
      "Action Values: [0.01685106382978723, 0.025666666666666667, 0.0, 0.011879999999999998]: 100%|██████████| 1000/1000 [00:01<00:00, 594.82it/s]\n"
     ]
    },
    {
     "name": "stdout",
     "output_type": "stream",
     "text": [
      "MCTS finished.\n",
      "Running MCTS.\n"
     ]
    },
    {
     "name": "stderr",
     "output_type": "stream",
     "text": [
      "Action Values: [0.0, 0.016431535269709547, 0.026450381679389297, 0.01941176470588234]: 100%|██████████| 1000/1000 [00:01<00:00, 598.08it/s]\n"
     ]
    },
    {
     "name": "stdout",
     "output_type": "stream",
     "text": [
      "MCTS finished.\n",
      "Running MCTS.\n"
     ]
    },
    {
     "name": "stderr",
     "output_type": "stream",
     "text": [
      "Action Values: [0.0, 0.015468750000000002, 0.0, 0.015000000000000008]: 100%|██████████| 1000/1000 [00:01<00:00, 626.78it/s]\n"
     ]
    },
    {
     "name": "stdout",
     "output_type": "stream",
     "text": [
      "MCTS finished.\n",
      "Running MCTS.\n"
     ]
    },
    {
     "name": "stderr",
     "output_type": "stream",
     "text": [
      "Action Values: [0.008319327731092436, 0.026150943396226416, 0.00825, 0.019260700389105056]: 100%|██████████| 1000/1000 [00:01<00:00, 523.25it/s]             \n"
     ]
    },
    {
     "name": "stdout",
     "output_type": "stream",
     "text": [
      "MCTS finished.\n",
      "Running MCTS.\n"
     ]
    },
    {
     "name": "stderr",
     "output_type": "stream",
     "text": [
      "Action Values: [0.0, 0.01523076923076923, 0.012172131147540989, 0.023023255813953487]: 100%|██████████| 1000/1000 [00:01<00:00, 589.19it/s] \n"
     ]
    },
    {
     "name": "stdout",
     "output_type": "stream",
     "text": [
      "MCTS finished.\n",
      "Running MCTS.\n"
     ]
    },
    {
     "name": "stderr",
     "output_type": "stream",
     "text": [
      "Action Values: [0.008148148148148146, 0.0, 0.008081632653061223, 0.032637362637362624]: 100%|██████████| 1000/1000 [00:01<00:00, 560.53it/s]\n"
     ]
    },
    {
     "name": "stdout",
     "output_type": "stream",
     "text": [
      "MCTS finished.\n",
      "Running MCTS.\n"
     ]
    },
    {
     "name": "stderr",
     "output_type": "stream",
     "text": [
      "Action Values: [0.011785714285714274, 0.018749999999999992, 0.0, 0.048888888888888864]: 100%|██████████| 1000/1000 [00:01<00:00, 507.46it/s]\n"
     ]
    },
    {
     "name": "stdout",
     "output_type": "stream",
     "text": [
      "MCTS finished.\n",
      "Running MCTS.\n"
     ]
    },
    {
     "name": "stderr",
     "output_type": "stream",
     "text": [
      "Action Values: [0.0, 0.004342105263157892, 0.019335937499999997, 0.007415730337078651]: 100%|██████████| 1000/1000 [00:01<00:00, 554.63it/s] \n"
     ]
    },
    {
     "name": "stdout",
     "output_type": "stream",
     "text": [
      "MCTS finished.\n",
      "Running MCTS.\n"
     ]
    },
    {
     "name": "stderr",
     "output_type": "stream",
     "text": [
      "Action Values: [0.007764705882352938, 0.004040816326530612, 0.020886075949367082, 0.015057034220532317]: 100%|██████████| 1000/1000 [00:01<00:00, 537.70it/s]\n"
     ]
    },
    {
     "name": "stdout",
     "output_type": "stream",
     "text": [
      "MCTS finished.\n",
      "Running MCTS.\n"
     ]
    },
    {
     "name": "stderr",
     "output_type": "stream",
     "text": [
      "Action Values: [0.02267175572519084, 0.025169491525423724, 0.0, 0.03549800796812749]: 100%|██████████| 1000/1000 [00:01<00:00, 593.17it/s] \n"
     ]
    },
    {
     "name": "stdout",
     "output_type": "stream",
     "text": [
      "MCTS finished.\n",
      "Running MCTS.\n"
     ]
    },
    {
     "name": "stderr",
     "output_type": "stream",
     "text": [
      "Action Values: [0.016363636363636358, 0.004177215189873418, 0.018265682656826553, 0.019799999999999995]: 100%|██████████| 1000/1000 [00:01<00:00, 543.09it/s]\n"
     ]
    },
    {
     "name": "stdout",
     "output_type": "stream",
     "text": [
      "MCTS finished.\n",
      "Running MCTS.\n"
     ]
    },
    {
     "name": "stderr",
     "output_type": "stream",
     "text": [
      "Action Values: [0.015172413793103443, 0.0, 0.015903614457831325, 0.00818181818181818]: 100%|██████████| 1000/1000 [00:01<00:00, 603.11it/s] \n"
     ]
    },
    {
     "name": "stdout",
     "output_type": "stream",
     "text": [
      "MCTS finished.\n",
      "Running MCTS.\n"
     ]
    },
    {
     "name": "stderr",
     "output_type": "stream",
     "text": [
      "Action Values: [0.007704280155642021, 0.007471698113207545, 0.008389830508474576, 0.024545454545454554]: 100%|██████████| 1000/1000 [00:01<00:00, 510.84it/s]\n"
     ]
    },
    {
     "name": "stdout",
     "output_type": "stream",
     "text": [
      "MCTS finished.\n",
      "Running MCTS.\n"
     ]
    },
    {
     "name": "stderr",
     "output_type": "stream",
     "text": [
      "Action Values: [0.00818181818181818, 0.012323651452282147, 0.003735849056603773, 0.011785714285714285]: 100%|██████████| 1000/1000 [00:01<00:00, 548.47it/s] \n"
     ]
    },
    {
     "name": "stdout",
     "output_type": "stream",
     "text": [
      "MCTS finished.\n",
      "Running MCTS.\n"
     ]
    },
    {
     "name": "stderr",
     "output_type": "stream",
     "text": [
      "Action Values: [0.012638297872340427, 0.012272727272727268, 0.022846153846153832, 0.011292775665399228]: 100%|██████████| 1000/1000 [00:01<00:00, 509.03it/s]\n"
     ]
    },
    {
     "name": "stdout",
     "output_type": "stream",
     "text": [
      "MCTS finished.\n",
      "Running MCTS.\n"
     ]
    },
    {
     "name": "stderr",
     "output_type": "stream",
     "text": [
      "Action Values: [0.016229508196721316, 0.01584, 0.011556420233463023, 0.015903614457831318]: 100%|██████████| 1000/1000 [00:01<00:00, 509.47it/s]            \n"
     ]
    },
    {
     "name": "stdout",
     "output_type": "stream",
     "text": [
      "MCTS finished.\n",
      "Running MCTS.\n"
     ]
    },
    {
     "name": "stderr",
     "output_type": "stream",
     "text": [
      "Action Values: [0.008534482758620688, 0.00776470588235294, 0.00792, 0.0]: 100%|██████████| 1000/1000 [00:01<00:00, 571.00it/s]              "
     ]
    },
    {
     "name": "stdout",
     "output_type": "stream",
     "text": [
      "MCTS finished.\n",
      "Episode return: 0.0\n"
     ]
    },
    {
     "name": "stderr",
     "output_type": "stream",
     "text": [
      "\n"
     ]
    }
   ],
   "source": [
    "env = gym.make(\"FrozenLake-v1\", is_slippery=False)\n",
    "model = FrozenLakeModel(env.P)\n",
    "obs = env.reset()\n",
    "\n",
    "action_map = {\n",
    "    0: \"LEFT\",\n",
    "    1: \"DOWN\", \n",
    "    2: \"RIGHT\",\n",
    "    3: \"UP\"\n",
    "}\n",
    "\n",
    "obs = env.reset()\n",
    "done = False\n",
    "ep_r = 0\n",
    "while not done:\n",
    "    action, values = MCTS(obs, model, {\"iters\": 1000}).search()\n",
    "    # print([(action_map[child.action], child.value) for child in values.children.values()])\n",
    "    # print(f\"Moving {action_map[action]}\")\n",
    "    obs, r, done, _ = env.step(action)\n",
    "    ep_r += r\n",
    "\n",
    "print(f\"Episode return: {ep_r}\")"
   ]
  },
  {
   "cell_type": "code",
   "execution_count": 8,
   "metadata": {},
   "outputs": [
    {
     "name": "stdout",
     "output_type": "stream",
     "text": [
      "Running MCTS.\n"
     ]
    },
    {
     "name": "stderr",
     "output_type": "stream",
     "text": [
      "100%|██████████| 5000/5000 [00:01<00:00, 3188.57it/s]\n"
     ]
    },
    {
     "name": "stdout",
     "output_type": "stream",
     "text": [
      "MCTS finished.\n"
     ]
    },
    {
     "data": {
      "image/svg+xml": "<?xml version=\"1.0\" encoding=\"UTF-8\" standalone=\"no\"?>\n<!DOCTYPE svg PUBLIC \"-//W3C//DTD SVG 1.1//EN\"\n \"http://www.w3.org/Graphics/SVG/1.1/DTD/svg11.dtd\">\n<!-- Generated by graphviz version 2.43.0 (0)\n -->\n<!-- Title: %3 Pages: 1 -->\n<svg width=\"716pt\" height=\"740pt\"\n viewBox=\"0.00 0.00 716.00 740.00\" xmlns=\"http://www.w3.org/2000/svg\" xmlns:xlink=\"http://www.w3.org/1999/xlink\">\n<g id=\"graph0\" class=\"graph\" transform=\"scale(1 1) rotate(0) translate(4 736)\">\n<title>%3</title>\n<polygon fill=\"white\" stroke=\"transparent\" points=\"-4,4 -4,-736 712,-736 712,4 -4,4\"/>\n<!-- 0 -->\n<g id=\"node1\" class=\"node\">\n<title>0</title>\n<ellipse fill=\"none\" stroke=\"black\" cx=\"584\" cy=\"-714\" rx=\"27\" ry=\"18\"/>\n<text text-anchor=\"middle\" x=\"584\" y=\"-710.3\" font-family=\"Times,serif\" font-size=\"14.00\">0</text>\n</g>\n<!-- 0&#45;&gt;0 -->\n<g id=\"edge1\" class=\"edge\">\n<title>0&#45;&gt;0</title>\n<path fill=\"none\" stroke=\"black\" d=\"M610.79,-717.93C620.78,-718.06 629,-716.75 629,-714 629,-712.28 625.79,-711.13 620.94,-710.53\"/>\n<polygon fill=\"black\" stroke=\"black\" points=\"620.94,-707.03 610.79,-710.07 620.63,-714.02 620.94,-707.03\"/>\n<text text-anchor=\"middle\" x=\"640\" y=\"-710.3\" font-family=\"Times,serif\" font-size=\"14.00\">UP</text>\n</g>\n<!-- 0&#45;&gt;0 -->\n<g id=\"edge2\" class=\"edge\">\n<title>0&#45;&gt;0</title>\n<path fill=\"none\" stroke=\"black\" d=\"M609.19,-720.81C629.5,-723.45 651,-721.18 651,-714 651,-708 635.98,-705.43 619.19,-706.29\"/>\n<polygon fill=\"black\" stroke=\"black\" points=\"618.84,-702.8 609.19,-707.19 619.47,-709.77 618.84,-702.8\"/>\n<text text-anchor=\"middle\" x=\"670.5\" y=\"-710.3\" font-family=\"Times,serif\" font-size=\"14.00\">LEFT</text>\n</g>\n<!-- 1 -->\n<g id=\"node2\" class=\"node\">\n<title>1</title>\n<ellipse fill=\"none\" stroke=\"black\" cx=\"485\" cy=\"-627\" rx=\"27\" ry=\"18\"/>\n<text text-anchor=\"middle\" x=\"485\" y=\"-623.3\" font-family=\"Times,serif\" font-size=\"14.00\">1</text>\n</g>\n<!-- 0&#45;&gt;1 -->\n<g id=\"edge3\" class=\"edge\">\n<title>0&#45;&gt;1</title>\n<path fill=\"none\" stroke=\"black\" d=\"M557.02,-711.46C534,-708.55 502.15,-700.43 486,-678 481.27,-671.43 479.86,-663.02 479.96,-654.98\"/>\n<polygon fill=\"black\" stroke=\"black\" points=\"483.47,-655.07 480.83,-644.81 476.49,-654.48 483.47,-655.07\"/>\n<text text-anchor=\"middle\" x=\"510.5\" y=\"-666.8\" font-family=\"Times,serif\" font-size=\"14.00\">RIGHT</text>\n</g>\n<!-- 4 -->\n<g id=\"node5\" class=\"node\">\n<title>4</title>\n<ellipse fill=\"none\" stroke=\"black\" cx=\"599\" cy=\"-105\" rx=\"27\" ry=\"18\"/>\n<text text-anchor=\"middle\" x=\"599\" y=\"-101.3\" font-family=\"Times,serif\" font-size=\"14.00\">4</text>\n</g>\n<!-- 0&#45;&gt;4 -->\n<g id=\"edge8\" class=\"edge\">\n<title>0&#45;&gt;4</title>\n<path fill=\"none\" stroke=\"black\" d=\"M592.39,-696.87C600.32,-680.12 611,-652.93 611,-628 611,-628 611,-628 611,-191 611,-171.44 607.85,-149.59 604.77,-132.95\"/>\n<polygon fill=\"black\" stroke=\"black\" points=\"608.15,-131.98 602.8,-122.83 601.28,-133.32 608.15,-131.98\"/>\n<text text-anchor=\"middle\" x=\"635.5\" y=\"-405.8\" font-family=\"Times,serif\" font-size=\"14.00\">DOWN</text>\n</g>\n<!-- 1&#45;&gt;0 -->\n<g id=\"edge7\" class=\"edge\">\n<title>1&#45;&gt;0</title>\n<path fill=\"none\" stroke=\"black\" d=\"M504.13,-640.18C513.71,-646.57 525.3,-654.78 535,-663 544.9,-671.39 555.06,-681.47 563.54,-690.38\"/>\n<polygon fill=\"black\" stroke=\"black\" points=\"561.13,-692.93 570.52,-697.84 566.24,-688.14 561.13,-692.93\"/>\n<text text-anchor=\"middle\" x=\"569.5\" y=\"-666.8\" font-family=\"Times,serif\" font-size=\"14.00\">LEFT</text>\n</g>\n<!-- 1&#45;&gt;1 -->\n<g id=\"edge4\" class=\"edge\">\n<title>1&#45;&gt;1</title>\n<path fill=\"none\" stroke=\"black\" d=\"M509.53,-634.75C520.51,-635.49 530,-632.91 530,-627 530,-623.03 525.72,-620.56 519.57,-619.59\"/>\n<polygon fill=\"black\" stroke=\"black\" points=\"519.65,-616.09 509.53,-619.25 519.41,-623.09 519.65,-616.09\"/>\n<text text-anchor=\"middle\" x=\"541\" y=\"-623.3\" font-family=\"Times,serif\" font-size=\"14.00\">UP</text>\n</g>\n<!-- 2 -->\n<g id=\"node3\" class=\"node\">\n<title>2</title>\n<ellipse fill=\"none\" stroke=\"black\" cx=\"431\" cy=\"-540\" rx=\"27\" ry=\"18\"/>\n<text text-anchor=\"middle\" x=\"431\" y=\"-536.3\" font-family=\"Times,serif\" font-size=\"14.00\">2</text>\n</g>\n<!-- 1&#45;&gt;2 -->\n<g id=\"edge5\" class=\"edge\">\n<title>1&#45;&gt;2</title>\n<path fill=\"none\" stroke=\"black\" d=\"M460.61,-619C446.96,-613.69 431.1,-604.88 423,-591 418.82,-583.85 418.81,-575.19 420.45,-567.1\"/>\n<polygon fill=\"black\" stroke=\"black\" points=\"423.86,-567.89 423.23,-557.31 417.13,-565.97 423.86,-567.89\"/>\n<text text-anchor=\"middle\" x=\"447.5\" y=\"-579.8\" font-family=\"Times,serif\" font-size=\"14.00\">RIGHT</text>\n</g>\n<!-- 5 -->\n<g id=\"node4\" class=\"node\">\n<title>5</title>\n<ellipse fill=\"none\" stroke=\"black\" cx=\"431\" cy=\"-18\" rx=\"27\" ry=\"18\"/>\n<text text-anchor=\"middle\" x=\"431\" y=\"-14.3\" font-family=\"Times,serif\" font-size=\"14.00\">5</text>\n</g>\n<!-- 1&#45;&gt;5 -->\n<g id=\"edge6\" class=\"edge\">\n<title>1&#45;&gt;5</title>\n<path fill=\"none\" stroke=\"black\" d=\"M458.23,-624.17C356.56,-616.87 0,-587.91 0,-541 0,-541 0,-541 0,-104 0,-53.51 53.49,-68 102,-54 204.78,-24.35 332.12,-19.32 393.91,-18.77\"/>\n<polygon fill=\"black\" stroke=\"black\" points=\"393.97,-22.27 403.95,-18.72 393.94,-15.27 393.97,-22.27\"/>\n<text text-anchor=\"middle\" x=\"24.5\" y=\"-318.8\" font-family=\"Times,serif\" font-size=\"14.00\">DOWN</text>\n</g>\n<!-- 2&#45;&gt;1 -->\n<g id=\"edge19\" class=\"edge\">\n<title>2&#45;&gt;1</title>\n<path fill=\"none\" stroke=\"black\" d=\"M450.04,-553.33C457.9,-559.31 466.44,-567.12 472,-576 476.3,-582.87 479.19,-591.12 481.12,-598.93\"/>\n<polygon fill=\"black\" stroke=\"black\" points=\"477.7,-599.68 483.15,-608.77 484.56,-598.27 477.7,-599.68\"/>\n<text text-anchor=\"middle\" x=\"498.5\" y=\"-579.8\" font-family=\"Times,serif\" font-size=\"14.00\">LEFT</text>\n</g>\n<!-- 2&#45;&gt;2 -->\n<g id=\"edge26\" class=\"edge\">\n<title>2&#45;&gt;2</title>\n<path fill=\"none\" stroke=\"black\" d=\"M455.53,-547.75C466.51,-548.49 476,-545.91 476,-540 476,-536.03 471.72,-533.56 465.57,-532.59\"/>\n<polygon fill=\"black\" stroke=\"black\" points=\"465.65,-529.09 455.53,-532.25 465.41,-536.09 465.65,-529.09\"/>\n<text text-anchor=\"middle\" x=\"487\" y=\"-536.3\" font-family=\"Times,serif\" font-size=\"14.00\">UP</text>\n</g>\n<!-- 3 -->\n<g id=\"node9\" class=\"node\">\n<title>3</title>\n<ellipse fill=\"none\" stroke=\"black\" cx=\"449\" cy=\"-453\" rx=\"27\" ry=\"18\"/>\n<text text-anchor=\"middle\" x=\"449\" y=\"-449.3\" font-family=\"Times,serif\" font-size=\"14.00\">3</text>\n</g>\n<!-- 2&#45;&gt;3 -->\n<g id=\"edge17\" class=\"edge\">\n<title>2&#45;&gt;3</title>\n<path fill=\"none\" stroke=\"black\" d=\"M434.64,-521.8C437.12,-510.09 440.46,-494.34 443.29,-480.97\"/>\n<polygon fill=\"black\" stroke=\"black\" points=\"446.78,-481.39 445.42,-470.89 439.93,-479.94 446.78,-481.39\"/>\n<text text-anchor=\"middle\" x=\"466.5\" y=\"-492.8\" font-family=\"Times,serif\" font-size=\"14.00\">RIGHT</text>\n</g>\n<!-- 6 -->\n<g id=\"node10\" class=\"node\">\n<title>6</title>\n<ellipse fill=\"none\" stroke=\"black\" cx=\"377\" cy=\"-453\" rx=\"27\" ry=\"18\"/>\n<text text-anchor=\"middle\" x=\"377\" y=\"-449.3\" font-family=\"Times,serif\" font-size=\"14.00\">6</text>\n</g>\n<!-- 2&#45;&gt;6 -->\n<g id=\"edge18\" class=\"edge\">\n<title>2&#45;&gt;6</title>\n<path fill=\"none\" stroke=\"black\" d=\"M410.68,-527.86C401.74,-521.93 391.94,-513.82 386,-504 381.92,-497.25 379.59,-489.12 378.29,-481.4\"/>\n<polygon fill=\"black\" stroke=\"black\" points=\"381.74,-480.8 377.08,-471.28 374.79,-481.63 381.74,-480.8\"/>\n<text text-anchor=\"middle\" x=\"410.5\" y=\"-492.8\" font-family=\"Times,serif\" font-size=\"14.00\">DOWN</text>\n</g>\n<!-- 4&#45;&gt;0 -->\n<g id=\"edge11\" class=\"edge\">\n<title>4&#45;&gt;0</title>\n<path fill=\"none\" stroke=\"black\" d=\"M620.63,-116.16C645.52,-129.52 683,-155.52 683,-191 683,-628 683,-628 683,-628 683,-663.62 645.66,-687.55 616.84,-700.71\"/>\n<polygon fill=\"black\" stroke=\"black\" points=\"615.25,-697.58 607.46,-704.76 618.03,-704.01 615.25,-697.58\"/>\n<text text-anchor=\"middle\" x=\"694\" y=\"-405.8\" font-family=\"Times,serif\" font-size=\"14.00\">UP</text>\n</g>\n<!-- 4&#45;&gt;5 -->\n<g id=\"edge13\" class=\"edge\">\n<title>4&#45;&gt;5</title>\n<path fill=\"none\" stroke=\"black\" d=\"M589.49,-87.78C582.2,-76.72 571.18,-62.57 558,-54 530.66,-36.23 494.38,-27.39 467.6,-23.06\"/>\n<polygon fill=\"black\" stroke=\"black\" points=\"467.89,-19.56 457.48,-21.56 466.86,-26.49 467.89,-19.56\"/>\n<text text-anchor=\"middle\" x=\"597.5\" y=\"-57.8\" font-family=\"Times,serif\" font-size=\"14.00\">RIGHT</text>\n</g>\n<!-- 4&#45;&gt;4 -->\n<g id=\"edge10\" class=\"edge\">\n<title>4&#45;&gt;4</title>\n<path fill=\"none\" stroke=\"black\" d=\"M623.53,-112.75C634.51,-113.49 644,-110.91 644,-105 644,-101.03 639.72,-98.56 633.57,-97.59\"/>\n<polygon fill=\"black\" stroke=\"black\" points=\"633.65,-94.09 623.53,-97.25 633.41,-101.09 633.65,-94.09\"/>\n<text text-anchor=\"middle\" x=\"663.5\" y=\"-101.3\" font-family=\"Times,serif\" font-size=\"14.00\">LEFT</text>\n</g>\n<!-- 8 -->\n<g id=\"node6\" class=\"node\">\n<title>8</title>\n<ellipse fill=\"none\" stroke=\"black\" cx=\"423\" cy=\"-192\" rx=\"27\" ry=\"18\"/>\n<text text-anchor=\"middle\" x=\"423\" y=\"-188.3\" font-family=\"Times,serif\" font-size=\"14.00\">8</text>\n</g>\n<!-- 4&#45;&gt;8 -->\n<g id=\"edge9\" class=\"edge\">\n<title>4&#45;&gt;8</title>\n<path fill=\"none\" stroke=\"black\" d=\"M577.69,-116.29C546.73,-131.24 489.13,-159.06 453.62,-176.21\"/>\n<polygon fill=\"black\" stroke=\"black\" points=\"451.71,-173.25 444.23,-180.75 454.76,-179.55 451.71,-173.25\"/>\n<text text-anchor=\"middle\" x=\"545.5\" y=\"-144.8\" font-family=\"Times,serif\" font-size=\"14.00\">DOWN</text>\n</g>\n<!-- 8&#45;&gt;4 -->\n<g id=\"edge15\" class=\"edge\">\n<title>8&#45;&gt;4</title>\n<path fill=\"none\" stroke=\"black\" d=\"M435.17,-175.81C444.86,-164.67 459.35,-149.97 475,-141 502.29,-125.36 537.02,-116.34 562.77,-111.39\"/>\n<polygon fill=\"black\" stroke=\"black\" points=\"563.65,-114.79 572.87,-109.57 562.4,-107.9 563.65,-114.79\"/>\n<text text-anchor=\"middle\" x=\"486\" y=\"-144.8\" font-family=\"Times,serif\" font-size=\"14.00\">UP</text>\n</g>\n<!-- 8&#45;&gt;8 -->\n<g id=\"edge16\" class=\"edge\">\n<title>8&#45;&gt;8</title>\n<path fill=\"none\" stroke=\"black\" d=\"M447.53,-199.75C458.51,-200.49 468,-197.91 468,-192 468,-188.03 463.72,-185.56 457.57,-184.59\"/>\n<polygon fill=\"black\" stroke=\"black\" points=\"457.65,-181.09 447.53,-184.25 457.41,-188.09 457.65,-181.09\"/>\n<text text-anchor=\"middle\" x=\"487.5\" y=\"-188.3\" font-family=\"Times,serif\" font-size=\"14.00\">LEFT</text>\n</g>\n<!-- 12 -->\n<g id=\"node7\" class=\"node\">\n<title>12</title>\n<ellipse fill=\"none\" stroke=\"black\" cx=\"260\" cy=\"-105\" rx=\"27\" ry=\"18\"/>\n<text text-anchor=\"middle\" x=\"260\" y=\"-101.3\" font-family=\"Times,serif\" font-size=\"14.00\">12</text>\n</g>\n<!-- 8&#45;&gt;12 -->\n<g id=\"edge12\" class=\"edge\">\n<title>8&#45;&gt;12</title>\n<path fill=\"none\" stroke=\"black\" d=\"M403.21,-179.54C391.69,-172.8 376.94,-164.05 364,-156 353.64,-149.55 351.75,-146.77 341,-141 325.39,-132.62 307.35,-124.66 292.26,-118.46\"/>\n<polygon fill=\"black\" stroke=\"black\" points=\"293.41,-115.15 282.83,-114.66 290.79,-121.64 293.41,-115.15\"/>\n<text text-anchor=\"middle\" x=\"388.5\" y=\"-144.8\" font-family=\"Times,serif\" font-size=\"14.00\">DOWN</text>\n</g>\n<!-- 9 -->\n<g id=\"node8\" class=\"node\">\n<title>9</title>\n<ellipse fill=\"none\" stroke=\"black\" cx=\"311\" cy=\"-279\" rx=\"27\" ry=\"18\"/>\n<text text-anchor=\"middle\" x=\"311\" y=\"-275.3\" font-family=\"Times,serif\" font-size=\"14.00\">9</text>\n</g>\n<!-- 8&#45;&gt;9 -->\n<g id=\"edge14\" class=\"edge\">\n<title>8&#45;&gt;9</title>\n<path fill=\"none\" stroke=\"black\" d=\"M399.82,-201.47C385.2,-207.5 366.42,-216.55 352,-228 342.81,-235.3 334.28,-244.98 327.41,-253.88\"/>\n<polygon fill=\"black\" stroke=\"black\" points=\"324.49,-251.94 321.37,-262.06 330.12,-256.1 324.49,-251.94\"/>\n<text text-anchor=\"middle\" x=\"376.5\" y=\"-231.8\" font-family=\"Times,serif\" font-size=\"14.00\">RIGHT</text>\n</g>\n<!-- 9&#45;&gt;5 -->\n<g id=\"edge28\" class=\"edge\">\n<title>9&#45;&gt;5</title>\n<path fill=\"none\" stroke=\"black\" d=\"M307.71,-260.74C303.41,-233.93 298.26,-181.2 315,-141 333.54,-96.5 376.34,-58.7 404.45,-37.44\"/>\n<polygon fill=\"black\" stroke=\"black\" points=\"406.68,-40.13 412.65,-31.38 402.53,-34.5 406.68,-40.13\"/>\n<text text-anchor=\"middle\" x=\"326\" y=\"-144.8\" font-family=\"Times,serif\" font-size=\"14.00\">UP</text>\n</g>\n<!-- 9&#45;&gt;8 -->\n<g id=\"edge30\" class=\"edge\">\n<title>9&#45;&gt;8</title>\n<path fill=\"none\" stroke=\"black\" d=\"M332.13,-267.51C336.97,-265.25 342.12,-262.96 347,-261 370.48,-251.58 382.3,-260.04 401,-243 407.85,-236.76 412.68,-227.99 416.03,-219.54\"/>\n<polygon fill=\"black\" stroke=\"black\" points=\"419.39,-220.53 419.31,-209.93 412.77,-218.26 419.39,-220.53\"/>\n<text text-anchor=\"middle\" x=\"431.5\" y=\"-231.8\" font-family=\"Times,serif\" font-size=\"14.00\">LEFT</text>\n</g>\n<!-- 10 -->\n<g id=\"node11\" class=\"node\">\n<title>10</title>\n<ellipse fill=\"none\" stroke=\"black\" cx=\"305\" cy=\"-366\" rx=\"27\" ry=\"18\"/>\n<text text-anchor=\"middle\" x=\"305\" y=\"-362.3\" font-family=\"Times,serif\" font-size=\"14.00\">10</text>\n</g>\n<!-- 9&#45;&gt;10 -->\n<g id=\"edge29\" class=\"edge\">\n<title>9&#45;&gt;10</title>\n<path fill=\"none\" stroke=\"black\" d=\"M309.79,-297.18C308.97,-308.81 307.86,-324.42 306.92,-337.73\"/>\n<polygon fill=\"black\" stroke=\"black\" points=\"303.43,-337.58 306.21,-347.8 310.41,-338.07 303.43,-337.58\"/>\n<text text-anchor=\"middle\" x=\"333.5\" y=\"-318.8\" font-family=\"Times,serif\" font-size=\"14.00\">RIGHT</text>\n</g>\n<!-- 13 -->\n<g id=\"node13\" class=\"node\">\n<title>13</title>\n<ellipse fill=\"none\" stroke=\"black\" cx=\"196\" cy=\"-192\" rx=\"27\" ry=\"18\"/>\n<text text-anchor=\"middle\" x=\"196\" y=\"-188.3\" font-family=\"Times,serif\" font-size=\"14.00\">13</text>\n</g>\n<!-- 9&#45;&gt;13 -->\n<g id=\"edge27\" class=\"edge\">\n<title>9&#45;&gt;13</title>\n<path fill=\"none\" stroke=\"black\" d=\"M283.96,-276.16C260.25,-273.07 226.59,-264.84 207,-243 201.41,-236.77 198.44,-228.35 196.93,-220.2\"/>\n<polygon fill=\"black\" stroke=\"black\" points=\"200.39,-219.7 195.69,-210.2 193.44,-220.56 200.39,-219.7\"/>\n<text text-anchor=\"middle\" x=\"231.5\" y=\"-231.8\" font-family=\"Times,serif\" font-size=\"14.00\">DOWN</text>\n</g>\n<!-- 3&#45;&gt;2 -->\n<g id=\"edge25\" class=\"edge\">\n<title>3&#45;&gt;2</title>\n<path fill=\"none\" stroke=\"black\" d=\"M470.13,-464.42C486.21,-473.84 504.14,-488.58 495,-504 488.39,-515.15 476.84,-522.98 465.35,-528.36\"/>\n<polygon fill=\"black\" stroke=\"black\" points=\"463.71,-525.25 455.82,-532.32 466.4,-531.71 463.71,-525.25\"/>\n<text text-anchor=\"middle\" x=\"517.5\" y=\"-492.8\" font-family=\"Times,serif\" font-size=\"14.00\">LEFT</text>\n</g>\n<!-- 3&#45;&gt;3 -->\n<g id=\"edge24\" class=\"edge\">\n<title>3&#45;&gt;3</title>\n<path fill=\"none\" stroke=\"black\" d=\"M475.79,-456.93C485.78,-457.06 494,-455.75 494,-453 494,-451.28 490.79,-450.13 485.94,-449.53\"/>\n<polygon fill=\"black\" stroke=\"black\" points=\"485.94,-446.03 475.79,-449.07 485.63,-453.02 485.94,-446.03\"/>\n<text text-anchor=\"middle\" x=\"505\" y=\"-449.3\" font-family=\"Times,serif\" font-size=\"14.00\">UP</text>\n</g>\n<!-- 3&#45;&gt;3 -->\n<g id=\"edge35\" class=\"edge\">\n<title>3&#45;&gt;3</title>\n<path fill=\"none\" stroke=\"black\" d=\"M474.19,-459.81C494.5,-462.45 516,-460.18 516,-453 516,-447 500.98,-444.43 484.19,-445.29\"/>\n<polygon fill=\"black\" stroke=\"black\" points=\"483.84,-441.8 474.19,-446.19 484.47,-448.77 483.84,-441.8\"/>\n<text text-anchor=\"middle\" x=\"540.5\" y=\"-449.3\" font-family=\"Times,serif\" font-size=\"14.00\">RIGHT</text>\n</g>\n<!-- 7 -->\n<g id=\"node12\" class=\"node\">\n<title>7</title>\n<ellipse fill=\"none\" stroke=\"black\" cx=\"526\" cy=\"-366\" rx=\"27\" ry=\"18\"/>\n<text text-anchor=\"middle\" x=\"526\" y=\"-362.3\" font-family=\"Times,serif\" font-size=\"14.00\">7</text>\n</g>\n<!-- 3&#45;&gt;7 -->\n<g id=\"edge23\" class=\"edge\">\n<title>3&#45;&gt;7</title>\n<path fill=\"none\" stroke=\"black\" d=\"M473.74,-445.36C488.56,-440.09 506.5,-431.2 517,-417 521.81,-410.49 524.33,-402.22 525.58,-394.29\"/>\n<polygon fill=\"black\" stroke=\"black\" points=\"529.08,-394.54 526.58,-384.24 522.11,-393.84 529.08,-394.54\"/>\n<text text-anchor=\"middle\" x=\"547.5\" y=\"-405.8\" font-family=\"Times,serif\" font-size=\"14.00\">DOWN</text>\n</g>\n<!-- 6&#45;&gt;2 -->\n<g id=\"edge22\" class=\"edge\">\n<title>6&#45;&gt;2</title>\n<path fill=\"none\" stroke=\"black\" d=\"M363.13,-468.61C355.09,-478.91 347.84,-492.82 355,-504 364,-518.05 380.22,-526.54 395.37,-531.63\"/>\n<polygon fill=\"black\" stroke=\"black\" points=\"394.5,-535.02 405.08,-534.5 396.49,-528.31 394.5,-535.02\"/>\n<text text-anchor=\"middle\" x=\"366\" y=\"-492.8\" font-family=\"Times,serif\" font-size=\"14.00\">UP</text>\n</g>\n<!-- 6&#45;&gt;5 -->\n<g id=\"edge34\" class=\"edge\">\n<title>6&#45;&gt;5</title>\n<path fill=\"none\" stroke=\"black\" d=\"M389.76,-436.97C423.73,-395.58 514.82,-275.07 530,-156 536.38,-105.98 489.58,-61.38 458.13,-37.46\"/>\n<polygon fill=\"black\" stroke=\"black\" points=\"459.85,-34.39 449.72,-31.28 455.7,-40.02 459.85,-34.39\"/>\n<text text-anchor=\"middle\" x=\"531.5\" y=\"-231.8\" font-family=\"Times,serif\" font-size=\"14.00\">LEFT</text>\n</g>\n<!-- 6&#45;&gt;10 -->\n<g id=\"edge20\" class=\"edge\">\n<title>6&#45;&gt;10</title>\n<path fill=\"none\" stroke=\"black\" d=\"M351.43,-446.53C335.44,-441.66 316.03,-432.77 306,-417 301.72,-410.28 300.39,-401.95 300.43,-394.03\"/>\n<polygon fill=\"black\" stroke=\"black\" points=\"303.92,-394.25 301.15,-384.02 296.94,-393.74 303.92,-394.25\"/>\n<text text-anchor=\"middle\" x=\"330.5\" y=\"-405.8\" font-family=\"Times,serif\" font-size=\"14.00\">DOWN</text>\n</g>\n<!-- 6&#45;&gt;7 -->\n<g id=\"edge21\" class=\"edge\">\n<title>6&#45;&gt;7</title>\n<path fill=\"none\" stroke=\"black\" d=\"M398.35,-441.57C415.01,-433.33 436.68,-422.35 445,-417 454.05,-411.18 455.07,-408 464,-402 474.24,-395.13 485.92,-388.3 496.35,-382.52\"/>\n<polygon fill=\"black\" stroke=\"black\" points=\"498.03,-385.59 505.14,-377.73 494.68,-379.44 498.03,-385.59\"/>\n<text text-anchor=\"middle\" x=\"488.5\" y=\"-405.8\" font-family=\"Times,serif\" font-size=\"14.00\">RIGHT</text>\n</g>\n<!-- 10&#45;&gt;9 -->\n<g id=\"edge33\" class=\"edge\">\n<title>10&#45;&gt;9</title>\n<path fill=\"none\" stroke=\"black\" d=\"M285.47,-353.49C272.01,-343.95 257.74,-329.64 265,-315 268.7,-307.54 274.83,-301.24 281.43,-296.13\"/>\n<polygon fill=\"black\" stroke=\"black\" points=\"283.65,-298.85 289.89,-290.3 279.67,-293.09 283.65,-298.85\"/>\n<text text-anchor=\"middle\" x=\"284.5\" y=\"-318.8\" font-family=\"Times,serif\" font-size=\"14.00\">LEFT</text>\n</g>\n<!-- 10&#45;&gt;6 -->\n<g id=\"edge41\" class=\"edge\">\n<title>10&#45;&gt;6</title>\n<path fill=\"none\" stroke=\"black\" d=\"M325.51,-377.82C335.44,-383.87 346.93,-392.17 355,-402 360.65,-408.88 365.11,-417.43 368.5,-425.51\"/>\n<polygon fill=\"black\" stroke=\"black\" points=\"365.28,-426.88 372.11,-434.98 371.82,-424.39 365.28,-426.88\"/>\n<text text-anchor=\"middle\" x=\"375\" y=\"-405.8\" font-family=\"Times,serif\" font-size=\"14.00\">UP</text>\n</g>\n<!-- 14 -->\n<g id=\"node14\" class=\"node\">\n<title>14</title>\n<ellipse fill=\"none\" stroke=\"black\" cx=\"106\" cy=\"-105\" rx=\"27\" ry=\"18\"/>\n<text text-anchor=\"middle\" x=\"106\" y=\"-101.3\" font-family=\"Times,serif\" font-size=\"14.00\">14</text>\n</g>\n<!-- 10&#45;&gt;14 -->\n<g id=\"edge31\" class=\"edge\">\n<title>10&#45;&gt;14</title>\n<path fill=\"none\" stroke=\"black\" d=\"M278.47,-362.48C234.12,-357.86 147.27,-346.91 122,-330 83.59,-304.29 78.22,-287.3 65,-243 56.96,-216.07 49.18,-207.02 78,-141 79.87,-136.71 82.41,-132.51 85.2,-128.58\"/>\n<polygon fill=\"black\" stroke=\"black\" points=\"88.11,-130.54 91.53,-120.52 82.6,-126.22 88.11,-130.54\"/>\n<text text-anchor=\"middle\" x=\"89.5\" y=\"-231.8\" font-family=\"Times,serif\" font-size=\"14.00\">DOWN</text>\n</g>\n<!-- 11 -->\n<g id=\"node15\" class=\"node\">\n<title>11</title>\n<ellipse fill=\"none\" stroke=\"black\" cx=\"383\" cy=\"-279\" rx=\"27\" ry=\"18\"/>\n<text text-anchor=\"middle\" x=\"383\" y=\"-275.3\" font-family=\"Times,serif\" font-size=\"14.00\">11</text>\n</g>\n<!-- 10&#45;&gt;11 -->\n<g id=\"edge32\" class=\"edge\">\n<title>10&#45;&gt;11</title>\n<path fill=\"none\" stroke=\"black\" d=\"M326.89,-355.25C338.27,-349.3 351.7,-340.75 361,-330 366.82,-323.27 371.33,-314.76 374.71,-306.67\"/>\n<polygon fill=\"black\" stroke=\"black\" points=\"378.04,-307.76 378.28,-297.17 371.49,-305.3 378.04,-307.76\"/>\n<text text-anchor=\"middle\" x=\"395.5\" y=\"-318.8\" font-family=\"Times,serif\" font-size=\"14.00\">RIGHT</text>\n</g>\n<!-- 13&#45;&gt;12 -->\n<g id=\"edge40\" class=\"edge\">\n<title>13&#45;&gt;12</title>\n<path fill=\"none\" stroke=\"black\" d=\"M212.75,-177.81C219.86,-171.68 227.9,-163.98 234,-156 239.64,-148.63 244.67,-139.85 248.77,-131.73\"/>\n<polygon fill=\"black\" stroke=\"black\" points=\"251.97,-133.14 253.13,-122.61 245.66,-130.12 251.97,-133.14\"/>\n<text text-anchor=\"middle\" x=\"263.5\" y=\"-144.8\" font-family=\"Times,serif\" font-size=\"14.00\">LEFT</text>\n</g>\n<!-- 13&#45;&gt;9 -->\n<g id=\"edge37\" class=\"edge\">\n<title>13&#45;&gt;9</title>\n<path fill=\"none\" stroke=\"black\" d=\"M216.67,-203.65C228.55,-210.12 243.55,-218.87 256,-228 267.66,-236.55 279.65,-247.2 289.44,-256.46\"/>\n<polygon fill=\"black\" stroke=\"black\" points=\"287.15,-259.12 296.78,-263.53 292.01,-254.08 287.15,-259.12\"/>\n<text text-anchor=\"middle\" x=\"285\" y=\"-231.8\" font-family=\"Times,serif\" font-size=\"14.00\">UP</text>\n</g>\n<!-- 13&#45;&gt;13 -->\n<g id=\"edge36\" class=\"edge\">\n<title>13&#45;&gt;13</title>\n<path fill=\"none\" stroke=\"black\" d=\"M220.53,-199.75C231.51,-200.49 241,-197.91 241,-192 241,-188.03 236.72,-185.56 230.57,-184.59\"/>\n<polygon fill=\"black\" stroke=\"black\" points=\"230.65,-181.09 220.53,-184.25 230.41,-188.09 230.65,-181.09\"/>\n<text text-anchor=\"middle\" x=\"265.5\" y=\"-188.3\" font-family=\"Times,serif\" font-size=\"14.00\">DOWN</text>\n</g>\n<!-- 13&#45;&gt;14 -->\n<g id=\"edge38\" class=\"edge\">\n<title>13&#45;&gt;14</title>\n<path fill=\"none\" stroke=\"black\" d=\"M171.28,-184.56C155.5,-179.28 135.69,-170.3 123,-156 117.27,-149.54 113.45,-141.06 110.92,-132.93\"/>\n<polygon fill=\"black\" stroke=\"black\" points=\"114.24,-131.79 108.35,-122.98 107.46,-133.54 114.24,-131.79\"/>\n<text text-anchor=\"middle\" x=\"147.5\" y=\"-144.8\" font-family=\"Times,serif\" font-size=\"14.00\">RIGHT</text>\n</g>\n<!-- 14&#45;&gt;10 -->\n<g id=\"edge42\" class=\"edge\">\n<title>14&#45;&gt;10</title>\n<path fill=\"none\" stroke=\"black\" d=\"M105.52,-123.17C105.78,-133.06 107.03,-145.56 111,-156 143.98,-242.77 232.72,-314.55 277.85,-346.75\"/>\n<polygon fill=\"black\" stroke=\"black\" points=\"276.07,-349.78 286.26,-352.66 280.09,-344.05 276.07,-349.78\"/>\n<text text-anchor=\"middle\" x=\"175\" y=\"-231.8\" font-family=\"Times,serif\" font-size=\"14.00\">UP</text>\n</g>\n<!-- 14&#45;&gt;13 -->\n<g id=\"edge39\" class=\"edge\">\n<title>14&#45;&gt;13</title>\n<path fill=\"none\" stroke=\"black\" d=\"M129.42,-114.12C143.22,-119.87 160.23,-128.75 172,-141 178.42,-147.69 183.41,-156.42 187.13,-164.71\"/>\n<polygon fill=\"black\" stroke=\"black\" points=\"183.94,-166.14 190.93,-174.1 190.43,-163.51 183.94,-166.14\"/>\n<text text-anchor=\"middle\" x=\"202.5\" y=\"-144.8\" font-family=\"Times,serif\" font-size=\"14.00\">LEFT</text>\n</g>\n<!-- 14&#45;&gt;14 -->\n<g id=\"edge44\" class=\"edge\">\n<title>14&#45;&gt;14</title>\n<path fill=\"none\" stroke=\"black\" d=\"M130.53,-112.75C141.51,-113.49 151,-110.91 151,-105 151,-101.03 146.72,-98.56 140.57,-97.59\"/>\n<polygon fill=\"black\" stroke=\"black\" points=\"140.65,-94.09 130.53,-97.25 140.41,-101.09 140.65,-94.09\"/>\n<text text-anchor=\"middle\" x=\"175.5\" y=\"-101.3\" font-family=\"Times,serif\" font-size=\"14.00\">DOWN</text>\n</g>\n<!-- 15 -->\n<g id=\"node16\" class=\"node\">\n<title>15</title>\n<ellipse fill=\"none\" stroke=\"black\" cx=\"106\" cy=\"-18\" rx=\"27\" ry=\"18\"/>\n<text text-anchor=\"middle\" x=\"106\" y=\"-14.3\" font-family=\"Times,serif\" font-size=\"14.00\">15</text>\n</g>\n<!-- 14&#45;&gt;15 -->\n<g id=\"edge43\" class=\"edge\">\n<title>14&#45;&gt;15</title>\n<path fill=\"none\" stroke=\"black\" d=\"M106,-86.8C106,-75.16 106,-59.55 106,-46.24\"/>\n<polygon fill=\"black\" stroke=\"black\" points=\"109.5,-46.18 106,-36.18 102.5,-46.18 109.5,-46.18\"/>\n<text text-anchor=\"middle\" x=\"130.5\" y=\"-57.8\" font-family=\"Times,serif\" font-size=\"14.00\">RIGHT</text>\n</g>\n</g>\n</svg>\n",
      "text/plain": [
       "<graphviz.graphs.Digraph at 0x7f5b59ef2140>"
      ]
     },
     "execution_count": 8,
     "metadata": {},
     "output_type": "execute_result"
    },
    {
     "data": {
      "image/png": "[encoded data removed]",
      "text/plain": [
       "<Figure size 640x480 with 1 Axes>"
      ]
     },
     "metadata": {},
     "output_type": "display_data"
    }
   ],
   "source": [
    "obs = env.reset()\n",
    "action, root = MCTS(obs, model, {\"iters\": 5000}).search()\n",
    "graph = unpack(root, graphviz.Digraph(), set(), action_map=action_map)\n",
    "graph.render(\"./frozen-lake/visit-tree\", format=\"png\")\n",
    "\n",
    "freqs = unpack_visits(root)\n",
    "\n",
    "grid = np.zeros((4, 4))\n",
    "for l, visits in freqs.items():\n",
    "    grid[np.unravel_index(l, (4,4))] += visits\n",
    "\n",
    "grid = np.log(grid)\n",
    "grid[grid == -np.inf] = 0\n",
    "plt.imshow(grid)\n",
    "plt.title(\"Vistation frequencies in Four Rooms.\")\n",
    "plt.axis(\"off\")\n",
    "graph"
   ]
  },
  {
   "cell_type": "code",
   "execution_count": 9,
   "metadata": {},
   "outputs": [
    {
     "name": "stderr",
     "output_type": "stream",
     "text": [
      "  0%|          | 0/64 [00:00<?, ?it/s]"
     ]
    },
    {
     "name": "stdout",
     "output_type": "stream",
     "text": [
      "Running MCTS.\n"
     ]
    },
    {
     "name": "stderr",
     "output_type": "stream",
     "text": [
      "100%|██████████| 100/100 [00:00<00:00, 744.30it/s]\n",
      "  2%|▏         | 1/64 [00:00<00:08,  7.23it/s]"
     ]
    },
    {
     "name": "stdout",
     "output_type": "stream",
     "text": [
      "MCTS finished.\n",
      "Running MCTS.\n"
     ]
    },
    {
     "name": "stderr",
     "output_type": "stream",
     "text": [
      "100%|██████████| 100/100 [00:00<00:00, 1294.15it/s]\n"
     ]
    },
    {
     "name": "stdout",
     "output_type": "stream",
     "text": [
      "MCTS finished.\n",
      "Running MCTS.\n"
     ]
    },
    {
     "name": "stderr",
     "output_type": "stream",
     "text": [
      "100%|██████████| 100/100 [00:00<00:00, 2299.71it/s]\n",
      "  5%|▍         | 3/64 [00:00<00:05, 11.96it/s]"
     ]
    },
    {
     "name": "stdout",
     "output_type": "stream",
     "text": [
      "MCTS finished.\n",
      "Running MCTS.\n"
     ]
    },
    {
     "name": "stderr",
     "output_type": "stream",
     "text": [
      "100%|██████████| 100/100 [00:00<00:00, 1724.64it/s]\n"
     ]
    },
    {
     "name": "stdout",
     "output_type": "stream",
     "text": [
      "MCTS finished.\n",
      "Running MCTS.\n"
     ]
    },
    {
     "name": "stderr",
     "output_type": "stream",
     "text": [
      "100%|██████████| 100/100 [00:00<00:00, 1189.25it/s]\n",
      "  8%|▊         | 5/64 [00:00<00:04, 12.59it/s]"
     ]
    },
    {
     "name": "stdout",
     "output_type": "stream",
     "text": [
      "MCTS finished.\n",
      "Running MCTS.\n"
     ]
    },
    {
     "name": "stderr",
     "output_type": "stream",
     "text": [
      "100%|██████████| 100/100 [00:00<00:00, 924.13it/s]\n"
     ]
    },
    {
     "name": "stdout",
     "output_type": "stream",
     "text": [
      "MCTS finished.\n",
      "Running MCTS.\n"
     ]
    },
    {
     "name": "stderr",
     "output_type": "stream",
     "text": [
      "100%|██████████| 100/100 [00:00<00:00, 1318.25it/s]\n",
      " 11%|█         | 7/64 [00:00<00:04, 11.54it/s]"
     ]
    },
    {
     "name": "stdout",
     "output_type": "stream",
     "text": [
      "MCTS finished.\n",
      "Running MCTS.\n"
     ]
    },
    {
     "name": "stderr",
     "output_type": "stream",
     "text": [
      "100%|██████████| 100/100 [00:00<00:00, 793.47it/s]\n"
     ]
    },
    {
     "name": "stdout",
     "output_type": "stream",
     "text": [
      "MCTS finished.\n",
      "Running MCTS.\n"
     ]
    },
    {
     "name": "stderr",
     "output_type": "stream",
     "text": [
      "100%|██████████| 100/100 [00:00<00:00, 1779.83it/s]\n",
      " 14%|█▍        | 9/64 [00:00<00:04, 11.14it/s]"
     ]
    },
    {
     "name": "stdout",
     "output_type": "stream",
     "text": [
      "MCTS finished.\n",
      "Running MCTS.\n"
     ]
    },
    {
     "name": "stderr",
     "output_type": "stream",
     "text": [
      "100%|██████████| 100/100 [00:00<00:00, 1833.50it/s]\n"
     ]
    },
    {
     "name": "stdout",
     "output_type": "stream",
     "text": [
      "MCTS finished.\n",
      "Running MCTS.\n"
     ]
    },
    {
     "name": "stderr",
     "output_type": "stream",
     "text": [
      "100%|██████████| 100/100 [00:00<00:00, 1062.23it/s]\n",
      " 17%|█▋        | 11/64 [00:00<00:04, 11.64it/s]"
     ]
    },
    {
     "name": "stdout",
     "output_type": "stream",
     "text": [
      "MCTS finished.\n",
      "Running MCTS.\n"
     ]
    },
    {
     "name": "stderr",
     "output_type": "stream",
     "text": [
      "100%|██████████| 100/100 [00:00<00:00, 952.31it/s]\n"
     ]
    },
    {
     "name": "stdout",
     "output_type": "stream",
     "text": [
      "MCTS finished.\n",
      "Running MCTS.\n"
     ]
    },
    {
     "name": "stderr",
     "output_type": "stream",
     "text": [
      "100%|██████████| 100/100 [00:00<00:00, 1695.26it/s]\n",
      " 20%|██        | 13/64 [00:01<00:04, 11.62it/s]"
     ]
    },
    {
     "name": "stdout",
     "output_type": "stream",
     "text": [
      "MCTS finished.\n",
      "Running MCTS.\n"
     ]
    },
    {
     "name": "stderr",
     "output_type": "stream",
     "text": [
      "100%|██████████| 100/100 [00:00<00:00, 794.80it/s]\n"
     ]
    },
    {
     "name": "stdout",
     "output_type": "stream",
     "text": [
      "MCTS finished.\n",
      "Running MCTS.\n"
     ]
    },
    {
     "name": "stderr",
     "output_type": "stream",
     "text": [
      "100%|██████████| 100/100 [00:00<00:00, 1969.51it/s]\n",
      " 23%|██▎       | 15/64 [00:01<00:04, 11.31it/s]"
     ]
    },
    {
     "name": "stdout",
     "output_type": "stream",
     "text": [
      "MCTS finished.\n",
      "Running MCTS.\n"
     ]
    },
    {
     "name": "stderr",
     "output_type": "stream",
     "text": [
      "100%|██████████| 100/100 [00:00<00:00, 1410.43it/s]\n"
     ]
    },
    {
     "name": "stdout",
     "output_type": "stream",
     "text": [
      "MCTS finished.\n",
      "Running MCTS.\n"
     ]
    },
    {
     "name": "stderr",
     "output_type": "stream",
     "text": [
      "100%|██████████| 100/100 [00:00<00:00, 849.83it/s]\n",
      " 27%|██▋       | 17/64 [00:01<00:04, 10.88it/s]"
     ]
    },
    {
     "name": "stdout",
     "output_type": "stream",
     "text": [
      "MCTS finished.\n",
      "Running MCTS.\n"
     ]
    },
    {
     "name": "stderr",
     "output_type": "stream",
     "text": [
      "100%|██████████| 100/100 [00:00<00:00, 786.79it/s]\n"
     ]
    },
    {
     "name": "stdout",
     "output_type": "stream",
     "text": [
      "MCTS finished.\n",
      "Running MCTS.\n"
     ]
    },
    {
     "name": "stderr",
     "output_type": "stream",
     "text": [
      "100%|██████████| 100/100 [00:00<00:00, 1221.01it/s]\n",
      " 30%|██▉       | 19/64 [00:01<00:04, 10.29it/s]"
     ]
    },
    {
     "name": "stdout",
     "output_type": "stream",
     "text": [
      "MCTS finished.\n",
      "Running MCTS.\n"
     ]
    },
    {
     "name": "stderr",
     "output_type": "stream",
     "text": [
      "100%|██████████| 100/100 [00:00<00:00, 6863.42it/s]\n"
     ]
    },
    {
     "name": "stdout",
     "output_type": "stream",
     "text": [
      "MCTS finished.\n",
      "Running MCTS.\n"
     ]
    },
    {
     "name": "stderr",
     "output_type": "stream",
     "text": [
      "100%|██████████| 100/100 [00:00<00:00, 3574.34it/s]\n"
     ]
    },
    {
     "name": "stdout",
     "output_type": "stream",
     "text": [
      "MCTS finished.\n",
      "Running MCTS.\n"
     ]
    },
    {
     "name": "stderr",
     "output_type": "stream",
     "text": [
      "100%|██████████| 100/100 [00:00<00:00, 3174.11it/s]\n"
     ]
    },
    {
     "name": "stdout",
     "output_type": "stream",
     "text": [
      "MCTS finished.\n",
      "Running MCTS.\n"
     ]
    },
    {
     "name": "stderr",
     "output_type": "stream",
     "text": [
      "100%|██████████| 100/100 [00:00<00:00, 1075.64it/s]\n",
      " 36%|███▌      | 23/64 [00:01<00:02, 13.69it/s]"
     ]
    },
    {
     "name": "stdout",
     "output_type": "stream",
     "text": [
      "MCTS finished.\n",
      "Running MCTS.\n"
     ]
    },
    {
     "name": "stderr",
     "output_type": "stream",
     "text": [
      "100%|██████████| 100/100 [00:00<00:00, 1919.67it/s]\n"
     ]
    },
    {
     "name": "stdout",
     "output_type": "stream",
     "text": [
      "MCTS finished.\n",
      "Running MCTS.\n"
     ]
    },
    {
     "name": "stderr",
     "output_type": "stream",
     "text": [
      "100%|██████████| 100/100 [00:00<00:00, 915.79it/s]\n",
      " 39%|███▉      | 25/64 [00:02<00:02, 13.16it/s]"
     ]
    },
    {
     "name": "stdout",
     "output_type": "stream",
     "text": [
      "MCTS finished.\n",
      "Running MCTS.\n"
     ]
    },
    {
     "name": "stderr",
     "output_type": "stream",
     "text": [
      "100%|██████████| 100/100 [00:00<00:00, 1377.01it/s]\n"
     ]
    },
    {
     "name": "stdout",
     "output_type": "stream",
     "text": [
      "MCTS finished.\n",
      "Running MCTS.\n"
     ]
    },
    {
     "name": "stderr",
     "output_type": "stream",
     "text": [
      "100%|██████████| 100/100 [00:00<00:00, 1703.11it/s]\n",
      " 42%|████▏     | 27/64 [00:02<00:02, 13.40it/s]"
     ]
    },
    {
     "name": "stdout",
     "output_type": "stream",
     "text": [
      "MCTS finished.\n",
      "Running MCTS.\n"
     ]
    },
    {
     "name": "stderr",
     "output_type": "stream",
     "text": [
      "100%|██████████| 100/100 [00:00<00:00, 2465.70it/s]\n"
     ]
    },
    {
     "name": "stdout",
     "output_type": "stream",
     "text": [
      "MCTS finished.\n",
      "Running MCTS.\n"
     ]
    },
    {
     "name": "stderr",
     "output_type": "stream",
     "text": [
      "100%|██████████| 100/100 [00:00<00:00, 3265.93it/s]\n"
     ]
    },
    {
     "name": "stdout",
     "output_type": "stream",
     "text": [
      "MCTS finished.\n",
      "Running MCTS.\n"
     ]
    },
    {
     "name": "stderr",
     "output_type": "stream",
     "text": [
      "100%|██████████| 100/100 [00:00<00:00, 7349.66it/s]\n"
     ]
    },
    {
     "name": "stdout",
     "output_type": "stream",
     "text": [
      "MCTS finished.\n",
      "Running MCTS.\n"
     ]
    },
    {
     "name": "stderr",
     "output_type": "stream",
     "text": [
      "100%|██████████| 100/100 [00:00<00:00, 2698.24it/s]\n",
      " 48%|████▊     | 31/64 [00:02<00:01, 17.43it/s]"
     ]
    },
    {
     "name": "stdout",
     "output_type": "stream",
     "text": [
      "MCTS finished.\n",
      "Running MCTS.\n"
     ]
    },
    {
     "name": "stderr",
     "output_type": "stream",
     "text": [
      "100%|██████████| 100/100 [00:00<00:00, 1508.28it/s]\n"
     ]
    },
    {
     "name": "stdout",
     "output_type": "stream",
     "text": [
      "MCTS finished.\n",
      "Running MCTS.\n"
     ]
    },
    {
     "name": "stderr",
     "output_type": "stream",
     "text": [
      "100%|██████████| 100/100 [00:00<00:00, 2413.71it/s]\n",
      " 52%|█████▏    | 33/64 [00:02<00:01, 17.34it/s]"
     ]
    },
    {
     "name": "stdout",
     "output_type": "stream",
     "text": [
      "MCTS finished.\n",
      "Running MCTS.\n"
     ]
    },
    {
     "name": "stderr",
     "output_type": "stream",
     "text": [
      "100%|██████████| 100/100 [00:00<00:00, 1837.71it/s]\n"
     ]
    },
    {
     "name": "stdout",
     "output_type": "stream",
     "text": [
      "MCTS finished.\n",
      "Running MCTS.\n"
     ]
    },
    {
     "name": "stderr",
     "output_type": "stream",
     "text": [
      "100%|██████████| 100/100 [00:00<00:00, 2944.30it/s]\n"
     ]
    },
    {
     "name": "stdout",
     "output_type": "stream",
     "text": [
      "MCTS finished.\n",
      "Running MCTS.\n"
     ]
    },
    {
     "name": "stderr",
     "output_type": "stream",
     "text": [
      "100%|██████████| 100/100 [00:00<00:00, 8066.12it/s]\n",
      " 56%|█████▋    | 36/64 [00:02<00:01, 19.56it/s]"
     ]
    },
    {
     "name": "stdout",
     "output_type": "stream",
     "text": [
      "MCTS finished.\n",
      "Running MCTS.\n"
     ]
    },
    {
     "name": "stderr",
     "output_type": "stream",
     "text": [
      "100%|██████████| 100/100 [00:00<00:00, 3795.30it/s]\n"
     ]
    },
    {
     "name": "stdout",
     "output_type": "stream",
     "text": [
      "MCTS finished.\n",
      "Running MCTS.\n"
     ]
    },
    {
     "name": "stderr",
     "output_type": "stream",
     "text": [
      "100%|██████████| 100/100 [00:00<00:00, 2616.21it/s]\n"
     ]
    },
    {
     "name": "stdout",
     "output_type": "stream",
     "text": [
      "MCTS finished.\n",
      "Running MCTS.\n"
     ]
    },
    {
     "name": "stderr",
     "output_type": "stream",
     "text": [
      "100%|██████████| 100/100 [00:00<00:00, 2106.34it/s]\n",
      " 61%|██████    | 39/64 [00:02<00:01, 20.60it/s]"
     ]
    },
    {
     "name": "stdout",
     "output_type": "stream",
     "text": [
      "MCTS finished.\n",
      "Running MCTS.\n"
     ]
    },
    {
     "name": "stderr",
     "output_type": "stream",
     "text": [
      "100%|██████████| 100/100 [00:00<00:00, 1700.94it/s]\n"
     ]
    },
    {
     "name": "stdout",
     "output_type": "stream",
     "text": [
      "MCTS finished.\n",
      "Running MCTS.\n"
     ]
    },
    {
     "name": "stderr",
     "output_type": "stream",
     "text": [
      "100%|██████████| 100/100 [00:00<00:00, 2154.95it/s]\n"
     ]
    },
    {
     "name": "stdout",
     "output_type": "stream",
     "text": [
      "MCTS finished.\n",
      "Running MCTS.\n"
     ]
    },
    {
     "name": "stderr",
     "output_type": "stream",
     "text": [
      "100%|██████████| 100/100 [00:00<00:00, 7942.85it/s]\n",
      " 66%|██████▌   | 42/64 [00:02<00:01, 21.32it/s]"
     ]
    },
    {
     "name": "stdout",
     "output_type": "stream",
     "text": [
      "MCTS finished.\n",
      "Running MCTS.\n"
     ]
    },
    {
     "name": "stderr",
     "output_type": "stream",
     "text": [
      "100%|██████████| 100/100 [00:00<00:00, 7304.10it/s]\n"
     ]
    },
    {
     "name": "stdout",
     "output_type": "stream",
     "text": [
      "MCTS finished.\n",
      "Running MCTS.\n"
     ]
    },
    {
     "name": "stderr",
     "output_type": "stream",
     "text": [
      "100%|██████████| 100/100 [00:00<00:00, 4647.07it/s]\n"
     ]
    },
    {
     "name": "stdout",
     "output_type": "stream",
     "text": [
      "MCTS finished.\n",
      "Running MCTS.\n"
     ]
    },
    {
     "name": "stderr",
     "output_type": "stream",
     "text": [
      "100%|██████████| 100/100 [00:00<00:00, 4062.40it/s]\n"
     ]
    },
    {
     "name": "stdout",
     "output_type": "stream",
     "text": [
      "MCTS finished.\n",
      "Running MCTS.\n"
     ]
    },
    {
     "name": "stderr",
     "output_type": "stream",
     "text": [
      "100%|██████████| 100/100 [00:00<00:00, 4264.93it/s]\n",
      " 72%|███████▏  | 46/64 [00:02<00:00, 25.48it/s]"
     ]
    },
    {
     "name": "stdout",
     "output_type": "stream",
     "text": [
      "MCTS finished.\n",
      "Running MCTS.\n"
     ]
    },
    {
     "name": "stderr",
     "output_type": "stream",
     "text": [
      "100%|██████████| 100/100 [00:00<00:00, 7964.12it/s]\n"
     ]
    },
    {
     "name": "stdout",
     "output_type": "stream",
     "text": [
      "MCTS finished.\n",
      "Running MCTS.\n"
     ]
    },
    {
     "name": "stderr",
     "output_type": "stream",
     "text": [
      "100%|██████████| 100/100 [00:00<00:00, 2424.19it/s]\n"
     ]
    },
    {
     "name": "stdout",
     "output_type": "stream",
     "text": [
      "MCTS finished.\n",
      "Running MCTS.\n"
     ]
    },
    {
     "name": "stderr",
     "output_type": "stream",
     "text": [
      "100%|██████████| 100/100 [00:00<00:00, 2645.65it/s]\n",
      " 77%|███████▋  | 49/64 [00:03<00:00, 26.43it/s]"
     ]
    },
    {
     "name": "stdout",
     "output_type": "stream",
     "text": [
      "MCTS finished.\n",
      "Running MCTS.\n"
     ]
    },
    {
     "name": "stderr",
     "output_type": "stream",
     "text": [
      "100%|██████████| 100/100 [00:00<00:00, 7778.47it/s]\n"
     ]
    },
    {
     "name": "stdout",
     "output_type": "stream",
     "text": [
      "MCTS finished.\n",
      "Running MCTS.\n"
     ]
    },
    {
     "name": "stderr",
     "output_type": "stream",
     "text": [
      "100%|██████████| 100/100 [00:00<00:00, 4749.90it/s]\n"
     ]
    },
    {
     "name": "stdout",
     "output_type": "stream",
     "text": [
      "MCTS finished.\n",
      "Running MCTS.\n"
     ]
    },
    {
     "name": "stderr",
     "output_type": "stream",
     "text": [
      "100%|██████████| 100/100 [00:00<00:00, 3737.34it/s]\n"
     ]
    },
    {
     "name": "stdout",
     "output_type": "stream",
     "text": [
      "MCTS finished.\n",
      "Running MCTS.\n"
     ]
    },
    {
     "name": "stderr",
     "output_type": "stream",
     "text": [
      "100%|██████████| 100/100 [00:00<00:00, 7763.35it/s]\n"
     ]
    },
    {
     "name": "stdout",
     "output_type": "stream",
     "text": [
      "MCTS finished.\n",
      "Running MCTS.\n"
     ]
    },
    {
     "name": "stderr",
     "output_type": "stream",
     "text": [
      "100%|██████████| 100/100 [00:00<00:00, 4644.91it/s]\n",
      " 84%|████████▍ | 54/64 [00:03<00:00, 31.27it/s]"
     ]
    },
    {
     "name": "stdout",
     "output_type": "stream",
     "text": [
      "MCTS finished.\n",
      "Running MCTS.\n"
     ]
    },
    {
     "name": "stderr",
     "output_type": "stream",
     "text": [
      "100%|██████████| 100/100 [00:00<00:00, 7722.61it/s]\n"
     ]
    },
    {
     "name": "stdout",
     "output_type": "stream",
     "text": [
      "MCTS finished.\n",
      "Running MCTS.\n"
     ]
    },
    {
     "name": "stderr",
     "output_type": "stream",
     "text": [
      "100%|██████████| 100/100 [00:00<00:00, 4085.83it/s]\n"
     ]
    },
    {
     "name": "stdout",
     "output_type": "stream",
     "text": [
      "MCTS finished.\n",
      "Running MCTS.\n"
     ]
    },
    {
     "name": "stderr",
     "output_type": "stream",
     "text": [
      "100%|██████████| 100/100 [00:00<00:00, 2295.26it/s]\n"
     ]
    },
    {
     "name": "stdout",
     "output_type": "stream",
     "text": [
      "MCTS finished.\n",
      "Running MCTS.\n"
     ]
    },
    {
     "name": "stderr",
     "output_type": "stream",
     "text": [
      "100%|██████████| 100/100 [00:00<00:00, 3794.00it/s]\n",
      " 91%|█████████ | 58/64 [00:03<00:00, 31.39it/s]"
     ]
    },
    {
     "name": "stdout",
     "output_type": "stream",
     "text": [
      "MCTS finished.\n",
      "Running MCTS.\n"
     ]
    },
    {
     "name": "stderr",
     "output_type": "stream",
     "text": [
      "100%|██████████| 100/100 [00:00<00:00, 4183.51it/s]\n"
     ]
    },
    {
     "name": "stdout",
     "output_type": "stream",
     "text": [
      "MCTS finished.\n",
      "Running MCTS.\n"
     ]
    },
    {
     "name": "stderr",
     "output_type": "stream",
     "text": [
      "100%|██████████| 100/100 [00:00<00:00, 7740.57it/s]\n"
     ]
    },
    {
     "name": "stdout",
     "output_type": "stream",
     "text": [
      "MCTS finished.\n",
      "Running MCTS.\n"
     ]
    },
    {
     "name": "stderr",
     "output_type": "stream",
     "text": [
      "100%|██████████| 100/100 [00:00<00:00, 6327.11it/s]\n"
     ]
    },
    {
     "name": "stdout",
     "output_type": "stream",
     "text": [
      "MCTS finished.\n",
      "Running MCTS.\n"
     ]
    },
    {
     "name": "stderr",
     "output_type": "stream",
     "text": [
      "100%|██████████| 100/100 [00:00<00:00, 3619.18it/s]\n",
      " 97%|█████████▋| 62/64 [00:03<00:00, 33.52it/s]"
     ]
    },
    {
     "name": "stdout",
     "output_type": "stream",
     "text": [
      "MCTS finished.\n",
      "Running MCTS.\n"
     ]
    },
    {
     "name": "stderr",
     "output_type": "stream",
     "text": [
      "100%|██████████| 100/100 [00:00<00:00, 5023.36it/s]\n"
     ]
    },
    {
     "name": "stdout",
     "output_type": "stream",
     "text": [
      "MCTS finished.\n",
      "Running MCTS.\n"
     ]
    },
    {
     "name": "stderr",
     "output_type": "stream",
     "text": [
      "100%|██████████| 100/100 [00:00<00:00, 7724.89it/s]\n",
      "100%|██████████| 64/64 [00:03<00:00, 18.53it/s]\n",
      "/tmp/ipykernel_1475/617346661.py:10: RuntimeWarning: divide by zero encountered in log\n",
      "  plt.imshow(np.log(V.reshape(int(np.sqrt(nS)), int(np.sqrt(nS)))))\n"
     ]
    },
    {
     "name": "stdout",
     "output_type": "stream",
     "text": [
      "MCTS finished.\n"
     ]
    },
    {
     "data": {
      "image/png": "[encoded data removed]",
      "text/plain": [
       "<Figure size 640x480 with 1 Axes>"
      ]
     },
     "metadata": {},
     "output_type": "display_data"
    }
   ],
   "source": [
    "# MCTS estimated values in every state\n",
    "env = gym.make(\"FrozenLake-v1\", map_name=\"8x8\", is_slippery=False)\n",
    "model = FrozenLakeModel(env.P)\n",
    "nS = flatdim(env.observation_space)\n",
    "V = np.zeros(nS)\n",
    "for i in tqdm(range(env.observation_space.n)):\n",
    "    _, values = MCTS(i, model, {\"iters\": 100}).search()\n",
    "    V[i] = np.mean([child.value for child in values.children.values()])\n",
    "\n",
    "plt.imshow(np.log(V.reshape(int(np.sqrt(nS)), int(np.sqrt(nS)))))\n",
    "plt.title(\"Value function discovered by 5000 MCTS rollouts.\")\n",
    "plt.axis(\"off\")\n",
    "plt.savefig(\"./frozen-lake/value-5000\")"
   ]
  },
  {
   "cell_type": "code",
   "execution_count": 60,
   "metadata": {},
   "outputs": [],
   "source": [
    "class FourRoomsModel:\n",
    "    def __init__(self, goal_pos=(16,16), seed=42):\n",
    "        self.goal_pos = goal_pos\n",
    "        self.seed = seed\n",
    "\n",
    "    def step(self, agent_state, action) -> tuple[_, float]:\n",
    "        agent_pos, agent_dir = agent_state\n",
    "        env = FourRoomsEnvPos(agent_pos=agent_pos, goal_pos=self.goal_pos)\n",
    "        env.reset(seed=self.seed)\n",
    "        env.agent_dir = agent_dir\n",
    "        return env.step(action)\n",
    "\n",
    "    def actions(self, obs) -> list[int]:\n",
    "        return list(range(env.action_space.n - 4))\n",
    "\n",
    "class FourRoomsEnvPos(FourRoomsEnv):\n",
    "    def __init__(self, agent_pos=None, goal_pos=None, **kwargs):\n",
    "        super().__init__(agent_pos=agent_pos, goal_pos=goal_pos, **kwargs)\n",
    "        self.max_steps = 1000\n",
    "    \n",
    "    def step(self, action):\n",
    "        _, r, terminated, truncated, _ = super().step(action)\n",
    "        return (self.agent_pos, self.agent_dir), int(self.agent_pos == self._goal_default_pos), terminated or truncated, _\n",
    "\n",
    "    def reset(self, seed=None):\n",
    "        obs, _ = super().reset(seed=seed)\n",
    "        return self.agent_pos, self.agent_dir\n",
    "\n",
    "\n",
    "action_map = {\n",
    "    0: \"left\",\n",
    "    1: \"right\",\n",
    "    2: \"forward\",\n",
    "    3: \"pickup\",\n",
    "    4: \"drop\",\n",
    "    5: \"toggle\",\n",
    "    6: \"done\" \n",
    "}"
   ]
  },
  {
   "cell_type": "code",
   "execution_count": 61,
   "metadata": {},
   "outputs": [
    {
     "data": {
      "text/plain": [
       "(-0.5, 607.5, 607.5, -0.5)"
      ]
     },
     "execution_count": 61,
     "metadata": {},
     "output_type": "execute_result"
    },
    {
     "data": {
      "image/png": "[encoded data removed]",
      "text/plain": [
       "<Figure size 640x480 with 1 Axes>"
      ]
     },
     "metadata": {},
     "output_type": "display_data"
    }
   ],
   "source": [
    "env = FourRoomsEnvPos(agent_pos=(15,9), goal_pos=(16,16))\n",
    "obs, _ = env.reset(seed=42)\n",
    "plt.imshow(env.get_frame())\n",
    "plt.axis(\"off\")\n",
    "# plt.savefig(\"./four-rooms/env\")"
   ]
  },
  {
   "cell_type": "code",
   "execution_count": 63,
   "metadata": {},
   "outputs": [
    {
     "name": "stdout",
     "output_type": "stream",
     "text": [
      "Running MCTS.\n"
     ]
    },
    {
     "name": "stderr",
     "output_type": "stream",
     "text": [
      "Action Values: [0.03, 0.05910447761194028, 0.10358208955223877]: 100%|██████████| 200/200 [00:38<00:00,  5.19it/s]                "
     ]
    },
    {
     "name": "stdout",
     "output_type": "stream",
     "text": [
      "MCTS finished.\n"
     ]
    },
    {
     "name": "stderr",
     "output_type": "stream",
     "text": [
      "\n",
      "/tmp/ipykernel_1475/1760543898.py:15: RuntimeWarning: divide by zero encountered in log\n",
      "  grid = np.log(grid)\n"
     ]
    },
    {
     "data": {
      "image/svg+xml": "<?xml version=\"1.0\" encoding=\"UTF-8\" standalone=\"no\"?>\n<!DOCTYPE svg PUBLIC \"-//W3C//DTD SVG 1.1//EN\"\n \"http://www.w3.org/Graphics/SVG/1.1/DTD/svg11.dtd\">\n<!-- Generated by graphviz version 2.43.0 (0)\n -->\n<!-- Title: %3 Pages: 1 -->\n<svg width=\"2127pt\" height=\"848pt\"\n viewBox=\"0.00 0.00 2127.44 848.00\" xmlns=\"http://www.w3.org/2000/svg\" xmlns:xlink=\"http://www.w3.org/1999/xlink\">\n<g id=\"graph0\" class=\"graph\" transform=\"scale(1 1) rotate(0) translate(4 844)\">\n<title>%3</title>\n<polygon fill=\"white\" stroke=\"transparent\" points=\"-4,4 -4,-844 2123.44,-844 2123.44,4 -4,4\"/>\n<!-- ((15, 9), 1) -->\n<g id=\"node1\" class=\"node\">\n<title>((15, 9), 1)</title>\n<ellipse fill=\"none\" stroke=\"black\" cx=\"416.79\" cy=\"-822\" rx=\"59.59\" ry=\"18\"/>\n<text text-anchor=\"middle\" x=\"416.79\" y=\"-818.3\" font-family=\"Times,serif\" font-size=\"14.00\">((15, 9), 1)</text>\n</g>\n<!-- ((15, 9), 2) -->\n<g id=\"node2\" class=\"node\">\n<title>((15, 9), 2)</title>\n<ellipse fill=\"none\" stroke=\"black\" cx=\"266.79\" cy=\"-681\" rx=\"59.59\" ry=\"18\"/>\n<text text-anchor=\"middle\" x=\"266.79\" y=\"-677.3\" font-family=\"Times,serif\" font-size=\"14.00\">((15, 9), 2)</text>\n</g>\n<!-- ((15, 9), 1)&#45;&gt;((15, 9), 2) -->\n<g id=\"edge1\" class=\"edge\">\n<title>((15, 9), 1)&#45;&gt;((15, 9), 2)</title>\n<path fill=\"none\" stroke=\"black\" d=\"M362.85,-814.14C342.84,-809.19 321.26,-800.67 305.79,-786 284.44,-765.75 274.68,-732.68 270.29,-709.27\"/>\n<polygon fill=\"black\" stroke=\"black\" points=\"273.72,-708.57 268.62,-699.28 266.81,-709.72 273.72,-708.57\"/>\n<text text-anchor=\"middle\" x=\"323.79\" y=\"-774.8\" font-family=\"Times,serif\" font-size=\"14.00\">right</text>\n</g>\n<!-- ((15, 10), 1) -->\n<g id=\"node4\" class=\"node\">\n<title>((15, 10), 1)</title>\n<ellipse fill=\"none\" stroke=\"black\" cx=\"1783.79\" cy=\"-735\" rx=\"65.79\" ry=\"18\"/>\n<text text-anchor=\"middle\" x=\"1783.79\" y=\"-731.3\" font-family=\"Times,serif\" font-size=\"14.00\">((15, 10), 1)</text>\n</g>\n<!-- ((15, 9), 1)&#45;&gt;((15, 10), 1) -->\n<g id=\"edge5\" class=\"edge\">\n<title>((15, 9), 1)&#45;&gt;((15, 10), 1)</title>\n<path fill=\"none\" stroke=\"black\" d=\"M474.66,-817.4C693.09,-803.82 1467.41,-755.67 1710.33,-740.57\"/>\n<polygon fill=\"black\" stroke=\"black\" points=\"1710.71,-744.05 1720.47,-739.94 1710.27,-737.07 1710.71,-744.05\"/>\n<text text-anchor=\"middle\" x=\"1210.29\" y=\"-774.8\" font-family=\"Times,serif\" font-size=\"14.00\">forward</text>\n</g>\n<!-- ((15, 9), 0) -->\n<g id=\"node5\" class=\"node\">\n<title>((15, 9), 0)</title>\n<ellipse fill=\"none\" stroke=\"black\" cx=\"396.79\" cy=\"-192\" rx=\"59.59\" ry=\"18\"/>\n<text text-anchor=\"middle\" x=\"396.79\" y=\"-188.3\" font-family=\"Times,serif\" font-size=\"14.00\">((15, 9), 0)</text>\n</g>\n<!-- ((15, 9), 1)&#45;&gt;((15, 9), 0) -->\n<g id=\"edge6\" class=\"edge\">\n<title>((15, 9), 1)&#45;&gt;((15, 9), 0)</title>\n<path fill=\"none\" stroke=\"black\" d=\"M416.79,-803.74C416.79,-786.57 416.79,-759.46 416.79,-736 416.79,-736 416.79,-736 416.79,-278 416.79,-258.04 411.5,-236.12 406.36,-219.55\"/>\n<polygon fill=\"black\" stroke=\"black\" points=\"409.67,-218.4 403.23,-209.98 403.02,-220.57 409.67,-218.4\"/>\n<text text-anchor=\"middle\" x=\"429.29\" y=\"-492.8\" font-family=\"Times,serif\" font-size=\"14.00\">left</text>\n</g>\n<!-- ((15, 9), 2)&#45;&gt;((15, 9), 1) -->\n<g id=\"edge4\" class=\"edge\">\n<title>((15, 9), 2)&#45;&gt;((15, 9), 1)</title>\n<path fill=\"none\" stroke=\"black\" d=\"M283.99,-698.33C305.72,-718.91 344.32,-755.3 377.79,-786 381.99,-789.84 386.45,-793.9 390.82,-797.83\"/>\n<polygon fill=\"black\" stroke=\"black\" points=\"388.69,-800.62 398.47,-804.7 393.37,-795.41 388.69,-800.62\"/>\n<text text-anchor=\"middle\" x=\"390.29\" y=\"-774.8\" font-family=\"Times,serif\" font-size=\"14.00\">left</text>\n</g>\n<!-- ((15, 9), 2)&#45;&gt;((15, 9), 2) -->\n<g id=\"edge9\" class=\"edge\">\n<title>((15, 9), 2)&#45;&gt;((15, 9), 2)</title>\n<path fill=\"none\" stroke=\"black\" d=\"M316.55,-691.12C332.22,-690.96 344.59,-687.59 344.59,-681 344.59,-675.9 337.19,-672.73 326.59,-671.48\"/>\n<polygon fill=\"black\" stroke=\"black\" points=\"326.74,-667.98 316.55,-670.88 326.32,-674.97 326.74,-667.98\"/>\n<text text-anchor=\"middle\" x=\"373.09\" y=\"-677.3\" font-family=\"Times,serif\" font-size=\"14.00\">forward</text>\n</g>\n<!-- ((15, 9), 3) -->\n<g id=\"node3\" class=\"node\">\n<title>((15, 9), 3)</title>\n<ellipse fill=\"none\" stroke=\"black\" cx=\"316.79\" cy=\"-279\" rx=\"59.59\" ry=\"18\"/>\n<text text-anchor=\"middle\" x=\"316.79\" y=\"-275.3\" font-family=\"Times,serif\" font-size=\"14.00\">((15, 9), 3)</text>\n</g>\n<!-- ((15, 9), 2)&#45;&gt;((15, 9), 3) -->\n<g id=\"edge2\" class=\"edge\">\n<title>((15, 9), 2)&#45;&gt;((15, 9), 3)</title>\n<path fill=\"none\" stroke=\"black\" d=\"M281.5,-663.37C295.93,-645.29 315.79,-614.87 315.79,-584.5 315.79,-584.5 315.79,-584.5 315.79,-365 315.79,-345.75 316.05,-324.05 316.31,-307.4\"/>\n<polygon fill=\"black\" stroke=\"black\" points=\"319.81,-307.31 316.47,-297.26 312.81,-307.2 319.81,-307.31\"/>\n<text text-anchor=\"middle\" x=\"333.79\" y=\"-492.8\" font-family=\"Times,serif\" font-size=\"14.00\">right</text>\n</g>\n<!-- ((15, 9), 3)&#45;&gt;((15, 9), 2) -->\n<g id=\"edge3\" class=\"edge\">\n<title>((15, 9), 3)&#45;&gt;((15, 9), 2)</title>\n<path fill=\"none\" stroke=\"black\" d=\"M300.21,-296.61C285.99,-312.68 267.79,-338.43 267.79,-365 267.79,-584.5 267.79,-584.5 267.79,-584.5 267.79,-607.48 267.5,-633.56 267.23,-652.66\"/>\n<polygon fill=\"black\" stroke=\"black\" points=\"263.73,-652.7 267.08,-662.75 270.73,-652.8 263.73,-652.7\"/>\n<text text-anchor=\"middle\" x=\"280.29\" y=\"-492.8\" font-family=\"Times,serif\" font-size=\"14.00\">left</text>\n</g>\n<!-- ((15, 9), 3)&#45;&gt;((15, 9), 0) -->\n<g id=\"edge7\" class=\"edge\">\n<title>((15, 9), 3)&#45;&gt;((15, 9), 0)</title>\n<path fill=\"none\" stroke=\"black\" d=\"M313.23,-260.86C312.04,-250.5 312.37,-237.5 318.79,-228 324.53,-219.52 332.84,-213.06 341.92,-208.16\"/>\n<polygon fill=\"black\" stroke=\"black\" points=\"343.66,-211.21 351.19,-203.76 340.66,-204.89 343.66,-211.21\"/>\n<text text-anchor=\"middle\" x=\"336.79\" y=\"-231.8\" font-family=\"Times,serif\" font-size=\"14.00\">right</text>\n</g>\n<!-- ((15, 8), 3) -->\n<g id=\"node6\" class=\"node\">\n<title>((15, 8), 3)</title>\n<ellipse fill=\"none\" stroke=\"black\" cx=\"237.79\" cy=\"-192\" rx=\"59.59\" ry=\"18\"/>\n<text text-anchor=\"middle\" x=\"237.79\" y=\"-188.3\" font-family=\"Times,serif\" font-size=\"14.00\">((15, 8), 3)</text>\n</g>\n<!-- ((15, 9), 3)&#45;&gt;((15, 8), 3) -->\n<g id=\"edge8\" class=\"edge\">\n<title>((15, 9), 3)&#45;&gt;((15, 8), 3)</title>\n<path fill=\"none\" stroke=\"black\" d=\"M271.05,-267.33C258.52,-262.11 246.33,-254.39 238.79,-243 234.4,-236.35 233.02,-228.05 233.07,-220.12\"/>\n<polygon fill=\"black\" stroke=\"black\" points=\"236.57,-220.33 233.82,-210.1 229.59,-219.81 236.57,-220.33\"/>\n<text text-anchor=\"middle\" x=\"267.29\" y=\"-231.8\" font-family=\"Times,serif\" font-size=\"14.00\">forward</text>\n</g>\n<!-- ((15, 10), 0) -->\n<g id=\"node12\" class=\"node\">\n<title>((15, 10), 0)</title>\n<ellipse fill=\"none\" stroke=\"black\" cx=\"1783.79\" cy=\"-627\" rx=\"65.79\" ry=\"18\"/>\n<text text-anchor=\"middle\" x=\"1783.79\" y=\"-623.3\" font-family=\"Times,serif\" font-size=\"14.00\">((15, 10), 0)</text>\n</g>\n<!-- ((15, 10), 1)&#45;&gt;((15, 10), 0) -->\n<g id=\"edge19\" class=\"edge\">\n<title>((15, 10), 1)&#45;&gt;((15, 10), 0)</title>\n<path fill=\"none\" stroke=\"black\" d=\"M1788.48,-717.04C1789.83,-711.35 1791.12,-704.95 1791.79,-699 1793.59,-683.1 1793.59,-678.9 1791.79,-663 1791.49,-660.31 1791.06,-657.52 1790.55,-654.74\"/>\n<polygon fill=\"black\" stroke=\"black\" points=\"1793.98,-654.01 1788.48,-644.96 1787.13,-655.47 1793.98,-654.01\"/>\n<text text-anchor=\"middle\" x=\"1805.29\" y=\"-677.3\" font-family=\"Times,serif\" font-size=\"14.00\">left</text>\n</g>\n<!-- ((15, 10), 2) -->\n<g id=\"node13\" class=\"node\">\n<title>((15, 10), 2)</title>\n<ellipse fill=\"none\" stroke=\"black\" cx=\"1870.79\" cy=\"-279\" rx=\"65.79\" ry=\"18\"/>\n<text text-anchor=\"middle\" x=\"1870.79\" y=\"-275.3\" font-family=\"Times,serif\" font-size=\"14.00\">((15, 10), 2)</text>\n</g>\n<!-- ((15, 10), 1)&#45;&gt;((15, 10), 2) -->\n<g id=\"edge20\" class=\"edge\">\n<title>((15, 10), 1)&#45;&gt;((15, 10), 2)</title>\n<path fill=\"none\" stroke=\"black\" d=\"M1843.07,-727.11C1864.44,-722.15 1887.53,-713.63 1904.79,-699 1931.49,-676.38 1938.79,-662.99 1938.79,-628 1938.79,-628 1938.79,-628 1938.79,-365 1938.79,-339.76 1920.29,-317.72 1902.59,-302.42\"/>\n<polygon fill=\"black\" stroke=\"black\" points=\"1904.54,-299.49 1894.58,-295.87 1900.1,-304.91 1904.54,-299.49\"/>\n<text text-anchor=\"middle\" x=\"1956.79\" y=\"-492.8\" font-family=\"Times,serif\" font-size=\"14.00\">right</text>\n</g>\n<!-- ((15, 11), 1) -->\n<g id=\"node15\" class=\"node\">\n<title>((15, 11), 1)</title>\n<ellipse fill=\"none\" stroke=\"black\" cx=\"703.79\" cy=\"-627\" rx=\"65.79\" ry=\"18\"/>\n<text text-anchor=\"middle\" x=\"703.79\" y=\"-623.3\" font-family=\"Times,serif\" font-size=\"14.00\">((15, 11), 1)</text>\n</g>\n<!-- ((15, 10), 1)&#45;&gt;((15, 11), 1) -->\n<g id=\"edge23\" class=\"edge\">\n<title>((15, 10), 1)&#45;&gt;((15, 11), 1)</title>\n<path fill=\"none\" stroke=\"black\" d=\"M1723.03,-728.04C1536.71,-709.75 974.08,-654.53 774.75,-634.96\"/>\n<polygon fill=\"black\" stroke=\"black\" points=\"774.98,-631.47 764.68,-633.98 774.29,-638.44 774.98,-631.47\"/>\n<text text-anchor=\"middle\" x=\"1431.29\" y=\"-677.3\" font-family=\"Times,serif\" font-size=\"14.00\">forward</text>\n</g>\n<!-- ((15, 9), 0)&#45;&gt;((15, 9), 1) -->\n<g id=\"edge18\" class=\"edge\">\n<title>((15, 9), 0)&#45;&gt;((15, 9), 1)</title>\n<path fill=\"none\" stroke=\"black\" d=\"M420.2,-208.57C439.87,-223.73 464.79,-248.71 464.79,-278 464.79,-736 464.79,-736 464.79,-736 464.79,-758.66 451.7,-780.83 439.19,-796.85\"/>\n<polygon fill=\"black\" stroke=\"black\" points=\"436.44,-794.69 432.78,-804.63 441.84,-799.14 436.44,-794.69\"/>\n<text text-anchor=\"middle\" x=\"482.79\" y=\"-492.8\" font-family=\"Times,serif\" font-size=\"14.00\">right</text>\n</g>\n<!-- ((15, 9), 0)&#45;&gt;((15, 9), 3) -->\n<g id=\"edge17\" class=\"edge\">\n<title>((15, 9), 0)&#45;&gt;((15, 9), 3)</title>\n<path fill=\"none\" stroke=\"black\" d=\"M383.69,-209.67C375.65,-219.62 364.98,-232.34 354.79,-243 351.09,-246.87 347.05,-250.84 343.03,-254.66\"/>\n<polygon fill=\"black\" stroke=\"black\" points=\"340.36,-252.36 335.41,-261.72 345.12,-257.49 340.36,-252.36\"/>\n<text text-anchor=\"middle\" x=\"380.29\" y=\"-231.8\" font-family=\"Times,serif\" font-size=\"14.00\">left</text>\n</g>\n<!-- ((15, 9), 0)&#45;&gt;((15, 9), 0) -->\n<g id=\"edge16\" class=\"edge\">\n<title>((15, 9), 0)&#45;&gt;((15, 9), 0)</title>\n<path fill=\"none\" stroke=\"black\" d=\"M450.97,-199.77C464.48,-199.22 474.59,-196.63 474.59,-192 474.59,-188.63 469.26,-186.35 461.15,-185.14\"/>\n<polygon fill=\"black\" stroke=\"black\" points=\"461.24,-181.63 450.97,-184.23 460.62,-188.6 461.24,-181.63\"/>\n<text text-anchor=\"middle\" x=\"503.09\" y=\"-188.3\" font-family=\"Times,serif\" font-size=\"14.00\">forward</text>\n</g>\n<!-- ((15, 8), 2) -->\n<g id=\"node7\" class=\"node\">\n<title>((15, 8), 2)</title>\n<ellipse fill=\"none\" stroke=\"black\" cx=\"59.79\" cy=\"-105\" rx=\"59.59\" ry=\"18\"/>\n<text text-anchor=\"middle\" x=\"59.79\" y=\"-101.3\" font-family=\"Times,serif\" font-size=\"14.00\">((15, 8), 2)</text>\n</g>\n<!-- ((15, 8), 3)&#45;&gt;((15, 8), 2) -->\n<g id=\"edge10\" class=\"edge\">\n<title>((15, 8), 3)&#45;&gt;((15, 8), 2)</title>\n<path fill=\"none\" stroke=\"black\" d=\"M207.2,-176.39C177.43,-162.17 132.06,-140.51 99.53,-124.97\"/>\n<polygon fill=\"black\" stroke=\"black\" points=\"100.82,-121.71 90.29,-120.56 97.81,-128.03 100.82,-121.71\"/>\n<text text-anchor=\"middle\" x=\"172.29\" y=\"-144.8\" font-family=\"Times,serif\" font-size=\"14.00\">left</text>\n</g>\n<!-- ((15, 7), 3) -->\n<g id=\"node8\" class=\"node\">\n<title>((15, 7), 3)</title>\n<ellipse fill=\"none\" stroke=\"black\" cx=\"197.79\" cy=\"-105\" rx=\"59.59\" ry=\"18\"/>\n<text text-anchor=\"middle\" x=\"197.79\" y=\"-101.3\" font-family=\"Times,serif\" font-size=\"14.00\">((15, 7), 3)</text>\n</g>\n<!-- ((15, 8), 3)&#45;&gt;((15, 7), 3) -->\n<g id=\"edge11\" class=\"edge\">\n<title>((15, 8), 3)&#45;&gt;((15, 7), 3)</title>\n<path fill=\"none\" stroke=\"black\" d=\"M214.17,-175.33C208.04,-169.98 202.21,-163.44 198.79,-156 195.65,-149.13 194.52,-141.16 194.41,-133.62\"/>\n<polygon fill=\"black\" stroke=\"black\" points=\"197.92,-133.56 194.82,-123.42 190.92,-133.27 197.92,-133.56\"/>\n<text text-anchor=\"middle\" x=\"227.29\" y=\"-144.8\" font-family=\"Times,serif\" font-size=\"14.00\">forward</text>\n</g>\n<!-- ((15, 8), 0) -->\n<g id=\"node11\" class=\"node\">\n<title>((15, 8), 0)</title>\n<ellipse fill=\"none\" stroke=\"black\" cx=\"336.79\" cy=\"-105\" rx=\"59.59\" ry=\"18\"/>\n<text text-anchor=\"middle\" x=\"336.79\" y=\"-101.3\" font-family=\"Times,serif\" font-size=\"14.00\">((15, 8), 0)</text>\n</g>\n<!-- ((15, 8), 3)&#45;&gt;((15, 8), 0) -->\n<g id=\"edge14\" class=\"edge\">\n<title>((15, 8), 3)&#45;&gt;((15, 8), 0)</title>\n<path fill=\"none\" stroke=\"black\" d=\"M249.45,-174C257.04,-163.69 267.59,-150.7 278.79,-141 284.92,-135.7 291.95,-130.71 298.96,-126.26\"/>\n<polygon fill=\"black\" stroke=\"black\" points=\"301.02,-129.1 307.74,-120.92 297.38,-123.12 301.02,-129.1\"/>\n<text text-anchor=\"middle\" x=\"296.79\" y=\"-144.8\" font-family=\"Times,serif\" font-size=\"14.00\">right</text>\n</g>\n<!-- ((15, 6), 3) -->\n<g id=\"node9\" class=\"node\">\n<title>((15, 6), 3)</title>\n<ellipse fill=\"none\" stroke=\"black\" cx=\"59.79\" cy=\"-18\" rx=\"59.59\" ry=\"18\"/>\n<text text-anchor=\"middle\" x=\"59.79\" y=\"-14.3\" font-family=\"Times,serif\" font-size=\"14.00\">((15, 6), 3)</text>\n</g>\n<!-- ((15, 7), 3)&#45;&gt;((15, 6), 3) -->\n<g id=\"edge12\" class=\"edge\">\n<title>((15, 7), 3)&#45;&gt;((15, 6), 3)</title>\n<path fill=\"none\" stroke=\"black\" d=\"M170.58,-88.81C159.96,-82.77 147.73,-75.68 136.79,-69 121.84,-59.87 105.54,-49.36 91.79,-40.34\"/>\n<polygon fill=\"black\" stroke=\"black\" points=\"93.45,-37.24 83.17,-34.66 89.59,-43.08 93.45,-37.24\"/>\n<text text-anchor=\"middle\" x=\"165.29\" y=\"-57.8\" font-family=\"Times,serif\" font-size=\"14.00\">forward</text>\n</g>\n<!-- ((15, 7), 0) -->\n<g id=\"node10\" class=\"node\">\n<title>((15, 7), 0)</title>\n<ellipse fill=\"none\" stroke=\"black\" cx=\"197.79\" cy=\"-18\" rx=\"59.59\" ry=\"18\"/>\n<text text-anchor=\"middle\" x=\"197.79\" y=\"-14.3\" font-family=\"Times,serif\" font-size=\"14.00\">((15, 7), 0)</text>\n</g>\n<!-- ((15, 7), 3)&#45;&gt;((15, 7), 0) -->\n<g id=\"edge13\" class=\"edge\">\n<title>((15, 7), 3)&#45;&gt;((15, 7), 0)</title>\n<path fill=\"none\" stroke=\"black\" d=\"M197.79,-86.8C197.79,-75.16 197.79,-59.55 197.79,-46.24\"/>\n<polygon fill=\"black\" stroke=\"black\" points=\"201.29,-46.18 197.79,-36.18 194.29,-46.18 201.29,-46.18\"/>\n<text text-anchor=\"middle\" x=\"215.79\" y=\"-57.8\" font-family=\"Times,serif\" font-size=\"14.00\">right</text>\n</g>\n<!-- ((15, 8), 0)&#45;&gt;((15, 8), 3) -->\n<g id=\"edge15\" class=\"edge\">\n<title>((15, 8), 0)&#45;&gt;((15, 8), 3)</title>\n<path fill=\"none\" stroke=\"black\" d=\"M332.65,-123.08C329.34,-133.68 323.73,-146.96 314.79,-156 307.29,-163.6 297.83,-169.71 288.13,-174.56\"/>\n<polygon fill=\"black\" stroke=\"black\" points=\"286.45,-171.48 278.82,-178.83 289.37,-177.84 286.45,-171.48\"/>\n<text text-anchor=\"middle\" x=\"337.29\" y=\"-144.8\" font-family=\"Times,serif\" font-size=\"14.00\">left</text>\n</g>\n<!-- ((15, 8), 1) -->\n<g id=\"node20\" class=\"node\">\n<title>((15, 8), 1)</title>\n<ellipse fill=\"none\" stroke=\"black\" cx=\"336.79\" cy=\"-18\" rx=\"59.59\" ry=\"18\"/>\n<text text-anchor=\"middle\" x=\"336.79\" y=\"-14.3\" font-family=\"Times,serif\" font-size=\"14.00\">((15, 8), 1)</text>\n</g>\n<!-- ((15, 8), 0)&#45;&gt;((15, 8), 1) -->\n<g id=\"edge29\" class=\"edge\">\n<title>((15, 8), 0)&#45;&gt;((15, 8), 1)</title>\n<path fill=\"none\" stroke=\"black\" d=\"M336.79,-86.8C336.79,-75.16 336.79,-59.55 336.79,-46.24\"/>\n<polygon fill=\"black\" stroke=\"black\" points=\"340.29,-46.18 336.79,-36.18 333.29,-46.18 340.29,-46.18\"/>\n<text text-anchor=\"middle\" x=\"354.79\" y=\"-57.8\" font-family=\"Times,serif\" font-size=\"14.00\">right</text>\n</g>\n<!-- ((15, 10), 0)&#45;&gt;((15, 10), 1) -->\n<g id=\"edge27\" class=\"edge\">\n<title>((15, 10), 0)&#45;&gt;((15, 10), 1)</title>\n<path fill=\"none\" stroke=\"black\" d=\"M1764.26,-644.35C1759.23,-649.72 1754.48,-656.09 1751.79,-663 1746,-677.92 1746,-684.08 1751.79,-699 1753.26,-702.78 1755.35,-706.4 1757.76,-709.78\"/>\n<polygon fill=\"black\" stroke=\"black\" points=\"1755.19,-712.17 1764.26,-717.65 1760.59,-707.71 1755.19,-712.17\"/>\n<text text-anchor=\"middle\" x=\"1769.79\" y=\"-677.3\" font-family=\"Times,serif\" font-size=\"14.00\">right</text>\n</g>\n<!-- ((15, 10), 3) -->\n<g id=\"node14\" class=\"node\">\n<title>((15, 10), 3)</title>\n<ellipse fill=\"none\" stroke=\"black\" cx=\"1792.79\" cy=\"-366\" rx=\"65.79\" ry=\"18\"/>\n<text text-anchor=\"middle\" x=\"1792.79\" y=\"-362.3\" font-family=\"Times,serif\" font-size=\"14.00\">((15, 10), 3)</text>\n</g>\n<!-- ((15, 10), 0)&#45;&gt;((15, 10), 3) -->\n<g id=\"edge51\" class=\"edge\">\n<title>((15, 10), 0)&#45;&gt;((15, 10), 3)</title>\n<path fill=\"none\" stroke=\"black\" d=\"M1783.6,-608.69C1783.38,-582.69 1783.23,-532.02 1784.79,-489 1785.98,-456.48 1788.61,-419.15 1790.54,-394.44\"/>\n<polygon fill=\"black\" stroke=\"black\" points=\"1794.04,-394.6 1791.34,-384.36 1787.06,-394.05 1794.04,-394.6\"/>\n<text text-anchor=\"middle\" x=\"1797.29\" y=\"-492.8\" font-family=\"Times,serif\" font-size=\"14.00\">left</text>\n</g>\n<!-- ((16, 10), 0) -->\n<g id=\"node18\" class=\"node\">\n<title>((16, 10), 0)</title>\n<ellipse fill=\"none\" stroke=\"black\" cx=\"1589.79\" cy=\"-540\" rx=\"65.79\" ry=\"18\"/>\n<text text-anchor=\"middle\" x=\"1589.79\" y=\"-536.3\" font-family=\"Times,serif\" font-size=\"14.00\">((16, 10), 0)</text>\n</g>\n<!-- ((15, 10), 0)&#45;&gt;((16, 10), 0) -->\n<g id=\"edge26\" class=\"edge\">\n<title>((15, 10), 0)&#45;&gt;((16, 10), 0)</title>\n<path fill=\"none\" stroke=\"black\" d=\"M1750.44,-611.39C1717.87,-597.11 1668.14,-575.32 1632.64,-559.77\"/>\n<polygon fill=\"black\" stroke=\"black\" points=\"1633.6,-556.37 1623.03,-555.56 1630.79,-562.78 1633.6,-556.37\"/>\n<text text-anchor=\"middle\" x=\"1726.29\" y=\"-579.8\" font-family=\"Times,serif\" font-size=\"14.00\">forward</text>\n</g>\n<!-- ((15, 10), 2)&#45;&gt;((15, 10), 1) -->\n<g id=\"edge22\" class=\"edge\">\n<title>((15, 10), 2)&#45;&gt;((15, 10), 1)</title>\n<path fill=\"none\" stroke=\"black\" d=\"M1877.23,-296.98C1883.08,-313.94 1890.79,-340.9 1890.79,-365 1890.79,-628 1890.79,-628 1890.79,-628 1890.79,-666.91 1854.64,-696.4 1824.36,-714.28\"/>\n<polygon fill=\"black\" stroke=\"black\" points=\"1822.59,-711.26 1815.61,-719.23 1826.04,-717.35 1822.59,-711.26\"/>\n<text text-anchor=\"middle\" x=\"1903.29\" y=\"-492.8\" font-family=\"Times,serif\" font-size=\"14.00\">left</text>\n</g>\n<!-- ((15, 10), 2)&#45;&gt;((15, 10), 3) -->\n<g id=\"edge21\" class=\"edge\">\n<title>((15, 10), 2)&#45;&gt;((15, 10), 3)</title>\n<path fill=\"none\" stroke=\"black\" d=\"M1822.87,-291.45C1811.07,-296.65 1799.81,-304.16 1792.79,-315 1788.47,-321.69 1787.24,-330.01 1787.45,-337.93\"/>\n<polygon fill=\"black\" stroke=\"black\" points=\"1783.97,-338.32 1788.41,-347.94 1790.94,-337.65 1783.97,-338.32\"/>\n<text text-anchor=\"middle\" x=\"1810.79\" y=\"-318.8\" font-family=\"Times,serif\" font-size=\"14.00\">right</text>\n</g>\n<!-- ((14, 10), 2) -->\n<g id=\"node17\" class=\"node\">\n<title>((14, 10), 2)</title>\n<ellipse fill=\"none\" stroke=\"black\" cx=\"1870.79\" cy=\"-192\" rx=\"65.79\" ry=\"18\"/>\n<text text-anchor=\"middle\" x=\"1870.79\" y=\"-188.3\" font-family=\"Times,serif\" font-size=\"14.00\">((14, 10), 2)</text>\n</g>\n<!-- ((15, 10), 2)&#45;&gt;((14, 10), 2) -->\n<g id=\"edge25\" class=\"edge\">\n<title>((15, 10), 2)&#45;&gt;((14, 10), 2)</title>\n<path fill=\"none\" stroke=\"black\" d=\"M1870.79,-260.8C1870.79,-249.16 1870.79,-233.55 1870.79,-220.24\"/>\n<polygon fill=\"black\" stroke=\"black\" points=\"1874.29,-220.18 1870.79,-210.18 1867.29,-220.18 1874.29,-220.18\"/>\n<text text-anchor=\"middle\" x=\"1899.29\" y=\"-231.8\" font-family=\"Times,serif\" font-size=\"14.00\">forward</text>\n</g>\n<!-- ((15, 10), 3)&#45;&gt;((15, 9), 3) -->\n<g id=\"edge52\" class=\"edge\">\n<title>((15, 10), 3)&#45;&gt;((15, 9), 3)</title>\n<path fill=\"none\" stroke=\"black\" d=\"M1729.04,-361.56C1665.03,-358.11 1563.58,-352.66 1475.79,-348 1043.81,-325.08 935.28,-327.92 503.79,-297 463.69,-294.13 418.83,-290.08 383.1,-286.65\"/>\n<polygon fill=\"black\" stroke=\"black\" points=\"383.09,-283.13 372.8,-285.66 382.42,-290.1 383.09,-283.13\"/>\n<text text-anchor=\"middle\" x=\"1116.29\" y=\"-318.8\" font-family=\"Times,serif\" font-size=\"14.00\">forward</text>\n</g>\n<!-- ((15, 10), 3)&#45;&gt;((15, 10), 0) -->\n<g id=\"edge53\" class=\"edge\">\n<title>((15, 10), 3)&#45;&gt;((15, 10), 0)</title>\n<path fill=\"none\" stroke=\"black\" d=\"M1798.47,-384.29C1800.11,-389.88 1801.74,-396.15 1802.79,-402 1817.78,-484.7 1817.75,-509.61 1796.79,-591 1796.11,-593.67 1795.29,-596.43 1794.4,-599.16\"/>\n<polygon fill=\"black\" stroke=\"black\" points=\"1791.03,-598.19 1791,-608.78 1797.63,-600.52 1791.03,-598.19\"/>\n<text text-anchor=\"middle\" x=\"1830.79\" y=\"-492.8\" font-family=\"Times,serif\" font-size=\"14.00\">right</text>\n</g>\n<!-- ((15, 10), 3)&#45;&gt;((15, 10), 2) -->\n<g id=\"edge54\" class=\"edge\">\n<title>((15, 10), 3)&#45;&gt;((15, 10), 2)</title>\n<path fill=\"none\" stroke=\"black\" d=\"M1810.36,-348.61C1816.34,-342.85 1822.98,-336.26 1828.79,-330 1836.21,-322.03 1843.96,-313.01 1850.77,-304.84\"/>\n<polygon fill=\"black\" stroke=\"black\" points=\"1853.55,-306.97 1857.21,-297.03 1848.14,-302.52 1853.55,-306.97\"/>\n<text text-anchor=\"middle\" x=\"1854.29\" y=\"-318.8\" font-family=\"Times,serif\" font-size=\"14.00\">left</text>\n</g>\n<!-- ((15, 11), 0) -->\n<g id=\"node16\" class=\"node\">\n<title>((15, 11), 0)</title>\n<ellipse fill=\"none\" stroke=\"black\" cx=\"703.79\" cy=\"-540\" rx=\"65.79\" ry=\"18\"/>\n<text text-anchor=\"middle\" x=\"703.79\" y=\"-536.3\" font-family=\"Times,serif\" font-size=\"14.00\">((15, 11), 0)</text>\n</g>\n<!-- ((15, 11), 1)&#45;&gt;((15, 11), 0) -->\n<g id=\"edge24\" class=\"edge\">\n<title>((15, 11), 1)&#45;&gt;((15, 11), 0)</title>\n<path fill=\"none\" stroke=\"black\" d=\"M689.93,-609.2C686.22,-603.73 682.71,-597.41 680.79,-591 678.34,-582.8 680.42,-574.22 684.16,-566.52\"/>\n<polygon fill=\"black\" stroke=\"black\" points=\"687.32,-568.06 689.36,-557.66 681.28,-564.52 687.32,-568.06\"/>\n<text text-anchor=\"middle\" x=\"693.29\" y=\"-579.8\" font-family=\"Times,serif\" font-size=\"14.00\">left</text>\n</g>\n<!-- ((15, 12), 1) -->\n<g id=\"node19\" class=\"node\">\n<title>((15, 12), 1)</title>\n<ellipse fill=\"none\" stroke=\"black\" cx=\"1054.79\" cy=\"-540\" rx=\"65.79\" ry=\"18\"/>\n<text text-anchor=\"middle\" x=\"1054.79\" y=\"-536.3\" font-family=\"Times,serif\" font-size=\"14.00\">((15, 12), 1)</text>\n</g>\n<!-- ((15, 11), 1)&#45;&gt;((15, 12), 1) -->\n<g id=\"edge28\" class=\"edge\">\n<title>((15, 11), 1)&#45;&gt;((15, 12), 1)</title>\n<path fill=\"none\" stroke=\"black\" d=\"M751.5,-614.45C815.46,-598.96 928.87,-571.49 997.42,-554.89\"/>\n<polygon fill=\"black\" stroke=\"black\" points=\"998.3,-558.28 1007.2,-552.53 996.65,-551.48 998.3,-558.28\"/>\n<text text-anchor=\"middle\" x=\"928.29\" y=\"-579.8\" font-family=\"Times,serif\" font-size=\"14.00\">forward</text>\n</g>\n<!-- ((15, 11), 2) -->\n<g id=\"node28\" class=\"node\">\n<title>((15, 11), 2)</title>\n<ellipse fill=\"none\" stroke=\"black\" cx=\"578.79\" cy=\"-366\" rx=\"65.79\" ry=\"18\"/>\n<text text-anchor=\"middle\" x=\"578.79\" y=\"-362.3\" font-family=\"Times,serif\" font-size=\"14.00\">((15, 11), 2)</text>\n</g>\n<!-- ((15, 11), 1)&#45;&gt;((15, 11), 2) -->\n<g id=\"edge40\" class=\"edge\">\n<title>((15, 11), 1)&#45;&gt;((15, 11), 2)</title>\n<path fill=\"none\" stroke=\"black\" d=\"M682.31,-609.74C666.26,-596.88 644.5,-577.85 628.79,-558 601.4,-523.36 592.22,-513.66 580.79,-471 574.03,-445.75 574.28,-415.8 575.77,-394.54\"/>\n<polygon fill=\"black\" stroke=\"black\" points=\"579.28,-394.54 576.63,-384.28 572.3,-393.96 579.28,-394.54\"/>\n<text text-anchor=\"middle\" x=\"609.79\" y=\"-492.8\" font-family=\"Times,serif\" font-size=\"14.00\">right</text>\n</g>\n<!-- ((15, 11), 0)&#45;&gt;((15, 11), 1) -->\n<g id=\"edge30\" class=\"edge\">\n<title>((15, 11), 0)&#45;&gt;((15, 11), 1)</title>\n<path fill=\"none\" stroke=\"black\" d=\"M704.97,-558.08C705.31,-563.78 705.63,-570.16 705.79,-576 706,-583.35 705.86,-591.31 705.57,-598.67\"/>\n<polygon fill=\"black\" stroke=\"black\" points=\"702.06,-598.72 705.06,-608.88 709.05,-599.06 702.06,-598.72\"/>\n<text text-anchor=\"middle\" x=\"723.79\" y=\"-579.8\" font-family=\"Times,serif\" font-size=\"14.00\">right</text>\n</g>\n<!-- ((15, 11), 3) -->\n<g id=\"node21\" class=\"node\">\n<title>((15, 11), 3)</title>\n<ellipse fill=\"none\" stroke=\"black\" cx=\"655.79\" cy=\"-453\" rx=\"65.79\" ry=\"18\"/>\n<text text-anchor=\"middle\" x=\"655.79\" y=\"-449.3\" font-family=\"Times,serif\" font-size=\"14.00\">((15, 11), 3)</text>\n</g>\n<!-- ((15, 11), 0)&#45;&gt;((15, 11), 3) -->\n<g id=\"edge31\" class=\"edge\">\n<title>((15, 11), 0)&#45;&gt;((15, 11), 3)</title>\n<path fill=\"none\" stroke=\"black\" d=\"M674.44,-523.49C667.42,-518.28 660.8,-511.78 656.79,-504 653.24,-497.1 652.05,-488.92 652,-481.2\"/>\n<polygon fill=\"black\" stroke=\"black\" points=\"655.5,-481.29 652.53,-471.12 648.51,-480.92 655.5,-481.29\"/>\n<text text-anchor=\"middle\" x=\"669.29\" y=\"-492.8\" font-family=\"Times,serif\" font-size=\"14.00\">left</text>\n</g>\n<!-- ((16, 11), 0) -->\n<g id=\"node22\" class=\"node\">\n<title>((16, 11), 0)</title>\n<ellipse fill=\"none\" stroke=\"black\" cx=\"804.79\" cy=\"-453\" rx=\"65.79\" ry=\"18\"/>\n<text text-anchor=\"middle\" x=\"804.79\" y=\"-449.3\" font-family=\"Times,serif\" font-size=\"14.00\">((16, 11), 0)</text>\n</g>\n<!-- ((15, 11), 0)&#45;&gt;((16, 11), 0) -->\n<g id=\"edge33\" class=\"edge\">\n<title>((15, 11), 0)&#45;&gt;((16, 11), 0)</title>\n<path fill=\"none\" stroke=\"black\" d=\"M723.27,-522.61C738.64,-509.68 760.27,-491.47 777.39,-477.07\"/>\n<polygon fill=\"black\" stroke=\"black\" points=\"779.98,-479.46 785.38,-470.34 775.48,-474.1 779.98,-479.46\"/>\n<text text-anchor=\"middle\" x=\"788.29\" y=\"-492.8\" font-family=\"Times,serif\" font-size=\"14.00\">forward</text>\n</g>\n<!-- ((14, 10), 3) -->\n<g id=\"node30\" class=\"node\">\n<title>((14, 10), 3)</title>\n<ellipse fill=\"none\" stroke=\"black\" cx=\"1755.79\" cy=\"-105\" rx=\"65.79\" ry=\"18\"/>\n<text text-anchor=\"middle\" x=\"1755.79\" y=\"-101.3\" font-family=\"Times,serif\" font-size=\"14.00\">((14, 10), 3)</text>\n</g>\n<!-- ((14, 10), 2)&#45;&gt;((14, 10), 3) -->\n<g id=\"edge46\" class=\"edge\">\n<title>((14, 10), 2)&#45;&gt;((14, 10), 3)</title>\n<path fill=\"none\" stroke=\"black\" d=\"M1824.63,-179C1810.38,-173.67 1795.41,-166.21 1783.79,-156 1776.52,-149.6 1770.73,-140.84 1766.35,-132.44\"/>\n<polygon fill=\"black\" stroke=\"black\" points=\"1769.44,-130.78 1761.99,-123.24 1763.11,-133.78 1769.44,-130.78\"/>\n<text text-anchor=\"middle\" x=\"1801.79\" y=\"-144.8\" font-family=\"Times,serif\" font-size=\"14.00\">right</text>\n</g>\n<!-- ((13, 10), 2) -->\n<g id=\"node31\" class=\"node\">\n<title>((13, 10), 2)</title>\n<ellipse fill=\"none\" stroke=\"black\" cx=\"1904.79\" cy=\"-105\" rx=\"65.79\" ry=\"18\"/>\n<text text-anchor=\"middle\" x=\"1904.79\" y=\"-101.3\" font-family=\"Times,serif\" font-size=\"14.00\">((13, 10), 2)</text>\n</g>\n<!-- ((14, 10), 2)&#45;&gt;((13, 10), 2) -->\n<g id=\"edge48\" class=\"edge\">\n<title>((14, 10), 2)&#45;&gt;((13, 10), 2)</title>\n<path fill=\"none\" stroke=\"black\" d=\"M1877.68,-173.8C1882.38,-162.05 1888.7,-146.24 1894.06,-132.84\"/>\n<polygon fill=\"black\" stroke=\"black\" points=\"1897.46,-133.76 1897.92,-123.18 1890.96,-131.16 1897.46,-133.76\"/>\n<text text-anchor=\"middle\" x=\"1918.29\" y=\"-144.8\" font-family=\"Times,serif\" font-size=\"14.00\">forward</text>\n</g>\n<!-- ((14, 10), 1) -->\n<g id=\"node33\" class=\"node\">\n<title>((14, 10), 1)</title>\n<ellipse fill=\"none\" stroke=\"black\" cx=\"2053.79\" cy=\"-105\" rx=\"65.79\" ry=\"18\"/>\n<text text-anchor=\"middle\" x=\"2053.79\" y=\"-101.3\" font-family=\"Times,serif\" font-size=\"14.00\">((14, 10), 1)</text>\n</g>\n<!-- ((14, 10), 2)&#45;&gt;((14, 10), 1) -->\n<g id=\"edge50\" class=\"edge\">\n<title>((14, 10), 2)&#45;&gt;((14, 10), 1)</title>\n<path fill=\"none\" stroke=\"black\" d=\"M1904.79,-176.48C1919.06,-170.29 1935.79,-162.92 1950.79,-156 1971.89,-146.27 1995.19,-135 2014.29,-125.63\"/>\n<polygon fill=\"black\" stroke=\"black\" points=\"2015.87,-128.75 2023.3,-121.2 2012.78,-122.47 2015.87,-128.75\"/>\n<text text-anchor=\"middle\" x=\"1994.29\" y=\"-144.8\" font-family=\"Times,serif\" font-size=\"14.00\">left</text>\n</g>\n<!-- ((16, 10), 1) -->\n<g id=\"node34\" class=\"node\">\n<title>((16, 10), 1)</title>\n<ellipse fill=\"none\" stroke=\"black\" cx=\"1549.79\" cy=\"-453\" rx=\"65.79\" ry=\"18\"/>\n<text text-anchor=\"middle\" x=\"1549.79\" y=\"-449.3\" font-family=\"Times,serif\" font-size=\"14.00\">((16, 10), 1)</text>\n</g>\n<!-- ((16, 10), 0)&#45;&gt;((16, 10), 1) -->\n<g id=\"edge55\" class=\"edge\">\n<title>((16, 10), 0)&#45;&gt;((16, 10), 1)</title>\n<path fill=\"none\" stroke=\"black\" d=\"M1581.7,-521.8C1576.08,-509.85 1568.49,-493.72 1562.12,-480.18\"/>\n<polygon fill=\"black\" stroke=\"black\" points=\"1565.17,-478.44 1557.74,-470.89 1558.83,-481.42 1565.17,-478.44\"/>\n<text text-anchor=\"middle\" x=\"1589.79\" y=\"-492.8\" font-family=\"Times,serif\" font-size=\"14.00\">right</text>\n</g>\n<!-- ((17, 10), 0) -->\n<g id=\"node35\" class=\"node\">\n<title>((17, 10), 0)</title>\n<ellipse fill=\"none\" stroke=\"black\" cx=\"1400.79\" cy=\"-453\" rx=\"65.79\" ry=\"18\"/>\n<text text-anchor=\"middle\" x=\"1400.79\" y=\"-449.3\" font-family=\"Times,serif\" font-size=\"14.00\">((17, 10), 0)</text>\n</g>\n<!-- ((16, 10), 0)&#45;&gt;((17, 10), 0) -->\n<g id=\"edge56\" class=\"edge\">\n<title>((16, 10), 0)&#45;&gt;((17, 10), 0)</title>\n<path fill=\"none\" stroke=\"black\" d=\"M1554.48,-524.74C1539.41,-518.54 1521.67,-511.08 1505.79,-504 1484.09,-494.32 1460.14,-482.96 1440.6,-473.53\"/>\n<polygon fill=\"black\" stroke=\"black\" points=\"1441.92,-470.28 1431.39,-469.06 1438.86,-476.57 1441.92,-470.28\"/>\n<text text-anchor=\"middle\" x=\"1534.29\" y=\"-492.8\" font-family=\"Times,serif\" font-size=\"14.00\">forward</text>\n</g>\n<!-- ((16, 10), 3) -->\n<g id=\"node37\" class=\"node\">\n<title>((16, 10), 3)</title>\n<ellipse fill=\"none\" stroke=\"black\" cx=\"1698.79\" cy=\"-453\" rx=\"65.79\" ry=\"18\"/>\n<text text-anchor=\"middle\" x=\"1698.79\" y=\"-449.3\" font-family=\"Times,serif\" font-size=\"14.00\">((16, 10), 3)</text>\n</g>\n<!-- ((16, 10), 0)&#45;&gt;((16, 10), 3) -->\n<g id=\"edge58\" class=\"edge\">\n<title>((16, 10), 0)&#45;&gt;((16, 10), 3)</title>\n<path fill=\"none\" stroke=\"black\" d=\"M1610.55,-522.81C1627.45,-509.64 1651.48,-490.9 1670.19,-476.3\"/>\n<polygon fill=\"black\" stroke=\"black\" points=\"1672.38,-479.04 1678.11,-470.13 1668.08,-473.52 1672.38,-479.04\"/>\n<text text-anchor=\"middle\" x=\"1663.29\" y=\"-492.8\" font-family=\"Times,serif\" font-size=\"14.00\">left</text>\n</g>\n<!-- ((15, 13), 1) -->\n<g id=\"node24\" class=\"node\">\n<title>((15, 13), 1)</title>\n<ellipse fill=\"none\" stroke=\"black\" cx=\"953.79\" cy=\"-453\" rx=\"65.79\" ry=\"18\"/>\n<text text-anchor=\"middle\" x=\"953.79\" y=\"-449.3\" font-family=\"Times,serif\" font-size=\"14.00\">((15, 13), 1)</text>\n</g>\n<!-- ((15, 12), 1)&#45;&gt;((15, 13), 1) -->\n<g id=\"edge35\" class=\"edge\">\n<title>((15, 12), 1)&#45;&gt;((15, 13), 1)</title>\n<path fill=\"none\" stroke=\"black\" d=\"M1019.08,-524.88C1007.97,-519.42 996.18,-512.42 986.79,-504 979.18,-497.16 972.54,-488.2 967.25,-479.74\"/>\n<polygon fill=\"black\" stroke=\"black\" points=\"970.15,-477.76 962.07,-470.9 964.11,-481.3 970.15,-477.76\"/>\n<text text-anchor=\"middle\" x=\"1015.29\" y=\"-492.8\" font-family=\"Times,serif\" font-size=\"14.00\">forward</text>\n</g>\n<!-- ((15, 12), 2) -->\n<g id=\"node25\" class=\"node\">\n<title>((15, 12), 2)</title>\n<ellipse fill=\"none\" stroke=\"black\" cx=\"1102.79\" cy=\"-453\" rx=\"65.79\" ry=\"18\"/>\n<text text-anchor=\"middle\" x=\"1102.79\" y=\"-449.3\" font-family=\"Times,serif\" font-size=\"14.00\">((15, 12), 2)</text>\n</g>\n<!-- ((15, 12), 1)&#45;&gt;((15, 12), 2) -->\n<g id=\"edge36\" class=\"edge\">\n<title>((15, 12), 1)&#45;&gt;((15, 12), 2)</title>\n<path fill=\"none\" stroke=\"black\" d=\"M1068.56,-522.08C1072.76,-516.5 1077.22,-510.15 1080.79,-504 1085.09,-496.62 1089.08,-488.25 1092.45,-480.5\"/>\n<polygon fill=\"black\" stroke=\"black\" points=\"1095.74,-481.71 1096.37,-471.13 1089.28,-479 1095.74,-481.71\"/>\n<text text-anchor=\"middle\" x=\"1105.79\" y=\"-492.8\" font-family=\"Times,serif\" font-size=\"14.00\">right</text>\n</g>\n<!-- ((15, 12), 0) -->\n<g id=\"node26\" class=\"node\">\n<title>((15, 12), 0)</title>\n<ellipse fill=\"none\" stroke=\"black\" cx=\"1251.79\" cy=\"-453\" rx=\"65.79\" ry=\"18\"/>\n<text text-anchor=\"middle\" x=\"1251.79\" y=\"-449.3\" font-family=\"Times,serif\" font-size=\"14.00\">((15, 12), 0)</text>\n</g>\n<!-- ((15, 12), 1)&#45;&gt;((15, 12), 0) -->\n<g id=\"edge38\" class=\"edge\">\n<title>((15, 12), 1)&#45;&gt;((15, 12), 0)</title>\n<path fill=\"none\" stroke=\"black\" d=\"M1088.66,-524.39C1121.88,-510.05 1172.67,-488.14 1208.75,-472.57\"/>\n<polygon fill=\"black\" stroke=\"black\" points=\"1210.25,-475.74 1218.04,-468.56 1207.47,-469.31 1210.25,-475.74\"/>\n<text text-anchor=\"middle\" x=\"1177.29\" y=\"-492.8\" font-family=\"Times,serif\" font-size=\"14.00\">left</text>\n</g>\n<!-- ((15, 11), 3)&#45;&gt;((15, 10), 3) -->\n<g id=\"edge32\" class=\"edge\">\n<title>((15, 11), 3)&#45;&gt;((15, 10), 3)</title>\n<path fill=\"none\" stroke=\"black\" d=\"M701.73,-440C710.97,-438 720.64,-436.19 729.79,-435 972.77,-403.42 1038.2,-451.39 1280.79,-417 1307.58,-413.2 1313.1,-406.39 1339.79,-402 1471.51,-380.33 1627.04,-372.02 1717.34,-368.87\"/>\n<polygon fill=\"black\" stroke=\"black\" points=\"1717.61,-372.36 1727.49,-368.53 1717.37,-365.37 1717.61,-372.36\"/>\n<text text-anchor=\"middle\" x=\"1368.29\" y=\"-405.8\" font-family=\"Times,serif\" font-size=\"14.00\">forward</text>\n</g>\n<!-- ((15, 11), 3)&#45;&gt;((15, 11), 0) -->\n<g id=\"edge44\" class=\"edge\">\n<title>((15, 11), 3)&#45;&gt;((15, 11), 0)</title>\n<path fill=\"none\" stroke=\"black\" d=\"M669.56,-470.92C673.76,-476.5 678.22,-482.85 681.79,-489 686.09,-496.38 690.08,-504.75 693.45,-512.5\"/>\n<polygon fill=\"black\" stroke=\"black\" points=\"690.28,-514 697.37,-521.87 696.74,-511.29 690.28,-514\"/>\n<text text-anchor=\"middle\" x=\"706.79\" y=\"-492.8\" font-family=\"Times,serif\" font-size=\"14.00\">right</text>\n</g>\n<!-- ((15, 11), 3)&#45;&gt;((15, 11), 2) -->\n<g id=\"edge45\" class=\"edge\">\n<title>((15, 11), 3)&#45;&gt;((15, 11), 2)</title>\n<path fill=\"none\" stroke=\"black\" d=\"M650.64,-434.88C646.91,-424.53 641.05,-411.54 632.79,-402 628.28,-396.78 622.79,-392.04 617.07,-387.85\"/>\n<polygon fill=\"black\" stroke=\"black\" points=\"618.85,-384.83 608.6,-382.12 614.92,-390.62 618.85,-384.83\"/>\n<text text-anchor=\"middle\" x=\"654.29\" y=\"-405.8\" font-family=\"Times,serif\" font-size=\"14.00\">left</text>\n</g>\n<!-- ((17, 11), 0) -->\n<g id=\"node23\" class=\"node\">\n<title>((17, 11), 0)</title>\n<ellipse fill=\"none\" stroke=\"black\" cx=\"804.79\" cy=\"-366\" rx=\"65.79\" ry=\"18\"/>\n<text text-anchor=\"middle\" x=\"804.79\" y=\"-362.3\" font-family=\"Times,serif\" font-size=\"14.00\">((17, 11), 0)</text>\n</g>\n<!-- ((16, 11), 0)&#45;&gt;((17, 11), 0) -->\n<g id=\"edge34\" class=\"edge\">\n<title>((16, 11), 0)&#45;&gt;((17, 11), 0)</title>\n<path fill=\"none\" stroke=\"black\" d=\"M804.79,-434.8C804.79,-423.16 804.79,-407.55 804.79,-394.24\"/>\n<polygon fill=\"black\" stroke=\"black\" points=\"808.29,-394.18 804.79,-384.18 801.29,-394.18 808.29,-394.18\"/>\n<text text-anchor=\"middle\" x=\"833.29\" y=\"-405.8\" font-family=\"Times,serif\" font-size=\"14.00\">forward</text>\n</g>\n<!-- ((15, 12), 2)&#45;&gt;((15, 12), 1) -->\n<g id=\"edge37\" class=\"edge\">\n<title>((15, 12), 2)&#45;&gt;((15, 12), 1)</title>\n<path fill=\"none\" stroke=\"black\" d=\"M1071.15,-468.81C1063.43,-474.04 1056.15,-480.73 1051.79,-489 1048.17,-495.88 1047.45,-504.05 1048.03,-511.77\"/>\n<polygon fill=\"black\" stroke=\"black\" points=\"1044.6,-512.46 1049.5,-521.86 1051.53,-511.46 1044.6,-512.46\"/>\n<text text-anchor=\"middle\" x=\"1064.29\" y=\"-492.8\" font-family=\"Times,serif\" font-size=\"14.00\">left</text>\n</g>\n<!-- ((15, 12), 3) -->\n<g id=\"node27\" class=\"node\">\n<title>((15, 12), 3)</title>\n<ellipse fill=\"none\" stroke=\"black\" cx=\"1251.79\" cy=\"-366\" rx=\"65.79\" ry=\"18\"/>\n<text text-anchor=\"middle\" x=\"1251.79\" y=\"-362.3\" font-family=\"Times,serif\" font-size=\"14.00\">((15, 12), 3)</text>\n</g>\n<!-- ((15, 12), 0)&#45;&gt;((15, 12), 3) -->\n<g id=\"edge39\" class=\"edge\">\n<title>((15, 12), 0)&#45;&gt;((15, 12), 3)</title>\n<path fill=\"none\" stroke=\"black\" d=\"M1251.79,-434.8C1251.79,-423.16 1251.79,-407.55 1251.79,-394.24\"/>\n<polygon fill=\"black\" stroke=\"black\" points=\"1255.29,-394.18 1251.79,-384.18 1248.29,-394.18 1255.29,-394.18\"/>\n<text text-anchor=\"middle\" x=\"1264.29\" y=\"-405.8\" font-family=\"Times,serif\" font-size=\"14.00\">left</text>\n</g>\n<!-- ((15, 11), 2)&#45;&gt;((15, 11), 1) -->\n<g id=\"edge42\" class=\"edge\">\n<title>((15, 11), 2)&#45;&gt;((15, 11), 1)</title>\n<path fill=\"none\" stroke=\"black\" d=\"M571.02,-383.87C560.02,-410.17 542.73,-462.22 556.79,-504 573.18,-552.68 623.54,-587.11 660.77,-606.72\"/>\n<polygon fill=\"black\" stroke=\"black\" points=\"659.43,-609.96 669.93,-611.38 662.61,-603.72 659.43,-609.96\"/>\n<text text-anchor=\"middle\" x=\"569.29\" y=\"-492.8\" font-family=\"Times,serif\" font-size=\"14.00\">left</text>\n</g>\n<!-- ((15, 11), 2)&#45;&gt;((15, 11), 3) -->\n<g id=\"edge43\" class=\"edge\">\n<title>((15, 11), 2)&#45;&gt;((15, 11), 3)</title>\n<path fill=\"none\" stroke=\"black\" d=\"M581.91,-384.22C584.5,-394.61 589.04,-407.61 596.79,-417 601.49,-422.68 607.36,-427.66 613.57,-431.95\"/>\n<polygon fill=\"black\" stroke=\"black\" points=\"611.83,-434.99 622.16,-437.36 615.56,-429.07 611.83,-434.99\"/>\n<text text-anchor=\"middle\" x=\"614.79\" y=\"-405.8\" font-family=\"Times,serif\" font-size=\"14.00\">right</text>\n</g>\n<!-- ((14, 11), 2) -->\n<g id=\"node29\" class=\"node\">\n<title>((14, 11), 2)</title>\n<ellipse fill=\"none\" stroke=\"black\" cx=\"578.79\" cy=\"-279\" rx=\"65.79\" ry=\"18\"/>\n<text text-anchor=\"middle\" x=\"578.79\" y=\"-275.3\" font-family=\"Times,serif\" font-size=\"14.00\">((14, 11), 2)</text>\n</g>\n<!-- ((15, 11), 2)&#45;&gt;((14, 11), 2) -->\n<g id=\"edge41\" class=\"edge\">\n<title>((15, 11), 2)&#45;&gt;((14, 11), 2)</title>\n<path fill=\"none\" stroke=\"black\" d=\"M578.79,-347.8C578.79,-336.16 578.79,-320.55 578.79,-307.24\"/>\n<polygon fill=\"black\" stroke=\"black\" points=\"582.29,-307.18 578.79,-297.18 575.29,-307.18 582.29,-307.18\"/>\n<text text-anchor=\"middle\" x=\"607.29\" y=\"-318.8\" font-family=\"Times,serif\" font-size=\"14.00\">forward</text>\n</g>\n<!-- ((14, 10), 3)&#45;&gt;((14, 10), 2) -->\n<g id=\"edge47\" class=\"edge\">\n<title>((14, 10), 3)&#45;&gt;((14, 10), 2)</title>\n<path fill=\"none\" stroke=\"black\" d=\"M1787.12,-120.92C1797.87,-126.61 1809.72,-133.53 1819.79,-141 1829.96,-148.54 1840.13,-158.02 1848.69,-166.69\"/>\n<polygon fill=\"black\" stroke=\"black\" points=\"1846.29,-169.25 1855.74,-174.03 1851.34,-164.4 1846.29,-169.25\"/>\n<text text-anchor=\"middle\" x=\"1848.29\" y=\"-144.8\" font-family=\"Times,serif\" font-size=\"14.00\">left</text>\n</g>\n<!-- ((13, 10), 3) -->\n<g id=\"node32\" class=\"node\">\n<title>((13, 10), 3)</title>\n<ellipse fill=\"none\" stroke=\"black\" cx=\"1904.79\" cy=\"-18\" rx=\"65.79\" ry=\"18\"/>\n<text text-anchor=\"middle\" x=\"1904.79\" y=\"-14.3\" font-family=\"Times,serif\" font-size=\"14.00\">((13, 10), 3)</text>\n</g>\n<!-- ((13, 10), 2)&#45;&gt;((13, 10), 3) -->\n<g id=\"edge49\" class=\"edge\">\n<title>((13, 10), 2)&#45;&gt;((13, 10), 3)</title>\n<path fill=\"none\" stroke=\"black\" d=\"M1904.79,-86.8C1904.79,-75.16 1904.79,-59.55 1904.79,-46.24\"/>\n<polygon fill=\"black\" stroke=\"black\" points=\"1908.29,-46.18 1904.79,-36.18 1901.29,-46.18 1908.29,-46.18\"/>\n<text text-anchor=\"middle\" x=\"1922.79\" y=\"-57.8\" font-family=\"Times,serif\" font-size=\"14.00\">right</text>\n</g>\n<!-- ((17, 10), 3) -->\n<g id=\"node36\" class=\"node\">\n<title>((17, 10), 3)</title>\n<ellipse fill=\"none\" stroke=\"black\" cx=\"1400.79\" cy=\"-366\" rx=\"65.79\" ry=\"18\"/>\n<text text-anchor=\"middle\" x=\"1400.79\" y=\"-362.3\" font-family=\"Times,serif\" font-size=\"14.00\">((17, 10), 3)</text>\n</g>\n<!-- ((17, 10), 0)&#45;&gt;((17, 10), 3) -->\n<g id=\"edge57\" class=\"edge\">\n<title>((17, 10), 0)&#45;&gt;((17, 10), 3)</title>\n<path fill=\"none\" stroke=\"black\" d=\"M1400.79,-434.8C1400.79,-423.16 1400.79,-407.55 1400.79,-394.24\"/>\n<polygon fill=\"black\" stroke=\"black\" points=\"1404.29,-394.18 1400.79,-384.18 1397.29,-394.18 1404.29,-394.18\"/>\n<text text-anchor=\"middle\" x=\"1413.29\" y=\"-405.8\" font-family=\"Times,serif\" font-size=\"14.00\">left</text>\n</g>\n</g>\n</svg>\n",
      "text/plain": [
       "<graphviz.graphs.Digraph at 0x7f5b59e5bdc0>"
      ]
     },
     "execution_count": 63,
     "metadata": {},
     "output_type": "execute_result"
    },
    {
     "data": {
      "image/png": "[encoded data removed]",
      "text/plain": [
       "<Figure size 640x480 with 1 Axes>"
      ]
     },
     "metadata": {},
     "output_type": "display_data"
    }
   ],
   "source": [
    "model = FourRoomsModel()\n",
    "env = FourRoomsEnvPos(agent_pos=(15, 9), goal_pos=(16,16))\n",
    "\n",
    "obs = env.reset(seed=42)\n",
    "# mcts = MCTS(obs, model, {\"iters\": 2000, \"sim_depth\": 5, \"heuristic\": [0.0, 0.0, 0.0, 0.0, 0.0, 1.0]})\n",
    "# action, root = MCTS(obs, model, {\"iters\": 5000, \"sim_depth\": 1, \"expansion_heuristic\": np.array([1/3, 1/3, 1/3, 0, 0, 0, 0])}).search()\n",
    "action, root = MCTS(obs, model, {\"iters\": 200, \"sim_depth\": 80, \"discount\":0.9}).search()\n",
    "\n",
    "freqs = unpack_visits(root, visit_freqs=defaultdict(lambda: 0))\n",
    "\n",
    "grid = np.zeros((19, 19))\n",
    "for loc, visits in freqs.items():\n",
    "    grid[loc[0][1], loc[0][0]] += visits\n",
    "\n",
    "grid = np.log(grid)\n",
    "grid[grid == -np.inf] = 0\n",
    "plt.imshow(grid)\n",
    "plt.title(\"Vistation frequencies in Four Rooms.\")\n",
    "plt.axis(\"off\")\n",
    "# plt.savefig(\"./four-rooms/visits.png\")\n",
    "\n",
    "graph = unpack(root, graphviz.Digraph(), set(), action_map=action_map)\n",
    "# graph.render()\n",
    "graph"
   ]
  },
  {
   "cell_type": "code",
   "execution_count": 25,
   "metadata": {},
   "outputs": [
    {
     "data": {
      "text/plain": [
       "array([0, 2, 4])"
      ]
     },
     "execution_count": 25,
     "metadata": {},
     "output_type": "execute_result"
    }
   ],
   "source": [
    "a = np.array([0, 1, 2, 3, 4])\n",
    "a[[0, 2, 4]]"
   ]
  },
  {
   "cell_type": "code",
   "execution_count": 66,
   "metadata": {},
   "outputs": [
    {
     "name": "stdout",
     "output_type": "stream",
     "text": [
      "Running MCTS.\n"
     ]
    },
    {
     "name": "stderr",
     "output_type": "stream",
     "text": [
      "Action Values: [0.003278145695364239, 0.02516949152542371, 0.005755813953488372]: 100%|██████████| 1000/1000 [00:52<00:00, 19.21it/s]  \n"
     ]
    },
    {
     "name": "stdout",
     "output_type": "stream",
     "text": [
      "MCTS finished.\n",
      "Taking action: forward\n",
      "Current State: ((15, 10), 1)\n",
      "Running MCTS.\n"
     ]
    },
    {
     "name": "stderr",
     "output_type": "stream",
     "text": [
      "Action Values: [0.012857142857142848, 0.0058407079646017705, 0.019631728045325758]: 100%|██████████| 1000/1000 [00:53<00:00, 18.60it/s]\n"
     ]
    },
    {
     "name": "stdout",
     "output_type": "stream",
     "text": [
      "MCTS finished.\n",
      "Taking action: forward\n",
      "Current State: ((15, 11), 1)\n",
      "Running MCTS.\n"
     ]
    },
    {
     "name": "stderr",
     "output_type": "stream",
     "text": [
      "Action Values: [0.03165697674418604, 0.00983443708609272, 0.05033898305084744]: 100%|██████████| 1000/1000 [00:53<00:00, 18.60it/s]   \n"
     ]
    },
    {
     "name": "stdout",
     "output_type": "stream",
     "text": [
      "MCTS finished.\n",
      "Taking action: forward\n",
      "Current State: ((15, 12), 1)\n",
      "Running MCTS.\n"
     ]
    },
    {
     "name": "stderr",
     "output_type": "stream",
     "text": [
      "Action Values: [0.11992268041237113, 0.013333333333333338, 0.04399999999999999]: 100%|██████████| 1000/1000 [00:54<00:00, 18.20it/s]\n"
     ]
    },
    {
     "name": "stdout",
     "output_type": "stream",
     "text": [
      "MCTS finished.\n",
      "Taking action: forward\n",
      "Current State: ((15, 13), 1)\n",
      "Running MCTS.\n"
     ]
    },
    {
     "name": "stderr",
     "output_type": "stream",
     "text": [
      "Action Values: [0.06364285714285714, 0.0945859872611465, 0.3779556650246306]: 100%|██████████| 1000/1000 [00:51<00:00, 19.53it/s]  \n"
     ]
    },
    {
     "name": "stdout",
     "output_type": "stream",
     "text": [
      "MCTS finished.\n",
      "Taking action: forward\n",
      "Current State: ((15, 14), 1)\n",
      "Running MCTS.\n"
     ]
    },
    {
     "name": "stderr",
     "output_type": "stream",
     "text": [
      "Action Values: [0.24129032258064512, 0.77844398340249, 0.0911297071129707]: 100%|██████████| 1000/1000 [00:49<00:00, 20.39it/s]   \n"
     ]
    },
    {
     "name": "stdout",
     "output_type": "stream",
     "text": [
      "MCTS finished.\n",
      "Taking action: forward\n",
      "Current State: ((15, 15), 1)\n",
      "Running MCTS.\n"
     ]
    },
    {
     "name": "stderr",
     "output_type": "stream",
     "text": [
      "Action Values: [1.4774904942965776, 0.2364999999999999, 0.7711224489795918]: 100%|██████████| 1000/1000 [00:46<00:00, 21.56it/s] \n"
     ]
    },
    {
     "name": "stdout",
     "output_type": "stream",
     "text": [
      "MCTS finished.\n",
      "Taking action: forward\n",
      "Current State: ((15, 16), 1)\n",
      "Running MCTS.\n"
     ]
    },
    {
     "name": "stderr",
     "output_type": "stream",
     "text": [
      "Action Values: [2.168589065255735, 0.31428571428571433, 0.965655737704918]: 100%|██████████| 1000/1000 [00:45<00:00, 22.04it/s]  \n"
     ]
    },
    {
     "name": "stdout",
     "output_type": "stream",
     "text": [
      "MCTS finished.\n",
      "Taking action: left\n",
      "Current State: ((15, 16), 0)\n",
      "Running MCTS.\n"
     ]
    },
    {
     "name": "stderr",
     "output_type": "stream",
     "text": [
      "Action Values: [1.349343629343629, 3.3063909774436118, 1.1652631578947368]: 100%|██████████| 1000/1000 [00:42<00:00, 23.30it/s] "
     ]
    },
    {
     "name": "stdout",
     "output_type": "stream",
     "text": [
      "MCTS finished.\n",
      "Taking action: forward\n",
      "Current State: ((16, 16), 0)\n",
      "Episode return: 1\n"
     ]
    },
    {
     "name": "stderr",
     "output_type": "stream",
     "text": [
      "\n"
     ]
    }
   ],
   "source": [
    "\n",
    "env = FourRoomsEnvPos(agent_pos=(15, 9), goal_pos=(16,16))\n",
    "obs = env.reset(seed=42)\n",
    "\n",
    "done = False\n",
    "ep_r = 0\n",
    "while not done:\n",
    "    action, root = MCTS(obs, FourRoomsModel(), {\"iters\": 1000, \"sim_depth\": 20, \"discount\":0.8}).search()\n",
    "    \n",
    "    print(f\"Taking action: {action_map[action]}\")\n",
    "    obs, r, done, _ = env.step(action)\n",
    "    print(f\"Current State: {obs}\")\n",
    "    ep_r += r\n",
    "\n",
    "print(f\"Episode return: {ep_r}\")\n"
   ]
  },
  {
   "cell_type": "code",
   "execution_count": 67,
   "metadata": {},
   "outputs": [
    {
     "data": {
      "text/plain": [
       "(-0.5, 607.5, 607.5, -0.5)"
      ]
     },
     "execution_count": 67,
     "metadata": {},
     "output_type": "execute_result"
    },
    {
     "data": {
      "image/png": "[encoded data removed]",
      "text/plain": [
       "<Figure size 640x480 with 1 Axes>"
      ]
     },
     "metadata": {},
     "output_type": "display_data"
    }
   ],
   "source": [
    "plt.imshow(env.get_frame())\n",
    "plt.axis(\"off\")"
   ]
  },
  {
   "cell_type": "code",
   "execution_count": null,
   "metadata": {},
   "outputs": [],
   "source": []
  }
 ],
 "metadata": {
  "kernelspec": {
   "display_name": "Python 3.10.6 64-bit",
   "language": "python",
   "name": "python3"
  },
  "language_info": {
   "codemirror_mode": {
    "name": "ipython",
    "version": 3
   },
   "file_extension": ".py",
   "mimetype": "text/x-python",
   "name": "python",
   "nbconvert_exporter": "python",
   "pygments_lexer": "ipython3",
   "version": "3.10.6"
  },
  "orig_nbformat": 4,
  "vscode": {
   "interpreter": {
    "hash": "e7370f93d1d0cde622a1f8e1c04877d8463912d04d973331ad4851f04de6915a"
   }
  }
 },
 "nbformat": 4,
 "nbformat_minor": 2
}
