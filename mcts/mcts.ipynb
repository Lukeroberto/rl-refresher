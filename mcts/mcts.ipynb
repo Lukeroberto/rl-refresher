{
 "cells": [
  {
   "cell_type": "code",
   "execution_count": 1,
   "metadata": {},
   "outputs": [],
   "source": [
    "import gym\n",
    "from gym.spaces.utils import flatdim\n",
    "import numpy as np\n",
    "import matplotlib.pyplot as plt\n",
    "from tqdm import trange\n",
    "\n",
    "from copy import deepcopy"
   ]
  },
  {
   "cell_type": "code",
   "execution_count": 12,
   "metadata": {},
   "outputs": [],
   "source": [
    "class FrozenLakeModel:\n",
    "    def __init__(self, transitions):\n",
    "        self.model = transitions\n",
    "\n",
    "    def step(self, obs, action):\n",
    "        _, next_obs, r, done =  self.model[obs][action][0]\n",
    "        return next_obs, r, done, _\n",
    "    \n",
    "    def actions(self, obs):\n",
    "        return list(self.model[obs].keys())\n",
    "\n",
    "class Node:\n",
    "    def __init__(self, state, action=None):\n",
    "        self.state = state\n",
    "        self.action = action\n",
    "        self.reward = 0\n",
    "        self.done = False\n",
    "\n",
    "        self.parent = None\n",
    "        self.children = {}\n",
    "\n",
    "        self.value = 0.0\n",
    "        self.visits = 0\n",
    "    \n",
    "    def __repr__(self):\n",
    "        return f\"Node: (s:{self.state}, a:{self.action}, r:{self.reward}, d:{self.done})\"\n",
    "    \n",
    "    def update_stats(self, val):\n",
    "        self.visits += 1\n",
    "        self.value += (val - self.value) / float(self.visits)\n",
    "\n",
    "class MCTS:\n",
    "    def __init__(self, cur_state, model, hparams):\n",
    "        self.cur_state = cur_state\n",
    "        self.model = model\n",
    "        self.iters: int = hparams[\"iters\"]\n",
    "        self.discount = 0.99 \n",
    "        self.sim_depth = hparams.get(\"sim_depth\", 1000)\n",
    "    \n",
    "    def search(self):\n",
    "        root = Node(self.cur_state)\n",
    "        for i in range(self.iters):\n",
    "            next_node = self._treePolicy(root)\n",
    "            reward = self._rolloutPolicy(next_node)\n",
    "            self._backup(next_node, reward)\n",
    "        \n",
    "        return self._best_action(root), root\n",
    "\n",
    "    # \"Most Robust Child\" selection: http://www.incompleteideas.net/609%20dropbox/other%20readings%20and%20resources/MCTS-survey.pdf\n",
    "    def _best_action(self, root):\n",
    "        return max(root.children.values(), key = lambda child: child.visits).action\n",
    "\n",
    "    # Tree Policy explores current tree up to edge.\n",
    "    def _treePolicy(self, cur_node) -> Node:\n",
    "\n",
    "        next_node = cur_node\n",
    "        while not next_node.done:\n",
    "            if not self._expanded(next_node):\n",
    "                return self._expand(next_node)\n",
    "            else:\n",
    "                next_node = self._UCT(next_node)\n",
    "\n",
    "        return next_node\n",
    "\n",
    "    # Rollout policy performs random (or via some policy) rollouts til termination. Returns reward.\n",
    "    def _rolloutPolicy(self, node: Node) -> float:\n",
    "        \n",
    "        cur_node = node\n",
    "        done = False\n",
    "        cum_reward = node.reward\n",
    "        for _ in range(self.sim_depth):\n",
    "            action = np.random.choice(self.model.actions(cur_node.state))\n",
    "            next_obs, r, done, _ = self.model.step(cur_node.state, action) \n",
    "\n",
    "            cum_reward += r\n",
    "            if done:\n",
    "                break\n",
    "                \n",
    "            cur_node = Node(next_obs)\n",
    "        return cum_reward\n",
    "\n",
    "    def _UCT(self, node: Node) -> Node:\n",
    "        children: list[Node] = list(node.children.values())\n",
    "        weights = [child.value + 1.5 * np.sqrt(np.log(node.visits + 1e-6) / (child.visits + 1e-6)) for child in children]\n",
    "        weights = np.array(weights) / sum(weights)\n",
    "        return np.random.choice(children, p=weights)\n",
    "\n",
    "    def _expanded(self, node: Node) -> bool:\n",
    "        return set(self.model.actions(node.state)) == set(node.children.keys())\n",
    "\n",
    "    def _expand(self, node: Node) -> Node:\n",
    "\n",
    "        # Sample random action\n",
    "        actions = self.model.actions(node.state)\n",
    "        if (len(node.children.keys()) > 0):\n",
    "            for performed in list(node.children.keys()):\n",
    "                actions.remove(performed)\n",
    "\n",
    "        action = np.random.choice(actions)\n",
    "\n",
    "        next_obs, r, done, _ = self.model.step(node.state, action)\n",
    "\n",
    "        # Construct new node\n",
    "        next_node = Node(next_obs, action)\n",
    "        next_node.parent = node\n",
    "        next_node.reward = r\n",
    "        next_node.done = done\n",
    "\n",
    "        # Add to list of children\n",
    "        node.children[action] = next_node\n",
    "\n",
    "        return next_node\n",
    "\n",
    "\n",
    "\n",
    "    def _backup(self, node: Node, reward: float) -> None:\n",
    "        node.update_stats(reward)\n",
    "\n",
    "        while node.parent:\n",
    "            node = node.parent\n",
    "            node.update_stats(self.discount * reward)\n",
    "\n"
   ]
  },
  {
   "cell_type": "code",
   "execution_count": 3,
   "metadata": {},
   "outputs": [
    {
     "name": "stdout",
     "output_type": "stream",
     "text": [
      "  (Down)\n",
      "SFFF\n",
      "\u001b[41mF\u001b[0mHFH\n",
      "FFFH\n",
      "HFFG\n",
      "4 0.0 False\n",
      "  (Right)\n",
      "SFFF\n",
      "F\u001b[41mH\u001b[0mFH\n",
      "FFFH\n",
      "HFFG\n",
      "5 0.0 True\n",
      "Episode return: 0.0\n"
     ]
    }
   ],
   "source": [
    "env = gym.make(\"FrozenLake-v1\", is_slippery=False)\n",
    "model = FrozenLakeModel(env.P)\n",
    "obs = env.reset()\n",
    "\n",
    "action_map = {\n",
    "    0: \"LEFT\",\n",
    "    1: \"DOWN\", \n",
    "    2: \"RIGHT\",\n",
    "    3: \"UP\"\n",
    "}\n",
    "\n",
    "obs = env.reset()\n",
    "done = False\n",
    "ep_r = 0\n",
    "while not done:\n",
    "    action, values = MCTS(obs, model, {\"iters\": 1000}).search()\n",
    "    # print([(action_map[child.action], child.value) for child in values.children.values()])\n",
    "    # print(f\"Moving {action_map[action]}\")\n",
    "    obs, r, done, _ = env.step(action)\n",
    "    env.render()\n",
    "    \n",
    "    print(obs, r, done)\n",
    "\n",
    "    ep_r += r\n",
    "\n",
    "print(f\"Episode return: {ep_r}\")"
   ]
  },
  {
   "cell_type": "code",
   "execution_count": 191,
   "metadata": {},
   "outputs": [
    {
     "name": "stderr",
     "output_type": "stream",
     "text": [
      "100%|██████████| 64/64 [03:01<00:00,  2.84s/it]\n",
      "/tmp/ipykernel_15343/3360337900.py:10: RuntimeWarning: divide by zero encountered in log\n",
      "  plt.imshow(np.log(V.reshape(int(np.sqrt(nS)), int(np.sqrt(nS)))))\n"
     ]
    },
    {
     "data": {
      "image/png": "[encoded data removed]",
      "text/plain": [
       "<Figure size 640x480 with 1 Axes>"
      ]
     },
     "metadata": {},
     "output_type": "display_data"
    }
   ],
   "source": [
    "# MCTS estimated values in every state\n",
    "env = gym.make(\"FrozenLake-v1\", map_name=\"8x8\", is_slippery=False)\n",
    "model = FrozenLakeModel(env.P)\n",
    "nS = flatdim(env.observation_space)\n",
    "V = np.zeros(nS)\n",
    "for i in trange(env.observation_space.n):\n",
    "    _, values = MCTS(i, model, {\"iters\": 5000}).search()\n",
    "    V[i] = np.mean([child.value for child in values.children.values()])\n",
    "\n",
    "plt.imshow(np.log(V.reshape(int(np.sqrt(nS)), int(np.sqrt(nS)))))\n",
    "plt.title(\"Value function discovered by 5000 MCTS rollouts.\")\n",
    "plt.axis(\"off\")\n",
    "plt.savefig(\"./frozen-lake/value-5000\")"
   ]
  },
  {
   "cell_type": "code",
   "execution_count": 25,
   "metadata": {},
   "outputs": [
    {
     "data": {
      "image/png": "[encoded data removed]",
      "text/plain": [
       "<Figure size 640x480 with 1 Axes>"
      ]
     },
     "metadata": {},
     "output_type": "display_data"
    }
   ],
   "source": [
    "from minigrid.envs import FourRoomsEnv\n",
    "import matplotlib.pyplot as plt\n",
    "env = FourRoomsEnvPos(agent_pos=(2,2), goal_pos=(16,16))\n",
    "obs, _ = env.reset(seed=42)\n",
    "\n",
    "plt.imshow(env.get_frame())\n",
    "plt.axis(\"off\")\n",
    "plt.savefig(\"./four-rooms/env\")"
   ]
  },
  {
   "cell_type": "code",
   "execution_count": 36,
   "metadata": {},
   "outputs": [],
   "source": [
    "class FourRoomsModel:\n",
    "    def __init__(self, goal_pos=(16,16), seed=42):\n",
    "        self.goal_pos = goal_pos\n",
    "        self.seed = seed\n",
    "\n",
    "    def step(self, agent_pos, action) -> tuple[_, float]:\n",
    "        env = FourRoomsEnvPos(agent_pos=agent_pos, goal_pos=self.goal_pos)\n",
    "        env.reset(seed=self.seed)\n",
    "        return env.step(action)\n",
    "\n",
    "    def actions(self, obs) -> list[int]:\n",
    "        return list(range(env.action_space.n))\n",
    "\n",
    "class FourRoomsEnvPos(FourRoomsEnv):\n",
    "    def __init__(self, agent_pos=None, goal_pos=None, **kwargs):\n",
    "        super().__init__(agent_pos=agent_pos, goal_pos=goal_pos, **kwargs)\n",
    "        self.max_steps = 1000\n",
    "    \n",
    "    def step(self, action):\n",
    "        _, r, terminated, truncated, _ = super().step(action)\n",
    "        return self.agent_pos, r, terminated or truncated, _\n",
    "\n",
    "    def reset(self, seed=None):\n",
    "        obs, _ = super().reset(seed=seed)\n",
    "        return self.agent_pos\n",
    "\n",
    "\n",
    "action_map = {\n",
    "    0: \"left\",\n",
    "    1: \"right\",\n",
    "    2: \"forward\",\n",
    "    3: \"pickup\",\n",
    "    4: \"drop\",\n",
    "    5: \"toggle\",\n",
    "    6: \"done\" \n",
    "}"
   ]
  },
  {
   "cell_type": "code",
   "execution_count": 41,
   "metadata": {},
   "outputs": [
    {
     "name": "stdout",
     "output_type": "stream",
     "text": [
      "defaultdict(<function <lambda> at 0x7faf707b9120>, {(2, 2): 1512, (2, 3): 1154, (2, 4): 352, (2, 5): 52, (2, 6): 5})\n"
     ]
    },
    {
     "data": {
      "image/png": "[encoded data removed]",
      "text/plain": [
       "<Figure size 640x480 with 1 Axes>"
      ]
     },
     "metadata": {},
     "output_type": "display_data"
    }
   ],
   "source": [
    "from collections import defaultdict\n",
    "\n",
    "model = FourRoomsModel()\n",
    "env = FourRoomsEnvPos(agent_pos=(2,2), goal_pos=(16,16))\n",
    "\n",
    "obs = env.reset(seed=42)\n",
    "action, root = MCTS(obs, model, {\"iters\": 5000, \"sim_depth\": 10}).search()\n",
    "\n",
    "\n",
    "# Visualize visitation frequency\n",
    "def unpack(root: Node, visit_freqs=defaultdict(lambda: 0)):\n",
    "    if len(root.children.values()) == 0:\n",
    "        visit_freqs[root.state] += root.visits\n",
    "    \n",
    "    for child in root.children.values():\n",
    "        visit_freqs = unpack(child, visit_freqs)\n",
    "    \n",
    "    return visit_freqs\n",
    "\n",
    "\n",
    "freqs = unpack(root)\n",
    "print(freqs)\n",
    "grid = np.zeros((19, 19))\n",
    "\n",
    "for loc, visits in freqs.items():\n",
    "    grid[loc[1], loc[0]] = visits\n",
    "\n",
    "plt.imshow(grid)\n",
    "plt.title(\"Vistation frequencies for 5000 simulations at a depth of 10.\")\n",
    "plt.axis(\"off\")\n",
    "plt.savefig(\"./four-rooms/visits\")\n",
    "\n",
    "# done = False\n",
    "# ep_r = 0\n",
    "# while not done:\n",
    "#     action, values = MCTS(obs, model, {\"iters\": 50, \"sim_depth\": 200}).search()\n",
    "#     print([(action_map[child.action], child.value) for child in values.children.values()])\n",
    "#     print(f\"Moving {action_map[action]}\")\n",
    "#     obs, r, done, _ = env.step(action)\n",
    "#     # env.render()\n",
    "    \n",
    "#     print(obs, r, done)\n",
    "\n",
    "#     ep_r += r"
   ]
  },
  {
   "cell_type": "code",
   "execution_count": 40,
   "metadata": {},
   "outputs": [
    {
     "data": {
      "text/plain": [
       "3087"
      ]
     },
     "execution_count": 40,
     "metadata": {},
     "output_type": "execute_result"
    }
   ],
   "source": [
    "sum(list(freqs.values()))"
   ]
  },
  {
   "cell_type": "code",
   "execution_count": null,
   "metadata": {},
   "outputs": [],
   "source": []
  }
 ],
 "metadata": {
  "kernelspec": {
   "display_name": "Python 3.10.6 64-bit",
   "language": "python",
   "name": "python3"
  },
  "language_info": {
   "codemirror_mode": {
    "name": "ipython",
    "version": 3
   },
   "file_extension": ".py",
   "mimetype": "text/x-python",
   "name": "python",
   "nbconvert_exporter": "python",
   "pygments_lexer": "ipython3",
   "version": "3.10.6"
  },
  "orig_nbformat": 4,
  "vscode": {
   "interpreter": {
    "hash": "e7370f93d1d0cde622a1f8e1c04877d8463912d04d973331ad4851f04de6915a"
   }
  }
 },
 "nbformat": 4,
 "nbformat_minor": 2
}
