{
 "cells": [
  {
   "cell_type": "code",
   "execution_count": 1,
   "metadata": {},
   "outputs": [],
   "source": [
    "import gym\n",
    "from gym.spaces.utils import flatdim\n",
    "import numpy as np\n",
    "import matplotlib.pyplot as plt\n",
    "from tqdm import trange\n",
    "\n",
    "from minigrid.envs import FourRoomsEnv\n",
    "import matplotlib.pyplot as plt\n",
    "import graphviz\n",
    "from copy import deepcopy\n",
    "from collections import defaultdict"
   ]
  },
  {
   "cell_type": "code",
   "execution_count": 21,
   "metadata": {},
   "outputs": [],
   "source": [
    "\n",
    "class FrozenLakeModel:\n",
    "    def __init__(self, transitions):\n",
    "        self.model = transitions\n",
    "\n",
    "    def step(self, obs, action):\n",
    "        _, next_obs, r, done =  self.model[obs][action][0]\n",
    "        return next_obs, r, done, _\n",
    "    \n",
    "    def actions(self, obs):\n",
    "        return list(self.model[obs].keys())\n",
    "\n",
    "class Node:\n",
    "    def __init__(self, state, action=None):\n",
    "        self.state = state\n",
    "        self.action = action\n",
    "        self.reward = 0\n",
    "        self.done = False\n",
    "\n",
    "        self.parent = None\n",
    "        self.children = {}\n",
    "\n",
    "        self.value = 0.0\n",
    "        self.visits = 0\n",
    "    \n",
    "    def __repr__(self):\n",
    "        return f\"Node: (s:{self.state}, a:{self.action}, r:{self.reward}, d:{self.done})\"\n",
    "    \n",
    "    def update_stats(self, val):\n",
    "        self.visits += 1\n",
    "        self.value += (val - self.value) / float(self.visits)\n",
    "\n",
    "class MCTS:\n",
    "    def __init__(self, cur_state, model, hparams):\n",
    "        self.cur_state = cur_state\n",
    "        self.model = model\n",
    "        self.iters: int = hparams[\"iters\"]\n",
    "        self.discount = 0.99 \n",
    "        self.sim_depth = hparams.get(\"sim_depth\", 1000)\n",
    "    \n",
    "    def search(self):\n",
    "        root = Node(self.cur_state)\n",
    "        print(\"Running MCTS.\")\n",
    "        for i in trange(self.iters):\n",
    "            next_node = self._treePolicy(root)\n",
    "            reward = self._rolloutPolicy(next_node)\n",
    "            self._backup(next_node, reward)\n",
    "        \n",
    "        print(\"MCTS finished.\")\n",
    "        return self._best_action(root), root\n",
    "\n",
    "    # \"Most Robust Child\" selection: http://www.incompleteideas.net/609%20dropbox/other%20readings%20and%20resources/MCTS-survey.pdf\n",
    "    def _best_action(self, root):\n",
    "        return max(root.children.values(), key = lambda child: child.visits).action\n",
    "\n",
    "    # Tree Policy explores current tree up to edge.\n",
    "    def _treePolicy(self, cur_node) -> Node:\n",
    "\n",
    "        next_node = cur_node\n",
    "        while not next_node.done:\n",
    "            if not self._expanded(next_node):\n",
    "                return self._expand(next_node)\n",
    "            else:\n",
    "                next_node = self._UCT(next_node)\n",
    "\n",
    "        return next_node\n",
    "\n",
    "    # Rollout policy performs random (or via some policy) rollouts til termination. Returns reward.\n",
    "    def _rolloutPolicy(self, node: Node) -> float:\n",
    "        \n",
    "        cur_node = node\n",
    "        done = False\n",
    "        cum_reward = node.reward\n",
    "        for _ in range(self.sim_depth):\n",
    "            action = np.random.choice(self.model.actions(cur_node.state))\n",
    "            next_obs, r, done, _ = self.model.step(cur_node.state, action) \n",
    "\n",
    "            cum_reward += r\n",
    "            if done:\n",
    "                break\n",
    "                \n",
    "            cur_node = Node(next_obs)\n",
    "        return cum_reward\n",
    "\n",
    "    def _UCT(self, node: Node) -> Node:\n",
    "        children: list[Node] = list(node.children.values())\n",
    "        weights = [child.value + 1.5 * np.sqrt(np.log(node.visits + 1e-6) / (child.visits + 1e-6)) for child in children]\n",
    "        weights = np.array(weights) / sum(weights)\n",
    "        return np.random.choice(children, p=weights)\n",
    "\n",
    "    def _expanded(self, node: Node) -> bool:\n",
    "        return set(self.model.actions(node.state)) == set(node.children.keys())\n",
    "\n",
    "    def _expand(self, node: Node) -> Node:\n",
    "\n",
    "        # Sample random action\n",
    "        actions = self.model.actions(node.state)\n",
    "        if (len(node.children.keys()) > 0):\n",
    "            for performed in list(node.children.keys()):\n",
    "                actions.remove(performed)\n",
    "\n",
    "        action = np.random.choice(actions)\n",
    "\n",
    "        next_obs, r, done, _ = self.model.step(node.state, action)\n",
    "\n",
    "        # Construct new node\n",
    "        next_node = Node(next_obs, action)\n",
    "        next_node.parent = node\n",
    "        next_node.reward = r\n",
    "        next_node.done = done\n",
    "\n",
    "        # Add to list of children\n",
    "        node.children[action] = next_node\n",
    "\n",
    "        return next_node\n",
    "\n",
    "\n",
    "\n",
    "    def _backup(self, node: Node, reward: float) -> None:\n",
    "        node.update_stats(reward)\n",
    "\n",
    "        while node.parent:\n",
    "            node = node.parent\n",
    "            node.update_stats(self.discount * reward)\n",
    "\n",
    "# For viz purposes\n",
    "def unpack(root: Node, graph, ignore, action_map=None):\n",
    "    if (not root.parent):\n",
    "        graph.node(str(root.state))\n",
    "\n",
    "    if len(root.children.values()) == 0:\n",
    "        return graph\n",
    "    \n",
    "    for child in root.children.values():\n",
    "        if (not (str(root.state), str(child.state), child.action) in ignore):\n",
    "            graph.edge(str(root.state), str(child.state), label=str(child.action if not action_map else action_map[child.action]))\n",
    "            ignore.add((str(root.state), str(child.state), child.action))\n",
    "\n",
    "        graph = unpack(child, graph, ignore, action_map=action_map)\n",
    "    \n",
    "    return graph\n",
    "\n",
    "# Visualize visitation frequency\n",
    "def unpack_visits(root: Node, visit_freqs=defaultdict(lambda: 0)):\n",
    "    if len(root.children.values()) == 0:\n",
    "        visit_freqs[root.state] += root.visits\n",
    "    \n",
    "    for child in root.children.values():\n",
    "        visit_freqs = unpack_visits(child, visit_freqs)\n",
    "    \n",
    "    return visit_freqs"
   ]
  },
  {
   "cell_type": "code",
   "execution_count": 35,
   "metadata": {},
   "outputs": [
    {
     "name": "stdout",
     "output_type": "stream",
     "text": [
      "Running MCTS.\n"
     ]
    },
    {
     "name": "stderr",
     "output_type": "stream",
     "text": [
      "100%|██████████| 1000/1000 [00:00<00:00, 1912.39it/s]\n"
     ]
    },
    {
     "name": "stdout",
     "output_type": "stream",
     "text": [
      "MCTS finished.\n",
      "Running MCTS.\n"
     ]
    },
    {
     "name": "stderr",
     "output_type": "stream",
     "text": [
      "100%|██████████| 1000/1000 [00:00<00:00, 2588.23it/s]\n"
     ]
    },
    {
     "name": "stdout",
     "output_type": "stream",
     "text": [
      "MCTS finished.\n",
      "Running MCTS.\n"
     ]
    },
    {
     "name": "stderr",
     "output_type": "stream",
     "text": [
      "100%|██████████| 1000/1000 [00:00<00:00, 2537.79it/s]\n"
     ]
    },
    {
     "name": "stdout",
     "output_type": "stream",
     "text": [
      "MCTS finished.\n",
      "Running MCTS.\n"
     ]
    },
    {
     "name": "stderr",
     "output_type": "stream",
     "text": [
      "100%|██████████| 1000/1000 [00:00<00:00, 3668.38it/s]\n"
     ]
    },
    {
     "name": "stdout",
     "output_type": "stream",
     "text": [
      "MCTS finished.\n",
      "Running MCTS.\n"
     ]
    },
    {
     "name": "stderr",
     "output_type": "stream",
     "text": [
      "100%|██████████| 1000/1000 [00:00<00:00, 3208.78it/s]\n"
     ]
    },
    {
     "name": "stdout",
     "output_type": "stream",
     "text": [
      "MCTS finished.\n",
      "Running MCTS.\n"
     ]
    },
    {
     "name": "stderr",
     "output_type": "stream",
     "text": [
      "100%|██████████| 1000/1000 [00:00<00:00, 4600.42it/s]"
     ]
    },
    {
     "name": "stdout",
     "output_type": "stream",
     "text": [
      "MCTS finished.\n",
      "Episode return: 1.0\n"
     ]
    },
    {
     "name": "stderr",
     "output_type": "stream",
     "text": [
      "\n"
     ]
    }
   ],
   "source": [
    "env = gym.make(\"FrozenLake-v1\", is_slippery=False)\n",
    "model = FrozenLakeModel(env.P)\n",
    "obs = env.reset()\n",
    "\n",
    "action_map = {\n",
    "    0: \"LEFT\",\n",
    "    1: \"DOWN\", \n",
    "    2: \"RIGHT\",\n",
    "    3: \"UP\"\n",
    "}\n",
    "\n",
    "obs = env.reset()\n",
    "done = False\n",
    "ep_r = 0\n",
    "while not done:\n",
    "    action, values = MCTS(obs, model, {\"iters\": 1000}).search()\n",
    "    # print([(action_map[child.action], child.value) for child in values.children.values()])\n",
    "    # print(f\"Moving {action_map[action]}\")\n",
    "    obs, r, done, _ = env.step(action)\n",
    "    ep_r += r\n",
    "\n",
    "print(f\"Episode return: {ep_r}\")"
   ]
  },
  {
   "cell_type": "code",
   "execution_count": 36,
   "metadata": {},
   "outputs": [
    {
     "name": "stdout",
     "output_type": "stream",
     "text": [
      "Running MCTS.\n"
     ]
    },
    {
     "name": "stderr",
     "output_type": "stream",
     "text": [
      "100%|██████████| 5000/5000 [00:02<00:00, 2021.06it/s]\n"
     ]
    },
    {
     "name": "stdout",
     "output_type": "stream",
     "text": [
      "MCTS finished.\n"
     ]
    },
    {
     "data": {
      "text/plain": [
       "'frozen-lake/visit-tree.png'"
      ]
     },
     "execution_count": 36,
     "metadata": {},
     "output_type": "execute_result"
    }
   ],
   "source": [
    "obs = env.reset()\n",
    "action, root = MCTS(obs, model, {\"iters\": 5000}).search()\n",
    "graph = unpack(root, graphviz.Digraph(), set(), action_map=action_map)\n",
    "graph.render(\"./frozen-lake/visit-tree\", format=\"png\")"
   ]
  },
  {
   "cell_type": "code",
   "execution_count": 5,
   "metadata": {},
   "outputs": [
    {
     "name": "stderr",
     "output_type": "stream",
     "text": [
      "100%|██████████| 64/64 [00:02<00:00, 31.52it/s]\n",
      "/tmp/ipykernel_22483/1327094847.py:10: RuntimeWarning: divide by zero encountered in log\n",
      "  plt.imshow(np.log(V.reshape(int(np.sqrt(nS)), int(np.sqrt(nS)))))\n"
     ]
    },
    {
     "data": {
      "image/png": "[encoded data removed]",
      "text/plain": [
       "<Figure size 640x480 with 1 Axes>"
      ]
     },
     "metadata": {},
     "output_type": "display_data"
    }
   ],
   "source": [
    "# MCTS estimated values in every state\n",
    "env = gym.make(\"FrozenLake-v1\", map_name=\"8x8\", is_slippery=False)\n",
    "model = FrozenLakeModel(env.P)\n",
    "nS = flatdim(env.observation_space)\n",
    "V = np.zeros(nS)\n",
    "for i in trange(env.observation_space.n):\n",
    "    _, values = MCTS(i, model, {\"iters\": 100}).search()\n",
    "    V[i] = np.mean([child.value for child in values.children.values()])\n",
    "\n",
    "plt.imshow(np.log(V.reshape(int(np.sqrt(nS)), int(np.sqrt(nS)))))\n",
    "plt.title(\"Value function discovered by 5000 MCTS rollouts.\")\n",
    "plt.axis(\"off\")\n",
    "plt.savefig(\"./frozen-lake/value-5000\")"
   ]
  },
  {
   "cell_type": "code",
   "execution_count": 9,
   "metadata": {},
   "outputs": [],
   "source": [
    "class FourRoomsModel:\n",
    "    def __init__(self, goal_pos=(16,16), seed=42):\n",
    "        self.goal_pos = goal_pos\n",
    "        self.seed = seed\n",
    "\n",
    "    def step(self, agent_state, action) -> tuple[_, float]:\n",
    "        agent_pos, agent_dir = agent_state\n",
    "        env = FourRoomsEnvPos(agent_pos=agent_pos, goal_pos=self.goal_pos)\n",
    "        env.reset(seed=self.seed)\n",
    "        env.agent_dir = agent_dir\n",
    "        return env.step(action)\n",
    "\n",
    "    def actions(self, obs) -> list[int]:\n",
    "        return list(range(env.action_space.n))\n",
    "\n",
    "class FourRoomsEnvPos(FourRoomsEnv):\n",
    "    def __init__(self, agent_pos=None, goal_pos=None, **kwargs):\n",
    "        super().__init__(agent_pos=agent_pos, goal_pos=goal_pos, **kwargs)\n",
    "        self.max_steps = 1000\n",
    "    \n",
    "    def step(self, action):\n",
    "        _, r, terminated, truncated, _ = super().step(action)\n",
    "        return (self.agent_pos, self.agent_dir), r, terminated or truncated, _\n",
    "\n",
    "    def reset(self, seed=None):\n",
    "        obs, _ = super().reset(seed=seed)\n",
    "        return self.agent_pos, self.agent_dir\n",
    "\n",
    "\n",
    "action_map = {\n",
    "    0: \"left\",\n",
    "    1: \"right\",\n",
    "    2: \"forward\",\n",
    "    3: \"pickup\",\n",
    "    4: \"drop\",\n",
    "    5: \"toggle\",\n",
    "    6: \"done\" \n",
    "}"
   ]
  },
  {
   "cell_type": "code",
   "execution_count": 10,
   "metadata": {},
   "outputs": [
    {
     "data": {
      "image/png": "[encoded data removed]",
      "text/plain": [
       "<Figure size 640x480 with 1 Axes>"
      ]
     },
     "metadata": {},
     "output_type": "display_data"
    }
   ],
   "source": [
    "env = FourRoomsEnvPos(agent_pos=(2,2), goal_pos=(16,16))\n",
    "obs, _ = env.reset(seed=42)\n",
    "env.step(0)\n",
    "env.step(2)\n",
    "obs, _, _, _ = env.step(2)\n",
    "plt.imshow(env.get_frame())\n",
    "plt.axis(\"off\")\n",
    "plt.savefig(\"./four-rooms/env\")"
   ]
  },
  {
   "cell_type": "code",
   "execution_count": 29,
   "metadata": {},
   "outputs": [
    {
     "name": "stdout",
     "output_type": "stream",
     "text": [
      "Running MCTS.\n"
     ]
    },
    {
     "name": "stderr",
     "output_type": "stream",
     "text": [
      "100%|██████████| 10000/10000 [02:34<00:00, 64.73it/s]\n",
      "/tmp/ipykernel_22483/2656413646.py:14: RuntimeWarning: divide by zero encountered in log\n",
      "  grid = np.log(grid)\n"
     ]
    },
    {
     "name": "stdout",
     "output_type": "stream",
     "text": [
      "MCTS finished.\n",
      "defaultdict(<function <lambda> at 0x7f06683f95a0>, {((2, 5), 1): 287, ((2, 5), 2): 39, ((2, 4), 1): 1292, ((2, 4), 0): 267, ((2, 4), 3): 51, ((2, 3), 1): 3546, ((2, 3), 2): 1305, ((3, 3), 0): 269, ((2, 3), 0): 1180, ((2, 3), 3): 516, ((2, 2), 3): 2556, ((1, 3), 2): 305, ((2, 4), 2): 252, ((3, 3), 1): 58, ((3, 4), 0): 42, ((2, 5), 0): 29, ((3, 3), 3): 24, ((4, 3), 0): 14, ((1, 3), 3): 30, ((1, 3), 1): 62, ((1, 3), 0): 8, ((2, 2), 2): 3457, ((1, 4), 1): 8, ((1, 4), 2): 17, ((3, 5), 0): 7, ((2, 6), 1): 17, ((2, 5), 3): 7, ((2, 6), 0): 7, ((2, 2), 1): 4338, ((2, 2), 0): 3405, ((1, 2), 2): 1548, ((1, 2), 1): 321, ((1, 2), 0): 87, ((2, 1), 3): 571, ((2, 1), 0): 57, ((3, 2), 0): 1328, ((1, 2), 3): 248, ((1, 1), 3): 30, ((1, 1), 2): 14, ((1, 1), 0): 8, ((2, 1), 2): 42, ((2, 1), 1): 16, ((4, 2), 0): 243, ((3, 2), 3): 239, ((3, 2), 1): 281, ((4, 2), 3): 44, ((3, 1), 3): 22, ((3, 2), 2): 39, ((5, 2), 3): 8, ((5, 2), 1): 7, ((6, 2), 0): 7, ((4, 2), 1): 29, ((5, 2), 0): 14, ((3, 1), 2): 1, ((3, 1), 0): 1, ((4, 2), 2): 2, ((4, 1), 3): 1, ((2, 6), 2): 1, ((3, 3), 2): 1, ((5, 3), 0): 1})\n"
     ]
    },
    {
     "data": {
      "image/png": "[encoded data removed]",
      "text/plain": [
       "<Figure size 640x480 with 1 Axes>"
      ]
     },
     "metadata": {},
     "output_type": "display_data"
    }
   ],
   "source": [
    "model = FourRoomsModel()\n",
    "env = FourRoomsEnvPos(agent_pos=(2,2), goal_pos=(16,16))\n",
    "\n",
    "obs = env.reset(seed=42)\n",
    "action, root = MCTS(obs, model, {\"iters\": 10000, \"sim_depth\": 5}).search()\n",
    "\n",
    "freqs = unpack_visits(root)\n",
    "print(freqs)\n",
    "grid = np.zeros((19, 19))\n",
    "\n",
    "for loc, visits in freqs.items():\n",
    "    grid[loc[1], loc[0]] = visits\n",
    "\n",
    "grid = np.log(grid)\n",
    "grid[grid == -np.inf] = 0\n",
    "plt.imshow(grid)\n",
    "plt.title(\"Vistation frequencies in Four Rooms.\")\n",
    "plt.axis(\"off\")\n",
    "plt.savefig(\"./four-rooms/visits\")\n",
    "\n",
    "# unpack(root, graphviz.Digraph(), set(), action_map=action_map)"
   ]
  },
  {
   "cell_type": "code",
   "execution_count": 33,
   "metadata": {},
   "outputs": [
    {
     "data": {
      "text/plain": [
       "'four-rooms/visit-graph.png'"
      ]
     },
     "execution_count": 33,
     "metadata": {},
     "output_type": "execute_result"
    }
   ],
   "source": [
    "graph = unpack(root, graphviz.Digraph(), set(), action_map=action_map)\n",
    "graph.render(\"./four-rooms/visit-graph\", format=\"png\")"
   ]
  },
  {
   "cell_type": "code",
   "execution_count": null,
   "metadata": {},
   "outputs": [],
   "source": []
  }
 ],
 "metadata": {
  "kernelspec": {
   "display_name": "Python 3.10.6 64-bit",
   "language": "python",
   "name": "python3"
  },
  "language_info": {
   "codemirror_mode": {
    "name": "ipython",
    "version": 3
   },
   "file_extension": ".py",
   "mimetype": "text/x-python",
   "name": "python",
   "nbconvert_exporter": "python",
   "pygments_lexer": "ipython3",
   "version": "3.10.6"
  },
  "orig_nbformat": 4,
  "vscode": {
   "interpreter": {
    "hash": "e7370f93d1d0cde622a1f8e1c04877d8463912d04d973331ad4851f04de6915a"
   }
  }
 },
 "nbformat": 4,
 "nbformat_minor": 2
}
