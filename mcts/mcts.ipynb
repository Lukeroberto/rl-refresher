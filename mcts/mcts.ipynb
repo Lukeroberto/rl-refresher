{
 "cells": [
  {
   "cell_type": "code",
   "execution_count": 2,
   "metadata": {},
   "outputs": [
    {
     "name": "stderr",
     "output_type": "stream",
     "text": [
      "/home/luke/.local/lib/python3.10/site-packages/tqdm/auto.py:22: TqdmWarning: IProgress not found. Please update jupyter and ipywidgets. See https://ipywidgets.readthedocs.io/en/stable/user_install.html\n",
      "  from .autonotebook import tqdm as notebook_tqdm\n"
     ]
    }
   ],
   "source": [
    "import gym\n",
    "from gym.spaces.utils import flatdim\n",
    "import numpy as np\n",
    "import matplotlib.pyplot as plt\n",
    "# from tqdm import trange\n",
    "from tqdm.auto import tqdm  # notebook compatible\n",
    "from minigrid.envs import FourRoomsEnv\n",
    "import matplotlib.pyplot as plt\n",
    "import graphviz\n",
    "from copy import deepcopy\n",
    "from collections import defaultdict"
   ]
  },
  {
   "cell_type": "code",
   "execution_count": 49,
   "metadata": {},
   "outputs": [],
   "source": [
    "class FrozenLakeModel:\n",
    "    def __init__(self, transitions):\n",
    "        self.model = transitions\n",
    "\n",
    "    def step(self, obs, action):\n",
    "        _, next_obs, r, done =  self.model[obs][action][0]\n",
    "        return next_obs, r, done, _\n",
    "    \n",
    "    def actions(self, obs):\n",
    "        return list(self.model[obs].keys())\n",
    "\n",
    "class Node:\n",
    "    def __init__(self, state, action=None):\n",
    "        self.state = state\n",
    "        self.action = action\n",
    "        self.reward = 0\n",
    "        self.done = False\n",
    "\n",
    "        self.parent = None\n",
    "        self.children = {}\n",
    "\n",
    "        self.value = 0.0\n",
    "        self.visits = 0\n",
    "    \n",
    "    def __repr__(self):\n",
    "        return f\"Node: (s:{self.state}, a:{self.action}, r:{self.reward}, d:{self.done})\"\n",
    "    \n",
    "    def update_stats(self, val):\n",
    "        self.visits += 1\n",
    "        self.value += (val - self.value) / float(self.visits)\n",
    "\n",
    "class MCTS:\n",
    "    def __init__(self, cur_state, model, hparams):\n",
    "        self.cur_state = cur_state\n",
    "        self.model = model\n",
    "        self.iters: int = hparams[\"iters\"]\n",
    "        self.discount = hparams.get(\"discount\", 0.99) \n",
    "        self.sim_depth = hparams.get(\"sim_depth\", 1000)\n",
    "        self.rollout_heuristic = hparams.get(\"rollout_heuristic\", None)\n",
    "        self.expansion_heuristic = hparams.get(\"expansion_heuristic\", None)\n",
    "        self.dupes: dict[tuple, Node] = {}\n",
    "    \n",
    "    def search(self):\n",
    "        root = Node(self.cur_state)\n",
    "        print(\"Running MCTS.\")\n",
    "        pbar = tqdm(range(self.iters))\n",
    "        for i in pbar:\n",
    "            next_node = self._treePolicy(root)\n",
    "            reward = self._rolloutPolicy(next_node)\n",
    "            self._backup(next_node, reward)\n",
    "\n",
    "            pbar.set_description(f\"Action Values: {[child.value for child in root.children.values()]}\")\n",
    "        \n",
    "        print(\"MCTS finished.\")\n",
    "        return self._best_action(root), root\n",
    "\n",
    "    # \"Most Robust Child\" selection: http://www.incompleteideas.net/609%20dropbox/other%20readings%20and%20resources/MCTS-survey.pdf\n",
    "    def _best_action(self, root):\n",
    "        return max(root.children.values(), key = lambda child: child.visits).action\n",
    "\n",
    "    # Tree Policy explores current tree up to edge.\n",
    "    def _treePolicy(self, cur_node) -> Node:\n",
    "\n",
    "        next_node = cur_node\n",
    "        while not next_node.done:\n",
    "            if not self._expanded(next_node):\n",
    "                return self._expand(next_node)\n",
    "            else:\n",
    "                next_node = self._UCT(next_node)\n",
    "\n",
    "        return next_node\n",
    "\n",
    "    # Rollout policy performs random (or via some policy) rollouts til termination. Returns reward.\n",
    "    def _rolloutPolicy(self, node: Node) -> float:\n",
    "        \n",
    "        cur_node = node\n",
    "        done = False\n",
    "        cum_reward = node.reward\n",
    "        for _ in range(self.sim_depth):\n",
    "            if self.rollout_heuristic is not None:\n",
    "                action = np.random.choice(self.model.actions(cur_node.state), p=self.heuristic)\n",
    "            else:\n",
    "                action = np.random.choice(self.model.actions(cur_node.state))\n",
    "\n",
    "            next_obs, r, done, _ = self.model.step(cur_node.state, action) \n",
    "\n",
    "            cum_reward += r\n",
    "            if done:\n",
    "                break\n",
    "                \n",
    "            cur_node = Node(next_obs)\n",
    "        return cum_reward\n",
    "\n",
    "    def _UCT(self, node: Node) -> Node:\n",
    "        children: list[Node] = list(node.children.values())\n",
    "        weights = [child.value + 1.5 * np.sqrt(np.log(node.visits + 1e-6) / (child.visits + 1e-6)) for child in children]\n",
    "        weights = np.array(weights) / sum(weights)\n",
    "        return np.random.choice(children, p=weights)\n",
    "\n",
    "    def _expanded(self, node: Node) -> bool:\n",
    "        return set(self.model.actions(node.state)) == set(node.children.keys())\n",
    "\n",
    "    def _expand(self, node: Node) -> Node:\n",
    "\n",
    "        # Sample random action\n",
    "        actions = self.model.actions(node.state)\n",
    "        if (len(node.children.keys()) > 0):\n",
    "            for performed in list(node.children.keys()):\n",
    "                actions.remove(performed)\n",
    "\n",
    "        if(self.expansion_heuristic is not None):\n",
    "            available_probs = self.expansion_heuristic[actions]\n",
    "            normalize = sum(self.expansion_heuristic[actions])\n",
    "            modified_probs = available_probs/normalize if normalize > 0 else np.ones_like(available_probs) / sum(np.ones_like(available_probs))\n",
    "            action = np.random.choice(actions, p=modified_probs)\n",
    "        else: \n",
    "            action = np.random.choice(actions)\n",
    "\n",
    "        next_obs, r, done, _ = self.model.step(node.state, action)\n",
    "\n",
    "        # if next_obs in self.dupes:\n",
    "        #     return self.dupes[next_obs]\n",
    "\n",
    "        # Construct new node\n",
    "        next_node = Node(next_obs, action)\n",
    "        next_node.parent = node\n",
    "        next_node.reward = r\n",
    "        next_node.done = done\n",
    "\n",
    "        # Add to list of children\n",
    "        node.children[action] = next_node\n",
    "        self.dupes[next_obs] = next_node\n",
    "\n",
    "        return next_node\n",
    "\n",
    "\n",
    "\n",
    "    def _backup(self, node: Node, reward: float) -> None:\n",
    "        node.update_stats(reward)\n",
    "\n",
    "        while node.parent:\n",
    "            node = node.parent\n",
    "            node.update_stats(self.discount * reward)\n",
    "\n",
    "# For viz purposes\n",
    "def unpack(root: Node, graph, ignore, action_map=None):\n",
    "    if (not root.parent):\n",
    "        graph.node(str(root.state))\n",
    "\n",
    "    if len(root.children.values()) == 0:\n",
    "        return graph\n",
    "    \n",
    "    for child in root.children.values():\n",
    "        if (not (str(root.state), str(child.state), child.action) in ignore):\n",
    "            graph.edge(str(root.state), str(child.state), label=str(child.action if not action_map else action_map[child.action]))\n",
    "            ignore.add((str(root.state), str(child.state), child.action))\n",
    "\n",
    "        graph = unpack(child, graph, ignore, action_map=action_map)\n",
    "    \n",
    "    return graph\n",
    "\n",
    "# Visualize visitation frequency\n",
    "def unpack_visits(root: Node, visit_freqs=defaultdict(lambda: 0)):\n",
    "    if len(root.children.values()) == 0:\n",
    "        visit_freqs[root.state] += root.visits\n",
    "    \n",
    "    for child in root.children.values():\n",
    "        visit_freqs = unpack_visits(child, visit_freqs)\n",
    "    \n",
    "    return visit_freqs"
   ]
  },
  {
   "cell_type": "code",
   "execution_count": 50,
   "metadata": {},
   "outputs": [
    {
     "name": "stdout",
     "output_type": "stream",
     "text": [
      "Running MCTS.\n"
     ]
    },
    {
     "name": "stderr",
     "output_type": "stream",
     "text": [
      "Action Values: [0.007586206896551722, 0.01948818897637794, 0.020286885245901633, 0.016431535269709543]: 100%|██████████| 1000/1000 [00:01<00:00, 503.94it/s] \n"
     ]
    },
    {
     "name": "stdout",
     "output_type": "stream",
     "text": [
      "MCTS finished.\n",
      "Running MCTS.\n"
     ]
    },
    {
     "name": "stderr",
     "output_type": "stream",
     "text": [
      "Action Values: [0.0, 0.02302325581395349, 0.011556420233463031, 0.00767441860465116]: 100%|██████████| 1000/1000 [00:01<00:00, 548.38it/s]  \n"
     ]
    },
    {
     "name": "stdout",
     "output_type": "stream",
     "text": [
      "MCTS finished.\n",
      "Running MCTS.\n"
     ]
    },
    {
     "name": "stderr",
     "output_type": "stream",
     "text": [
      "Action Values: [0.0, 0.01889312977099235, 0.011927710843373485, 0.01603238866396761]: 100%|██████████| 1000/1000 [00:01<00:00, 563.30it/s]  \n"
     ]
    },
    {
     "name": "stdout",
     "output_type": "stream",
     "text": [
      "MCTS finished.\n",
      "Running MCTS.\n"
     ]
    },
    {
     "name": "stderr",
     "output_type": "stream",
     "text": [
      "Action Values: [0.004267241379310343, 0.008048780487804877, 0.01577689243027888, 0.02922509225092251]: 100%|██████████| 1000/1000 [00:01<00:00, 528.59it/s]  \n"
     ]
    },
    {
     "name": "stdout",
     "output_type": "stream",
     "text": [
      "MCTS finished.\n",
      "Running MCTS.\n"
     ]
    },
    {
     "name": "stderr",
     "output_type": "stream",
     "text": [
      "Action Values: [0.0, 0.02686046511627906, 0.07043478260869564, 0.015408560311284042]: 100%|██████████| 1000/1000 [00:01<00:00, 550.18it/s] \n"
     ]
    },
    {
     "name": "stdout",
     "output_type": "stream",
     "text": [
      "MCTS finished.\n",
      "Running MCTS.\n"
     ]
    },
    {
     "name": "stderr",
     "output_type": "stream",
     "text": [
      "Action Values: [0.0, 0.019038461538461535, 0.015468749999999995, 0.01146718146718147]: 100%|██████████| 1000/1000 [00:01<00:00, 525.49it/s] \n"
     ]
    },
    {
     "name": "stdout",
     "output_type": "stream",
     "text": [
      "MCTS finished.\n",
      "Running MCTS.\n"
     ]
    },
    {
     "name": "stderr",
     "output_type": "stream",
     "text": [
      "Action Values: [0.01685106382978723, 0.025666666666666667, 0.0, 0.011879999999999998]: 100%|██████████| 1000/1000 [00:01<00:00, 594.82it/s]\n"
     ]
    },
    {
     "name": "stdout",
     "output_type": "stream",
     "text": [
      "MCTS finished.\n",
      "Running MCTS.\n"
     ]
    },
    {
     "name": "stderr",
     "output_type": "stream",
     "text": [
      "Action Values: [0.0, 0.016431535269709547, 0.026450381679389297, 0.01941176470588234]: 100%|██████████| 1000/1000 [00:01<00:00, 598.08it/s]\n"
     ]
    },
    {
     "name": "stdout",
     "output_type": "stream",
     "text": [
      "MCTS finished.\n",
      "Running MCTS.\n"
     ]
    },
    {
     "name": "stderr",
     "output_type": "stream",
     "text": [
      "Action Values: [0.0, 0.015468750000000002, 0.0, 0.015000000000000008]: 100%|██████████| 1000/1000 [00:01<00:00, 626.78it/s]\n"
     ]
    },
    {
     "name": "stdout",
     "output_type": "stream",
     "text": [
      "MCTS finished.\n",
      "Running MCTS.\n"
     ]
    },
    {
     "name": "stderr",
     "output_type": "stream",
     "text": [
      "Action Values: [0.008319327731092436, 0.026150943396226416, 0.00825, 0.019260700389105056]: 100%|██████████| 1000/1000 [00:01<00:00, 523.25it/s]             \n"
     ]
    },
    {
     "name": "stdout",
     "output_type": "stream",
     "text": [
      "MCTS finished.\n",
      "Running MCTS.\n"
     ]
    },
    {
     "name": "stderr",
     "output_type": "stream",
     "text": [
      "Action Values: [0.0, 0.01523076923076923, 0.012172131147540989, 0.023023255813953487]: 100%|██████████| 1000/1000 [00:01<00:00, 589.19it/s] \n"
     ]
    },
    {
     "name": "stdout",
     "output_type": "stream",
     "text": [
      "MCTS finished.\n",
      "Running MCTS.\n"
     ]
    },
    {
     "name": "stderr",
     "output_type": "stream",
     "text": [
      "Action Values: [0.008148148148148146, 0.0, 0.008081632653061223, 0.032637362637362624]: 100%|██████████| 1000/1000 [00:01<00:00, 560.53it/s]\n"
     ]
    },
    {
     "name": "stdout",
     "output_type": "stream",
     "text": [
      "MCTS finished.\n",
      "Running MCTS.\n"
     ]
    },
    {
     "name": "stderr",
     "output_type": "stream",
     "text": [
      "Action Values: [0.011785714285714274, 0.018749999999999992, 0.0, 0.048888888888888864]: 100%|██████████| 1000/1000 [00:01<00:00, 507.46it/s]\n"
     ]
    },
    {
     "name": "stdout",
     "output_type": "stream",
     "text": [
      "MCTS finished.\n",
      "Running MCTS.\n"
     ]
    },
    {
     "name": "stderr",
     "output_type": "stream",
     "text": [
      "Action Values: [0.0, 0.004342105263157892, 0.019335937499999997, 0.007415730337078651]: 100%|██████████| 1000/1000 [00:01<00:00, 554.63it/s] \n"
     ]
    },
    {
     "name": "stdout",
     "output_type": "stream",
     "text": [
      "MCTS finished.\n",
      "Running MCTS.\n"
     ]
    },
    {
     "name": "stderr",
     "output_type": "stream",
     "text": [
      "Action Values: [0.007764705882352938, 0.004040816326530612, 0.020886075949367082, 0.015057034220532317]: 100%|██████████| 1000/1000 [00:01<00:00, 537.70it/s]\n"
     ]
    },
    {
     "name": "stdout",
     "output_type": "stream",
     "text": [
      "MCTS finished.\n",
      "Running MCTS.\n"
     ]
    },
    {
     "name": "stderr",
     "output_type": "stream",
     "text": [
      "Action Values: [0.02267175572519084, 0.025169491525423724, 0.0, 0.03549800796812749]: 100%|██████████| 1000/1000 [00:01<00:00, 593.17it/s] \n"
     ]
    },
    {
     "name": "stdout",
     "output_type": "stream",
     "text": [
      "MCTS finished.\n",
      "Running MCTS.\n"
     ]
    },
    {
     "name": "stderr",
     "output_type": "stream",
     "text": [
      "Action Values: [0.016363636363636358, 0.004177215189873418, 0.018265682656826553, 0.019799999999999995]: 100%|██████████| 1000/1000 [00:01<00:00, 543.09it/s]\n"
     ]
    },
    {
     "name": "stdout",
     "output_type": "stream",
     "text": [
      "MCTS finished.\n",
      "Running MCTS.\n"
     ]
    },
    {
     "name": "stderr",
     "output_type": "stream",
     "text": [
      "Action Values: [0.015172413793103443, 0.0, 0.015903614457831325, 0.00818181818181818]: 100%|██████████| 1000/1000 [00:01<00:00, 603.11it/s] \n"
     ]
    },
    {
     "name": "stdout",
     "output_type": "stream",
     "text": [
      "MCTS finished.\n",
      "Running MCTS.\n"
     ]
    },
    {
     "name": "stderr",
     "output_type": "stream",
     "text": [
      "Action Values: [0.007704280155642021, 0.007471698113207545, 0.008389830508474576, 0.024545454545454554]: 100%|██████████| 1000/1000 [00:01<00:00, 510.84it/s]\n"
     ]
    },
    {
     "name": "stdout",
     "output_type": "stream",
     "text": [
      "MCTS finished.\n",
      "Running MCTS.\n"
     ]
    },
    {
     "name": "stderr",
     "output_type": "stream",
     "text": [
      "Action Values: [0.00818181818181818, 0.012323651452282147, 0.003735849056603773, 0.011785714285714285]: 100%|██████████| 1000/1000 [00:01<00:00, 548.47it/s] \n"
     ]
    },
    {
     "name": "stdout",
     "output_type": "stream",
     "text": [
      "MCTS finished.\n",
      "Running MCTS.\n"
     ]
    },
    {
     "name": "stderr",
     "output_type": "stream",
     "text": [
      "Action Values: [0.012638297872340427, 0.012272727272727268, 0.022846153846153832, 0.011292775665399228]: 100%|██████████| 1000/1000 [00:01<00:00, 509.03it/s]\n"
     ]
    },
    {
     "name": "stdout",
     "output_type": "stream",
     "text": [
      "MCTS finished.\n",
      "Running MCTS.\n"
     ]
    },
    {
     "name": "stderr",
     "output_type": "stream",
     "text": [
      "Action Values: [0.016229508196721316, 0.01584, 0.011556420233463023, 0.015903614457831318]: 100%|██████████| 1000/1000 [00:01<00:00, 509.47it/s]            \n"
     ]
    },
    {
     "name": "stdout",
     "output_type": "stream",
     "text": [
      "MCTS finished.\n",
      "Running MCTS.\n"
     ]
    },
    {
     "name": "stderr",
     "output_type": "stream",
     "text": [
      "Action Values: [0.008534482758620688, 0.00776470588235294, 0.00792, 0.0]: 100%|██████████| 1000/1000 [00:01<00:00, 571.00it/s]              "
     ]
    },
    {
     "name": "stdout",
     "output_type": "stream",
     "text": [
      "MCTS finished.\n",
      "Episode return: 0.0\n"
     ]
    },
    {
     "name": "stderr",
     "output_type": "stream",
     "text": [
      "\n"
     ]
    }
   ],
   "source": [
    "env = gym.make(\"FrozenLake-v1\", is_slippery=False)\n",
    "model = FrozenLakeModel(env.P)\n",
    "obs = env.reset()\n",
    "\n",
    "action_map = {\n",
    "    0: \"LEFT\",\n",
    "    1: \"DOWN\", \n",
    "    2: \"RIGHT\",\n",
    "    3: \"UP\"\n",
    "}\n",
    "\n",
    "obs = env.reset()\n",
    "done = False\n",
    "ep_r = 0\n",
    "while not done:\n",
    "    action, values = MCTS(obs, model, {\"iters\": 1000}).search()\n",
    "    # print([(action_map[child.action], child.value) for child in values.children.values()])\n",
    "    # print(f\"Moving {action_map[action]}\")\n",
    "    obs, r, done, _ = env.step(action)\n",
    "    ep_r += r\n",
    "\n",
    "print(f\"Episode return: {ep_r}\")"
   ]
  },
  {
   "cell_type": "code",
   "execution_count": 8,
   "metadata": {},
   "outputs": [
    {
     "name": "stdout",
     "output_type": "stream",
     "text": [
      "Running MCTS.\n"
     ]
    },
    {
     "name": "stderr",
     "output_type": "stream",
     "text": [
      "100%|██████████| 5000/5000 [00:01<00:00, 3188.57it/s]\n"
     ]
    },
    {
     "name": "stdout",
     "output_type": "stream",
     "text": [
      "MCTS finished.\n"
     ]
    },
    {
     "data": {
      "image/svg+xml": "<?xml version=\"1.0\" encoding=\"UTF-8\" standalone=\"no\"?>\n<!DOCTYPE svg PUBLIC \"-//W3C//DTD SVG 1.1//EN\"\n \"http://www.w3.org/Graphics/SVG/1.1/DTD/svg11.dtd\">\n<!-- Generated by graphviz version 2.43.0 (0)\n -->\n<!-- Title: %3 Pages: 1 -->\n<svg width=\"716pt\" height=\"740pt\"\n viewBox=\"0.00 0.00 716.00 740.00\" xmlns=\"http://www.w3.org/2000/svg\" xmlns:xlink=\"http://www.w3.org/1999/xlink\">\n<g id=\"graph0\" class=\"graph\" transform=\"scale(1 1) rotate(0) translate(4 736)\">\n<title>%3</title>\n<polygon fill=\"white\" stroke=\"transparent\" points=\"-4,4 -4,-736 712,-736 712,4 -4,4\"/>\n<!-- 0 -->\n<g id=\"node1\" class=\"node\">\n<title>0</title>\n<ellipse fill=\"none\" stroke=\"black\" cx=\"584\" cy=\"-714\" rx=\"27\" ry=\"18\"/>\n<text text-anchor=\"middle\" x=\"584\" y=\"-710.3\" font-family=\"Times,serif\" font-size=\"14.00\">0</text>\n</g>\n<!-- 0&#45;&gt;0 -->\n<g id=\"edge1\" class=\"edge\">\n<title>0&#45;&gt;0</title>\n<path fill=\"none\" stroke=\"black\" d=\"M610.79,-717.93C620.78,-718.06 629,-716.75 629,-714 629,-712.28 625.79,-711.13 620.94,-710.53\"/>\n<polygon fill=\"black\" stroke=\"black\" points=\"620.94,-707.03 610.79,-710.07 620.63,-714.02 620.94,-707.03\"/>\n<text text-anchor=\"middle\" x=\"640\" y=\"-710.3\" font-family=\"Times,serif\" font-size=\"14.00\">UP</text>\n</g>\n<!-- 0&#45;&gt;0 -->\n<g id=\"edge2\" class=\"edge\">\n<title>0&#45;&gt;0</title>\n<path fill=\"none\" stroke=\"black\" d=\"M609.19,-720.81C629.5,-723.45 651,-721.18 651,-714 651,-708 635.98,-705.43 619.19,-706.29\"/>\n<polygon fill=\"black\" stroke=\"black\" points=\"618.84,-702.8 609.19,-707.19 619.47,-709.77 618.84,-702.8\"/>\n<text text-anchor=\"middle\" x=\"670.5\" y=\"-710.3\" font-family=\"Times,serif\" font-size=\"14.00\">LEFT</text>\n</g>\n<!-- 1 -->\n<g id=\"node2\" class=\"node\">\n<title>1</title>\n<ellipse fill=\"none\" stroke=\"black\" cx=\"485\" cy=\"-627\" rx=\"27\" ry=\"18\"/>\n<text text-anchor=\"middle\" x=\"485\" y=\"-623.3\" font-family=\"Times,serif\" font-size=\"14.00\">1</text>\n</g>\n<!-- 0&#45;&gt;1 -->\n<g id=\"edge3\" class=\"edge\">\n<title>0&#45;&gt;1</title>\n<path fill=\"none\" stroke=\"black\" d=\"M557.02,-711.46C534,-708.55 502.15,-700.43 486,-678 481.27,-671.43 479.86,-663.02 479.96,-654.98\"/>\n<polygon fill=\"black\" stroke=\"black\" points=\"483.47,-655.07 480.83,-644.81 476.49,-654.48 483.47,-655.07\"/>\n<text text-anchor=\"middle\" x=\"510.5\" y=\"-666.8\" font-family=\"Times,serif\" font-size=\"14.00\">RIGHT</text>\n</g>\n<!-- 4 -->\n<g id=\"node5\" class=\"node\">\n<title>4</title>\n<ellipse fill=\"none\" stroke=\"black\" cx=\"599\" cy=\"-105\" rx=\"27\" ry=\"18\"/>\n<text text-anchor=\"middle\" x=\"599\" y=\"-101.3\" font-family=\"Times,serif\" font-size=\"14.00\">4</text>\n</g>\n<!-- 0&#45;&gt;4 -->\n<g id=\"edge8\" class=\"edge\">\n<title>0&#45;&gt;4</title>\n<path fill=\"none\" stroke=\"black\" d=\"M592.39,-696.87C600.32,-680.12 611,-652.93 611,-628 611,-628 611,-628 611,-191 611,-171.44 607.85,-149.59 604.77,-132.95\"/>\n<polygon fill=\"black\" stroke=\"black\" points=\"608.15,-131.98 602.8,-122.83 601.28,-133.32 608.15,-131.98\"/>\n<text text-anchor=\"middle\" x=\"635.5\" y=\"-405.8\" font-family=\"Times,serif\" font-size=\"14.00\">DOWN</text>\n</g>\n<!-- 1&#45;&gt;0 -->\n<g id=\"edge7\" class=\"edge\">\n<title>1&#45;&gt;0</title>\n<path fill=\"none\" stroke=\"black\" d=\"M504.13,-640.18C513.71,-646.57 525.3,-654.78 535,-663 544.9,-671.39 555.06,-681.47 563.54,-690.38\"/>\n<polygon fill=\"black\" stroke=\"black\" points=\"561.13,-692.93 570.52,-697.84 566.24,-688.14 561.13,-692.93\"/>\n<text text-anchor=\"middle\" x=\"569.5\" y=\"-666.8\" font-family=\"Times,serif\" font-size=\"14.00\">LEFT</text>\n</g>\n<!-- 1&#45;&gt;1 -->\n<g id=\"edge4\" class=\"edge\">\n<title>1&#45;&gt;1</title>\n<path fill=\"none\" stroke=\"black\" d=\"M509.53,-634.75C520.51,-635.49 530,-632.91 530,-627 530,-623.03 525.72,-620.56 519.57,-619.59\"/>\n<polygon fill=\"black\" stroke=\"black\" points=\"519.65,-616.09 509.53,-619.25 519.41,-623.09 519.65,-616.09\"/>\n<text text-anchor=\"middle\" x=\"541\" y=\"-623.3\" font-family=\"Times,serif\" font-size=\"14.00\">UP</text>\n</g>\n<!-- 2 -->\n<g id=\"node3\" class=\"node\">\n<title>2</title>\n<ellipse fill=\"none\" stroke=\"black\" cx=\"431\" cy=\"-540\" rx=\"27\" ry=\"18\"/>\n<text text-anchor=\"middle\" x=\"431\" y=\"-536.3\" font-family=\"Times,serif\" font-size=\"14.00\">2</text>\n</g>\n<!-- 1&#45;&gt;2 -->\n<g id=\"edge5\" class=\"edge\">\n<title>1&#45;&gt;2</title>\n<path fill=\"none\" stroke=\"black\" d=\"M460.61,-619C446.96,-613.69 431.1,-604.88 423,-591 418.82,-583.85 418.81,-575.19 420.45,-567.1\"/>\n<polygon fill=\"black\" stroke=\"black\" points=\"423.86,-567.89 423.23,-557.31 417.13,-565.97 423.86,-567.89\"/>\n<text text-anchor=\"middle\" x=\"447.5\" y=\"-579.8\" font-family=\"Times,serif\" font-size=\"14.00\">RIGHT</text>\n</g>\n<!-- 5 -->\n<g id=\"node4\" class=\"node\">\n<title>5</title>\n<ellipse fill=\"none\" stroke=\"black\" cx=\"431\" cy=\"-18\" rx=\"27\" ry=\"18\"/>\n<text text-anchor=\"middle\" x=\"431\" y=\"-14.3\" font-family=\"Times,serif\" font-size=\"14.00\">5</text>\n</g>\n<!-- 1&#45;&gt;5 -->\n<g id=\"edge6\" class=\"edge\">\n<title>1&#45;&gt;5</title>\n<path fill=\"none\" stroke=\"black\" d=\"M458.23,-624.17C356.56,-616.87 0,-587.91 0,-541 0,-541 0,-541 0,-104 0,-53.51 53.49,-68 102,-54 204.78,-24.35 332.12,-19.32 393.91,-18.77\"/>\n<polygon fill=\"black\" stroke=\"black\" points=\"393.97,-22.27 403.95,-18.72 393.94,-15.27 393.97,-22.27\"/>\n<text text-anchor=\"middle\" x=\"24.5\" y=\"-318.8\" font-family=\"Times,serif\" font-size=\"14.00\">DOWN</text>\n</g>\n<!-- 2&#45;&gt;1 -->\n<g id=\"edge19\" class=\"edge\">\n<title>2&#45;&gt;1</title>\n<path fill=\"none\" stroke=\"black\" d=\"M450.04,-553.33C457.9,-559.31 466.44,-567.12 472,-576 476.3,-582.87 479.19,-591.12 481.12,-598.93\"/>\n<polygon fill=\"black\" stroke=\"black\" points=\"477.7,-599.68 483.15,-608.77 484.56,-598.27 477.7,-599.68\"/>\n<text text-anchor=\"middle\" x=\"498.5\" y=\"-579.8\" font-family=\"Times,serif\" font-size=\"14.00\">LEFT</text>\n</g>\n<!-- 2&#45;&gt;2 -->\n<g id=\"edge26\" class=\"edge\">\n<title>2&#45;&gt;2</title>\n<path fill=\"none\" stroke=\"black\" d=\"M455.53,-547.75C466.51,-548.49 476,-545.91 476,-540 476,-536.03 471.72,-533.56 465.57,-532.59\"/>\n<polygon fill=\"black\" stroke=\"black\" points=\"465.65,-529.09 455.53,-532.25 465.41,-536.09 465.65,-529.09\"/>\n<text text-anchor=\"middle\" x=\"487\" y=\"-536.3\" font-family=\"Times,serif\" font-size=\"14.00\">UP</text>\n</g>\n<!-- 3 -->\n<g id=\"node9\" class=\"node\">\n<title>3</title>\n<ellipse fill=\"none\" stroke=\"black\" cx=\"449\" cy=\"-453\" rx=\"27\" ry=\"18\"/>\n<text text-anchor=\"middle\" x=\"449\" y=\"-449.3\" font-family=\"Times,serif\" font-size=\"14.00\">3</text>\n</g>\n<!-- 2&#45;&gt;3 -->\n<g id=\"edge17\" class=\"edge\">\n<title>2&#45;&gt;3</title>\n<path fill=\"none\" stroke=\"black\" d=\"M434.64,-521.8C437.12,-510.09 440.46,-494.34 443.29,-480.97\"/>\n<polygon fill=\"black\" stroke=\"black\" points=\"446.78,-481.39 445.42,-470.89 439.93,-479.94 446.78,-481.39\"/>\n<text text-anchor=\"middle\" x=\"466.5\" y=\"-492.8\" font-family=\"Times,serif\" font-size=\"14.00\">RIGHT</text>\n</g>\n<!-- 6 -->\n<g id=\"node10\" class=\"node\">\n<title>6</title>\n<ellipse fill=\"none\" stroke=\"black\" cx=\"377\" cy=\"-453\" rx=\"27\" ry=\"18\"/>\n<text text-anchor=\"middle\" x=\"377\" y=\"-449.3\" font-family=\"Times,serif\" font-size=\"14.00\">6</text>\n</g>\n<!-- 2&#45;&gt;6 -->\n<g id=\"edge18\" class=\"edge\">\n<title>2&#45;&gt;6</title>\n<path fill=\"none\" stroke=\"black\" d=\"M410.68,-527.86C401.74,-521.93 391.94,-513.82 386,-504 381.92,-497.25 379.59,-489.12 378.29,-481.4\"/>\n<polygon fill=\"black\" stroke=\"black\" points=\"381.74,-480.8 377.08,-471.28 374.79,-481.63 381.74,-480.8\"/>\n<text text-anchor=\"middle\" x=\"410.5\" y=\"-492.8\" font-family=\"Times,serif\" font-size=\"14.00\">DOWN</text>\n</g>\n<!-- 4&#45;&gt;0 -->\n<g id=\"edge11\" class=\"edge\">\n<title>4&#45;&gt;0</title>\n<path fill=\"none\" stroke=\"black\" d=\"M620.63,-116.16C645.52,-129.52 683,-155.52 683,-191 683,-628 683,-628 683,-628 683,-663.62 645.66,-687.55 616.84,-700.71\"/>\n<polygon fill=\"black\" stroke=\"black\" points=\"615.25,-697.58 607.46,-704.76 618.03,-704.01 615.25,-697.58\"/>\n<text text-anchor=\"middle\" x=\"694\" y=\"-405.8\" font-family=\"Times,serif\" font-size=\"14.00\">UP</text>\n</g>\n<!-- 4&#45;&gt;5 -->\n<g id=\"edge13\" class=\"edge\">\n<title>4&#45;&gt;5</title>\n<path fill=\"none\" stroke=\"black\" d=\"M589.49,-87.78C582.2,-76.72 571.18,-62.57 558,-54 530.66,-36.23 494.38,-27.39 467.6,-23.06\"/>\n<polygon fill=\"black\" stroke=\"black\" points=\"467.89,-19.56 457.48,-21.56 466.86,-26.49 467.89,-19.56\"/>\n<text text-anchor=\"middle\" x=\"597.5\" y=\"-57.8\" font-family=\"Times,serif\" font-size=\"14.00\">RIGHT</text>\n</g>\n<!-- 4&#45;&gt;4 -->\n<g id=\"edge10\" class=\"edge\">\n<title>4&#45;&gt;4</title>\n<path fill=\"none\" stroke=\"black\" d=\"M623.53,-112.75C634.51,-113.49 644,-110.91 644,-105 644,-101.03 639.72,-98.56 633.57,-97.59\"/>\n<polygon fill=\"black\" stroke=\"black\" points=\"633.65,-94.09 623.53,-97.25 633.41,-101.09 633.65,-94.09\"/>\n<text text-anchor=\"middle\" x=\"663.5\" y=\"-101.3\" font-family=\"Times,serif\" font-size=\"14.00\">LEFT</text>\n</g>\n<!-- 8 -->\n<g id=\"node6\" class=\"node\">\n<title>8</title>\n<ellipse fill=\"none\" stroke=\"black\" cx=\"423\" cy=\"-192\" rx=\"27\" ry=\"18\"/>\n<text text-anchor=\"middle\" x=\"423\" y=\"-188.3\" font-family=\"Times,serif\" font-size=\"14.00\">8</text>\n</g>\n<!-- 4&#45;&gt;8 -->\n<g id=\"edge9\" class=\"edge\">\n<title>4&#45;&gt;8</title>\n<path fill=\"none\" stroke=\"black\" d=\"M577.69,-116.29C546.73,-131.24 489.13,-159.06 453.62,-176.21\"/>\n<polygon fill=\"black\" stroke=\"black\" points=\"451.71,-173.25 444.23,-180.75 454.76,-179.55 451.71,-173.25\"/>\n<text text-anchor=\"middle\" x=\"545.5\" y=\"-144.8\" font-family=\"Times,serif\" font-size=\"14.00\">DOWN</text>\n</g>\n<!-- 8&#45;&gt;4 -->\n<g id=\"edge15\" class=\"edge\">\n<title>8&#45;&gt;4</title>\n<path fill=\"none\" stroke=\"black\" d=\"M435.17,-175.81C444.86,-164.67 459.35,-149.97 475,-141 502.29,-125.36 537.02,-116.34 562.77,-111.39\"/>\n<polygon fill=\"black\" stroke=\"black\" points=\"563.65,-114.79 572.87,-109.57 562.4,-107.9 563.65,-114.79\"/>\n<text text-anchor=\"middle\" x=\"486\" y=\"-144.8\" font-family=\"Times,serif\" font-size=\"14.00\">UP</text>\n</g>\n<!-- 8&#45;&gt;8 -->\n<g id=\"edge16\" class=\"edge\">\n<title>8&#45;&gt;8</title>\n<path fill=\"none\" stroke=\"black\" d=\"M447.53,-199.75C458.51,-200.49 468,-197.91 468,-192 468,-188.03 463.72,-185.56 457.57,-184.59\"/>\n<polygon fill=\"black\" stroke=\"black\" points=\"457.65,-181.09 447.53,-184.25 457.41,-188.09 457.65,-181.09\"/>\n<text text-anchor=\"middle\" x=\"487.5\" y=\"-188.3\" font-family=\"Times,serif\" font-size=\"14.00\">LEFT</text>\n</g>\n<!-- 12 -->\n<g id=\"node7\" class=\"node\">\n<title>12</title>\n<ellipse fill=\"none\" stroke=\"black\" cx=\"260\" cy=\"-105\" rx=\"27\" ry=\"18\"/>\n<text text-anchor=\"middle\" x=\"260\" y=\"-101.3\" font-family=\"Times,serif\" font-size=\"14.00\">12</text>\n</g>\n<!-- 8&#45;&gt;12 -->\n<g id=\"edge12\" class=\"edge\">\n<title>8&#45;&gt;12</title>\n<path fill=\"none\" stroke=\"black\" d=\"M403.21,-179.54C391.69,-172.8 376.94,-164.05 364,-156 353.64,-149.55 351.75,-146.77 341,-141 325.39,-132.62 307.35,-124.66 292.26,-118.46\"/>\n<polygon fill=\"black\" stroke=\"black\" points=\"293.41,-115.15 282.83,-114.66 290.79,-121.64 293.41,-115.15\"/>\n<text text-anchor=\"middle\" x=\"388.5\" y=\"-144.8\" font-family=\"Times,serif\" font-size=\"14.00\">DOWN</text>\n</g>\n<!-- 9 -->\n<g id=\"node8\" class=\"node\">\n<title>9</title>\n<ellipse fill=\"none\" stroke=\"black\" cx=\"311\" cy=\"-279\" rx=\"27\" ry=\"18\"/>\n<text text-anchor=\"middle\" x=\"311\" y=\"-275.3\" font-family=\"Times,serif\" font-size=\"14.00\">9</text>\n</g>\n<!-- 8&#45;&gt;9 -->\n<g id=\"edge14\" class=\"edge\">\n<title>8&#45;&gt;9</title>\n<path fill=\"none\" stroke=\"black\" d=\"M399.82,-201.47C385.2,-207.5 366.42,-216.55 352,-228 342.81,-235.3 334.28,-244.98 327.41,-253.88\"/>\n<polygon fill=\"black\" stroke=\"black\" points=\"324.49,-251.94 321.37,-262.06 330.12,-256.1 324.49,-251.94\"/>\n<text text-anchor=\"middle\" x=\"376.5\" y=\"-231.8\" font-family=\"Times,serif\" font-size=\"14.00\">RIGHT</text>\n</g>\n<!-- 9&#45;&gt;5 -->\n<g id=\"edge28\" class=\"edge\">\n<title>9&#45;&gt;5</title>\n<path fill=\"none\" stroke=\"black\" d=\"M307.71,-260.74C303.41,-233.93 298.26,-181.2 315,-141 333.54,-96.5 376.34,-58.7 404.45,-37.44\"/>\n<polygon fill=\"black\" stroke=\"black\" points=\"406.68,-40.13 412.65,-31.38 402.53,-34.5 406.68,-40.13\"/>\n<text text-anchor=\"middle\" x=\"326\" y=\"-144.8\" font-family=\"Times,serif\" font-size=\"14.00\">UP</text>\n</g>\n<!-- 9&#45;&gt;8 -->\n<g id=\"edge30\" class=\"edge\">\n<title>9&#45;&gt;8</title>\n<path fill=\"none\" stroke=\"black\" d=\"M332.13,-267.51C336.97,-265.25 342.12,-262.96 347,-261 370.48,-251.58 382.3,-260.04 401,-243 407.85,-236.76 412.68,-227.99 416.03,-219.54\"/>\n<polygon fill=\"black\" stroke=\"black\" points=\"419.39,-220.53 419.31,-209.93 412.77,-218.26 419.39,-220.53\"/>\n<text text-anchor=\"middle\" x=\"431.5\" y=\"-231.8\" font-family=\"Times,serif\" font-size=\"14.00\">LEFT</text>\n</g>\n<!-- 10 -->\n<g id=\"node11\" class=\"node\">\n<title>10</title>\n<ellipse fill=\"none\" stroke=\"black\" cx=\"305\" cy=\"-366\" rx=\"27\" ry=\"18\"/>\n<text text-anchor=\"middle\" x=\"305\" y=\"-362.3\" font-family=\"Times,serif\" font-size=\"14.00\">10</text>\n</g>\n<!-- 9&#45;&gt;10 -->\n<g id=\"edge29\" class=\"edge\">\n<title>9&#45;&gt;10</title>\n<path fill=\"none\" stroke=\"black\" d=\"M309.79,-297.18C308.97,-308.81 307.86,-324.42 306.92,-337.73\"/>\n<polygon fill=\"black\" stroke=\"black\" points=\"303.43,-337.58 306.21,-347.8 310.41,-338.07 303.43,-337.58\"/>\n<text text-anchor=\"middle\" x=\"333.5\" y=\"-318.8\" font-family=\"Times,serif\" font-size=\"14.00\">RIGHT</text>\n</g>\n<!-- 13 -->\n<g id=\"node13\" class=\"node\">\n<title>13</title>\n<ellipse fill=\"none\" stroke=\"black\" cx=\"196\" cy=\"-192\" rx=\"27\" ry=\"18\"/>\n<text text-anchor=\"middle\" x=\"196\" y=\"-188.3\" font-family=\"Times,serif\" font-size=\"14.00\">13</text>\n</g>\n<!-- 9&#45;&gt;13 -->\n<g id=\"edge27\" class=\"edge\">\n<title>9&#45;&gt;13</title>\n<path fill=\"none\" stroke=\"black\" d=\"M283.96,-276.16C260.25,-273.07 226.59,-264.84 207,-243 201.41,-236.77 198.44,-228.35 196.93,-220.2\"/>\n<polygon fill=\"black\" stroke=\"black\" points=\"200.39,-219.7 195.69,-210.2 193.44,-220.56 200.39,-219.7\"/>\n<text text-anchor=\"middle\" x=\"231.5\" y=\"-231.8\" font-family=\"Times,serif\" font-size=\"14.00\">DOWN</text>\n</g>\n<!-- 3&#45;&gt;2 -->\n<g id=\"edge25\" class=\"edge\">\n<title>3&#45;&gt;2</title>\n<path fill=\"none\" stroke=\"black\" d=\"M470.13,-464.42C486.21,-473.84 504.14,-488.58 495,-504 488.39,-515.15 476.84,-522.98 465.35,-528.36\"/>\n<polygon fill=\"black\" stroke=\"black\" points=\"463.71,-525.25 455.82,-532.32 466.4,-531.71 463.71,-525.25\"/>\n<text text-anchor=\"middle\" x=\"517.5\" y=\"-492.8\" font-family=\"Times,serif\" font-size=\"14.00\">LEFT</text>\n</g>\n<!-- 3&#45;&gt;3 -->\n<g id=\"edge24\" class=\"edge\">\n<title>3&#45;&gt;3</title>\n<path fill=\"none\" stroke=\"black\" d=\"M475.79,-456.93C485.78,-457.06 494,-455.75 494,-453 494,-451.28 490.79,-450.13 485.94,-449.53\"/>\n<polygon fill=\"black\" stroke=\"black\" points=\"485.94,-446.03 475.79,-449.07 485.63,-453.02 485.94,-446.03\"/>\n<text text-anchor=\"middle\" x=\"505\" y=\"-449.3\" font-family=\"Times,serif\" font-size=\"14.00\">UP</text>\n</g>\n<!-- 3&#45;&gt;3 -->\n<g id=\"edge35\" class=\"edge\">\n<title>3&#45;&gt;3</title>\n<path fill=\"none\" stroke=\"black\" d=\"M474.19,-459.81C494.5,-462.45 516,-460.18 516,-453 516,-447 500.98,-444.43 484.19,-445.29\"/>\n<polygon fill=\"black\" stroke=\"black\" points=\"483.84,-441.8 474.19,-446.19 484.47,-448.77 483.84,-441.8\"/>\n<text text-anchor=\"middle\" x=\"540.5\" y=\"-449.3\" font-family=\"Times,serif\" font-size=\"14.00\">RIGHT</text>\n</g>\n<!-- 7 -->\n<g id=\"node12\" class=\"node\">\n<title>7</title>\n<ellipse fill=\"none\" stroke=\"black\" cx=\"526\" cy=\"-366\" rx=\"27\" ry=\"18\"/>\n<text text-anchor=\"middle\" x=\"526\" y=\"-362.3\" font-family=\"Times,serif\" font-size=\"14.00\">7</text>\n</g>\n<!-- 3&#45;&gt;7 -->\n<g id=\"edge23\" class=\"edge\">\n<title>3&#45;&gt;7</title>\n<path fill=\"none\" stroke=\"black\" d=\"M473.74,-445.36C488.56,-440.09 506.5,-431.2 517,-417 521.81,-410.49 524.33,-402.22 525.58,-394.29\"/>\n<polygon fill=\"black\" stroke=\"black\" points=\"529.08,-394.54 526.58,-384.24 522.11,-393.84 529.08,-394.54\"/>\n<text text-anchor=\"middle\" x=\"547.5\" y=\"-405.8\" font-family=\"Times,serif\" font-size=\"14.00\">DOWN</text>\n</g>\n<!-- 6&#45;&gt;2 -->\n<g id=\"edge22\" class=\"edge\">\n<title>6&#45;&gt;2</title>\n<path fill=\"none\" stroke=\"black\" d=\"M363.13,-468.61C355.09,-478.91 347.84,-492.82 355,-504 364,-518.05 380.22,-526.54 395.37,-531.63\"/>\n<polygon fill=\"black\" stroke=\"black\" points=\"394.5,-535.02 405.08,-534.5 396.49,-528.31 394.5,-535.02\"/>\n<text text-anchor=\"middle\" x=\"366\" y=\"-492.8\" font-family=\"Times,serif\" font-size=\"14.00\">UP</text>\n</g>\n<!-- 6&#45;&gt;5 -->\n<g id=\"edge34\" class=\"edge\">\n<title>6&#45;&gt;5</title>\n<path fill=\"none\" stroke=\"black\" d=\"M389.76,-436.97C423.73,-395.58 514.82,-275.07 530,-156 536.38,-105.98 489.58,-61.38 458.13,-37.46\"/>\n<polygon fill=\"black\" stroke=\"black\" points=\"459.85,-34.39 449.72,-31.28 455.7,-40.02 459.85,-34.39\"/>\n<text text-anchor=\"middle\" x=\"531.5\" y=\"-231.8\" font-family=\"Times,serif\" font-size=\"14.00\">LEFT</text>\n</g>\n<!-- 6&#45;&gt;10 -->\n<g id=\"edge20\" class=\"edge\">\n<title>6&#45;&gt;10</title>\n<path fill=\"none\" stroke=\"black\" d=\"M351.43,-446.53C335.44,-441.66 316.03,-432.77 306,-417 301.72,-410.28 300.39,-401.95 300.43,-394.03\"/>\n<polygon fill=\"black\" stroke=\"black\" points=\"303.92,-394.25 301.15,-384.02 296.94,-393.74 303.92,-394.25\"/>\n<text text-anchor=\"middle\" x=\"330.5\" y=\"-405.8\" font-family=\"Times,serif\" font-size=\"14.00\">DOWN</text>\n</g>\n<!-- 6&#45;&gt;7 -->\n<g id=\"edge21\" class=\"edge\">\n<title>6&#45;&gt;7</title>\n<path fill=\"none\" stroke=\"black\" d=\"M398.35,-441.57C415.01,-433.33 436.68,-422.35 445,-417 454.05,-411.18 455.07,-408 464,-402 474.24,-395.13 485.92,-388.3 496.35,-382.52\"/>\n<polygon fill=\"black\" stroke=\"black\" points=\"498.03,-385.59 505.14,-377.73 494.68,-379.44 498.03,-385.59\"/>\n<text text-anchor=\"middle\" x=\"488.5\" y=\"-405.8\" font-family=\"Times,serif\" font-size=\"14.00\">RIGHT</text>\n</g>\n<!-- 10&#45;&gt;9 -->\n<g id=\"edge33\" class=\"edge\">\n<title>10&#45;&gt;9</title>\n<path fill=\"none\" stroke=\"black\" d=\"M285.47,-353.49C272.01,-343.95 257.74,-329.64 265,-315 268.7,-307.54 274.83,-301.24 281.43,-296.13\"/>\n<polygon fill=\"black\" stroke=\"black\" points=\"283.65,-298.85 289.89,-290.3 279.67,-293.09 283.65,-298.85\"/>\n<text text-anchor=\"middle\" x=\"284.5\" y=\"-318.8\" font-family=\"Times,serif\" font-size=\"14.00\">LEFT</text>\n</g>\n<!-- 10&#45;&gt;6 -->\n<g id=\"edge41\" class=\"edge\">\n<title>10&#45;&gt;6</title>\n<path fill=\"none\" stroke=\"black\" d=\"M325.51,-377.82C335.44,-383.87 346.93,-392.17 355,-402 360.65,-408.88 365.11,-417.43 368.5,-425.51\"/>\n<polygon fill=\"black\" stroke=\"black\" points=\"365.28,-426.88 372.11,-434.98 371.82,-424.39 365.28,-426.88\"/>\n<text text-anchor=\"middle\" x=\"375\" y=\"-405.8\" font-family=\"Times,serif\" font-size=\"14.00\">UP</text>\n</g>\n<!-- 14 -->\n<g id=\"node14\" class=\"node\">\n<title>14</title>\n<ellipse fill=\"none\" stroke=\"black\" cx=\"106\" cy=\"-105\" rx=\"27\" ry=\"18\"/>\n<text text-anchor=\"middle\" x=\"106\" y=\"-101.3\" font-family=\"Times,serif\" font-size=\"14.00\">14</text>\n</g>\n<!-- 10&#45;&gt;14 -->\n<g id=\"edge31\" class=\"edge\">\n<title>10&#45;&gt;14</title>\n<path fill=\"none\" stroke=\"black\" d=\"M278.47,-362.48C234.12,-357.86 147.27,-346.91 122,-330 83.59,-304.29 78.22,-287.3 65,-243 56.96,-216.07 49.18,-207.02 78,-141 79.87,-136.71 82.41,-132.51 85.2,-128.58\"/>\n<polygon fill=\"black\" stroke=\"black\" points=\"88.11,-130.54 91.53,-120.52 82.6,-126.22 88.11,-130.54\"/>\n<text text-anchor=\"middle\" x=\"89.5\" y=\"-231.8\" font-family=\"Times,serif\" font-size=\"14.00\">DOWN</text>\n</g>\n<!-- 11 -->\n<g id=\"node15\" class=\"node\">\n<title>11</title>\n<ellipse fill=\"none\" stroke=\"black\" cx=\"383\" cy=\"-279\" rx=\"27\" ry=\"18\"/>\n<text text-anchor=\"middle\" x=\"383\" y=\"-275.3\" font-family=\"Times,serif\" font-size=\"14.00\">11</text>\n</g>\n<!-- 10&#45;&gt;11 -->\n<g id=\"edge32\" class=\"edge\">\n<title>10&#45;&gt;11</title>\n<path fill=\"none\" stroke=\"black\" d=\"M326.89,-355.25C338.27,-349.3 351.7,-340.75 361,-330 366.82,-323.27 371.33,-314.76 374.71,-306.67\"/>\n<polygon fill=\"black\" stroke=\"black\" points=\"378.04,-307.76 378.28,-297.17 371.49,-305.3 378.04,-307.76\"/>\n<text text-anchor=\"middle\" x=\"395.5\" y=\"-318.8\" font-family=\"Times,serif\" font-size=\"14.00\">RIGHT</text>\n</g>\n<!-- 13&#45;&gt;12 -->\n<g id=\"edge40\" class=\"edge\">\n<title>13&#45;&gt;12</title>\n<path fill=\"none\" stroke=\"black\" d=\"M212.75,-177.81C219.86,-171.68 227.9,-163.98 234,-156 239.64,-148.63 244.67,-139.85 248.77,-131.73\"/>\n<polygon fill=\"black\" stroke=\"black\" points=\"251.97,-133.14 253.13,-122.61 245.66,-130.12 251.97,-133.14\"/>\n<text text-anchor=\"middle\" x=\"263.5\" y=\"-144.8\" font-family=\"Times,serif\" font-size=\"14.00\">LEFT</text>\n</g>\n<!-- 13&#45;&gt;9 -->\n<g id=\"edge37\" class=\"edge\">\n<title>13&#45;&gt;9</title>\n<path fill=\"none\" stroke=\"black\" d=\"M216.67,-203.65C228.55,-210.12 243.55,-218.87 256,-228 267.66,-236.55 279.65,-247.2 289.44,-256.46\"/>\n<polygon fill=\"black\" stroke=\"black\" points=\"287.15,-259.12 296.78,-263.53 292.01,-254.08 287.15,-259.12\"/>\n<text text-anchor=\"middle\" x=\"285\" y=\"-231.8\" font-family=\"Times,serif\" font-size=\"14.00\">UP</text>\n</g>\n<!-- 13&#45;&gt;13 -->\n<g id=\"edge36\" class=\"edge\">\n<title>13&#45;&gt;13</title>\n<path fill=\"none\" stroke=\"black\" d=\"M220.53,-199.75C231.51,-200.49 241,-197.91 241,-192 241,-188.03 236.72,-185.56 230.57,-184.59\"/>\n<polygon fill=\"black\" stroke=\"black\" points=\"230.65,-181.09 220.53,-184.25 230.41,-188.09 230.65,-181.09\"/>\n<text text-anchor=\"middle\" x=\"265.5\" y=\"-188.3\" font-family=\"Times,serif\" font-size=\"14.00\">DOWN</text>\n</g>\n<!-- 13&#45;&gt;14 -->\n<g id=\"edge38\" class=\"edge\">\n<title>13&#45;&gt;14</title>\n<path fill=\"none\" stroke=\"black\" d=\"M171.28,-184.56C155.5,-179.28 135.69,-170.3 123,-156 117.27,-149.54 113.45,-141.06 110.92,-132.93\"/>\n<polygon fill=\"black\" stroke=\"black\" points=\"114.24,-131.79 108.35,-122.98 107.46,-133.54 114.24,-131.79\"/>\n<text text-anchor=\"middle\" x=\"147.5\" y=\"-144.8\" font-family=\"Times,serif\" font-size=\"14.00\">RIGHT</text>\n</g>\n<!-- 14&#45;&gt;10 -->\n<g id=\"edge42\" class=\"edge\">\n<title>14&#45;&gt;10</title>\n<path fill=\"none\" stroke=\"black\" d=\"M105.52,-123.17C105.78,-133.06 107.03,-145.56 111,-156 143.98,-242.77 232.72,-314.55 277.85,-346.75\"/>\n<polygon fill=\"black\" stroke=\"black\" points=\"276.07,-349.78 286.26,-352.66 280.09,-344.05 276.07,-349.78\"/>\n<text text-anchor=\"middle\" x=\"175\" y=\"-231.8\" font-family=\"Times,serif\" font-size=\"14.00\">UP</text>\n</g>\n<!-- 14&#45;&gt;13 -->\n<g id=\"edge39\" class=\"edge\">\n<title>14&#45;&gt;13</title>\n<path fill=\"none\" stroke=\"black\" d=\"M129.42,-114.12C143.22,-119.87 160.23,-128.75 172,-141 178.42,-147.69 183.41,-156.42 187.13,-164.71\"/>\n<polygon fill=\"black\" stroke=\"black\" points=\"183.94,-166.14 190.93,-174.1 190.43,-163.51 183.94,-166.14\"/>\n<text text-anchor=\"middle\" x=\"202.5\" y=\"-144.8\" font-family=\"Times,serif\" font-size=\"14.00\">LEFT</text>\n</g>\n<!-- 14&#45;&gt;14 -->\n<g id=\"edge44\" class=\"edge\">\n<title>14&#45;&gt;14</title>\n<path fill=\"none\" stroke=\"black\" d=\"M130.53,-112.75C141.51,-113.49 151,-110.91 151,-105 151,-101.03 146.72,-98.56 140.57,-97.59\"/>\n<polygon fill=\"black\" stroke=\"black\" points=\"140.65,-94.09 130.53,-97.25 140.41,-101.09 140.65,-94.09\"/>\n<text text-anchor=\"middle\" x=\"175.5\" y=\"-101.3\" font-family=\"Times,serif\" font-size=\"14.00\">DOWN</text>\n</g>\n<!-- 15 -->\n<g id=\"node16\" class=\"node\">\n<title>15</title>\n<ellipse fill=\"none\" stroke=\"black\" cx=\"106\" cy=\"-18\" rx=\"27\" ry=\"18\"/>\n<text text-anchor=\"middle\" x=\"106\" y=\"-14.3\" font-family=\"Times,serif\" font-size=\"14.00\">15</text>\n</g>\n<!-- 14&#45;&gt;15 -->\n<g id=\"edge43\" class=\"edge\">\n<title>14&#45;&gt;15</title>\n<path fill=\"none\" stroke=\"black\" d=\"M106,-86.8C106,-75.16 106,-59.55 106,-46.24\"/>\n<polygon fill=\"black\" stroke=\"black\" points=\"109.5,-46.18 106,-36.18 102.5,-46.18 109.5,-46.18\"/>\n<text text-anchor=\"middle\" x=\"130.5\" y=\"-57.8\" font-family=\"Times,serif\" font-size=\"14.00\">RIGHT</text>\n</g>\n</g>\n</svg>\n",
      "text/plain": [
       "<graphviz.graphs.Digraph at 0x7f5b59ef2140>"
      ]
     },
     "execution_count": 8,
     "metadata": {},
     "output_type": "execute_result"
    },
    {
     "data": {
      "image/png": "[encoded data removed]",
      "text/plain": [
       "<Figure size 640x480 with 1 Axes>"
      ]
     },
     "metadata": {},
     "output_type": "display_data"
    }
   ],
   "source": [
    "obs = env.reset()\n",
    "action, root = MCTS(obs, model, {\"iters\": 5000}).search()\n",
    "graph = unpack(root, graphviz.Digraph(), set(), action_map=action_map)\n",
    "graph.render(\"./frozen-lake/visit-tree\", format=\"png\")\n",
    "\n",
    "freqs = unpack_visits(root)\n",
    "\n",
    "grid = np.zeros((4, 4))\n",
    "for l, visits in freqs.items():\n",
    "    grid[np.unravel_index(l, (4,4))] += visits\n",
    "\n",
    "grid = np.log(grid)\n",
    "grid[grid == -np.inf] = 0\n",
    "plt.imshow(grid)\n",
    "plt.title(\"Vistation frequencies in Four Rooms.\")\n",
    "plt.axis(\"off\")\n",
    "graph"
   ]
  },
  {
   "cell_type": "code",
   "execution_count": 9,
   "metadata": {},
   "outputs": [
    {
     "name": "stderr",
     "output_type": "stream",
     "text": [
      "  0%|          | 0/64 [00:00<?, ?it/s]"
     ]
    },
    {
     "name": "stdout",
     "output_type": "stream",
     "text": [
      "Running MCTS.\n"
     ]
    },
    {
     "name": "stderr",
     "output_type": "stream",
     "text": [
      "100%|██████████| 100/100 [00:00<00:00, 744.30it/s]\n",
      "  2%|▏         | 1/64 [00:00<00:08,  7.23it/s]"
     ]
    },
    {
     "name": "stdout",
     "output_type": "stream",
     "text": [
      "MCTS finished.\n",
      "Running MCTS.\n"
     ]
    },
    {
     "name": "stderr",
     "output_type": "stream",
     "text": [
      "100%|██████████| 100/100 [00:00<00:00, 1294.15it/s]\n"
     ]
    },
    {
     "name": "stdout",
     "output_type": "stream",
     "text": [
      "MCTS finished.\n",
      "Running MCTS.\n"
     ]
    },
    {
     "name": "stderr",
     "output_type": "stream",
     "text": [
      "100%|██████████| 100/100 [00:00<00:00, 2299.71it/s]\n",
      "  5%|▍         | 3/64 [00:00<00:05, 11.96it/s]"
     ]
    },
    {
     "name": "stdout",
     "output_type": "stream",
     "text": [
      "MCTS finished.\n",
      "Running MCTS.\n"
     ]
    },
    {
     "name": "stderr",
     "output_type": "stream",
     "text": [
      "100%|██████████| 100/100 [00:00<00:00, 1724.64it/s]\n"
     ]
    },
    {
     "name": "stdout",
     "output_type": "stream",
     "text": [
      "MCTS finished.\n",
      "Running MCTS.\n"
     ]
    },
    {
     "name": "stderr",
     "output_type": "stream",
     "text": [
      "100%|██████████| 100/100 [00:00<00:00, 1189.25it/s]\n",
      "  8%|▊         | 5/64 [00:00<00:04, 12.59it/s]"
     ]
    },
    {
     "name": "stdout",
     "output_type": "stream",
     "text": [
      "MCTS finished.\n",
      "Running MCTS.\n"
     ]
    },
    {
     "name": "stderr",
     "output_type": "stream",
     "text": [
      "100%|██████████| 100/100 [00:00<00:00, 924.13it/s]\n"
     ]
    },
    {
     "name": "stdout",
     "output_type": "stream",
     "text": [
      "MCTS finished.\n",
      "Running MCTS.\n"
     ]
    },
    {
     "name": "stderr",
     "output_type": "stream",
     "text": [
      "100%|██████████| 100/100 [00:00<00:00, 1318.25it/s]\n",
      " 11%|█         | 7/64 [00:00<00:04, 11.54it/s]"
     ]
    },
    {
     "name": "stdout",
     "output_type": "stream",
     "text": [
      "MCTS finished.\n",
      "Running MCTS.\n"
     ]
    },
    {
     "name": "stderr",
     "output_type": "stream",
     "text": [
      "100%|██████████| 100/100 [00:00<00:00, 793.47it/s]\n"
     ]
    },
    {
     "name": "stdout",
     "output_type": "stream",
     "text": [
      "MCTS finished.\n",
      "Running MCTS.\n"
     ]
    },
    {
     "name": "stderr",
     "output_type": "stream",
     "text": [
      "100%|██████████| 100/100 [00:00<00:00, 1779.83it/s]\n",
      " 14%|█▍        | 9/64 [00:00<00:04, 11.14it/s]"
     ]
    },
    {
     "name": "stdout",
     "output_type": "stream",
     "text": [
      "MCTS finished.\n",
      "Running MCTS.\n"
     ]
    },
    {
     "name": "stderr",
     "output_type": "stream",
     "text": [
      "100%|██████████| 100/100 [00:00<00:00, 1833.50it/s]\n"
     ]
    },
    {
     "name": "stdout",
     "output_type": "stream",
     "text": [
      "MCTS finished.\n",
      "Running MCTS.\n"
     ]
    },
    {
     "name": "stderr",
     "output_type": "stream",
     "text": [
      "100%|██████████| 100/100 [00:00<00:00, 1062.23it/s]\n",
      " 17%|█▋        | 11/64 [00:00<00:04, 11.64it/s]"
     ]
    },
    {
     "name": "stdout",
     "output_type": "stream",
     "text": [
      "MCTS finished.\n",
      "Running MCTS.\n"
     ]
    },
    {
     "name": "stderr",
     "output_type": "stream",
     "text": [
      "100%|██████████| 100/100 [00:00<00:00, 952.31it/s]\n"
     ]
    },
    {
     "name": "stdout",
     "output_type": "stream",
     "text": [
      "MCTS finished.\n",
      "Running MCTS.\n"
     ]
    },
    {
     "name": "stderr",
     "output_type": "stream",
     "text": [
      "100%|██████████| 100/100 [00:00<00:00, 1695.26it/s]\n",
      " 20%|██        | 13/64 [00:01<00:04, 11.62it/s]"
     ]
    },
    {
     "name": "stdout",
     "output_type": "stream",
     "text": [
      "MCTS finished.\n",
      "Running MCTS.\n"
     ]
    },
    {
     "name": "stderr",
     "output_type": "stream",
     "text": [
      "100%|██████████| 100/100 [00:00<00:00, 794.80it/s]\n"
     ]
    },
    {
     "name": "stdout",
     "output_type": "stream",
     "text": [
      "MCTS finished.\n",
      "Running MCTS.\n"
     ]
    },
    {
     "name": "stderr",
     "output_type": "stream",
     "text": [
      "100%|██████████| 100/100 [00:00<00:00, 1969.51it/s]\n",
      " 23%|██▎       | 15/64 [00:01<00:04, 11.31it/s]"
     ]
    },
    {
     "name": "stdout",
     "output_type": "stream",
     "text": [
      "MCTS finished.\n",
      "Running MCTS.\n"
     ]
    },
    {
     "name": "stderr",
     "output_type": "stream",
     "text": [
      "100%|██████████| 100/100 [00:00<00:00, 1410.43it/s]\n"
     ]
    },
    {
     "name": "stdout",
     "output_type": "stream",
     "text": [
      "MCTS finished.\n",
      "Running MCTS.\n"
     ]
    },
    {
     "name": "stderr",
     "output_type": "stream",
     "text": [
      "100%|██████████| 100/100 [00:00<00:00, 849.83it/s]\n",
      " 27%|██▋       | 17/64 [00:01<00:04, 10.88it/s]"
     ]
    },
    {
     "name": "stdout",
     "output_type": "stream",
     "text": [
      "MCTS finished.\n",
      "Running MCTS.\n"
     ]
    },
    {
     "name": "stderr",
     "output_type": "stream",
     "text": [
      "100%|██████████| 100/100 [00:00<00:00, 786.79it/s]\n"
     ]
    },
    {
     "name": "stdout",
     "output_type": "stream",
     "text": [
      "MCTS finished.\n",
      "Running MCTS.\n"
     ]
    },
    {
     "name": "stderr",
     "output_type": "stream",
     "text": [
      "100%|██████████| 100/100 [00:00<00:00, 1221.01it/s]\n",
      " 30%|██▉       | 19/64 [00:01<00:04, 10.29it/s]"
     ]
    },
    {
     "name": "stdout",
     "output_type": "stream",
     "text": [
      "MCTS finished.\n",
      "Running MCTS.\n"
     ]
    },
    {
     "name": "stderr",
     "output_type": "stream",
     "text": [
      "100%|██████████| 100/100 [00:00<00:00, 6863.42it/s]\n"
     ]
    },
    {
     "name": "stdout",
     "output_type": "stream",
     "text": [
      "MCTS finished.\n",
      "Running MCTS.\n"
     ]
    },
    {
     "name": "stderr",
     "output_type": "stream",
     "text": [
      "100%|██████████| 100/100 [00:00<00:00, 3574.34it/s]\n"
     ]
    },
    {
     "name": "stdout",
     "output_type": "stream",
     "text": [
      "MCTS finished.\n",
      "Running MCTS.\n"
     ]
    },
    {
     "name": "stderr",
     "output_type": "stream",
     "text": [
      "100%|██████████| 100/100 [00:00<00:00, 3174.11it/s]\n"
     ]
    },
    {
     "name": "stdout",
     "output_type": "stream",
     "text": [
      "MCTS finished.\n",
      "Running MCTS.\n"
     ]
    },
    {
     "name": "stderr",
     "output_type": "stream",
     "text": [
      "100%|██████████| 100/100 [00:00<00:00, 1075.64it/s]\n",
      " 36%|███▌      | 23/64 [00:01<00:02, 13.69it/s]"
     ]
    },
    {
     "name": "stdout",
     "output_type": "stream",
     "text": [
      "MCTS finished.\n",
      "Running MCTS.\n"
     ]
    },
    {
     "name": "stderr",
     "output_type": "stream",
     "text": [
      "100%|██████████| 100/100 [00:00<00:00, 1919.67it/s]\n"
     ]
    },
    {
     "name": "stdout",
     "output_type": "stream",
     "text": [
      "MCTS finished.\n",
      "Running MCTS.\n"
     ]
    },
    {
     "name": "stderr",
     "output_type": "stream",
     "text": [
      "100%|██████████| 100/100 [00:00<00:00, 915.79it/s]\n",
      " 39%|███▉      | 25/64 [00:02<00:02, 13.16it/s]"
     ]
    },
    {
     "name": "stdout",
     "output_type": "stream",
     "text": [
      "MCTS finished.\n",
      "Running MCTS.\n"
     ]
    },
    {
     "name": "stderr",
     "output_type": "stream",
     "text": [
      "100%|██████████| 100/100 [00:00<00:00, 1377.01it/s]\n"
     ]
    },
    {
     "name": "stdout",
     "output_type": "stream",
     "text": [
      "MCTS finished.\n",
      "Running MCTS.\n"
     ]
    },
    {
     "name": "stderr",
     "output_type": "stream",
     "text": [
      "100%|██████████| 100/100 [00:00<00:00, 1703.11it/s]\n",
      " 42%|████▏     | 27/64 [00:02<00:02, 13.40it/s]"
     ]
    },
    {
     "name": "stdout",
     "output_type": "stream",
     "text": [
      "MCTS finished.\n",
      "Running MCTS.\n"
     ]
    },
    {
     "name": "stderr",
     "output_type": "stream",
     "text": [
      "100%|██████████| 100/100 [00:00<00:00, 2465.70it/s]\n"
     ]
    },
    {
     "name": "stdout",
     "output_type": "stream",
     "text": [
      "MCTS finished.\n",
      "Running MCTS.\n"
     ]
    },
    {
     "name": "stderr",
     "output_type": "stream",
     "text": [
      "100%|██████████| 100/100 [00:00<00:00, 3265.93it/s]\n"
     ]
    },
    {
     "name": "stdout",
     "output_type": "stream",
     "text": [
      "MCTS finished.\n",
      "Running MCTS.\n"
     ]
    },
    {
     "name": "stderr",
     "output_type": "stream",
     "text": [
      "100%|██████████| 100/100 [00:00<00:00, 7349.66it/s]\n"
     ]
    },
    {
     "name": "stdout",
     "output_type": "stream",
     "text": [
      "MCTS finished.\n",
      "Running MCTS.\n"
     ]
    },
    {
     "name": "stderr",
     "output_type": "stream",
     "text": [
      "100%|██████████| 100/100 [00:00<00:00, 2698.24it/s]\n",
      " 48%|████▊     | 31/64 [00:02<00:01, 17.43it/s]"
     ]
    },
    {
     "name": "stdout",
     "output_type": "stream",
     "text": [
      "MCTS finished.\n",
      "Running MCTS.\n"
     ]
    },
    {
     "name": "stderr",
     "output_type": "stream",
     "text": [
      "100%|██████████| 100/100 [00:00<00:00, 1508.28it/s]\n"
     ]
    },
    {
     "name": "stdout",
     "output_type": "stream",
     "text": [
      "MCTS finished.\n",
      "Running MCTS.\n"
     ]
    },
    {
     "name": "stderr",
     "output_type": "stream",
     "text": [
      "100%|██████████| 100/100 [00:00<00:00, 2413.71it/s]\n",
      " 52%|█████▏    | 33/64 [00:02<00:01, 17.34it/s]"
     ]
    },
    {
     "name": "stdout",
     "output_type": "stream",
     "text": [
      "MCTS finished.\n",
      "Running MCTS.\n"
     ]
    },
    {
     "name": "stderr",
     "output_type": "stream",
     "text": [
      "100%|██████████| 100/100 [00:00<00:00, 1837.71it/s]\n"
     ]
    },
    {
     "name": "stdout",
     "output_type": "stream",
     "text": [
      "MCTS finished.\n",
      "Running MCTS.\n"
     ]
    },
    {
     "name": "stderr",
     "output_type": "stream",
     "text": [
      "100%|██████████| 100/100 [00:00<00:00, 2944.30it/s]\n"
     ]
    },
    {
     "name": "stdout",
     "output_type": "stream",
     "text": [
      "MCTS finished.\n",
      "Running MCTS.\n"
     ]
    },
    {
     "name": "stderr",
     "output_type": "stream",
     "text": [
      "100%|██████████| 100/100 [00:00<00:00, 8066.12it/s]\n",
      " 56%|█████▋    | 36/64 [00:02<00:01, 19.56it/s]"
     ]
    },
    {
     "name": "stdout",
     "output_type": "stream",
     "text": [
      "MCTS finished.\n",
      "Running MCTS.\n"
     ]
    },
    {
     "name": "stderr",
     "output_type": "stream",
     "text": [
      "100%|██████████| 100/100 [00:00<00:00, 3795.30it/s]\n"
     ]
    },
    {
     "name": "stdout",
     "output_type": "stream",
     "text": [
      "MCTS finished.\n",
      "Running MCTS.\n"
     ]
    },
    {
     "name": "stderr",
     "output_type": "stream",
     "text": [
      "100%|██████████| 100/100 [00:00<00:00, 2616.21it/s]\n"
     ]
    },
    {
     "name": "stdout",
     "output_type": "stream",
     "text": [
      "MCTS finished.\n",
      "Running MCTS.\n"
     ]
    },
    {
     "name": "stderr",
     "output_type": "stream",
     "text": [
      "100%|██████████| 100/100 [00:00<00:00, 2106.34it/s]\n",
      " 61%|██████    | 39/64 [00:02<00:01, 20.60it/s]"
     ]
    },
    {
     "name": "stdout",
     "output_type": "stream",
     "text": [
      "MCTS finished.\n",
      "Running MCTS.\n"
     ]
    },
    {
     "name": "stderr",
     "output_type": "stream",
     "text": [
      "100%|██████████| 100/100 [00:00<00:00, 1700.94it/s]\n"
     ]
    },
    {
     "name": "stdout",
     "output_type": "stream",
     "text": [
      "MCTS finished.\n",
      "Running MCTS.\n"
     ]
    },
    {
     "name": "stderr",
     "output_type": "stream",
     "text": [
      "100%|██████████| 100/100 [00:00<00:00, 2154.95it/s]\n"
     ]
    },
    {
     "name": "stdout",
     "output_type": "stream",
     "text": [
      "MCTS finished.\n",
      "Running MCTS.\n"
     ]
    },
    {
     "name": "stderr",
     "output_type": "stream",
     "text": [
      "100%|██████████| 100/100 [00:00<00:00, 7942.85it/s]\n",
      " 66%|██████▌   | 42/64 [00:02<00:01, 21.32it/s]"
     ]
    },
    {
     "name": "stdout",
     "output_type": "stream",
     "text": [
      "MCTS finished.\n",
      "Running MCTS.\n"
     ]
    },
    {
     "name": "stderr",
     "output_type": "stream",
     "text": [
      "100%|██████████| 100/100 [00:00<00:00, 7304.10it/s]\n"
     ]
    },
    {
     "name": "stdout",
     "output_type": "stream",
     "text": [
      "MCTS finished.\n",
      "Running MCTS.\n"
     ]
    },
    {
     "name": "stderr",
     "output_type": "stream",
     "text": [
      "100%|██████████| 100/100 [00:00<00:00, 4647.07it/s]\n"
     ]
    },
    {
     "name": "stdout",
     "output_type": "stream",
     "text": [
      "MCTS finished.\n",
      "Running MCTS.\n"
     ]
    },
    {
     "name": "stderr",
     "output_type": "stream",
     "text": [
      "100%|██████████| 100/100 [00:00<00:00, 4062.40it/s]\n"
     ]
    },
    {
     "name": "stdout",
     "output_type": "stream",
     "text": [
      "MCTS finished.\n",
      "Running MCTS.\n"
     ]
    },
    {
     "name": "stderr",
     "output_type": "stream",
     "text": [
      "100%|██████████| 100/100 [00:00<00:00, 4264.93it/s]\n",
      " 72%|███████▏  | 46/64 [00:02<00:00, 25.48it/s]"
     ]
    },
    {
     "name": "stdout",
     "output_type": "stream",
     "text": [
      "MCTS finished.\n",
      "Running MCTS.\n"
     ]
    },
    {
     "name": "stderr",
     "output_type": "stream",
     "text": [
      "100%|██████████| 100/100 [00:00<00:00, 7964.12it/s]\n"
     ]
    },
    {
     "name": "stdout",
     "output_type": "stream",
     "text": [
      "MCTS finished.\n",
      "Running MCTS.\n"
     ]
    },
    {
     "name": "stderr",
     "output_type": "stream",
     "text": [
      "100%|██████████| 100/100 [00:00<00:00, 2424.19it/s]\n"
     ]
    },
    {
     "name": "stdout",
     "output_type": "stream",
     "text": [
      "MCTS finished.\n",
      "Running MCTS.\n"
     ]
    },
    {
     "name": "stderr",
     "output_type": "stream",
     "text": [
      "100%|██████████| 100/100 [00:00<00:00, 2645.65it/s]\n",
      " 77%|███████▋  | 49/64 [00:03<00:00, 26.43it/s]"
     ]
    },
    {
     "name": "stdout",
     "output_type": "stream",
     "text": [
      "MCTS finished.\n",
      "Running MCTS.\n"
     ]
    },
    {
     "name": "stderr",
     "output_type": "stream",
     "text": [
      "100%|██████████| 100/100 [00:00<00:00, 7778.47it/s]\n"
     ]
    },
    {
     "name": "stdout",
     "output_type": "stream",
     "text": [
      "MCTS finished.\n",
      "Running MCTS.\n"
     ]
    },
    {
     "name": "stderr",
     "output_type": "stream",
     "text": [
      "100%|██████████| 100/100 [00:00<00:00, 4749.90it/s]\n"
     ]
    },
    {
     "name": "stdout",
     "output_type": "stream",
     "text": [
      "MCTS finished.\n",
      "Running MCTS.\n"
     ]
    },
    {
     "name": "stderr",
     "output_type": "stream",
     "text": [
      "100%|██████████| 100/100 [00:00<00:00, 3737.34it/s]\n"
     ]
    },
    {
     "name": "stdout",
     "output_type": "stream",
     "text": [
      "MCTS finished.\n",
      "Running MCTS.\n"
     ]
    },
    {
     "name": "stderr",
     "output_type": "stream",
     "text": [
      "100%|██████████| 100/100 [00:00<00:00, 7763.35it/s]\n"
     ]
    },
    {
     "name": "stdout",
     "output_type": "stream",
     "text": [
      "MCTS finished.\n",
      "Running MCTS.\n"
     ]
    },
    {
     "name": "stderr",
     "output_type": "stream",
     "text": [
      "100%|██████████| 100/100 [00:00<00:00, 4644.91it/s]\n",
      " 84%|████████▍ | 54/64 [00:03<00:00, 31.27it/s]"
     ]
    },
    {
     "name": "stdout",
     "output_type": "stream",
     "text": [
      "MCTS finished.\n",
      "Running MCTS.\n"
     ]
    },
    {
     "name": "stderr",
     "output_type": "stream",
     "text": [
      "100%|██████████| 100/100 [00:00<00:00, 7722.61it/s]\n"
     ]
    },
    {
     "name": "stdout",
     "output_type": "stream",
     "text": [
      "MCTS finished.\n",
      "Running MCTS.\n"
     ]
    },
    {
     "name": "stderr",
     "output_type": "stream",
     "text": [
      "100%|██████████| 100/100 [00:00<00:00, 4085.83it/s]\n"
     ]
    },
    {
     "name": "stdout",
     "output_type": "stream",
     "text": [
      "MCTS finished.\n",
      "Running MCTS.\n"
     ]
    },
    {
     "name": "stderr",
     "output_type": "stream",
     "text": [
      "100%|██████████| 100/100 [00:00<00:00, 2295.26it/s]\n"
     ]
    },
    {
     "name": "stdout",
     "output_type": "stream",
     "text": [
      "MCTS finished.\n",
      "Running MCTS.\n"
     ]
    },
    {
     "name": "stderr",
     "output_type": "stream",
     "text": [
      "100%|██████████| 100/100 [00:00<00:00, 3794.00it/s]\n",
      " 91%|█████████ | 58/64 [00:03<00:00, 31.39it/s]"
     ]
    },
    {
     "name": "stdout",
     "output_type": "stream",
     "text": [
      "MCTS finished.\n",
      "Running MCTS.\n"
     ]
    },
    {
     "name": "stderr",
     "output_type": "stream",
     "text": [
      "100%|██████████| 100/100 [00:00<00:00, 4183.51it/s]\n"
     ]
    },
    {
     "name": "stdout",
     "output_type": "stream",
     "text": [
      "MCTS finished.\n",
      "Running MCTS.\n"
     ]
    },
    {
     "name": "stderr",
     "output_type": "stream",
     "text": [
      "100%|██████████| 100/100 [00:00<00:00, 7740.57it/s]\n"
     ]
    },
    {
     "name": "stdout",
     "output_type": "stream",
     "text": [
      "MCTS finished.\n",
      "Running MCTS.\n"
     ]
    },
    {
     "name": "stderr",
     "output_type": "stream",
     "text": [
      "100%|██████████| 100/100 [00:00<00:00, 6327.11it/s]\n"
     ]
    },
    {
     "name": "stdout",
     "output_type": "stream",
     "text": [
      "MCTS finished.\n",
      "Running MCTS.\n"
     ]
    },
    {
     "name": "stderr",
     "output_type": "stream",
     "text": [
      "100%|██████████| 100/100 [00:00<00:00, 3619.18it/s]\n",
      " 97%|█████████▋| 62/64 [00:03<00:00, 33.52it/s]"
     ]
    },
    {
     "name": "stdout",
     "output_type": "stream",
     "text": [
      "MCTS finished.\n",
      "Running MCTS.\n"
     ]
    },
    {
     "name": "stderr",
     "output_type": "stream",
     "text": [
      "100%|██████████| 100/100 [00:00<00:00, 5023.36it/s]\n"
     ]
    },
    {
     "name": "stdout",
     "output_type": "stream",
     "text": [
      "MCTS finished.\n",
      "Running MCTS.\n"
     ]
    },
    {
     "name": "stderr",
     "output_type": "stream",
     "text": [
      "100%|██████████| 100/100 [00:00<00:00, 7724.89it/s]\n",
      "100%|██████████| 64/64 [00:03<00:00, 18.53it/s]\n",
      "/tmp/ipykernel_1475/617346661.py:10: RuntimeWarning: divide by zero encountered in log\n",
      "  plt.imshow(np.log(V.reshape(int(np.sqrt(nS)), int(np.sqrt(nS)))))\n"
     ]
    },
    {
     "name": "stdout",
     "output_type": "stream",
     "text": [
      "MCTS finished.\n"
     ]
    },
    {
     "data": {
      "image/png": "[encoded data removed]",
      "text/plain": [
       "<Figure size 640x480 with 1 Axes>"
      ]
     },
     "metadata": {},
     "output_type": "display_data"
    }
   ],
   "source": [
    "# MCTS estimated values in every state\n",
    "env = gym.make(\"FrozenLake-v1\", map_name=\"8x8\", is_slippery=False)\n",
    "model = FrozenLakeModel(env.P)\n",
    "nS = flatdim(env.observation_space)\n",
    "V = np.zeros(nS)\n",
    "for i in tqdm(range(env.observation_space.n)):\n",
    "    _, values = MCTS(i, model, {\"iters\": 100}).search()\n",
    "    V[i] = np.mean([child.value for child in values.children.values()])\n",
    "\n",
    "plt.imshow(np.log(V.reshape(int(np.sqrt(nS)), int(np.sqrt(nS)))))\n",
    "plt.title(\"Value function discovered by 5000 MCTS rollouts.\")\n",
    "plt.axis(\"off\")\n",
    "plt.savefig(\"./frozen-lake/value-5000\")"
   ]
  },
  {
   "cell_type": "code",
   "execution_count": 60,
   "metadata": {},
   "outputs": [],
   "source": [
    "class FourRoomsModel:\n",
    "    def __init__(self, goal_pos=(16,16), seed=42):\n",
    "        self.goal_pos = goal_pos\n",
    "        self.seed = seed\n",
    "\n",
    "    def step(self, agent_state, action) -> tuple[_, float]:\n",
    "        agent_pos, agent_dir = agent_state\n",
    "        env = FourRoomsEnvPos(agent_pos=agent_pos, goal_pos=self.goal_pos)\n",
    "        env.reset(seed=self.seed)\n",
    "        env.agent_dir = agent_dir\n",
    "        return env.step(action)\n",
    "\n",
    "    def actions(self, obs) -> list[int]:\n",
    "        return list(range(env.action_space.n - 4))\n",
    "\n",
    "class FourRoomsEnvPos(FourRoomsEnv):\n",
    "    def __init__(self, agent_pos=None, goal_pos=None, **kwargs):\n",
    "        super().__init__(agent_pos=agent_pos, goal_pos=goal_pos, **kwargs)\n",
    "        self.max_steps = 1000\n",
    "    \n",
    "    def step(self, action):\n",
    "        _, r, terminated, truncated, _ = super().step(action)\n",
    "        return (self.agent_pos, self.agent_dir), int(self.agent_pos == self._goal_default_pos), terminated or truncated, _\n",
    "\n",
    "    def reset(self, seed=None):\n",
    "        obs, _ = super().reset(seed=seed)\n",
    "        return self.agent_pos, self.agent_dir\n",
    "\n",
    "\n",
    "action_map = {\n",
    "    0: \"left\",\n",
    "    1: \"right\",\n",
    "    2: \"forward\",\n",
    "    3: \"pickup\",\n",
    "    4: \"drop\",\n",
    "    5: \"toggle\",\n",
    "    6: \"done\" \n",
    "}"
   ]
  },
  {
   "cell_type": "code",
   "execution_count": 61,
   "metadata": {},
   "outputs": [
    {
     "data": {
      "text/plain": [
       "(-0.5, 607.5, 607.5, -0.5)"
      ]
     },
     "execution_count": 61,
     "metadata": {},
     "output_type": "execute_result"
    },
    {
     "data": {
      "image/png": "[encoded data removed]",
      "text/plain": [
       "<Figure size 640x480 with 1 Axes>"
      ]
     },
     "metadata": {},
     "output_type": "display_data"
    }
   ],
   "source": [
    "env = FourRoomsEnvPos(agent_pos=(15,9), goal_pos=(16,16))\n",
    "obs, _ = env.reset(seed=42)\n",
    "plt.imshow(env.get_frame())\n",
    "plt.axis(\"off\")\n",
    "# plt.savefig(\"./four-rooms/env\")"
   ]
  },
  {
   "cell_type": "code",
   "execution_count": 62,
   "metadata": {},
   "outputs": [
    {
     "name": "stdout",
     "output_type": "stream",
     "text": [
      "Running MCTS.\n"
     ]
    },
    {
     "name": "stderr",
     "output_type": "stream",
     "text": [
      "Action Values: [0.016779661016949148, 0.12692307692307692, 0.07857142857142858]: 100%|██████████| 200/200 [00:37<00:00,  5.30it/s]"
     ]
    },
    {
     "name": "stdout",
     "output_type": "stream",
     "text": [
      "MCTS finished.\n"
     ]
    },
    {
     "name": "stderr",
     "output_type": "stream",
     "text": [
      "\n",
      "/tmp/ipykernel_1475/74362495.py:15: RuntimeWarning: divide by zero encountered in log\n",
      "  grid = np.log(grid)\n"
     ]
    },
    {
     "data": {
      "image/svg+xml": "<?xml version=\"1.0\" encoding=\"UTF-8\" standalone=\"no\"?>\n<!DOCTYPE svg PUBLIC \"-//W3C//DTD SVG 1.1//EN\"\n \"http://www.w3.org/Graphics/SVG/1.1/DTD/svg11.dtd\">\n<!-- Generated by graphviz version 2.43.0 (0)\n -->\n<!-- Title: %3 Pages: 1 -->\n<svg width=\"2290pt\" height=\"848pt\"\n viewBox=\"0.00 0.00 2289.79 848.00\" xmlns=\"http://www.w3.org/2000/svg\" xmlns:xlink=\"http://www.w3.org/1999/xlink\">\n<g id=\"graph0\" class=\"graph\" transform=\"scale(1 1) rotate(0) translate(4 844)\">\n<title>%3</title>\n<polygon fill=\"white\" stroke=\"transparent\" points=\"-4,4 -4,-844 2285.79,-844 2285.79,4 -4,4\"/>\n<!-- ((15, 9), 1) -->\n<g id=\"node1\" class=\"node\">\n<title>((15, 9), 1)</title>\n<ellipse fill=\"none\" stroke=\"black\" cx=\"415.79\" cy=\"-822\" rx=\"59.59\" ry=\"18\"/>\n<text text-anchor=\"middle\" x=\"415.79\" y=\"-818.3\" font-family=\"Times,serif\" font-size=\"14.00\">((15, 9), 1)</text>\n</g>\n<!-- ((15, 9), 0) -->\n<g id=\"node2\" class=\"node\">\n<title>((15, 9), 0)</title>\n<ellipse fill=\"none\" stroke=\"black\" cx=\"227.79\" cy=\"-681\" rx=\"59.59\" ry=\"18\"/>\n<text text-anchor=\"middle\" x=\"227.79\" y=\"-677.3\" font-family=\"Times,serif\" font-size=\"14.00\">((15, 9), 0)</text>\n</g>\n<!-- ((15, 9), 1)&#45;&gt;((15, 9), 0) -->\n<g id=\"edge1\" class=\"edge\">\n<title>((15, 9), 1)&#45;&gt;((15, 9), 0)</title>\n<path fill=\"none\" stroke=\"black\" d=\"M379.63,-807.45C366.28,-801.72 351.36,-794.41 338.79,-786 304.24,-762.88 270.21,-728.86 249.12,-706.1\"/>\n<polygon fill=\"black\" stroke=\"black\" points=\"251.55,-703.57 242.22,-698.55 246.39,-708.29 251.55,-703.57\"/>\n<text text-anchor=\"middle\" x=\"351.29\" y=\"-774.8\" font-family=\"Times,serif\" font-size=\"14.00\">left</text>\n</g>\n<!-- ((15, 9), 2) -->\n<g id=\"node4\" class=\"node\">\n<title>((15, 9), 2)</title>\n<ellipse fill=\"none\" stroke=\"black\" cx=\"356.79\" cy=\"-192\" rx=\"59.59\" ry=\"18\"/>\n<text text-anchor=\"middle\" x=\"356.79\" y=\"-188.3\" font-family=\"Times,serif\" font-size=\"14.00\">((15, 9), 2)</text>\n</g>\n<!-- ((15, 9), 1)&#45;&gt;((15, 9), 2) -->\n<g id=\"edge14\" class=\"edge\">\n<title>((15, 9), 1)&#45;&gt;((15, 9), 2)</title>\n<path fill=\"none\" stroke=\"black\" d=\"M401.63,-804.19C397.77,-798.71 394.04,-792.4 391.79,-786 362.04,-701.27 376.79,-674.3 376.79,-584.5 376.79,-584.5 376.79,-584.5 376.79,-278 376.79,-258.04 371.5,-236.12 366.36,-219.55\"/>\n<polygon fill=\"black\" stroke=\"black\" points=\"369.67,-218.4 363.23,-209.98 363.02,-220.57 369.67,-218.4\"/>\n<text text-anchor=\"middle\" x=\"394.79\" y=\"-492.8\" font-family=\"Times,serif\" font-size=\"14.00\">right</text>\n</g>\n<!-- ((15, 10), 1) -->\n<g id=\"node10\" class=\"node\">\n<title>((15, 10), 1)</title>\n<ellipse fill=\"none\" stroke=\"black\" cx=\"1555.79\" cy=\"-735\" rx=\"65.79\" ry=\"18\"/>\n<text text-anchor=\"middle\" x=\"1555.79\" y=\"-731.3\" font-family=\"Times,serif\" font-size=\"14.00\">((15, 10), 1)</text>\n</g>\n<!-- ((15, 9), 1)&#45;&gt;((15, 10), 1) -->\n<g id=\"edge16\" class=\"edge\">\n<title>((15, 9), 1)&#45;&gt;((15, 10), 1)</title>\n<path fill=\"none\" stroke=\"black\" d=\"M473.11,-816.73C663.13,-802.56 1272.29,-757.14 1483.15,-741.42\"/>\n<polygon fill=\"black\" stroke=\"black\" points=\"1483.47,-744.9 1493.18,-740.67 1482.95,-737.92 1483.47,-744.9\"/>\n<text text-anchor=\"middle\" x=\"1082.29\" y=\"-774.8\" font-family=\"Times,serif\" font-size=\"14.00\">forward</text>\n</g>\n<!-- ((15, 9), 0)&#45;&gt;((15, 9), 1) -->\n<g id=\"edge7\" class=\"edge\">\n<title>((15, 9), 0)&#45;&gt;((15, 9), 1)</title>\n<path fill=\"none\" stroke=\"black\" d=\"M257.05,-696.72C268.4,-702.69 281.39,-709.86 292.79,-717 327.62,-738.78 336.78,-744.07 367.79,-771 376.98,-778.97 386.39,-788.44 394.42,-796.99\"/>\n<polygon fill=\"black\" stroke=\"black\" points=\"392.01,-799.53 401.36,-804.5 397.15,-794.78 392.01,-799.53\"/>\n<text text-anchor=\"middle\" x=\"400.79\" y=\"-774.8\" font-family=\"Times,serif\" font-size=\"14.00\">right</text>\n</g>\n<!-- ((15, 9), 0)&#45;&gt;((15, 9), 0) -->\n<g id=\"edge8\" class=\"edge\">\n<title>((15, 9), 0)&#45;&gt;((15, 9), 0)</title>\n<path fill=\"none\" stroke=\"black\" d=\"M277.55,-691.12C293.22,-690.96 305.59,-687.59 305.59,-681 305.59,-675.9 298.19,-672.73 287.59,-671.48\"/>\n<polygon fill=\"black\" stroke=\"black\" points=\"287.74,-667.98 277.55,-670.88 287.32,-674.97 287.74,-667.98\"/>\n<text text-anchor=\"middle\" x=\"334.09\" y=\"-677.3\" font-family=\"Times,serif\" font-size=\"14.00\">forward</text>\n</g>\n<!-- ((15, 9), 3) -->\n<g id=\"node3\" class=\"node\">\n<title>((15, 9), 3)</title>\n<ellipse fill=\"none\" stroke=\"black\" cx=\"276.79\" cy=\"-279\" rx=\"59.59\" ry=\"18\"/>\n<text text-anchor=\"middle\" x=\"276.79\" y=\"-275.3\" font-family=\"Times,serif\" font-size=\"14.00\">((15, 9), 3)</text>\n</g>\n<!-- ((15, 9), 0)&#45;&gt;((15, 9), 3) -->\n<g id=\"edge2\" class=\"edge\">\n<title>((15, 9), 0)&#45;&gt;((15, 9), 3)</title>\n<path fill=\"none\" stroke=\"black\" d=\"M228.08,-662.75C228.38,-643.62 228.79,-611.86 228.79,-584.5 228.79,-584.5 228.79,-584.5 228.79,-365 228.79,-342.34 241.89,-320.17 254.4,-304.15\"/>\n<polygon fill=\"black\" stroke=\"black\" points=\"257.15,-306.31 260.81,-296.37 251.75,-301.86 257.15,-306.31\"/>\n<text text-anchor=\"middle\" x=\"241.29\" y=\"-492.8\" font-family=\"Times,serif\" font-size=\"14.00\">left</text>\n</g>\n<!-- ((15, 9), 3)&#45;&gt;((15, 9), 0) -->\n<g id=\"edge6\" class=\"edge\">\n<title>((15, 9), 3)&#45;&gt;((15, 9), 0)</title>\n<path fill=\"none\" stroke=\"black\" d=\"M276.79,-297.26C276.79,-314.43 276.79,-341.54 276.79,-365 276.79,-584.5 276.79,-584.5 276.79,-584.5 276.79,-610.6 262.12,-636.73 248.84,-655.05\"/>\n<polygon fill=\"black\" stroke=\"black\" points=\"245.77,-653.3 242.5,-663.37 251.34,-657.54 245.77,-653.3\"/>\n<text text-anchor=\"middle\" x=\"294.79\" y=\"-492.8\" font-family=\"Times,serif\" font-size=\"14.00\">right</text>\n</g>\n<!-- ((15, 9), 3)&#45;&gt;((15, 9), 2) -->\n<g id=\"edge3\" class=\"edge\">\n<title>((15, 9), 3)&#45;&gt;((15, 9), 2)</title>\n<path fill=\"none\" stroke=\"black\" d=\"M295.41,-261.72C301.73,-255.97 308.72,-249.36 314.79,-243 322.43,-235.01 330.34,-225.85 337.21,-217.58\"/>\n<polygon fill=\"black\" stroke=\"black\" points=\"340.06,-219.62 343.69,-209.67 334.64,-215.19 340.06,-219.62\"/>\n<text text-anchor=\"middle\" x=\"341.29\" y=\"-231.8\" font-family=\"Times,serif\" font-size=\"14.00\">left</text>\n</g>\n<!-- ((15, 8), 3) -->\n<g id=\"node5\" class=\"node\">\n<title>((15, 8), 3)</title>\n<ellipse fill=\"none\" stroke=\"black\" cx=\"197.79\" cy=\"-192\" rx=\"59.59\" ry=\"18\"/>\n<text text-anchor=\"middle\" x=\"197.79\" y=\"-188.3\" font-family=\"Times,serif\" font-size=\"14.00\">((15, 8), 3)</text>\n</g>\n<!-- ((15, 9), 3)&#45;&gt;((15, 8), 3) -->\n<g id=\"edge9\" class=\"edge\">\n<title>((15, 9), 3)&#45;&gt;((15, 8), 3)</title>\n<path fill=\"none\" stroke=\"black\" d=\"M231.05,-267.33C218.52,-262.11 206.33,-254.39 198.79,-243 194.4,-236.35 193.02,-228.05 193.07,-220.12\"/>\n<polygon fill=\"black\" stroke=\"black\" points=\"196.57,-220.33 193.82,-210.1 189.59,-219.81 196.57,-220.33\"/>\n<text text-anchor=\"middle\" x=\"227.29\" y=\"-231.8\" font-family=\"Times,serif\" font-size=\"14.00\">forward</text>\n</g>\n<!-- ((15, 9), 2)&#45;&gt;((15, 9), 1) -->\n<g id=\"edge5\" class=\"edge\">\n<title>((15, 9), 2)&#45;&gt;((15, 9), 1)</title>\n<path fill=\"none\" stroke=\"black\" d=\"M416.37,-193.91C647.49,-197.54 1485.15,-211.56 1750.79,-228 1863.57,-234.98 2256.79,-165.01 2256.79,-278 2256.79,-736 2256.79,-736 2256.79,-736 2256.79,-781.21 820.79,-812.86 485.29,-819.64\"/>\n<polygon fill=\"black\" stroke=\"black\" points=\"485.15,-816.14 475.22,-819.84 485.29,-823.14 485.15,-816.14\"/>\n<text text-anchor=\"middle\" x=\"2269.29\" y=\"-492.8\" font-family=\"Times,serif\" font-size=\"14.00\">left</text>\n</g>\n<!-- ((15, 9), 2)&#45;&gt;((15, 9), 3) -->\n<g id=\"edge4\" class=\"edge\">\n<title>((15, 9), 2)&#45;&gt;((15, 9), 3)</title>\n<path fill=\"none\" stroke=\"black\" d=\"M309.05,-202.89C295.72,-208.08 282.73,-215.99 274.79,-228 270.4,-234.65 269.41,-242.96 269.96,-250.89\"/>\n<polygon fill=\"black\" stroke=\"black\" points=\"266.51,-251.5 271.39,-260.91 273.44,-250.51 266.51,-251.5\"/>\n<text text-anchor=\"middle\" x=\"292.79\" y=\"-231.8\" font-family=\"Times,serif\" font-size=\"14.00\">right</text>\n</g>\n<!-- ((15, 9), 2)&#45;&gt;((15, 9), 2) -->\n<g id=\"edge15\" class=\"edge\">\n<title>((15, 9), 2)&#45;&gt;((15, 9), 2)</title>\n<path fill=\"none\" stroke=\"black\" d=\"M410.97,-199.77C424.48,-199.22 434.59,-196.63 434.59,-192 434.59,-188.63 429.26,-186.35 421.15,-185.14\"/>\n<polygon fill=\"black\" stroke=\"black\" points=\"421.24,-181.63 410.97,-184.23 420.62,-188.6 421.24,-181.63\"/>\n<text text-anchor=\"middle\" x=\"463.09\" y=\"-188.3\" font-family=\"Times,serif\" font-size=\"14.00\">forward</text>\n</g>\n<!-- ((15, 7), 3) -->\n<g id=\"node6\" class=\"node\">\n<title>((15, 7), 3)</title>\n<ellipse fill=\"none\" stroke=\"black\" cx=\"197.79\" cy=\"-105\" rx=\"59.59\" ry=\"18\"/>\n<text text-anchor=\"middle\" x=\"197.79\" y=\"-101.3\" font-family=\"Times,serif\" font-size=\"14.00\">((15, 7), 3)</text>\n</g>\n<!-- ((15, 8), 3)&#45;&gt;((15, 7), 3) -->\n<g id=\"edge10\" class=\"edge\">\n<title>((15, 8), 3)&#45;&gt;((15, 7), 3)</title>\n<path fill=\"none\" stroke=\"black\" d=\"M197.79,-173.8C197.79,-162.16 197.79,-146.55 197.79,-133.24\"/>\n<polygon fill=\"black\" stroke=\"black\" points=\"201.29,-133.18 197.79,-123.18 194.29,-133.18 201.29,-133.18\"/>\n<text text-anchor=\"middle\" x=\"226.29\" y=\"-144.8\" font-family=\"Times,serif\" font-size=\"14.00\">forward</text>\n</g>\n<!-- ((15, 8), 2) -->\n<g id=\"node7\" class=\"node\">\n<title>((15, 8), 2)</title>\n<ellipse fill=\"none\" stroke=\"black\" cx=\"335.79\" cy=\"-105\" rx=\"59.59\" ry=\"18\"/>\n<text text-anchor=\"middle\" x=\"335.79\" y=\"-101.3\" font-family=\"Times,serif\" font-size=\"14.00\">((15, 8), 2)</text>\n</g>\n<!-- ((15, 8), 3)&#45;&gt;((15, 8), 2) -->\n<g id=\"edge11\" class=\"edge\">\n<title>((15, 8), 3)&#45;&gt;((15, 8), 2)</title>\n<path fill=\"none\" stroke=\"black\" d=\"M225.01,-175.81C235.63,-169.77 247.85,-162.68 258.79,-156 273.75,-146.87 290.05,-136.36 303.8,-127.34\"/>\n<polygon fill=\"black\" stroke=\"black\" points=\"305.99,-130.08 312.42,-121.66 302.14,-124.24 305.99,-130.08\"/>\n<text text-anchor=\"middle\" x=\"295.29\" y=\"-144.8\" font-family=\"Times,serif\" font-size=\"14.00\">left</text>\n</g>\n<!-- ((15, 8), 0) -->\n<g id=\"node9\" class=\"node\">\n<title>((15, 8), 0)</title>\n<ellipse fill=\"none\" stroke=\"black\" cx=\"59.79\" cy=\"-105\" rx=\"59.59\" ry=\"18\"/>\n<text text-anchor=\"middle\" x=\"59.79\" y=\"-101.3\" font-family=\"Times,serif\" font-size=\"14.00\">((15, 8), 0)</text>\n</g>\n<!-- ((15, 8), 3)&#45;&gt;((15, 8), 0) -->\n<g id=\"edge13\" class=\"edge\">\n<title>((15, 8), 3)&#45;&gt;((15, 8), 0)</title>\n<path fill=\"none\" stroke=\"black\" d=\"M172.8,-175.61C150.67,-161.97 118.16,-141.95 93.69,-126.87\"/>\n<polygon fill=\"black\" stroke=\"black\" points=\"95.42,-123.83 85.07,-121.57 91.74,-129.79 95.42,-123.83\"/>\n<text text-anchor=\"middle\" x=\"155.79\" y=\"-144.8\" font-family=\"Times,serif\" font-size=\"14.00\">right</text>\n</g>\n<!-- ((14, 8), 2) -->\n<g id=\"node8\" class=\"node\">\n<title>((14, 8), 2)</title>\n<ellipse fill=\"none\" stroke=\"black\" cx=\"266.79\" cy=\"-18\" rx=\"59.59\" ry=\"18\"/>\n<text text-anchor=\"middle\" x=\"266.79\" y=\"-14.3\" font-family=\"Times,serif\" font-size=\"14.00\">((14, 8), 2)</text>\n</g>\n<!-- ((15, 8), 2)&#45;&gt;((14, 8), 2) -->\n<g id=\"edge12\" class=\"edge\">\n<title>((15, 8), 2)&#45;&gt;((14, 8), 2)</title>\n<path fill=\"none\" stroke=\"black\" d=\"M322.16,-87.21C312.05,-74.75 298.11,-57.57 286.74,-43.57\"/>\n<polygon fill=\"black\" stroke=\"black\" points=\"289.42,-41.32 280.4,-35.76 283.98,-45.73 289.42,-41.32\"/>\n<text text-anchor=\"middle\" x=\"334.29\" y=\"-57.8\" font-family=\"Times,serif\" font-size=\"14.00\">forward</text>\n</g>\n<!-- ((15, 8), 1) -->\n<g id=\"node44\" class=\"node\">\n<title>((15, 8), 1)</title>\n<ellipse fill=\"none\" stroke=\"black\" cx=\"404.79\" cy=\"-18\" rx=\"59.59\" ry=\"18\"/>\n<text text-anchor=\"middle\" x=\"404.79\" y=\"-14.3\" font-family=\"Times,serif\" font-size=\"14.00\">((15, 8), 1)</text>\n</g>\n<!-- ((15, 8), 2)&#45;&gt;((15, 8), 1) -->\n<g id=\"edge68\" class=\"edge\">\n<title>((15, 8), 2)&#45;&gt;((15, 8), 1)</title>\n<path fill=\"none\" stroke=\"black\" d=\"M350.88,-87.49C356.02,-81.72 361.75,-75.15 366.79,-69 373.37,-60.99 380.29,-52.04 386.41,-43.95\"/>\n<polygon fill=\"black\" stroke=\"black\" points=\"389.24,-46.01 392.44,-35.91 383.64,-41.81 389.24,-46.01\"/>\n<text text-anchor=\"middle\" x=\"390.29\" y=\"-57.8\" font-family=\"Times,serif\" font-size=\"14.00\">left</text>\n</g>\n<!-- ((15, 10), 0) -->\n<g id=\"node11\" class=\"node\">\n<title>((15, 10), 0)</title>\n<ellipse fill=\"none\" stroke=\"black\" cx=\"1555.79\" cy=\"-627\" rx=\"65.79\" ry=\"18\"/>\n<text text-anchor=\"middle\" x=\"1555.79\" y=\"-623.3\" font-family=\"Times,serif\" font-size=\"14.00\">((15, 10), 0)</text>\n</g>\n<!-- ((15, 10), 1)&#45;&gt;((15, 10), 0) -->\n<g id=\"edge17\" class=\"edge\">\n<title>((15, 10), 1)&#45;&gt;((15, 10), 0)</title>\n<path fill=\"none\" stroke=\"black\" d=\"M1559.89,-717.01C1561.08,-711.32 1562.21,-704.92 1562.79,-699 1564.37,-683.08 1564.37,-678.92 1562.79,-663 1562.54,-660.41 1562.18,-657.73 1561.75,-655.05\"/>\n<polygon fill=\"black\" stroke=\"black\" points=\"1565.15,-654.19 1559.89,-644.99 1558.27,-655.46 1565.15,-654.19\"/>\n<text text-anchor=\"middle\" x=\"1576.29\" y=\"-677.3\" font-family=\"Times,serif\" font-size=\"14.00\">left</text>\n</g>\n<!-- ((15, 11), 1) -->\n<g id=\"node13\" class=\"node\">\n<title>((15, 11), 1)</title>\n<ellipse fill=\"none\" stroke=\"black\" cx=\"1305.79\" cy=\"-627\" rx=\"65.79\" ry=\"18\"/>\n<text text-anchor=\"middle\" x=\"1305.79\" y=\"-623.3\" font-family=\"Times,serif\" font-size=\"14.00\">((15, 11), 1)</text>\n</g>\n<!-- ((15, 10), 1)&#45;&gt;((15, 11), 1) -->\n<g id=\"edge20\" class=\"edge\">\n<title>((15, 10), 1)&#45;&gt;((15, 11), 1)</title>\n<path fill=\"none\" stroke=\"black\" d=\"M1515.47,-720.76C1497.37,-714.56 1475.85,-706.83 1456.79,-699 1418.23,-683.16 1375.3,-662.69 1345.1,-647.8\"/>\n<polygon fill=\"black\" stroke=\"black\" points=\"1346.28,-644.48 1335.77,-643.18 1343.17,-650.75 1346.28,-644.48\"/>\n<text text-anchor=\"middle\" x=\"1485.29\" y=\"-677.3\" font-family=\"Times,serif\" font-size=\"14.00\">forward</text>\n</g>\n<!-- ((15, 10), 2) -->\n<g id=\"node15\" class=\"node\">\n<title>((15, 10), 2)</title>\n<ellipse fill=\"none\" stroke=\"black\" cx=\"1689.79\" cy=\"-279\" rx=\"65.79\" ry=\"18\"/>\n<text text-anchor=\"middle\" x=\"1689.79\" y=\"-275.3\" font-family=\"Times,serif\" font-size=\"14.00\">((15, 10), 2)</text>\n</g>\n<!-- ((15, 10), 1)&#45;&gt;((15, 10), 2) -->\n<g id=\"edge22\" class=\"edge\">\n<title>((15, 10), 1)&#45;&gt;((15, 10), 2)</title>\n<path fill=\"none\" stroke=\"black\" d=\"M1616.79,-728.27C1742.78,-712.78 2030.14,-657.66 2151.79,-471 2245.61,-327.07 1918.1,-291.52 1764.76,-282.81\"/>\n<polygon fill=\"black\" stroke=\"black\" points=\"1764.64,-279.29 1754.47,-282.25 1764.26,-286.28 1764.64,-279.29\"/>\n<text text-anchor=\"middle\" x=\"2154.79\" y=\"-492.8\" font-family=\"Times,serif\" font-size=\"14.00\">right</text>\n</g>\n<!-- ((15, 10), 0)&#45;&gt;((15, 10), 1) -->\n<g id=\"edge18\" class=\"edge\">\n<title>((15, 10), 0)&#45;&gt;((15, 10), 1)</title>\n<path fill=\"none\" stroke=\"black\" d=\"M1535.66,-644.25C1530.47,-649.61 1525.57,-656.01 1522.79,-663 1516.89,-677.87 1516.89,-684.13 1522.79,-699 1524.31,-702.82 1526.47,-706.47 1528.95,-709.86\"/>\n<polygon fill=\"black\" stroke=\"black\" points=\"1526.52,-712.4 1535.66,-717.75 1531.85,-707.86 1526.52,-712.4\"/>\n<text text-anchor=\"middle\" x=\"1540.79\" y=\"-677.3\" font-family=\"Times,serif\" font-size=\"14.00\">right</text>\n</g>\n<!-- ((15, 10), 3) -->\n<g id=\"node12\" class=\"node\">\n<title>((15, 10), 3)</title>\n<ellipse fill=\"none\" stroke=\"black\" cx=\"1513.79\" cy=\"-366\" rx=\"65.79\" ry=\"18\"/>\n<text text-anchor=\"middle\" x=\"1513.79\" y=\"-362.3\" font-family=\"Times,serif\" font-size=\"14.00\">((15, 10), 3)</text>\n</g>\n<!-- ((15, 10), 0)&#45;&gt;((15, 10), 3) -->\n<g id=\"edge19\" class=\"edge\">\n<title>((15, 10), 0)&#45;&gt;((15, 10), 3)</title>\n<path fill=\"none\" stroke=\"black\" d=\"M1553.03,-608.7C1548.88,-582.7 1540.78,-532.04 1533.79,-489 1528.52,-456.52 1522.39,-419.19 1518.32,-394.46\"/>\n<polygon fill=\"black\" stroke=\"black\" points=\"1521.74,-393.67 1516.66,-384.37 1514.83,-394.81 1521.74,-393.67\"/>\n<text text-anchor=\"middle\" x=\"1548.29\" y=\"-492.8\" font-family=\"Times,serif\" font-size=\"14.00\">left</text>\n</g>\n<!-- ((16, 10), 0) -->\n<g id=\"node17\" class=\"node\">\n<title>((16, 10), 0)</title>\n<ellipse fill=\"none\" stroke=\"black\" cx=\"1852.79\" cy=\"-540\" rx=\"65.79\" ry=\"18\"/>\n<text text-anchor=\"middle\" x=\"1852.79\" y=\"-536.3\" font-family=\"Times,serif\" font-size=\"14.00\">((16, 10), 0)</text>\n</g>\n<!-- ((15, 10), 0)&#45;&gt;((16, 10), 0) -->\n<g id=\"edge28\" class=\"edge\">\n<title>((15, 10), 0)&#45;&gt;((16, 10), 0)</title>\n<path fill=\"none\" stroke=\"black\" d=\"M1599.62,-613.46C1652.59,-598.3 1741.72,-572.79 1798.86,-556.44\"/>\n<polygon fill=\"black\" stroke=\"black\" points=\"1800.14,-559.71 1808.79,-553.59 1798.21,-552.98 1800.14,-559.71\"/>\n<text text-anchor=\"middle\" x=\"1750.29\" y=\"-579.8\" font-family=\"Times,serif\" font-size=\"14.00\">forward</text>\n</g>\n<!-- ((15, 10), 3)&#45;&gt;((15, 9), 3) -->\n<g id=\"edge27\" class=\"edge\">\n<title>((15, 10), 3)&#45;&gt;((15, 9), 3)</title>\n<path fill=\"none\" stroke=\"black\" d=\"M1492.34,-348.83C1475.3,-337.01 1450.33,-321.88 1425.79,-315 1322.37,-285.98 580.22,-281.02 346.85,-280.17\"/>\n<polygon fill=\"black\" stroke=\"black\" points=\"346.79,-276.67 336.78,-280.14 346.77,-283.67 346.79,-276.67\"/>\n<text text-anchor=\"middle\" x=\"1489.29\" y=\"-318.8\" font-family=\"Times,serif\" font-size=\"14.00\">forward</text>\n</g>\n<!-- ((15, 10), 3)&#45;&gt;((15, 10), 0) -->\n<g id=\"edge25\" class=\"edge\">\n<title>((15, 10), 3)&#45;&gt;((15, 10), 0)</title>\n<path fill=\"none\" stroke=\"black\" d=\"M1507.19,-384.06C1498.01,-410.16 1483.6,-461.46 1493.79,-504 1502.38,-539.85 1523.34,-577.07 1538.52,-600.82\"/>\n<polygon fill=\"black\" stroke=\"black\" points=\"1535.61,-602.77 1544.01,-609.23 1541.47,-598.95 1535.61,-602.77\"/>\n<text text-anchor=\"middle\" x=\"1511.79\" y=\"-492.8\" font-family=\"Times,serif\" font-size=\"14.00\">right</text>\n</g>\n<!-- ((15, 10), 3)&#45;&gt;((15, 10), 2) -->\n<g id=\"edge26\" class=\"edge\">\n<title>((15, 10), 3)&#45;&gt;((15, 10), 2)</title>\n<path fill=\"none\" stroke=\"black\" d=\"M1554.29,-351.58C1570.85,-345.62 1590.03,-338.12 1606.79,-330 1624.13,-321.6 1642.57,-310.71 1657.65,-301.24\"/>\n<polygon fill=\"black\" stroke=\"black\" points=\"1659.55,-304.18 1666.11,-295.85 1655.79,-298.27 1659.55,-304.18\"/>\n<text text-anchor=\"middle\" x=\"1644.29\" y=\"-318.8\" font-family=\"Times,serif\" font-size=\"14.00\">left</text>\n</g>\n<!-- ((15, 11), 0) -->\n<g id=\"node14\" class=\"node\">\n<title>((15, 11), 0)</title>\n<ellipse fill=\"none\" stroke=\"black\" cx=\"1305.79\" cy=\"-540\" rx=\"65.79\" ry=\"18\"/>\n<text text-anchor=\"middle\" x=\"1305.79\" y=\"-536.3\" font-family=\"Times,serif\" font-size=\"14.00\">((15, 11), 0)</text>\n</g>\n<!-- ((15, 11), 1)&#45;&gt;((15, 11), 0) -->\n<g id=\"edge21\" class=\"edge\">\n<title>((15, 11), 1)&#45;&gt;((15, 11), 0)</title>\n<path fill=\"none\" stroke=\"black\" d=\"M1291.36,-609.34C1284.86,-599.83 1279.34,-587.53 1282.79,-576 1283.75,-572.8 1285.11,-569.61 1286.69,-566.55\"/>\n<polygon fill=\"black\" stroke=\"black\" points=\"1289.8,-568.18 1291.93,-557.8 1283.79,-564.58 1289.8,-568.18\"/>\n<text text-anchor=\"middle\" x=\"1295.29\" y=\"-579.8\" font-family=\"Times,serif\" font-size=\"14.00\">left</text>\n</g>\n<!-- ((15, 11), 2) -->\n<g id=\"node23\" class=\"node\">\n<title>((15, 11), 2)</title>\n<ellipse fill=\"none\" stroke=\"black\" cx=\"1364.79\" cy=\"-366\" rx=\"65.79\" ry=\"18\"/>\n<text text-anchor=\"middle\" x=\"1364.79\" y=\"-362.3\" font-family=\"Times,serif\" font-size=\"14.00\">((15, 11), 2)</text>\n</g>\n<!-- ((15, 11), 1)&#45;&gt;((15, 11), 2) -->\n<g id=\"edge38\" class=\"edge\">\n<title>((15, 11), 1)&#45;&gt;((15, 11), 2)</title>\n<path fill=\"none\" stroke=\"black\" d=\"M1327.44,-609.91C1359.44,-584.58 1417.95,-531.94 1439.79,-471 1450.17,-442.06 1461.62,-427.73 1444.79,-402 1439.44,-393.81 1431.69,-387.52 1423.11,-382.7\"/>\n<polygon fill=\"black\" stroke=\"black\" points=\"1424.44,-379.46 1413.92,-378.19 1421.35,-385.74 1424.44,-379.46\"/>\n<text text-anchor=\"middle\" x=\"1448.79\" y=\"-492.8\" font-family=\"Times,serif\" font-size=\"14.00\">right</text>\n</g>\n<!-- ((15, 12), 1) -->\n<g id=\"node29\" class=\"node\">\n<title>((15, 12), 1)</title>\n<ellipse fill=\"none\" stroke=\"black\" cx=\"952.79\" cy=\"-540\" rx=\"65.79\" ry=\"18\"/>\n<text text-anchor=\"middle\" x=\"952.79\" y=\"-536.3\" font-family=\"Times,serif\" font-size=\"14.00\">((15, 12), 1)</text>\n</g>\n<!-- ((15, 11), 1)&#45;&gt;((15, 12), 1) -->\n<g id=\"edge45\" class=\"edge\">\n<title>((15, 11), 1)&#45;&gt;((15, 12), 1)</title>\n<path fill=\"none\" stroke=\"black\" d=\"M1241.63,-623.14C1189.26,-619.41 1113.9,-610.8 1050.79,-591 1028.5,-584 1005.14,-572.28 986.81,-561.94\"/>\n<polygon fill=\"black\" stroke=\"black\" points=\"988.4,-558.81 977.99,-556.85 984.9,-564.87 988.4,-558.81\"/>\n<text text-anchor=\"middle\" x=\"1079.29\" y=\"-579.8\" font-family=\"Times,serif\" font-size=\"14.00\">forward</text>\n</g>\n<!-- ((15, 11), 0)&#45;&gt;((15, 11), 1) -->\n<g id=\"edge65\" class=\"edge\">\n<title>((15, 11), 0)&#45;&gt;((15, 11), 1)</title>\n<path fill=\"none\" stroke=\"black\" d=\"M1306.97,-558.08C1307.31,-563.78 1307.63,-570.16 1307.79,-576 1308,-583.35 1307.86,-591.31 1307.57,-598.67\"/>\n<polygon fill=\"black\" stroke=\"black\" points=\"1304.06,-598.72 1307.06,-608.88 1311.05,-599.06 1304.06,-598.72\"/>\n<text text-anchor=\"middle\" x=\"1325.79\" y=\"-579.8\" font-family=\"Times,serif\" font-size=\"14.00\">right</text>\n</g>\n<!-- ((15, 11), 3) -->\n<g id=\"node41\" class=\"node\">\n<title>((15, 11), 3)</title>\n<ellipse fill=\"none\" stroke=\"black\" cx=\"1364.79\" cy=\"-453\" rx=\"65.79\" ry=\"18\"/>\n<text text-anchor=\"middle\" x=\"1364.79\" y=\"-449.3\" font-family=\"Times,serif\" font-size=\"14.00\">((15, 11), 3)</text>\n</g>\n<!-- ((15, 11), 0)&#45;&gt;((15, 11), 3) -->\n<g id=\"edge62\" class=\"edge\">\n<title>((15, 11), 0)&#45;&gt;((15, 11), 3)</title>\n<path fill=\"none\" stroke=\"black\" d=\"M1326.12,-522.5C1332.01,-517.04 1338.11,-510.65 1342.79,-504 1347.79,-496.91 1352.02,-488.51 1355.4,-480.64\"/>\n<polygon fill=\"black\" stroke=\"black\" points=\"1358.75,-481.67 1359.21,-471.09 1352.25,-479.08 1358.75,-481.67\"/>\n<text text-anchor=\"middle\" x=\"1363.29\" y=\"-492.8\" font-family=\"Times,serif\" font-size=\"14.00\">left</text>\n</g>\n<!-- ((16, 11), 0) -->\n<g id=\"node42\" class=\"node\">\n<title>((16, 11), 0)</title>\n<ellipse fill=\"none\" stroke=\"black\" cx=\"1215.79\" cy=\"-453\" rx=\"65.79\" ry=\"18\"/>\n<text text-anchor=\"middle\" x=\"1215.79\" y=\"-449.3\" font-family=\"Times,serif\" font-size=\"14.00\">((16, 11), 0)</text>\n</g>\n<!-- ((15, 11), 0)&#45;&gt;((16, 11), 0) -->\n<g id=\"edge66\" class=\"edge\">\n<title>((15, 11), 0)&#45;&gt;((16, 11), 0)</title>\n<path fill=\"none\" stroke=\"black\" d=\"M1270.05,-524.73C1259.71,-519.36 1249.01,-512.46 1240.79,-504 1234.38,-497.39 1229.29,-488.81 1225.42,-480.63\"/>\n<polygon fill=\"black\" stroke=\"black\" points=\"1228.6,-479.16 1221.43,-471.36 1222.16,-481.93 1228.6,-479.16\"/>\n<text text-anchor=\"middle\" x=\"1269.29\" y=\"-492.8\" font-family=\"Times,serif\" font-size=\"14.00\">forward</text>\n</g>\n<!-- ((15, 10), 2)&#45;&gt;((15, 10), 1) -->\n<g id=\"edge23\" class=\"edge\">\n<title>((15, 10), 2)&#45;&gt;((15, 10), 1)</title>\n<path fill=\"none\" stroke=\"black\" d=\"M1753.17,-283.85C1891.63,-293.11 2208.79,-319.32 2208.79,-365 2208.79,-628 2208.79,-628 2208.79,-628 2208.79,-686.14 1800.26,-718.62 1629.46,-729.66\"/>\n<polygon fill=\"black\" stroke=\"black\" points=\"1629.05,-726.18 1619.3,-730.31 1629.5,-733.17 1629.05,-726.18\"/>\n<text text-anchor=\"middle\" x=\"2221.29\" y=\"-492.8\" font-family=\"Times,serif\" font-size=\"14.00\">left</text>\n</g>\n<!-- ((15, 10), 2)&#45;&gt;((15, 10), 3) -->\n<g id=\"edge37\" class=\"edge\">\n<title>((15, 10), 2)&#45;&gt;((15, 10), 3)</title>\n<path fill=\"none\" stroke=\"black\" d=\"M1636.13,-289.39C1613.72,-294.78 1588.03,-302.93 1566.79,-315 1555.11,-321.64 1543.99,-331.38 1534.99,-340.51\"/>\n<polygon fill=\"black\" stroke=\"black\" points=\"1532.28,-338.27 1527.95,-347.94 1537.37,-343.08 1532.28,-338.27\"/>\n<text text-anchor=\"middle\" x=\"1584.79\" y=\"-318.8\" font-family=\"Times,serif\" font-size=\"14.00\">right</text>\n</g>\n<!-- ((14, 10), 2) -->\n<g id=\"node16\" class=\"node\">\n<title>((14, 10), 2)</title>\n<ellipse fill=\"none\" stroke=\"black\" cx=\"1689.79\" cy=\"-192\" rx=\"65.79\" ry=\"18\"/>\n<text text-anchor=\"middle\" x=\"1689.79\" y=\"-188.3\" font-family=\"Times,serif\" font-size=\"14.00\">((14, 10), 2)</text>\n</g>\n<!-- ((15, 10), 2)&#45;&gt;((14, 10), 2) -->\n<g id=\"edge24\" class=\"edge\">\n<title>((15, 10), 2)&#45;&gt;((14, 10), 2)</title>\n<path fill=\"none\" stroke=\"black\" d=\"M1689.79,-260.8C1689.79,-249.16 1689.79,-233.55 1689.79,-220.24\"/>\n<polygon fill=\"black\" stroke=\"black\" points=\"1693.29,-220.18 1689.79,-210.18 1686.29,-220.18 1693.29,-220.18\"/>\n<text text-anchor=\"middle\" x=\"1718.29\" y=\"-231.8\" font-family=\"Times,serif\" font-size=\"14.00\">forward</text>\n</g>\n<!-- ((13, 10), 2) -->\n<g id=\"node24\" class=\"node\">\n<title>((13, 10), 2)</title>\n<ellipse fill=\"none\" stroke=\"black\" cx=\"1837.79\" cy=\"-105\" rx=\"65.79\" ry=\"18\"/>\n<text text-anchor=\"middle\" x=\"1837.79\" y=\"-101.3\" font-family=\"Times,serif\" font-size=\"14.00\">((13, 10), 2)</text>\n</g>\n<!-- ((14, 10), 2)&#45;&gt;((13, 10), 2) -->\n<g id=\"edge39\" class=\"edge\">\n<title>((14, 10), 2)&#45;&gt;((13, 10), 2)</title>\n<path fill=\"none\" stroke=\"black\" d=\"M1716.94,-175.41C1740.83,-161.69 1775.78,-141.62 1801.96,-126.58\"/>\n<polygon fill=\"black\" stroke=\"black\" points=\"1803.89,-129.51 1810.82,-121.49 1800.41,-123.44 1803.89,-129.51\"/>\n<text text-anchor=\"middle\" x=\"1800.29\" y=\"-144.8\" font-family=\"Times,serif\" font-size=\"14.00\">forward</text>\n</g>\n<!-- ((14, 10), 1) -->\n<g id=\"node27\" class=\"node\">\n<title>((14, 10), 1)</title>\n<ellipse fill=\"none\" stroke=\"black\" cx=\"1688.79\" cy=\"-105\" rx=\"65.79\" ry=\"18\"/>\n<text text-anchor=\"middle\" x=\"1688.79\" y=\"-101.3\" font-family=\"Times,serif\" font-size=\"14.00\">((14, 10), 1)</text>\n</g>\n<!-- ((14, 10), 2)&#45;&gt;((14, 10), 1) -->\n<g id=\"edge42\" class=\"edge\">\n<title>((14, 10), 2)&#45;&gt;((14, 10), 1)</title>\n<path fill=\"none\" stroke=\"black\" d=\"M1694.33,-173.9C1696.36,-164.26 1698.03,-151.97 1696.79,-141 1696.49,-138.31 1696.06,-135.52 1695.55,-132.74\"/>\n<polygon fill=\"black\" stroke=\"black\" points=\"1698.98,-132.01 1693.48,-122.96 1692.13,-133.47 1698.98,-132.01\"/>\n<text text-anchor=\"middle\" x=\"1709.29\" y=\"-144.8\" font-family=\"Times,serif\" font-size=\"14.00\">left</text>\n</g>\n<!-- ((14, 10), 3) -->\n<g id=\"node28\" class=\"node\">\n<title>((14, 10), 3)</title>\n<ellipse fill=\"none\" stroke=\"black\" cx=\"1539.79\" cy=\"-105\" rx=\"65.79\" ry=\"18\"/>\n<text text-anchor=\"middle\" x=\"1539.79\" y=\"-101.3\" font-family=\"Times,serif\" font-size=\"14.00\">((14, 10), 3)</text>\n</g>\n<!-- ((14, 10), 2)&#45;&gt;((14, 10), 3) -->\n<g id=\"edge44\" class=\"edge\">\n<title>((14, 10), 2)&#45;&gt;((14, 10), 3)</title>\n<path fill=\"none\" stroke=\"black\" d=\"M1656.02,-176.55C1642.93,-170.61 1627.94,-163.4 1614.79,-156 1599.69,-147.5 1583.62,-137 1570.24,-127.82\"/>\n<polygon fill=\"black\" stroke=\"black\" points=\"1572.09,-124.84 1561.88,-122.01 1568.1,-130.59 1572.09,-124.84\"/>\n<text text-anchor=\"middle\" x=\"1632.79\" y=\"-144.8\" font-family=\"Times,serif\" font-size=\"14.00\">right</text>\n</g>\n<!-- ((16, 10), 3) -->\n<g id=\"node18\" class=\"node\">\n<title>((16, 10), 3)</title>\n<ellipse fill=\"none\" stroke=\"black\" cx=\"2001.79\" cy=\"-453\" rx=\"65.79\" ry=\"18\"/>\n<text text-anchor=\"middle\" x=\"2001.79\" y=\"-449.3\" font-family=\"Times,serif\" font-size=\"14.00\">((16, 10), 3)</text>\n</g>\n<!-- ((16, 10), 0)&#45;&gt;((16, 10), 3) -->\n<g id=\"edge29\" class=\"edge\">\n<title>((16, 10), 0)&#45;&gt;((16, 10), 3)</title>\n<path fill=\"none\" stroke=\"black\" d=\"M1880.12,-523.41C1904.17,-509.69 1939.36,-489.62 1965.72,-474.58\"/>\n<polygon fill=\"black\" stroke=\"black\" points=\"1967.69,-477.49 1974.64,-469.49 1964.22,-471.41 1967.69,-477.49\"/>\n<text text-anchor=\"middle\" x=\"1948.29\" y=\"-492.8\" font-family=\"Times,serif\" font-size=\"14.00\">left</text>\n</g>\n<!-- ((17, 10), 0) -->\n<g id=\"node19\" class=\"node\">\n<title>((17, 10), 0)</title>\n<ellipse fill=\"none\" stroke=\"black\" cx=\"1628.79\" cy=\"-453\" rx=\"65.79\" ry=\"18\"/>\n<text text-anchor=\"middle\" x=\"1628.79\" y=\"-449.3\" font-family=\"Times,serif\" font-size=\"14.00\">((17, 10), 0)</text>\n</g>\n<!-- ((16, 10), 0)&#45;&gt;((17, 10), 0) -->\n<g id=\"edge32\" class=\"edge\">\n<title>((16, 10), 0)&#45;&gt;((17, 10), 0)</title>\n<path fill=\"none\" stroke=\"black\" d=\"M1815.81,-524.96C1777.3,-510.35 1716.91,-487.44 1675.22,-471.62\"/>\n<polygon fill=\"black\" stroke=\"black\" points=\"1676.43,-468.33 1665.84,-468.06 1673.95,-474.88 1676.43,-468.33\"/>\n<text text-anchor=\"middle\" x=\"1782.29\" y=\"-492.8\" font-family=\"Times,serif\" font-size=\"14.00\">forward</text>\n</g>\n<!-- ((16, 10), 1) -->\n<g id=\"node21\" class=\"node\">\n<title>((16, 10), 1)</title>\n<ellipse fill=\"none\" stroke=\"black\" cx=\"1852.79\" cy=\"-453\" rx=\"65.79\" ry=\"18\"/>\n<text text-anchor=\"middle\" x=\"1852.79\" y=\"-449.3\" font-family=\"Times,serif\" font-size=\"14.00\">((16, 10), 1)</text>\n</g>\n<!-- ((16, 10), 0)&#45;&gt;((16, 10), 1) -->\n<g id=\"edge35\" class=\"edge\">\n<title>((16, 10), 0)&#45;&gt;((16, 10), 1)</title>\n<path fill=\"none\" stroke=\"black\" d=\"M1852.79,-521.8C1852.79,-510.16 1852.79,-494.55 1852.79,-481.24\"/>\n<polygon fill=\"black\" stroke=\"black\" points=\"1856.29,-481.18 1852.79,-471.18 1849.29,-481.18 1856.29,-481.18\"/>\n<text text-anchor=\"middle\" x=\"1870.79\" y=\"-492.8\" font-family=\"Times,serif\" font-size=\"14.00\">right</text>\n</g>\n<!-- ((16, 10), 3)&#45;&gt;((16, 10), 0) -->\n<g id=\"edge31\" class=\"edge\">\n<title>((16, 10), 3)&#45;&gt;((16, 10), 0)</title>\n<path fill=\"none\" stroke=\"black\" d=\"M1992.92,-471.05C1986.46,-481.91 1976.76,-495.49 1964.79,-504 1950.43,-514.22 1932.99,-521.53 1916.18,-526.72\"/>\n<polygon fill=\"black\" stroke=\"black\" points=\"1915.02,-523.41 1906.39,-529.55 1916.96,-530.14 1915.02,-523.41\"/>\n<text text-anchor=\"middle\" x=\"1996.79\" y=\"-492.8\" font-family=\"Times,serif\" font-size=\"14.00\">right</text>\n</g>\n<!-- ((16, 10), 3)&#45;&gt;((16, 10), 3) -->\n<g id=\"edge30\" class=\"edge\">\n<title>((16, 10), 3)&#45;&gt;((16, 10), 3)</title>\n<path fill=\"none\" stroke=\"black\" d=\"M2061.19,-460.72C2075.14,-460.08 2085.44,-457.51 2085.44,-453 2085.44,-449.69 2079.89,-447.42 2071.41,-446.2\"/>\n<polygon fill=\"black\" stroke=\"black\" points=\"2071.46,-442.69 2061.19,-445.28 2070.84,-449.66 2071.46,-442.69\"/>\n<text text-anchor=\"middle\" x=\"2113.94\" y=\"-449.3\" font-family=\"Times,serif\" font-size=\"14.00\">forward</text>\n</g>\n<!-- ((17, 10), 0)&#45;&gt;((17, 10), 0) -->\n<g id=\"edge34\" class=\"edge\">\n<title>((17, 10), 0)&#45;&gt;((17, 10), 0)</title>\n<path fill=\"none\" stroke=\"black\" d=\"M1688.19,-460.72C1702.14,-460.08 1712.44,-457.51 1712.44,-453 1712.44,-449.69 1706.89,-447.42 1698.41,-446.2\"/>\n<polygon fill=\"black\" stroke=\"black\" points=\"1698.46,-442.69 1688.19,-445.28 1697.84,-449.66 1698.46,-442.69\"/>\n<text text-anchor=\"middle\" x=\"1740.94\" y=\"-449.3\" font-family=\"Times,serif\" font-size=\"14.00\">forward</text>\n</g>\n<!-- ((17, 10), 3) -->\n<g id=\"node20\" class=\"node\">\n<title>((17, 10), 3)</title>\n<ellipse fill=\"none\" stroke=\"black\" cx=\"1662.79\" cy=\"-366\" rx=\"65.79\" ry=\"18\"/>\n<text text-anchor=\"middle\" x=\"1662.79\" y=\"-362.3\" font-family=\"Times,serif\" font-size=\"14.00\">((17, 10), 3)</text>\n</g>\n<!-- ((17, 10), 0)&#45;&gt;((17, 10), 3) -->\n<g id=\"edge33\" class=\"edge\">\n<title>((17, 10), 0)&#45;&gt;((17, 10), 3)</title>\n<path fill=\"none\" stroke=\"black\" d=\"M1635.68,-434.8C1640.38,-423.05 1646.7,-407.24 1652.06,-393.84\"/>\n<polygon fill=\"black\" stroke=\"black\" points=\"1655.46,-394.76 1655.92,-384.18 1648.96,-392.16 1655.46,-394.76\"/>\n<text text-anchor=\"middle\" x=\"1660.29\" y=\"-405.8\" font-family=\"Times,serif\" font-size=\"14.00\">left</text>\n</g>\n<!-- ((16, 10), 2) -->\n<g id=\"node22\" class=\"node\">\n<title>((16, 10), 2)</title>\n<ellipse fill=\"none\" stroke=\"black\" cx=\"1852.79\" cy=\"-366\" rx=\"65.79\" ry=\"18\"/>\n<text text-anchor=\"middle\" x=\"1852.79\" y=\"-362.3\" font-family=\"Times,serif\" font-size=\"14.00\">((16, 10), 2)</text>\n</g>\n<!-- ((16, 10), 1)&#45;&gt;((16, 10), 2) -->\n<g id=\"edge36\" class=\"edge\">\n<title>((16, 10), 1)&#45;&gt;((16, 10), 2)</title>\n<path fill=\"none\" stroke=\"black\" d=\"M1852.79,-434.8C1852.79,-423.16 1852.79,-407.55 1852.79,-394.24\"/>\n<polygon fill=\"black\" stroke=\"black\" points=\"1856.29,-394.18 1852.79,-384.18 1849.29,-394.18 1856.29,-394.18\"/>\n<text text-anchor=\"middle\" x=\"1870.79\" y=\"-405.8\" font-family=\"Times,serif\" font-size=\"14.00\">right</text>\n</g>\n<!-- ((15, 11), 2)&#45;&gt;((15, 11), 1) -->\n<g id=\"edge59\" class=\"edge\">\n<title>((15, 11), 2)&#45;&gt;((15, 11), 1)</title>\n<path fill=\"none\" stroke=\"black\" d=\"M1316.24,-378.17C1307.76,-380.12 1299.02,-382.12 1290.79,-384 1222.15,-399.7 1178.67,-375.64 1140.79,-435 1097.08,-503.52 1203.33,-573.01 1265.18,-606.1\"/>\n<polygon fill=\"black\" stroke=\"black\" points=\"1263.85,-609.36 1274.33,-610.9 1267.1,-603.16 1263.85,-609.36\"/>\n<text text-anchor=\"middle\" x=\"1152.29\" y=\"-492.8\" font-family=\"Times,serif\" font-size=\"14.00\">left</text>\n</g>\n<!-- ((14, 11), 2) -->\n<g id=\"node38\" class=\"node\">\n<title>((14, 11), 2)</title>\n<ellipse fill=\"none\" stroke=\"black\" cx=\"1364.79\" cy=\"-279\" rx=\"65.79\" ry=\"18\"/>\n<text text-anchor=\"middle\" x=\"1364.79\" y=\"-275.3\" font-family=\"Times,serif\" font-size=\"14.00\">((14, 11), 2)</text>\n</g>\n<!-- ((15, 11), 2)&#45;&gt;((14, 11), 2) -->\n<g id=\"edge56\" class=\"edge\">\n<title>((15, 11), 2)&#45;&gt;((14, 11), 2)</title>\n<path fill=\"none\" stroke=\"black\" d=\"M1364.79,-347.8C1364.79,-336.16 1364.79,-320.55 1364.79,-307.24\"/>\n<polygon fill=\"black\" stroke=\"black\" points=\"1368.29,-307.18 1364.79,-297.18 1361.29,-307.18 1368.29,-307.18\"/>\n<text text-anchor=\"middle\" x=\"1393.29\" y=\"-318.8\" font-family=\"Times,serif\" font-size=\"14.00\">forward</text>\n</g>\n<!-- ((15, 11), 2)&#45;&gt;((15, 11), 3) -->\n<g id=\"edge60\" class=\"edge\">\n<title>((15, 11), 2)&#45;&gt;((15, 11), 3)</title>\n<path fill=\"none\" stroke=\"black\" d=\"M1342.49,-383.31C1336.97,-388.59 1331.78,-394.93 1328.79,-402 1324.86,-411.31 1328.74,-420.56 1335.19,-428.53\"/>\n<polygon fill=\"black\" stroke=\"black\" points=\"1332.89,-431.18 1342.32,-436.02 1337.96,-426.36 1332.89,-431.18\"/>\n<text text-anchor=\"middle\" x=\"1346.79\" y=\"-405.8\" font-family=\"Times,serif\" font-size=\"14.00\">right</text>\n</g>\n<!-- ((13, 10), 1) -->\n<g id=\"node25\" class=\"node\">\n<title>((13, 10), 1)</title>\n<ellipse fill=\"none\" stroke=\"black\" cx=\"1762.79\" cy=\"-18\" rx=\"65.79\" ry=\"18\"/>\n<text text-anchor=\"middle\" x=\"1762.79\" y=\"-14.3\" font-family=\"Times,serif\" font-size=\"14.00\">((13, 10), 1)</text>\n</g>\n<!-- ((13, 10), 2)&#45;&gt;((13, 10), 1) -->\n<g id=\"edge40\" class=\"edge\">\n<title>((13, 10), 2)&#45;&gt;((13, 10), 1)</title>\n<path fill=\"none\" stroke=\"black\" d=\"M1822.98,-87.21C1811.99,-74.75 1796.83,-57.57 1784.48,-43.57\"/>\n<polygon fill=\"black\" stroke=\"black\" points=\"1786.82,-40.94 1777.58,-35.76 1781.57,-45.57 1786.82,-40.94\"/>\n<text text-anchor=\"middle\" x=\"1816.29\" y=\"-57.8\" font-family=\"Times,serif\" font-size=\"14.00\">left</text>\n</g>\n<!-- ((13, 10), 3) -->\n<g id=\"node26\" class=\"node\">\n<title>((13, 10), 3)</title>\n<ellipse fill=\"none\" stroke=\"black\" cx=\"1911.79\" cy=\"-18\" rx=\"65.79\" ry=\"18\"/>\n<text text-anchor=\"middle\" x=\"1911.79\" y=\"-14.3\" font-family=\"Times,serif\" font-size=\"14.00\">((13, 10), 3)</text>\n</g>\n<!-- ((13, 10), 2)&#45;&gt;((13, 10), 3) -->\n<g id=\"edge41\" class=\"edge\">\n<title>((13, 10), 2)&#45;&gt;((13, 10), 3)</title>\n<path fill=\"none\" stroke=\"black\" d=\"M1852.41,-87.21C1863.26,-74.75 1878.21,-57.57 1890.4,-43.57\"/>\n<polygon fill=\"black\" stroke=\"black\" points=\"1893.28,-45.6 1897.21,-35.76 1888,-41 1893.28,-45.6\"/>\n<text text-anchor=\"middle\" x=\"1896.79\" y=\"-57.8\" font-family=\"Times,serif\" font-size=\"14.00\">right</text>\n</g>\n<!-- ((14, 10), 1)&#45;&gt;((14, 10), 2) -->\n<g id=\"edge43\" class=\"edge\">\n<title>((14, 10), 1)&#45;&gt;((14, 10), 2)</title>\n<path fill=\"none\" stroke=\"black\" d=\"M1668.71,-122.25C1659.68,-131.63 1652,-143.93 1656.79,-156 1658.31,-159.82 1660.47,-163.47 1662.95,-166.86\"/>\n<polygon fill=\"black\" stroke=\"black\" points=\"1660.52,-169.4 1669.66,-174.75 1665.85,-164.86 1660.52,-169.4\"/>\n<text text-anchor=\"middle\" x=\"1674.79\" y=\"-144.8\" font-family=\"Times,serif\" font-size=\"14.00\">right</text>\n</g>\n<!-- ((15, 12), 2) -->\n<g id=\"node30\" class=\"node\">\n<title>((15, 12), 2)</title>\n<ellipse fill=\"none\" stroke=\"black\" cx=\"878.79\" cy=\"-453\" rx=\"65.79\" ry=\"18\"/>\n<text text-anchor=\"middle\" x=\"878.79\" y=\"-449.3\" font-family=\"Times,serif\" font-size=\"14.00\">((15, 12), 2)</text>\n</g>\n<!-- ((15, 12), 1)&#45;&gt;((15, 12), 2) -->\n<g id=\"edge46\" class=\"edge\">\n<title>((15, 12), 1)&#45;&gt;((15, 12), 2)</title>\n<path fill=\"none\" stroke=\"black\" d=\"M938.17,-522.21C927.33,-509.75 912.38,-492.57 900.19,-478.57\"/>\n<polygon fill=\"black\" stroke=\"black\" points=\"902.59,-476 893.38,-470.76 897.31,-480.6 902.59,-476\"/>\n<text text-anchor=\"middle\" x=\"937.79\" y=\"-492.8\" font-family=\"Times,serif\" font-size=\"14.00\">right</text>\n</g>\n<!-- ((15, 13), 1) -->\n<g id=\"node32\" class=\"node\">\n<title>((15, 13), 1)</title>\n<ellipse fill=\"none\" stroke=\"black\" cx=\"674.79\" cy=\"-453\" rx=\"65.79\" ry=\"18\"/>\n<text text-anchor=\"middle\" x=\"674.79\" y=\"-449.3\" font-family=\"Times,serif\" font-size=\"14.00\">((15, 13), 1)</text>\n</g>\n<!-- ((15, 12), 1)&#45;&gt;((15, 13), 1) -->\n<g id=\"edge49\" class=\"edge\">\n<title>((15, 12), 1)&#45;&gt;((15, 13), 1)</title>\n<path fill=\"none\" stroke=\"black\" d=\"M903.95,-527.8C877.41,-521.42 844.11,-512.93 814.79,-504 783.13,-494.35 748.06,-481.82 720.93,-471.72\"/>\n<polygon fill=\"black\" stroke=\"black\" points=\"721.92,-468.35 711.32,-468.12 719.46,-474.91 721.92,-468.35\"/>\n<text text-anchor=\"middle\" x=\"843.29\" y=\"-492.8\" font-family=\"Times,serif\" font-size=\"14.00\">forward</text>\n</g>\n<!-- ((15, 12), 0) -->\n<g id=\"node36\" class=\"node\">\n<title>((15, 12), 0)</title>\n<ellipse fill=\"none\" stroke=\"black\" cx=\"1027.79\" cy=\"-453\" rx=\"65.79\" ry=\"18\"/>\n<text text-anchor=\"middle\" x=\"1027.79\" y=\"-449.3\" font-family=\"Times,serif\" font-size=\"14.00\">((15, 12), 0)</text>\n</g>\n<!-- ((15, 12), 1)&#45;&gt;((15, 12), 0) -->\n<g id=\"edge53\" class=\"edge\">\n<title>((15, 12), 1)&#45;&gt;((15, 12), 0)</title>\n<path fill=\"none\" stroke=\"black\" d=\"M961.52,-521.8C967.11,-511.66 974.97,-498.92 983.79,-489 987.7,-484.61 992.2,-480.35 996.81,-476.39\"/>\n<polygon fill=\"black\" stroke=\"black\" points=\"999.02,-479.1 1004.56,-470.07 994.6,-473.68 999.02,-479.1\"/>\n<text text-anchor=\"middle\" x=\"996.29\" y=\"-492.8\" font-family=\"Times,serif\" font-size=\"14.00\">left</text>\n</g>\n<!-- ((15, 12), 2)&#45;&gt;((15, 12), 1) -->\n<g id=\"edge47\" class=\"edge\">\n<title>((15, 12), 2)&#45;&gt;((15, 12), 1)</title>\n<path fill=\"none\" stroke=\"black\" d=\"M875.75,-471.1C874.84,-481.44 875.44,-494.44 881.79,-504 886.55,-511.16 893.22,-516.91 900.58,-521.51\"/>\n<polygon fill=\"black\" stroke=\"black\" points=\"899.02,-524.65 909.47,-526.4 902.4,-518.51 899.02,-524.65\"/>\n<text text-anchor=\"middle\" x=\"894.29\" y=\"-492.8\" font-family=\"Times,serif\" font-size=\"14.00\">left</text>\n</g>\n<!-- ((14, 12), 2) -->\n<g id=\"node31\" class=\"node\">\n<title>((14, 12), 2)</title>\n<ellipse fill=\"none\" stroke=\"black\" cx=\"917.79\" cy=\"-366\" rx=\"65.79\" ry=\"18\"/>\n<text text-anchor=\"middle\" x=\"917.79\" y=\"-362.3\" font-family=\"Times,serif\" font-size=\"14.00\">((14, 12), 2)</text>\n</g>\n<!-- ((15, 12), 2)&#45;&gt;((14, 12), 2) -->\n<g id=\"edge48\" class=\"edge\">\n<title>((15, 12), 2)&#45;&gt;((14, 12), 2)</title>\n<path fill=\"none\" stroke=\"black\" d=\"M886.69,-434.8C892.17,-422.85 899.57,-406.72 905.78,-393.18\"/>\n<polygon fill=\"black\" stroke=\"black\" points=\"909.06,-394.43 910.05,-383.89 902.7,-391.51 909.06,-394.43\"/>\n<text text-anchor=\"middle\" x=\"928.29\" y=\"-405.8\" font-family=\"Times,serif\" font-size=\"14.00\">forward</text>\n</g>\n<!-- ((15, 13), 0) -->\n<g id=\"node33\" class=\"node\">\n<title>((15, 13), 0)</title>\n<ellipse fill=\"none\" stroke=\"black\" cx=\"619.79\" cy=\"-366\" rx=\"65.79\" ry=\"18\"/>\n<text text-anchor=\"middle\" x=\"619.79\" y=\"-362.3\" font-family=\"Times,serif\" font-size=\"14.00\">((15, 13), 0)</text>\n</g>\n<!-- ((15, 13), 1)&#45;&gt;((15, 13), 0) -->\n<g id=\"edge50\" class=\"edge\">\n<title>((15, 13), 1)&#45;&gt;((15, 13), 0)</title>\n<path fill=\"none\" stroke=\"black\" d=\"M663.93,-435.21C656.02,-422.98 645.17,-406.21 636.21,-392.36\"/>\n<polygon fill=\"black\" stroke=\"black\" points=\"639.01,-390.25 630.64,-383.76 633.13,-394.06 639.01,-390.25\"/>\n<text text-anchor=\"middle\" x=\"662.29\" y=\"-405.8\" font-family=\"Times,serif\" font-size=\"14.00\">left</text>\n</g>\n<!-- ((15, 14), 1) -->\n<g id=\"node34\" class=\"node\">\n<title>((15, 14), 1)</title>\n<ellipse fill=\"none\" stroke=\"black\" cx=\"768.79\" cy=\"-366\" rx=\"65.79\" ry=\"18\"/>\n<text text-anchor=\"middle\" x=\"768.79\" y=\"-362.3\" font-family=\"Times,serif\" font-size=\"14.00\">((15, 14), 1)</text>\n</g>\n<!-- ((15, 13), 1)&#45;&gt;((15, 14), 1) -->\n<g id=\"edge51\" class=\"edge\">\n<title>((15, 13), 1)&#45;&gt;((15, 14), 1)</title>\n<path fill=\"none\" stroke=\"black\" d=\"M692.92,-435.61C707.22,-422.68 727.35,-404.47 743.29,-390.07\"/>\n<polygon fill=\"black\" stroke=\"black\" points=\"745.66,-392.64 750.73,-383.34 740.96,-387.45 745.66,-392.64\"/>\n<text text-anchor=\"middle\" x=\"755.29\" y=\"-405.8\" font-family=\"Times,serif\" font-size=\"14.00\">forward</text>\n</g>\n<!-- ((15, 13), 2) -->\n<g id=\"node35\" class=\"node\">\n<title>((15, 13), 2)</title>\n<ellipse fill=\"none\" stroke=\"black\" cx=\"470.79\" cy=\"-366\" rx=\"65.79\" ry=\"18\"/>\n<text text-anchor=\"middle\" x=\"470.79\" y=\"-362.3\" font-family=\"Times,serif\" font-size=\"14.00\">((15, 13), 2)</text>\n</g>\n<!-- ((15, 13), 1)&#45;&gt;((15, 13), 2) -->\n<g id=\"edge52\" class=\"edge\">\n<title>((15, 13), 1)&#45;&gt;((15, 13), 2)</title>\n<path fill=\"none\" stroke=\"black\" d=\"M640.19,-437.58C605.65,-423.19 552.45,-401.02 514.9,-385.38\"/>\n<polygon fill=\"black\" stroke=\"black\" points=\"515.81,-381.96 505.23,-381.35 513.11,-388.42 515.81,-381.96\"/>\n<text text-anchor=\"middle\" x=\"602.79\" y=\"-405.8\" font-family=\"Times,serif\" font-size=\"14.00\">right</text>\n</g>\n<!-- ((15, 12), 0)&#45;&gt;((15, 12), 1) -->\n<g id=\"edge55\" class=\"edge\">\n<title>((15, 12), 0)&#45;&gt;((15, 12), 1)</title>\n<path fill=\"none\" stroke=\"black\" d=\"M1024.22,-471.16C1021.38,-481.53 1016.58,-494.53 1008.79,-504 1004.35,-509.42 998.83,-514.24 993,-518.45\"/>\n<polygon fill=\"black\" stroke=\"black\" points=\"990.76,-515.74 984.34,-524.17 994.62,-521.58 990.76,-515.74\"/>\n<text text-anchor=\"middle\" x=\"1035.79\" y=\"-492.8\" font-family=\"Times,serif\" font-size=\"14.00\">right</text>\n</g>\n<!-- ((15, 12), 3) -->\n<g id=\"node37\" class=\"node\">\n<title>((15, 12), 3)</title>\n<ellipse fill=\"none\" stroke=\"black\" cx=\"1066.79\" cy=\"-366\" rx=\"65.79\" ry=\"18\"/>\n<text text-anchor=\"middle\" x=\"1066.79\" y=\"-362.3\" font-family=\"Times,serif\" font-size=\"14.00\">((15, 12), 3)</text>\n</g>\n<!-- ((15, 12), 0)&#45;&gt;((15, 12), 3) -->\n<g id=\"edge54\" class=\"edge\">\n<title>((15, 12), 0)&#45;&gt;((15, 12), 3)</title>\n<path fill=\"none\" stroke=\"black\" d=\"M1035.69,-434.8C1041.17,-422.85 1048.57,-406.72 1054.78,-393.18\"/>\n<polygon fill=\"black\" stroke=\"black\" points=\"1058.06,-394.43 1059.05,-383.89 1051.7,-391.51 1058.06,-394.43\"/>\n<text text-anchor=\"middle\" x=\"1061.29\" y=\"-405.8\" font-family=\"Times,serif\" font-size=\"14.00\">left</text>\n</g>\n<!-- ((14, 11), 1) -->\n<g id=\"node39\" class=\"node\">\n<title>((14, 11), 1)</title>\n<ellipse fill=\"none\" stroke=\"black\" cx=\"1505.79\" cy=\"-192\" rx=\"65.79\" ry=\"18\"/>\n<text text-anchor=\"middle\" x=\"1505.79\" y=\"-188.3\" font-family=\"Times,serif\" font-size=\"14.00\">((14, 11), 1)</text>\n</g>\n<!-- ((14, 11), 2)&#45;&gt;((14, 11), 1) -->\n<g id=\"edge57\" class=\"edge\">\n<title>((14, 11), 2)&#45;&gt;((14, 11), 1)</title>\n<path fill=\"none\" stroke=\"black\" d=\"M1390.66,-262.41C1413.17,-248.84 1446.01,-229.04 1470.86,-214.06\"/>\n<polygon fill=\"black\" stroke=\"black\" points=\"1472.86,-216.94 1479.62,-208.78 1469.25,-210.94 1472.86,-216.94\"/>\n<text text-anchor=\"middle\" x=\"1455.29\" y=\"-231.8\" font-family=\"Times,serif\" font-size=\"14.00\">left</text>\n</g>\n<!-- ((13, 11), 2) -->\n<g id=\"node40\" class=\"node\">\n<title>((13, 11), 2)</title>\n<ellipse fill=\"none\" stroke=\"black\" cx=\"1356.79\" cy=\"-192\" rx=\"65.79\" ry=\"18\"/>\n<text text-anchor=\"middle\" x=\"1356.79\" y=\"-188.3\" font-family=\"Times,serif\" font-size=\"14.00\">((13, 11), 2)</text>\n</g>\n<!-- ((14, 11), 2)&#45;&gt;((13, 11), 2) -->\n<g id=\"edge58\" class=\"edge\">\n<title>((14, 11), 2)&#45;&gt;((13, 11), 2)</title>\n<path fill=\"none\" stroke=\"black\" d=\"M1363.18,-260.8C1362.08,-249.16 1360.61,-233.55 1359.36,-220.24\"/>\n<polygon fill=\"black\" stroke=\"black\" points=\"1362.83,-219.8 1358.41,-210.18 1355.86,-220.46 1362.83,-219.8\"/>\n<text text-anchor=\"middle\" x=\"1389.29\" y=\"-231.8\" font-family=\"Times,serif\" font-size=\"14.00\">forward</text>\n</g>\n<!-- ((15, 11), 3)&#45;&gt;((15, 10), 3) -->\n<g id=\"edge64\" class=\"edge\">\n<title>((15, 11), 3)&#45;&gt;((15, 10), 3)</title>\n<path fill=\"none\" stroke=\"black\" d=\"M1381.86,-435.57C1393.54,-424.98 1409.75,-411.46 1425.79,-402 1437.53,-395.08 1450.89,-388.97 1463.6,-383.88\"/>\n<polygon fill=\"black\" stroke=\"black\" points=\"1465.08,-387.06 1473.14,-380.18 1462.56,-380.53 1465.08,-387.06\"/>\n<text text-anchor=\"middle\" x=\"1454.29\" y=\"-405.8\" font-family=\"Times,serif\" font-size=\"14.00\">forward</text>\n</g>\n<!-- ((15, 11), 3)&#45;&gt;((15, 11), 0) -->\n<g id=\"edge61\" class=\"edge\">\n<title>((15, 11), 3)&#45;&gt;((15, 11), 0)</title>\n<path fill=\"none\" stroke=\"black\" d=\"M1328.73,-468.22C1320.06,-473.42 1311.85,-480.24 1306.79,-489 1302.91,-495.72 1301.62,-503.84 1301.58,-511.57\"/>\n<polygon fill=\"black\" stroke=\"black\" points=\"1298.09,-511.91 1302.18,-521.69 1305.08,-511.5 1298.09,-511.91\"/>\n<text text-anchor=\"middle\" x=\"1324.79\" y=\"-492.8\" font-family=\"Times,serif\" font-size=\"14.00\">right</text>\n</g>\n<!-- ((15, 11), 3)&#45;&gt;((15, 11), 2) -->\n<g id=\"edge63\" class=\"edge\">\n<title>((15, 11), 3)&#45;&gt;((15, 11), 2)</title>\n<path fill=\"none\" stroke=\"black\" d=\"M1323.63,-438.72C1304.66,-430.19 1288.24,-417.77 1297.79,-402 1301.91,-395.21 1307.81,-389.68 1314.44,-385.19\"/>\n<polygon fill=\"black\" stroke=\"black\" points=\"1316.32,-388.14 1323.13,-380.03 1312.75,-382.12 1316.32,-388.14\"/>\n<text text-anchor=\"middle\" x=\"1310.29\" y=\"-405.8\" font-family=\"Times,serif\" font-size=\"14.00\">left</text>\n</g>\n<!-- ((16, 11), 3) -->\n<g id=\"node43\" class=\"node\">\n<title>((16, 11), 3)</title>\n<ellipse fill=\"none\" stroke=\"black\" cx=\"1215.79\" cy=\"-366\" rx=\"65.79\" ry=\"18\"/>\n<text text-anchor=\"middle\" x=\"1215.79\" y=\"-362.3\" font-family=\"Times,serif\" font-size=\"14.00\">((16, 11), 3)</text>\n</g>\n<!-- ((16, 11), 0)&#45;&gt;((16, 11), 3) -->\n<g id=\"edge67\" class=\"edge\">\n<title>((16, 11), 0)&#45;&gt;((16, 11), 3)</title>\n<path fill=\"none\" stroke=\"black\" d=\"M1215.79,-434.8C1215.79,-423.16 1215.79,-407.55 1215.79,-394.24\"/>\n<polygon fill=\"black\" stroke=\"black\" points=\"1219.29,-394.18 1215.79,-384.18 1212.29,-394.18 1219.29,-394.18\"/>\n<text text-anchor=\"middle\" x=\"1228.29\" y=\"-405.8\" font-family=\"Times,serif\" font-size=\"14.00\">left</text>\n</g>\n</g>\n</svg>\n",
      "text/plain": [
       "<graphviz.graphs.Digraph at 0x7f5b58b79c90>"
      ]
     },
     "execution_count": 62,
     "metadata": {},
     "output_type": "execute_result"
    },
    {
     "data": {
      "image/png": "[encoded data removed]",
      "text/plain": [
       "<Figure size 640x480 with 1 Axes>"
      ]
     },
     "metadata": {},
     "output_type": "display_data"
    }
   ],
   "source": [
    "model = FourRoomsModel()\n",
    "env = FourRoomsEnvPos(agent_pos=(15, 9), goal_pos=(16,16))\n",
    "\n",
    "obs = env.reset(seed=42)\n",
    "# mcts = MCTS(obs, model, {\"iters\": 2000, \"sim_depth\": 5, \"heuristic\": [0.0, 0.0, 0.0, 0.0, 0.0, 1.0]})\n",
    "# action, root = MCTS(obs, model, {\"iters\": 5000, \"sim_depth\": 1, \"expansion_heuristic\": np.array([1/3, 1/3, 1/3, 0, 0, 0, 0])}).search()\n",
    "action, root = MCTS(obs, model, {\"iters\": 200, \"sim_depth\": 80}).search()\n",
    "\n",
    "freqs = unpack_visits(root, visit_freqs=defaultdict(lambda: 0))\n",
    "\n",
    "grid = np.zeros((19, 19))\n",
    "for loc, visits in freqs.items():\n",
    "    grid[loc[0][1], loc[0][0]] += visits\n",
    "\n",
    "grid = np.log(grid)\n",
    "grid[grid == -np.inf] = 0\n",
    "plt.imshow(grid)\n",
    "plt.title(\"Vistation frequencies in Four Rooms.\")\n",
    "plt.axis(\"off\")\n",
    "# plt.savefig(\"./four-rooms/visits.png\")\n",
    "\n",
    "graph = unpack(root, graphviz.Digraph(), set(), action_map=action_map)\n",
    "# graph.render()\n",
    "graph"
   ]
  },
  {
   "cell_type": "code",
   "execution_count": 25,
   "metadata": {},
   "outputs": [
    {
     "data": {
      "text/plain": [
       "array([0, 2, 4])"
      ]
     },
     "execution_count": 25,
     "metadata": {},
     "output_type": "execute_result"
    }
   ],
   "source": [
    "a = np.array([0, 1, 2, 3, 4])\n",
    "a[[0, 2, 4]]"
   ]
  },
  {
   "cell_type": "code",
   "execution_count": null,
   "metadata": {},
   "outputs": [],
   "source": []
  }
 ],
 "metadata": {
  "kernelspec": {
   "display_name": "Python 3.10.6 64-bit",
   "language": "python",
   "name": "python3"
  },
  "language_info": {
   "codemirror_mode": {
    "name": "ipython",
    "version": 3
   },
   "file_extension": ".py",
   "mimetype": "text/x-python",
   "name": "python",
   "nbconvert_exporter": "python",
   "pygments_lexer": "ipython3",
   "version": "3.10.6"
  },
  "orig_nbformat": 4,
  "vscode": {
   "interpreter": {
    "hash": "e7370f93d1d0cde622a1f8e1c04877d8463912d04d973331ad4851f04de6915a"
   }
  }
 },
 "nbformat": 4,
 "nbformat_minor": 2
}
