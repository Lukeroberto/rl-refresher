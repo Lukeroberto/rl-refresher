{
 "cells": [
  {
   "cell_type": "code",
   "execution_count": 120,
   "metadata": {},
   "outputs": [],
   "source": [
    "import gym\n",
    "from gym import wrappers\n",
    "from gym.spaces.utils import flatdim\n",
    "import torch as pt\n",
    "import cv2\n",
    "\n",
    "import numpy as np\n",
    "import matplotlib.pyplot as plt\n",
    "from tqdm import trange, tqdm\n",
    "\n",
    "import io\n",
    "import base64\n",
    "from IPython.display import HTML\n",
    "\n",
    "# Comment out for debugging\n",
    "import warnings\n",
    "warnings.filterwarnings('ignore')"
   ]
  },
  {
   "cell_type": "code",
   "execution_count": 121,
   "metadata": {},
   "outputs": [],
   "source": [
    "def play_video(ep_number: int):\n",
    "    video = io.open(f\"./gym-results/rl-video-episode-{ep_number}.mp4\", 'r+b').read()\n",
    "    encoded = base64.b64encode(video)\n",
    "    return HTML(data='''\n",
    "        <video width=\"360\" height=\"auto\" alt=\"test\" controls><source src=\"data:video/mp4;base64,{0}\" type=\"video/mp4\" /></video>'''\n",
    "    .format(encoded.decode('ascii')))\n",
    "\n",
    "def smooth(y, box_pts):\n",
    "    box = np.ones(box_pts)/box_pts\n",
    "    y_smooth = np.convolve(y, box, mode='valid')\n",
    "    return y_smooth"
   ]
  },
  {
   "cell_type": "code",
   "execution_count": 122,
   "metadata": {},
   "outputs": [
    {
     "name": "stderr",
     "output_type": "stream",
     "text": [
      "100%|██████████| 1000/1000 [00:00<00:00, 1092.73it/s]\n"
     ]
    },
    {
     "data": {
      "text/plain": [
       "Text(0.5, 1.0, 'Rewards over 2 episodes')"
      ]
     },
     "execution_count": 122,
     "metadata": {},
     "output_type": "execute_result"
    },
    {
     "data": {
      "image/png": "[encoded data removed]",
      "text/plain": [
       "<Figure size 640x480 with 1 Axes>"
      ]
     },
     "metadata": {},
     "output_type": "display_data"
    }
   ],
   "source": [
    "env = gym.make(\"ALE/Pong-v5\")\n",
    "env = wrappers.RecordVideo(env, \"./gym-results\", new_step_api=True)\n",
    "env.reset(seed=42)\n",
    "\n",
    "# hyperparams\n",
    "num_steps = 1000\n",
    "random_rewards = [0]\n",
    "random_lengths = [0]\n",
    "ep_len = 0\n",
    "for _ in trange(num_steps):\n",
    "   action = env.action_space.sample() \n",
    "   observation, reward, done, info, _ = env.step(action)\n",
    "\n",
    "   if done:\n",
    "      random_rewards.append(reward)\n",
    "      random_lengths.append(ep_len)\n",
    "      observation = env.reset()\n",
    "      ep_len = 0\n",
    "   \n",
    "   ep_len += 1\n",
    "env.close()\n",
    "\n",
    "plt.plot(smooth(random_rewards, 200))\n",
    "plt.title(f\"Rewards over {len(random_rewards)} episodes\")"
   ]
  },
  {
   "cell_type": "code",
   "execution_count": 123,
   "metadata": {},
   "outputs": [],
   "source": [
    "import collections\n",
    "# Several useful wrapper environments\n",
    "class FireResetEnv(gym.Wrapper):\n",
    "    def __init__(self, env=None):\n",
    "        super(FireResetEnv, self).__init__(env)\n",
    "        assert env.unwrapped.get_action_meanings()[1] == 'FIRE'\n",
    "        assert len(env.unwrapped.get_action_meanings()) >= 3\n",
    "    \n",
    "    def step(self, action):\n",
    "        return self.env.step(action)\n",
    "       \n",
    "def reset(self):\n",
    "    self.env.reset()\n",
    "    obs, _, done, _ = self.env.step(1)\n",
    "    if done:\n",
    "        self.env.reset()\n",
    "    obs, _, done, _ = self.env.step(2)\n",
    "    if done:\n",
    "        self.env.reset()\n",
    "    return obs\n",
    "\n",
    "class MaxAndSkipEnv(gym.Wrapper):\n",
    "    def __init__(self, env=None, skip=4):\n",
    "        super(MaxAndSkipEnv, self).__init__(env)\n",
    "        self._obs_buffer = collections.deque(maxlen=2)\n",
    "        self._skip = skip\n",
    "        \n",
    "    def step(self, action):\n",
    "        total_reward = 0.0\n",
    "        done = None\n",
    "        for _ in range(self._skip):\n",
    "           obs, reward, done, info, _ = self.env.step(action)\n",
    "           self._obs_buffer.append(obs)\n",
    "           total_reward += reward\n",
    "           if done:\n",
    "               break\n",
    "        max_frame = np.max(np.stack(self._obs_buffer), axis=0)\n",
    "        return max_frame, total_reward, done, info, _\n",
    "\n",
    "    def reset(self):\n",
    "       self._obs_buffer.clear()\n",
    "       obs = self.env.reset()\n",
    "       self._obs_buffer.append(obs)\n",
    "       return obs\n",
    "\n",
    "# TODO: Still produces broken ball and split user paddle\n",
    "class ProcessFrame84(gym.ObservationWrapper):\n",
    "    def __init__(self, env=None):\n",
    "        super(ProcessFrame84, self).__init__(env)\n",
    "        self.observation_space = gym.spaces.Box(low=0, high=255, \n",
    "                            shape=(84, 84, 1), dtype=np.uint8)\n",
    "    \n",
    "    def observation(self, obs):\n",
    "        return ProcessFrame84.process(obs)\n",
    "         \n",
    "    @staticmethod\n",
    "    def process(frame):\n",
    "        if frame.size == 210 * 160 * 3:\n",
    "            img = np.reshape(frame, [210, 160,  3]).astype(np.float32)\n",
    "        elif frame.size == 250 * 160 * 3:\n",
    "            img = np.reshape(frame, [250, 160, 3]).astype(np.float32)\n",
    "        else:\n",
    "            assert False, \"Unknown resolution.\" \n",
    "\n",
    "        img = img[:, :, 0] * 0.299 + img[:, :, 1] * 0.587 + img[:, :, 2] * 0.114\n",
    "        resized_screen = cv2.resize(img, (84, 110),            \n",
    "                        interpolation=cv2.INTER_AREA)\n",
    "        x_t = resized_screen[16:100, :] # remove scoreboard + bottom\n",
    "        x_t = np.reshape(x_t, [84, 84, 1])\n",
    "        return x_t.astype(np.uint8)\n",
    "\n",
    "class ImageToPyTorch(gym.ObservationWrapper):\n",
    "    def __init__(self, env):\n",
    "        super(ImageToPyTorch, self).__init__(env)\n",
    "        old_shape = self.observation_space.shape\n",
    "        self.observation_space = gym.spaces.Box(low=0.0, high=1.0,            \n",
    "                                shape=(old_shape[-1], \n",
    "                                old_shape[0], old_shape[1]),\n",
    "                                dtype=np.float32)\n",
    "    def observation(self, observation):\n",
    "      return np.moveaxis(observation, 2, 0)\n",
    "\n",
    "# Stacks several frames together\n",
    "class BufferWrapper(gym.ObservationWrapper):\n",
    "    def __init__(self, env, n_steps, dtype=np.float32):\n",
    "        super(BufferWrapper, self).__init__(env)\n",
    "        self.dtype = dtype\n",
    "        old_space = env.observation_space\n",
    "        self.observation_space = \\\n",
    "                 gym.spaces.Box(old_space.low.repeat(n_steps, \n",
    "                 axis=0),old_space.high.repeat(n_steps, axis=0),     \n",
    "                 dtype=dtype)\n",
    "    def reset(self):\n",
    "        self.buffer = np.zeros_like(self.observation_space.low,\n",
    "        dtype=self.dtype)\n",
    "        return self.observation(self.env.reset())\n",
    "        \n",
    "    def observation(self, observation):\n",
    "        self.buffer[:-1] = self.buffer[1:]\n",
    "        self.buffer[-1] = observation\n",
    "        return self.buffer\n",
    "\n",
    "class ScaledFloatFrame(gym.ObservationWrapper):\n",
    "     def observation(self, obs):\n",
    "         return np.array(obs).astype(np.float32) / 255.0\n",
    "\n",
    "def make_pong():\n",
    "   env = gym.make(\"ALE/Pong-v5\")\n",
    "   env = wrappers.RecordVideo(env, \"./gym-results\", new_step_api=True)\n",
    "   env = MaxAndSkipEnv(env)\n",
    "   env = FireResetEnv(env)\n",
    "   env = ProcessFrame84(env)\n",
    "   env = ImageToPyTorch(env)\n",
    "   env = BufferWrapper(env, 4)\n",
    "   env = ScaledFloatFrame(env)\n",
    "   env.reset()\n",
    "\n",
    "   return env\n",
    "\n"
   ]
  },
  {
   "cell_type": "code",
   "execution_count": 152,
   "metadata": {},
   "outputs": [
    {
     "name": "stdout",
     "output_type": "stream",
     "text": [
      "DQN(\n",
      "  (conv1): Conv2d(4, 16, kernel_size=(8, 8), stride=(4, 4))\n",
      "  (conv2): Conv2d(16, 32, kernel_size=(4, 4), stride=(2, 2))\n",
      "  (fc1): LazyLinear(in_features=0, out_features=256, bias=True)\n",
      "  (out): LazyLinear(in_features=0, out_features=6, bias=True)\n",
      ")\n",
      "tensor([ 0.0361,  0.0356, -0.0604, -0.0667, -0.0129,  0.0235],\n",
      "       grad_fn=<AddBackward0>)\n"
     ]
    }
   ],
   "source": [
    "import torch.nn as nn\n",
    "\n",
    "class DQN(nn.Module):\n",
    "    REPLAY_SIZE = 1000\n",
    "\n",
    "    def __init__(self, obs_space, act_space):\n",
    "        super(DQN, self).__init__()\n",
    "        self.obs_shape = obs_space.low.shape\n",
    "        self.act_shape = flatdim(act_space)\n",
    "        self.replay_memory = []\n",
    "\n",
    "        self.conv1 = nn.Conv2d(self.obs_shape[0], 16, 8, stride=4)\n",
    "        self.conv2 = nn.Conv2d(16, 32, 4, stride=2)\n",
    "        self.fc1 = nn.LazyLinear(256)\n",
    "        self.out = nn.LazyLinear(self.act_shape)\n",
    "    \n",
    "    def remember(self, transition):\n",
    "        self.replay_memory[-1] = transition\n",
    "    \n",
    "    def forward(self, x):\n",
    "        x = self.conv1(x)\n",
    "        x = nn.ReLU()(x)\n",
    "        x = self.conv2(x)\n",
    "        x = nn.ReLU()(x)\n",
    "        x = self.fc1(x.view(-1))\n",
    "        x = nn.ReLU()(x)\n",
    "        return self.out(x)\n",
    "\n",
    "\n",
    "    def act(self, observation):\n",
    "        pass\n",
    "\n",
    "    def train_batch(self):\n",
    "        pass\n",
    "\n",
    "\n",
    "\n",
    "\n",
    "# Test\n",
    "env = make_pong()\n",
    "\n",
    "dqn = DQN(env.observation_space, env.action_space)\n",
    "print(dqn)\n",
    "obs, _, _, _, _ = env.step(env.action_space.sample())\n",
    "print(dqn(pt.tensor(obs)))\n"
   ]
  },
  {
   "cell_type": "code",
   "execution_count": 148,
   "metadata": {},
   "outputs": [
    {
     "name": "stderr",
     "output_type": "stream",
     "text": [
      "100%|██████████| 10/10 [00:00<00:00, 171.68it/s]\n"
     ]
    },
    {
     "name": "stdout",
     "output_type": "stream",
     "text": [
      "(4, 84, 84)\n",
      "(4, 84, 84)\n",
      "(4, 84, 84)\n",
      "(4, 84, 84)\n",
      "(4, 84, 84)\n",
      "(4, 84, 84)\n",
      "(4, 84, 84)\n",
      "(4, 84, 84)\n",
      "(4, 84, 84)\n",
      "(4, 84, 84)\n"
     ]
    },
    {
     "data": {
      "image/png": "[encoded data removed]",
      "text/plain": [
       "<Figure size 640x480 with 1 Axes>"
      ]
     },
     "metadata": {},
     "output_type": "display_data"
    }
   ],
   "source": [
    "env = make_pong()\n",
    "# hyperparams\n",
    "num_steps = 10\n",
    "random_rewards = [0]\n",
    "random_lengths = [0]\n",
    "ep_len = 0\n",
    "for _ in trange(num_steps):\n",
    "   action = env.action_space.sample() \n",
    "   observation, reward, done, info, _ = env.step(action)\n",
    "   print(observation.shape)\n",
    "\n",
    "   if done:\n",
    "      random_rewards.append(reward)\n",
    "      random_lengths.append(ep_len)\n",
    "      observation = env.reset()\n",
    "      ep_len = 0\n",
    "   \n",
    "   ep_len += 1\n",
    "\n",
    "plt.imshow(observation[3, :, :])\n",
    "env.close()"
   ]
  },
  {
   "cell_type": "code",
   "execution_count": null,
   "metadata": {},
   "outputs": [],
   "source": []
  },
  {
   "cell_type": "code",
   "execution_count": 126,
   "metadata": {},
   "outputs": [
    {
     "data": {
      "text/html": [
       "\n",
       "        <video width=\"360\" height=\"auto\" alt=\"test\" controls><source src=\"data:video/mp4;base64,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\" type=\"video/mp4\" /></video>"
      ],
      "text/plain": [
       "<IPython.core.display.HTML object>"
      ]
     },
     "execution_count": 126,
     "metadata": {},
     "output_type": "execute_result"
    }
   ],
   "source": [
    "play_video(0)"
   ]
  },
  {
   "cell_type": "code",
   "execution_count": null,
   "metadata": {},
   "outputs": [],
   "source": []
  }
 ],
 "metadata": {
  "kernelspec": {
   "display_name": "Python 3.10.4 ('rl-env')",
   "language": "python",
   "name": "python3"
  },
  "language_info": {
   "codemirror_mode": {
    "name": "ipython",
    "version": 3
   },
   "file_extension": ".py",
   "mimetype": "text/x-python",
   "name": "python",
   "nbconvert_exporter": "python",
   "pygments_lexer": "ipython3",
   "version": "3.10.4"
  },
  "orig_nbformat": 4,
  "vscode": {
   "interpreter": {
    "hash": "a926d3def179f663025bb8437b068ade0395ea661c618295799790ac4630b864"
   }
  }
 },
 "nbformat": 4,
 "nbformat_minor": 2
}
