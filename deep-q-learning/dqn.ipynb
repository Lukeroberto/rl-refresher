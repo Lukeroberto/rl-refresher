{
 "cells": [
  {
   "cell_type": "code",
   "execution_count": 48,
   "metadata": {},
   "outputs": [],
   "source": [
    "import gym\n",
    "from gym import wrappers\n",
    "from gym.spaces.utils import flatdim\n",
    "import torch as pt\n",
    "import cv2\n",
    "\n",
    "import numpy as np\n",
    "import matplotlib.pyplot as plt\n",
    "from tqdm import trange, tqdm\n",
    "\n",
    "import io\n",
    "import base64\n",
    "from IPython.display import HTML\n",
    "\n",
    "# Comment out for debugging\n",
    "import warnings\n",
    "warnings.filterwarnings('ignore')"
   ]
  },
  {
   "cell_type": "code",
   "execution_count": 49,
   "metadata": {},
   "outputs": [],
   "source": [
    "def play_video(ep_number: int):\n",
    "    video = io.open(f\"./gym-results/rl-video-episode-{ep_number}.mp4\", 'r+b').read()\n",
    "    encoded = base64.b64encode(video)\n",
    "    return HTML(data='''\n",
    "        <video width=\"360\" height=\"auto\" alt=\"test\" controls><source src=\"data:video/mp4;base64,{0}\" type=\"video/mp4\" /></video>'''\n",
    "    .format(encoded.decode('ascii')))\n",
    "\n",
    "def smooth(y, box_pts):\n",
    "    box = np.ones(box_pts)/box_pts\n",
    "    y_smooth = np.convolve(y, box, mode='valid')\n",
    "    return y_smooth"
   ]
  },
  {
   "cell_type": "code",
   "execution_count": 50,
   "metadata": {},
   "outputs": [
    {
     "name": "stderr",
     "output_type": "stream",
     "text": [
      "100%|██████████| 1000/1000 [00:01<00:00, 935.42it/s]\n"
     ]
    },
    {
     "data": {
      "text/plain": [
       "Text(0.5, 1.0, 'Rewards over 2 episodes')"
      ]
     },
     "execution_count": 50,
     "metadata": {},
     "output_type": "execute_result"
    },
    {
     "data": {
      "image/png": "[encoded data removed]",
      "text/plain": [
       "<Figure size 640x480 with 1 Axes>"
      ]
     },
     "metadata": {},
     "output_type": "display_data"
    }
   ],
   "source": [
    "env = gym.make(\"ALE/Pong-v5\")\n",
    "env = wrappers.RecordVideo(env, \"./gym-results\", new_step_api=True)\n",
    "env.reset(seed=42)\n",
    "\n",
    "# hyperparams\n",
    "num_steps = 1000\n",
    "random_rewards = [0]\n",
    "random_lengths = [0]\n",
    "ep_len = 0\n",
    "for _ in trange(num_steps):\n",
    "   action = env.action_space.sample() \n",
    "   observation, reward, done, info, _ = env.step(action)\n",
    "\n",
    "   if done:\n",
    "      random_rewards.append(reward)\n",
    "      random_lengths.append(ep_len)\n",
    "      observation = env.reset()\n",
    "      ep_len = 0\n",
    "   \n",
    "   ep_len += 1\n",
    "env.close()\n",
    "\n",
    "plt.plot(smooth(random_rewards, 200))\n",
    "plt.title(f\"Rewards over {len(random_rewards)} episodes\")"
   ]
  },
  {
   "cell_type": "code",
   "execution_count": 51,
   "metadata": {},
   "outputs": [],
   "source": [
    "import collections\n",
    "# Several useful wrapper environments\n",
    "class FireResetEnv(gym.Wrapper):\n",
    "    def __init__(self, env=None):\n",
    "        super(FireResetEnv, self).__init__(env)\n",
    "        assert env.unwrapped.get_action_meanings()[1] == 'FIRE'\n",
    "        assert len(env.unwrapped.get_action_meanings()) >= 3\n",
    "    \n",
    "    def step(self, action):\n",
    "        return self.env.step(action)\n",
    "       \n",
    "def reset(self):\n",
    "    self.env.reset()\n",
    "    obs, _, done, _ = self.env.step(1)\n",
    "    if done:\n",
    "        self.env.reset()\n",
    "    obs, _, done, _ = self.env.step(2)\n",
    "    if done:\n",
    "        self.env.reset()\n",
    "    return obs\n",
    "\n",
    "class MaxAndSkipEnv(gym.Wrapper):\n",
    "    def __init__(self, env=None, skip=4):\n",
    "        super(MaxAndSkipEnv, self).__init__(env)\n",
    "        self._obs_buffer = collections.deque(maxlen=2)\n",
    "        self._skip = skip\n",
    "        \n",
    "    def step(self, action):\n",
    "        total_reward = 0.0\n",
    "        done = None\n",
    "        for _ in range(self._skip):\n",
    "           obs, reward, done, info, _ = self.env.step(action)\n",
    "           self._obs_buffer.append(obs)\n",
    "           total_reward += reward\n",
    "           if done:\n",
    "               break\n",
    "        max_frame = np.max(np.stack(self._obs_buffer), axis=0)\n",
    "        return max_frame, total_reward, done, info, _\n",
    "\n",
    "    def reset(self):\n",
    "       self._obs_buffer.clear()\n",
    "       obs = self.env.reset()\n",
    "       self._obs_buffer.append(obs)\n",
    "       return obs\n",
    "\n",
    "# TODO: Still produces broken ball and split user paddle\n",
    "class ProcessFrame84(gym.ObservationWrapper):\n",
    "    def __init__(self, env=None):\n",
    "        super(ProcessFrame84, self).__init__(env)\n",
    "        self.observation_space = gym.spaces.Box(low=0, high=255, \n",
    "                            shape=(84, 84, 1), dtype=np.uint8)\n",
    "    \n",
    "    def observation(self, obs):\n",
    "        return ProcessFrame84.process(obs)\n",
    "         \n",
    "    @staticmethod\n",
    "    def process(frame):\n",
    "        if frame.size == 210 * 160 * 3:\n",
    "            img = np.reshape(frame, [210, 160,  3]).astype(np.float32)\n",
    "        elif frame.size == 250 * 160 * 3:\n",
    "            img = np.reshape(frame, [250, 160, 3]).astype(np.float32)\n",
    "        else:\n",
    "            assert False, \"Unknown resolution.\" \n",
    "\n",
    "        img = img[:, :, 0] * 0.299 + img[:, :, 1] * 0.587 + img[:, :, 2] * 0.114\n",
    "        resized_screen = cv2.resize(img, (84, 110),            \n",
    "                        interpolation=cv2.INTER_AREA)\n",
    "        x_t = resized_screen[16:100, :] # remove scoreboard + bottom\n",
    "        x_t = np.reshape(x_t, [84, 84, 1])\n",
    "        return x_t.astype(np.uint8)\n",
    "\n",
    "class ImageToPyTorch(gym.ObservationWrapper):\n",
    "    def __init__(self, env):\n",
    "        super(ImageToPyTorch, self).__init__(env)\n",
    "        old_shape = self.observation_space.shape\n",
    "        self.observation_space = gym.spaces.Box(low=0.0, high=1.0,            \n",
    "                                shape=(old_shape[-1], \n",
    "                                old_shape[0], old_shape[1]),\n",
    "                                dtype=np.float32)\n",
    "    def observation(self, observation):\n",
    "      return np.moveaxis(observation, 2, 0)\n",
    "\n",
    "# Stacks several frames together\n",
    "class BufferWrapper(gym.ObservationWrapper):\n",
    "    def __init__(self, env, n_steps, dtype=np.float32):\n",
    "        super(BufferWrapper, self).__init__(env)\n",
    "        self.dtype = dtype\n",
    "        old_space = env.observation_space\n",
    "        self.observation_space = \\\n",
    "                 gym.spaces.Box(old_space.low.repeat(n_steps, \n",
    "                 axis=0),old_space.high.repeat(n_steps, axis=0),     \n",
    "                 dtype=dtype)\n",
    "    def reset(self):\n",
    "        self.buffer = np.zeros_like(self.observation_space.low,\n",
    "        dtype=self.dtype)\n",
    "        return self.observation(self.env.reset())\n",
    "        \n",
    "    def observation(self, observation):\n",
    "        self.buffer[:-1] = self.buffer[1:]\n",
    "        self.buffer[-1] = observation\n",
    "        return self.buffer\n",
    "\n",
    "class ScaledFloatFrame(gym.ObservationWrapper):\n",
    "     def observation(self, obs):\n",
    "         return np.array(obs).astype(np.float32) / 255.0\n",
    "\n",
    "def make_pong():\n",
    "   env = gym.make(\"ALE/Pong-v5\")\n",
    "   env = wrappers.RecordVideo(env, \"./gym-results\", new_step_api=True)\n",
    "   env = MaxAndSkipEnv(env)\n",
    "   env = FireResetEnv(env)\n",
    "   env = ProcessFrame84(env)\n",
    "   env = ImageToPyTorch(env)\n",
    "   env = BufferWrapper(env, 4)\n",
    "   env = ScaledFloatFrame(env)\n",
    "\n",
    "   return env\n",
    "\n"
   ]
  },
  {
   "cell_type": "code",
   "execution_count": 80,
   "metadata": {},
   "outputs": [],
   "source": [
    "import torch.nn as nn\n",
    "\n",
    "class QNet(nn.Module):\n",
    "    def __init__(self, obs_space, act_space):\n",
    "        super(QNet, self).__init__()\n",
    "        self.obs_shape = obs_space.low.shape\n",
    "        self.act_shape = flatdim(act_space)\n",
    "        self.replay_memory = []\n",
    "\n",
    "        self.conv1 = nn.Conv2d(self.obs_shape[0], 16, 8, stride=4)\n",
    "        self.conv2 = nn.Conv2d(16, 32, 4, stride=2)\n",
    "        self.fc1 = nn.Linear(2592, 256) # mathemagic\n",
    "        self.out = nn.Linear(256, self.act_shape)\n",
    "\n",
    "        self.optimizer = pt.optim.Adam(self.parameters())\n",
    "        self.loss = nn.HuberLoss()\n",
    "    \n",
    "    def forward(self, x):\n",
    "        x = self.conv1(x)\n",
    "        x = nn.ReLU()(x)\n",
    "        x = self.conv2(x)\n",
    "        x = nn.ReLU()(x)\n",
    "        x = nn.Flatten()(x)\n",
    "        x = self.fc1(x)\n",
    "        x = nn.ReLU()(x)\n",
    "        return self.out(x)\n",
    "\n",
    "\n",
    "\n"
   ]
  },
  {
   "cell_type": "code",
   "execution_count": 96,
   "metadata": {},
   "outputs": [],
   "source": [
    "def epsilon_greedy(q_vals, epsilon=0.1):\n",
    "    if pt.rand(1) < 0:\n",
    "        return pt.rand_like(q_vals)\n",
    "    \n",
    "    return pt.argmax(q_vals)\n",
    "\n",
    "class ReplayMemory():\n",
    "    def __init__(self, size, obs_space, act_shape):\n",
    "        self.size = size\n",
    "        self.counter = 0\n",
    "\n",
    "        obs_shape = obs_space.shape\n",
    "\n",
    "        self.obs = np.zeros((size, *obs_shape))\n",
    "        self.actions = np.zeros((size))\n",
    "        self.rewards = np.zeros((size))\n",
    "        self.obs_n = np.zeros((size, *obs_shape))\n",
    "        self.done = np.zeros((size))\n",
    "    \n",
    "    def store_transition(self, obs, action, obs_n, r, done):\n",
    "        indx = self.counter % self.size\n",
    "\n",
    "        self.obs[indx] = obs\n",
    "        self.actions[indx] = action\n",
    "        self.rewards[indx] = r\n",
    "        self.obs_n[indx] = obs_n\n",
    "        self.done[indx] = done\n",
    "\n",
    "        self.counter += 1\n",
    "    \n",
    "    def sample_batch(self, batch_size):\n",
    "        max_mem = min(self.counter, self.size)\n",
    "        batch = np.random.choice(max_mem, batch_size, replace=False)\n",
    "\n",
    "        obs = pt.from_numpy(self.obs[batch]).float()\n",
    "        actions = pt.from_numpy(self.actions[batch]).long()\n",
    "        rewards = pt.from_numpy(self.rewards[batch]).float()\n",
    "        obs_n = pt.from_numpy(self.obs_n[batch]).float()\n",
    "        terminal = pt.from_numpy(self.done[batch]).bool()\n",
    "\n",
    "        return obs, actions, rewards, obs_n, terminal\n",
    "\n"
   ]
  },
  {
   "cell_type": "code",
   "execution_count": 97,
   "metadata": {},
   "outputs": [
    {
     "name": "stdout",
     "output_type": "stream",
     "text": [
      "QNet(\n",
      "  (conv1): Conv2d(4, 16, kernel_size=(8, 8), stride=(4, 4))\n",
      "  (conv2): Conv2d(16, 32, kernel_size=(4, 4), stride=(2, 2))\n",
      "  (fc1): Linear(in_features=2592, out_features=256, bias=True)\n",
      "  (out): Linear(in_features=256, out_features=6, bias=True)\n",
      "  (loss): HuberLoss()\n",
      ")\n",
      "Storing transition: (4, 84, 84), 0, (4, 84, 84), 0.0, False\n",
      "Transition: tensor([0., 0., 0., 0., 0., 0.])\n",
      "All q-vals: tensor([[ 0.0589, -0.0327, -0.0576,  0.0552, -0.0230, -0.0022],\n",
      "        [ 0.0589, -0.0327, -0.0576,  0.0552, -0.0230, -0.0022],\n",
      "        [ 0.0589, -0.0327, -0.0576,  0.0552, -0.0230, -0.0022],\n",
      "        [ 0.0589, -0.0327, -0.0576,  0.0552, -0.0230, -0.0022],\n",
      "        [ 0.0589, -0.0327, -0.0576,  0.0552, -0.0230, -0.0022],\n",
      "        [ 0.0589, -0.0327, -0.0576,  0.0552, -0.0230, -0.0022]],\n",
      "       grad_fn=<AddmmBackward0>)\n"
     ]
    }
   ],
   "source": [
    "\n",
    "# Test\n",
    "env = make_pong()\n",
    "obs = env.reset()\n",
    "memory = ReplayMemory(10, env.observation_space, env.action_space)\n",
    "\n",
    "dqn = QNet(env.observation_space, env.action_space)\n",
    "print(dqn)\n",
    "obs_n, r, done, _, _ = env.step(env.action_space.sample())\n",
    "\n",
    "# q_vals = dqn(pt.tensor(obs))\n",
    "# action = epsilon_greedy(q_vals)\n",
    "action = 0\n",
    "\n",
    "print(f\"Storing transition: {obs.shape}, {action}, {obs_n.shape}, {r}, {done}\")\n",
    "memory.store_transition(obs, action, obs_n, r, done)\n",
    "memory.store_transition(obs, action, obs_n, r, done)\n",
    "memory.store_transition(obs, action, obs_n, r, done)\n",
    "memory.store_transition(obs, action, obs_n, r, done)\n",
    "memory.store_transition(obs, action, obs_n, r, done)\n",
    "memory.store_transition(obs, action, obs_n, r, done)\n",
    "states, actions, rewards, states_, dones = memory.sample_batch(6)\n",
    "print(f\"Transition: {rewards}\")\n",
    "q_vals = dqn(states)\n",
    "print(f\"All q-vals: {q_vals}\")"
   ]
  },
  {
   "cell_type": "code",
   "execution_count": 100,
   "metadata": {},
   "outputs": [
    {
     "name": "stderr",
     "output_type": "stream",
     "text": [
      "Current Loss: 0.05440390855073929:   0%|          | 5/1001 [00:05<16:10,  1.03it/s]"
     ]
    },
    {
     "name": "stdout",
     "output_type": "stream",
     "text": [
      "States shape: torch.Size([1000, 4, 84, 84]), torch.Size([1000, 4, 84, 84])\n"
     ]
    },
    {
     "name": "stderr",
     "output_type": "stream",
     "text": [
      "Current Loss: 0.06196628510951996:   0%|          | 5/1001 [00:06<16:10,  1.03it/s]"
     ]
    },
    {
     "name": "stdout",
     "output_type": "stream",
     "text": [
      "States shape: torch.Size([1000, 4, 84, 84]), torch.Size([1000, 4, 84, 84])\n"
     ]
    },
    {
     "name": "stderr",
     "output_type": "stream",
     "text": [
      "Current Loss: 0.04936188831925392:   0%|          | 5/1001 [00:06<16:10,  1.03it/s]"
     ]
    },
    {
     "name": "stdout",
     "output_type": "stream",
     "text": [
      "States shape: torch.Size([1000, 4, 84, 84]), torch.Size([1000, 4, 84, 84])\n"
     ]
    },
    {
     "name": "stderr",
     "output_type": "stream",
     "text": [
      "Current Loss: 0.05004259571433067:   0%|          | 5/1001 [00:07<16:10,  1.03it/s]"
     ]
    },
    {
     "name": "stdout",
     "output_type": "stream",
     "text": [
      "States shape: torch.Size([1000, 4, 84, 84]), torch.Size([1000, 4, 84, 84])\n"
     ]
    },
    {
     "name": "stderr",
     "output_type": "stream",
     "text": [
      "Current Loss: 0.05203894525766373:   0%|          | 5/1001 [00:07<16:10,  1.03it/s]"
     ]
    },
    {
     "name": "stdout",
     "output_type": "stream",
     "text": [
      "States shape: torch.Size([1000, 4, 84, 84]), torch.Size([1000, 4, 84, 84])\n"
     ]
    },
    {
     "name": "stderr",
     "output_type": "stream",
     "text": [
      "Current Loss: 0.05167233198881149:   0%|          | 5/1001 [00:08<16:10,  1.03it/s]"
     ]
    },
    {
     "name": "stdout",
     "output_type": "stream",
     "text": [
      "States shape: torch.Size([1000, 4, 84, 84]), torch.Size([1000, 4, 84, 84])\n"
     ]
    },
    {
     "name": "stderr",
     "output_type": "stream",
     "text": [
      "Current Loss: 0.0512743815779686:   0%|          | 5/1001 [00:08<16:10,  1.03it/s] "
     ]
    },
    {
     "name": "stdout",
     "output_type": "stream",
     "text": [
      "States shape: torch.Size([1000, 4, 84, 84]), torch.Size([1000, 4, 84, 84])\n"
     ]
    },
    {
     "name": "stderr",
     "output_type": "stream",
     "text": [
      "Current Loss: 0.05062419921159744:   0%|          | 5/1001 [00:09<16:10,  1.03it/s]"
     ]
    },
    {
     "name": "stdout",
     "output_type": "stream",
     "text": [
      "States shape: torch.Size([1000, 4, 84, 84]), torch.Size([1000, 4, 84, 84])\n"
     ]
    },
    {
     "name": "stderr",
     "output_type": "stream",
     "text": [
      "Current Loss: 0.049205705523490906:   0%|          | 5/1001 [00:09<16:10,  1.03it/s]"
     ]
    },
    {
     "name": "stdout",
     "output_type": "stream",
     "text": [
      "States shape: torch.Size([1000, 4, 84, 84]), torch.Size([1000, 4, 84, 84])\n"
     ]
    },
    {
     "name": "stderr",
     "output_type": "stream",
     "text": [
      "Current Loss: 0.048571862280368805:   0%|          | 5/1001 [00:10<16:10,  1.03it/s]"
     ]
    },
    {
     "name": "stdout",
     "output_type": "stream",
     "text": [
      "States shape: torch.Size([1000, 4, 84, 84]), torch.Size([1000, 4, 84, 84])\n"
     ]
    },
    {
     "name": "stderr",
     "output_type": "stream",
     "text": [
      "Current Loss: 0.04977418854832649:   0%|          | 5/1001 [00:10<16:10,  1.03it/s] "
     ]
    },
    {
     "name": "stdout",
     "output_type": "stream",
     "text": [
      "States shape: torch.Size([1000, 4, 84, 84]), torch.Size([1000, 4, 84, 84])\n"
     ]
    },
    {
     "name": "stderr",
     "output_type": "stream",
     "text": [
      "Current Loss: 0.050075408071279526:   0%|          | 5/1001 [00:11<16:10,  1.03it/s]"
     ]
    },
    {
     "name": "stdout",
     "output_type": "stream",
     "text": [
      "States shape: torch.Size([1000, 4, 84, 84]), torch.Size([1000, 4, 84, 84])\n"
     ]
    },
    {
     "name": "stderr",
     "output_type": "stream",
     "text": [
      "Current Loss: 0.049538228660821915:   0%|          | 5/1001 [00:11<16:10,  1.03it/s]"
     ]
    },
    {
     "name": "stdout",
     "output_type": "stream",
     "text": [
      "States shape: torch.Size([1000, 4, 84, 84]), torch.Size([1000, 4, 84, 84])\n"
     ]
    },
    {
     "name": "stderr",
     "output_type": "stream",
     "text": [
      "Current Loss: 0.049068618565797806:   0%|          | 5/1001 [00:12<16:10,  1.03it/s]"
     ]
    },
    {
     "name": "stdout",
     "output_type": "stream",
     "text": [
      "States shape: torch.Size([1000, 4, 84, 84]), torch.Size([1000, 4, 84, 84])\n"
     ]
    },
    {
     "name": "stderr",
     "output_type": "stream",
     "text": [
      "Current Loss: 0.049027830362319946:   0%|          | 5/1001 [00:12<16:10,  1.03it/s]"
     ]
    },
    {
     "name": "stdout",
     "output_type": "stream",
     "text": [
      "States shape: torch.Size([1000, 4, 84, 84]), torch.Size([1000, 4, 84, 84])\n"
     ]
    },
    {
     "name": "stderr",
     "output_type": "stream",
     "text": [
      "Current Loss: 0.04883544147014618:   0%|          | 5/1001 [00:13<16:10,  1.03it/s] "
     ]
    },
    {
     "name": "stdout",
     "output_type": "stream",
     "text": [
      "States shape: torch.Size([1000, 4, 84, 84]), torch.Size([1000, 4, 84, 84])\n"
     ]
    },
    {
     "name": "stderr",
     "output_type": "stream",
     "text": [
      "Current Loss: 0.049048393964767456:   0%|          | 5/1001 [00:13<16:10,  1.03it/s]"
     ]
    },
    {
     "name": "stdout",
     "output_type": "stream",
     "text": [
      "States shape: torch.Size([1000, 4, 84, 84]), torch.Size([1000, 4, 84, 84])\n"
     ]
    },
    {
     "name": "stderr",
     "output_type": "stream",
     "text": [
      "Current Loss: 0.04914326220750809:   0%|          | 5/1001 [00:13<16:10,  1.03it/s] "
     ]
    },
    {
     "name": "stdout",
     "output_type": "stream",
     "text": [
      "States shape: torch.Size([1000, 4, 84, 84]), torch.Size([1000, 4, 84, 84])\n"
     ]
    },
    {
     "name": "stderr",
     "output_type": "stream",
     "text": [
      "Current Loss: 0.04910237342119217:   0%|          | 5/1001 [00:14<16:10,  1.03it/s]"
     ]
    },
    {
     "name": "stdout",
     "output_type": "stream",
     "text": [
      "States shape: torch.Size([1000, 4, 84, 84]), torch.Size([1000, 4, 84, 84])\n"
     ]
    },
    {
     "name": "stderr",
     "output_type": "stream",
     "text": [
      "Current Loss: 0.0493633896112442:   0%|          | 5/1001 [00:15<16:10,  1.03it/s] "
     ]
    },
    {
     "name": "stdout",
     "output_type": "stream",
     "text": [
      "States shape: torch.Size([1000, 4, 84, 84]), torch.Size([1000, 4, 84, 84])\n"
     ]
    },
    {
     "name": "stderr",
     "output_type": "stream",
     "text": [
      "Current Loss: 0.04914088174700737:   0%|          | 5/1001 [00:15<16:10,  1.03it/s]"
     ]
    },
    {
     "name": "stdout",
     "output_type": "stream",
     "text": [
      "States shape: torch.Size([1000, 4, 84, 84]), torch.Size([1000, 4, 84, 84])\n"
     ]
    },
    {
     "name": "stderr",
     "output_type": "stream",
     "text": [
      "Current Loss: 0.049090031534433365:   0%|          | 5/1001 [00:16<16:10,  1.03it/s]"
     ]
    },
    {
     "name": "stdout",
     "output_type": "stream",
     "text": [
      "States shape: torch.Size([1000, 4, 84, 84]), torch.Size([1000, 4, 84, 84])\n"
     ]
    },
    {
     "name": "stderr",
     "output_type": "stream",
     "text": [
      "Current Loss: 0.04917954280972481:   0%|          | 5/1001 [00:16<16:10,  1.03it/s] "
     ]
    },
    {
     "name": "stdout",
     "output_type": "stream",
     "text": [
      "States shape: torch.Size([1000, 4, 84, 84]), torch.Size([1000, 4, 84, 84])\n"
     ]
    },
    {
     "name": "stderr",
     "output_type": "stream",
     "text": [
      "Current Loss: 0.049308452755212784:   0%|          | 5/1001 [00:17<16:10,  1.03it/s]"
     ]
    },
    {
     "name": "stdout",
     "output_type": "stream",
     "text": [
      "States shape: torch.Size([1000, 4, 84, 84]), torch.Size([1000, 4, 84, 84])\n"
     ]
    },
    {
     "name": "stderr",
     "output_type": "stream",
     "text": [
      "Current Loss: 0.049308452755212784:   0%|          | 5/1001 [00:17<58:48,  3.54s/it]\n"
     ]
    },
    {
     "ename": "KeyboardInterrupt",
     "evalue": "",
     "output_type": "error",
     "traceback": [
      "\u001b[0;31m---------------------------------------------------------------------------\u001b[0m",
      "\u001b[0;31mKeyboardInterrupt\u001b[0m                         Traceback (most recent call last)",
      "\u001b[1;32m/home/luke/projects/rl-refresher/deep-q-learning/dqn.ipynb Cell 8\u001b[0m in \u001b[0;36m<cell line: 21>\u001b[0;34m()\u001b[0m\n\u001b[1;32m     <a href='vscode-notebook-cell:/home/luke/projects/rl-refresher/deep-q-learning/dqn.ipynb#X10sZmlsZQ%3D%3D?line=46'>47</a>\u001b[0m     loss \u001b[39m=\u001b[39m Q\u001b[39m.\u001b[39mloss(q_target, q_pred)\n\u001b[1;32m     <a href='vscode-notebook-cell:/home/luke/projects/rl-refresher/deep-q-learning/dqn.ipynb#X10sZmlsZQ%3D%3D?line=47'>48</a>\u001b[0m     pbar\u001b[39m.\u001b[39mset_description(\u001b[39mf\u001b[39m\u001b[39m\"\u001b[39m\u001b[39mCurrent Loss: \u001b[39m\u001b[39m{\u001b[39;00mloss\u001b[39m}\u001b[39;00m\u001b[39m\"\u001b[39m)\n\u001b[0;32m---> <a href='vscode-notebook-cell:/home/luke/projects/rl-refresher/deep-q-learning/dqn.ipynb#X10sZmlsZQ%3D%3D?line=48'>49</a>\u001b[0m     loss\u001b[39m.\u001b[39;49mbackward()\n\u001b[1;32m     <a href='vscode-notebook-cell:/home/luke/projects/rl-refresher/deep-q-learning/dqn.ipynb#X10sZmlsZQ%3D%3D?line=49'>50</a>\u001b[0m     Q\u001b[39m.\u001b[39moptimizer\u001b[39m.\u001b[39mstep()\n\u001b[1;32m     <a href='vscode-notebook-cell:/home/luke/projects/rl-refresher/deep-q-learning/dqn.ipynb#X10sZmlsZQ%3D%3D?line=51'>52</a>\u001b[0m \u001b[39mif\u001b[39;00m i \u001b[39m%\u001b[39m update_freq \u001b[39m==\u001b[39m \u001b[39m0\u001b[39m:\n",
      "File \u001b[0;32m~/software/rl-env/lib/python3.10/site-packages/torch/_tensor.py:396\u001b[0m, in \u001b[0;36mTensor.backward\u001b[0;34m(self, gradient, retain_graph, create_graph, inputs)\u001b[0m\n\u001b[1;32m    387\u001b[0m \u001b[39mif\u001b[39;00m has_torch_function_unary(\u001b[39mself\u001b[39m):\n\u001b[1;32m    388\u001b[0m     \u001b[39mreturn\u001b[39;00m handle_torch_function(\n\u001b[1;32m    389\u001b[0m         Tensor\u001b[39m.\u001b[39mbackward,\n\u001b[1;32m    390\u001b[0m         (\u001b[39mself\u001b[39m,),\n\u001b[0;32m   (...)\u001b[0m\n\u001b[1;32m    394\u001b[0m         create_graph\u001b[39m=\u001b[39mcreate_graph,\n\u001b[1;32m    395\u001b[0m         inputs\u001b[39m=\u001b[39minputs)\n\u001b[0;32m--> 396\u001b[0m torch\u001b[39m.\u001b[39;49mautograd\u001b[39m.\u001b[39;49mbackward(\u001b[39mself\u001b[39;49m, gradient, retain_graph, create_graph, inputs\u001b[39m=\u001b[39;49minputs)\n",
      "File \u001b[0;32m~/software/rl-env/lib/python3.10/site-packages/torch/autograd/__init__.py:173\u001b[0m, in \u001b[0;36mbackward\u001b[0;34m(tensors, grad_tensors, retain_graph, create_graph, grad_variables, inputs)\u001b[0m\n\u001b[1;32m    168\u001b[0m     retain_graph \u001b[39m=\u001b[39m create_graph\n\u001b[1;32m    170\u001b[0m \u001b[39m# The reason we repeat same the comment below is that\u001b[39;00m\n\u001b[1;32m    171\u001b[0m \u001b[39m# some Python versions print out the first line of a multi-line function\u001b[39;00m\n\u001b[1;32m    172\u001b[0m \u001b[39m# calls in the traceback and some print out the last line\u001b[39;00m\n\u001b[0;32m--> 173\u001b[0m Variable\u001b[39m.\u001b[39;49m_execution_engine\u001b[39m.\u001b[39;49mrun_backward(  \u001b[39m# Calls into the C++ engine to run the backward pass\u001b[39;49;00m\n\u001b[1;32m    174\u001b[0m     tensors, grad_tensors_, retain_graph, create_graph, inputs,\n\u001b[1;32m    175\u001b[0m     allow_unreachable\u001b[39m=\u001b[39;49m\u001b[39mTrue\u001b[39;49;00m, accumulate_grad\u001b[39m=\u001b[39;49m\u001b[39mTrue\u001b[39;49;00m)\n",
      "\u001b[0;31mKeyboardInterrupt\u001b[0m: "
     ]
    }
   ],
   "source": [
    "# Pseudocode from DQN Paper\n",
    "env = make_pong()\n",
    "\n",
    "# Hyperparams\n",
    "epsilon = 0.1\n",
    "batch_size = 1000\n",
    "update_freq = 100\n",
    "gamma = 0.99\n",
    "\n",
    "# Initialize Replay Memory to capacity N\n",
    "replay_capacity = 1000\n",
    "memory = ReplayMemory(replay_capacity, env.observation_space, env.action_space)\n",
    "\n",
    "# Initialize action-value Function Q with random weights\n",
    "Q = QNet(env.observation_space, env.action_space)\n",
    "T = QNet(env.observation_space, env.action_space)\n",
    "\n",
    "num_episodes = batch_size + 1\n",
    "pbar = tqdm(range(num_episodes))\n",
    "i = 0\n",
    "for ep in pbar:\n",
    "    obs = env.reset()\n",
    "    done = False\n",
    "    while not done:\n",
    "\n",
    "        # Select action random action with prob epsilon, otherwise argmax_a Q(obs, a)\n",
    "        action = epsilon_greedy(Q(pt.from_numpy(obs).unsqueeze(0).float()))\n",
    "\n",
    "        r, obs_n, done, _, _ = env.step(action)\n",
    "\n",
    "        memory.store_transition(obs, action, r, obs_n, done)\n",
    "\n",
    "        cur_loss = 0\n",
    "        if (memory.counter > batch_size):\n",
    "            # Update network weights on batch\n",
    "            Q.optimizer.zero_grad()\n",
    "\n",
    "            states, actions, rewards, states_, dones = memory.sample_batch(batch_size)\n",
    "            indices = np.arange(batch_size)\n",
    "\n",
    "            q_pred = Q.forward(states)[indices, actions]\n",
    "            q_next = T.forward(states_).max(dim=1)[0]\n",
    "\n",
    "            q_next[dones] = 0.0\n",
    "            q_target = rewards + gamma*q_next\n",
    "\n",
    "            loss = Q.loss(q_target, q_pred)\n",
    "            loss.backward()\n",
    "            Q.optimizer.step()\n",
    "        \n",
    "        pbar.set_description(f\"Current Loss: {loss}\")\n",
    "        if i % update_freq == 0:\n",
    "            T.load_state_dict(Q.state_dict())"
   ]
  },
  {
   "cell_type": "code",
   "execution_count": null,
   "metadata": {},
   "outputs": [],
   "source": []
  },
  {
   "cell_type": "code",
   "execution_count": null,
   "metadata": {},
   "outputs": [],
   "source": []
  }
 ],
 "metadata": {
  "kernelspec": {
   "display_name": "rl-env",
   "language": "python",
   "name": "rl-env"
  },
  "language_info": {
   "codemirror_mode": {
    "name": "ipython",
    "version": 3
   },
   "file_extension": ".py",
   "mimetype": "text/x-python",
   "name": "python",
   "nbconvert_exporter": "python",
   "pygments_lexer": "ipython3",
   "version": "3.10.6"
  },
  "orig_nbformat": 4,
  "vscode": {
   "interpreter": {
    "hash": "a926d3def179f663025bb8437b068ade0395ea661c618295799790ac4630b864"
   }
  }
 },
 "nbformat": 4,
 "nbformat_minor": 2
}
