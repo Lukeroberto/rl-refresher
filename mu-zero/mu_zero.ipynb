{
 "cells": [
  {
   "cell_type": "code",
   "execution_count": 1,
   "metadata": {},
   "outputs": [
    {
     "name": "stderr",
     "output_type": "stream",
     "text": [
      "/home/luke/.local/lib/python3.10/site-packages/tqdm/auto.py:22: TqdmWarning: IProgress not found. Please update jupyter and ipywidgets. See https://ipywidgets.readthedocs.io/en/stable/user_install.html\n",
      "  from .autonotebook import tqdm as notebook_tqdm\n"
     ]
    },
    {
     "name": "stdout",
     "output_type": "stream",
     "text": [
      "Scalene extension successfully loaded. Note: Scalene currently only\n",
      "supports CPU+GPU profiling inside Jupyter notebooks. For full Scalene\n",
      "profiling, use the command line version.\n"
     ]
    }
   ],
   "source": [
    "import gym\n",
    "import numpy as np\n",
    "import matplotlib.pyplot as plt\n",
    "from tqdm.auto import tqdm  # notebook compatible\n",
    "import torch\n",
    "from torch import nn\n",
    "from torch.functional import F\n",
    "from torch.utils.tensorboard import SummaryWriter\n",
    "import matplotlib.pyplot as plt\n",
    "\n",
    "from mcts import MCTS_AlphaZero\n",
    "from mcts_utils import ReplayMemory, compute_returns, train_on_batch\n",
    "%load_ext scalene"
   ]
  },
  {
   "cell_type": "code",
   "execution_count": 2,
   "metadata": {},
   "outputs": [],
   "source": [
    "# Tools to train model\n",
    "class DenseMCTSNet(nn.Module):\n",
    "    def __init__(self, env):\n",
    "        super().__init__()\n",
    "        self.n_actions = env.action_space.n\n",
    "        self.network = nn.Sequential(\n",
    "            nn.Linear(1, 128),\n",
    "            nn.ReLU(),\n",
    "            nn.Linear(128, 256),\n",
    "            nn.ReLU(),\n",
    "            nn.Linear(256, 128),\n",
    "            nn.ReLU(),\n",
    "        )\n",
    "\n",
    "        self.policy_head = nn.Linear(128, self.n_actions) \n",
    "        self.value_head = nn.Linear(128, 1)\n",
    "    \n",
    "    def forward(self, x):\n",
    "        x = self.network(x)\n",
    "        logits = self.policy_head(x)\n",
    "        return nn.functional.softmax(logits, dim=-1), self.value_head(x)\n",
    "    \n",
    "    def logits(self, x):\n",
    "        x = self.network(x)\n",
    "        return self.policy_head(x)\n",
    "\n",
    "def episode(env, network, memory, config):\n",
    "    # Run network in evaluation mode\n",
    "    network.eval()\n",
    "\n",
    "    obs = env.reset()\n",
    "    done = False\n",
    "\n",
    "    rewards = []\n",
    "    logits = []\n",
    "    ep_obs = []\n",
    "    # mcts = MCTS_AlphaZero(obs, model, network, config)\n",
    "    while not done:\n",
    "        action, pi = MCTS_AlphaZero(obs, env, network, config).search()\n",
    "        # action, pi = mcts.search()\n",
    "        ep_obs.append(obs)\n",
    "        logits.append(pi)\n",
    "\n",
    "        obs, r, done, _ = env.step(action)\n",
    "\n",
    "        # Reuse Search Tree\n",
    "        # mcts.forward(action)\n",
    "        rewards.append(r)\n",
    "\n",
    "    returns = compute_returns(rewards, config[\"discount\"])\n",
    "\n",
    "    for i in range(len(returns)):\n",
    "        memory.store_transition(ep_obs[i], logits[i], returns[i])\n",
    "    \n",
    "    return sum(rewards), len(rewards)\n",
    "\n",
    "def policy_iteration(env, network, config):\n",
    "    writer = SummaryWriter(config[\"log_path\"])\n",
    "    memory = ReplayMemory(config[\"memory_size\"], env)\n",
    "    optimizer = torch.optim.Adam(network.parameters(), lr=config[\"learning_rate\"], weight_decay=1e-4)\n",
    "    pbar = tqdm(range(config[\"training_steps\"]))\n",
    "    total_rewards = 0\n",
    "    for global_step in pbar:\n",
    "        ep_rewards, ep_length = episode(env, network, memory, config)\n",
    "        total_rewards += ep_rewards\n",
    "\n",
    "        # Only train once buffer large enough, and rewards to learn with\n",
    "        for _ in range(config[\"epochs\"]):\n",
    "            batch = memory.sample_batch(config[\"batch_size\"])\n",
    "            vloss, ploss = train_on_batch(network, optimizer, batch, global_step, writer) \n",
    "\n",
    "\n",
    "        if global_step % 5 == 0:\n",
    "            writer.add_scalar(\"losses/loss\", (ploss + vloss).mean().item(), global_step)\n",
    "            writer.add_scalar(\"losses/policy_loss\", ploss.mean().item(), global_step)\n",
    "            writer.add_scalar(\"losses/value_loss\", vloss.mean().item(), global_step)\n",
    "        \n",
    "        if (global_step % config[\"checkpoint_freq\"] == 0):\n",
    "            torch.save(network.state_dict(), config[\"checkpoint_path\"] + f\"model_{global_step}.pt\")\n",
    "        \n",
    "        writer.add_scalar(\"Success Rate\", total_rewards / (global_step + 1), global_step)\n",
    "        writer.add_scalar(\"Episode Length\", ep_length, global_step)\n",
    "        pbar.set_description(f\"Memory size: {memory.counter}, Cumulative rewards: {total_rewards}\")\n",
    "    return network\n",
    "\n",
    "lake_actions = {\n",
    "    0: \"LEFT\",\n",
    "    1: \"DOWN\", \n",
    "    2: \"RIGHT\",\n",
    "    3: \"UP\"\n",
    "}\n",
    "\n",
    "room_actions = {\n",
    "    0: \"left\",\n",
    "    1: \"right\",\n",
    "    2: \"forward\",\n",
    "    3: \"pickup\",\n",
    "    4: \"drop\",\n",
    "    5: \"toggle\",\n",
    "    6: \"done\" \n",
    "}\n",
    "\n",
    "DEFAULT_CONFIG = {\n",
    "    \"training_steps\": 200,\n",
    "    \"batch_size\": 256,\n",
    "    \"learning_rate\": 1e-4,\n",
    "    \"memory_size\": 1000,\n",
    "    \"discount\": 0.9,\n",
    "    \"search_iters\": 20,\n",
    "    \"checkpoint_freq\": 50000,\n",
    "    \"epochs\": 20,\n",
    "    \"checkpoint_path\": \"./frozen_lake/\",\n",
    "    \"log_path\": \"./frozen_lake/\"\n",
    "}"
   ]
  },
  {
   "cell_type": "code",
   "execution_count": 3,
   "metadata": {},
   "outputs": [
    {
     "name": "stderr",
     "output_type": "stream",
     "text": [
      "Memory size: 755, Cumulative rewards: 72.0: 100%|██████████| 200/200 [00:52<00:00,  3.83it/s]\n"
     ]
    },
    {
     "data": {
      "text/plain": [
       "DenseMCTSNet(\n",
       "  (network): Sequential(\n",
       "    (0): Linear(in_features=1, out_features=128, bias=True)\n",
       "    (1): ReLU()\n",
       "    (2): Linear(in_features=128, out_features=256, bias=True)\n",
       "    (3): ReLU()\n",
       "    (4): Linear(in_features=256, out_features=128, bias=True)\n",
       "    (5): ReLU()\n",
       "  )\n",
       "  (policy_head): Linear(in_features=128, out_features=4, bias=True)\n",
       "  (value_head): Linear(in_features=128, out_features=1, bias=True)\n",
       ")"
      ]
     },
     "execution_count": 3,
     "metadata": {},
     "output_type": "execute_result"
    }
   ],
   "source": [
    "env = gym.make(\"FrozenLake-v1\", is_slippery=False)\n",
    "env._max_episode_steps = 20\n",
    "net = DenseMCTSNet(env)\n",
    "policy_iteration(env, net, DEFAULT_CONFIG)"
   ]
  },
  {
   "cell_type": "code",
   "execution_count": 7,
   "metadata": {},
   "outputs": [
    {
     "data": {
      "text/plain": [
       "Text(0.5, 1.0, 'Value function')"
      ]
     },
     "execution_count": 7,
     "metadata": {},
     "output_type": "execute_result"
    },
    {
     "data": {
      "image/png": "[encoded data removed]",
      "text/plain": [
       "<Figure size 640x480 with 1 Axes>"
      ]
     },
     "metadata": {},
     "output_type": "display_data"
    }
   ],
   "source": [
    "fresh_net = DenseMCTSNet(env)\n",
    "grid= np.zeros((4, 4))\n",
    "for i in range(16):\n",
    "    grid[np.unravel_index(i, (4,4))] += fresh_net(torch.Tensor([i]))[1].detach().numpy()\n",
    "plt.imshow(grid)\n",
    "plt.title(\"Value function\")\n"
   ]
  },
  {
   "cell_type": "code",
   "execution_count": 8,
   "metadata": {},
   "outputs": [
    {
     "data": {
      "text/plain": [
       "Text(0.5, 1.0, 'Value function')"
      ]
     },
     "execution_count": 8,
     "metadata": {},
     "output_type": "execute_result"
    },
    {
     "data": {
      "image/png": "[encoded data removed]",
      "text/plain": [
       "<Figure size 640x480 with 1 Axes>"
      ]
     },
     "metadata": {},
     "output_type": "display_data"
    }
   ],
   "source": [
    "grid = np.zeros((4, 4))\n",
    "for i in range(16):\n",
    "    grid[np.unravel_index(i, (4,4))] += net(torch.Tensor([i]))[1].detach().numpy()\n",
    "plt.imshow(grid)\n",
    "plt.title(\"Value function\")"
   ]
  },
  {
   "cell_type": "code",
   "execution_count": 11,
   "metadata": {},
   "outputs": [
    {
     "name": "stdout",
     "output_type": "stream",
     "text": [
      "[0, 4, 8, 9, 13, 14, 15]\n",
      "[0.531441 0.59049  0.6561   0.729    0.81     0.9      1.      ]\n",
      "0 DOWN\n",
      "4 RIGHT\n",
      "8 RIGHT\n",
      "9 RIGHT\n",
      "13 RIGHT\n",
      "14 RIGHT\n",
      "15 RIGHT\n"
     ]
    },
    {
     "data": {
      "text/plain": [
       "Text(0.5, 1.0, 'Value function')"
      ]
     },
     "execution_count": 11,
     "metadata": {},
     "output_type": "execute_result"
    },
    {
     "data": {
      "image/png": "[encoded data removed]",
      "text/plain": [
       "<Figure size 640x480 with 1 Axes>"
      ]
     },
     "metadata": {},
     "output_type": "display_data"
    }
   ],
   "source": [
    "obs = env.reset()\n",
    "ep_obs = [obs]\n",
    "rewards = [0]\n",
    "done = False\n",
    "while not done:\n",
    "    action, pi = MCTS_AlphaZero(obs, env, net, DEFAULT_CONFIG).search()\n",
    "    # action, pi = mcts.search()\n",
    "    obs, r, done, _ = env.step(action)\n",
    "    rewards.append(r)\n",
    "    ep_obs.append(obs)\n",
    "\n",
    "returns = compute_returns(rewards, 0.9)\n",
    "\n",
    "print(ep_obs)\n",
    "print(returns)\n",
    "\n",
    "grid = np.zeros((4, 4))\n",
    "for i,v in zip(ep_obs, returns):\n",
    "    pi, v = net(torch.Tensor([i]))\n",
    "    pi, v = pi.detach().numpy(), v.detach().numpy()\n",
    "    grid[np.unravel_index(i, (4,4))] += v\n",
    "    # print(pi)\n",
    "    print(i, lake_actions[np.argmax(pi)])\n",
    "    # grid[np.unravel_index(i, (4,4))] += v \n",
    "plt.imshow(grid)\n",
    "plt.title(\"Value function\")"
   ]
  },
  {
   "cell_type": "code",
   "execution_count": null,
   "metadata": {},
   "outputs": [],
   "source": []
  },
  {
   "cell_type": "code",
   "execution_count": null,
   "metadata": {},
   "outputs": [],
   "source": []
  }
 ],
 "metadata": {
  "kernelspec": {
   "display_name": "Python 3.10.6 64-bit",
   "language": "python",
   "name": "python3"
  },
  "language_info": {
   "codemirror_mode": {
    "name": "ipython",
    "version": 3
   },
   "file_extension": ".py",
   "mimetype": "text/x-python",
   "name": "python",
   "nbconvert_exporter": "python",
   "pygments_lexer": "ipython3",
   "version": "3.10.6"
  },
  "orig_nbformat": 4,
  "vscode": {
   "interpreter": {
    "hash": "e7370f93d1d0cde622a1f8e1c04877d8463912d04d973331ad4851f04de6915a"
   }
  }
 },
 "nbformat": 4,
 "nbformat_minor": 2
}
