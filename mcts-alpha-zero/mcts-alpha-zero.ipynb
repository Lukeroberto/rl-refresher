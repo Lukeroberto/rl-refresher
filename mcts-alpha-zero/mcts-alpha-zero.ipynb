{
 "cells": [
  {
   "cell_type": "code",
   "execution_count": null,
   "metadata": {},
   "outputs": [],
   "source": [
    "import gym\n",
    "import numpy as np\n",
    "import matplotlib.pyplot as plt\n",
    "from tqdm.auto import tqdm  # notebook compatible\n",
    "import torch\n",
    "from torch import nn\n",
    "from torch.functional import F\n",
    "from torch.utils.tensorboard import SummaryWriter\n",
    "import matplotlib.pyplot as plt\n",
    "\n",
    "from mcts import MCTS_AlphaZero\n",
    "from mcts_utils import ReplayMemory, compute_returns, train_on_batch\n",
    "%load_ext scalene"
   ]
  },
  {
   "cell_type": "code",
   "execution_count": 1,
   "metadata": {},
   "outputs": [
    {
     "ename": "NameError",
     "evalue": "name 'nn' is not defined",
     "output_type": "error",
     "traceback": [
      "\u001b[0;31m---------------------------------------------------------------------------\u001b[0m",
      "\u001b[0;31mNameError\u001b[0m                                 Traceback (most recent call last)",
      "Cell \u001b[0;32mIn [1], line 2\u001b[0m\n\u001b[1;32m      1\u001b[0m \u001b[39m# Tools to train model\u001b[39;00m\n\u001b[0;32m----> 2\u001b[0m \u001b[39mclass\u001b[39;00m \u001b[39mDenseMCTSNet\u001b[39;00m(nn\u001b[39m.\u001b[39mModule):\n\u001b[1;32m      3\u001b[0m     \u001b[39mdef\u001b[39;00m \u001b[39m__init__\u001b[39m(\u001b[39mself\u001b[39m, env):\n\u001b[1;32m      4\u001b[0m         \u001b[39msuper\u001b[39m()\u001b[39m.\u001b[39m\u001b[39m__init__\u001b[39m()\n",
      "\u001b[0;31mNameError\u001b[0m: name 'nn' is not defined"
     ]
    }
   ],
   "source": [
    "# Tools to train model\n",
    "class DenseMCTSNet(nn.Module):\n",
    "    def __init__(self, env):\n",
    "        super().__init__()\n",
    "        self.n_actions = env.action_space.n\n",
    "        self.network = nn.Sequential(\n",
    "            nn.Linear(1, 128),\n",
    "            nn.ReLU(),\n",
    "            nn.Linear(128, 256),\n",
    "            nn.ReLU(),\n",
    "            nn.Linear(256, 128),\n",
    "            nn.ReLU(),\n",
    "        )\n",
    "\n",
    "        self.policy_head = nn.Linear(128, self.n_actions) \n",
    "        self.value_head = nn.Linear(128, 1)\n",
    "    \n",
    "    def forward(self, x):\n",
    "        x = self.network(x)\n",
    "        logits = self.policy_head(x)\n",
    "        return nn.functional.softmax(logits, dim=-1), self.value_head(x)\n",
    "    \n",
    "    def logits(self, x):\n",
    "        x = self.network(x)\n",
    "        return self.policy_head(x)\n",
    "\n",
    "def episode(env, network, memory, config):\n",
    "    # Run network in evaluation mode\n",
    "    network.eval()\n",
    "\n",
    "    obs = env.reset()\n",
    "    done = False\n",
    "\n",
    "    rewards = []\n",
    "    logits = []\n",
    "    ep_obs = []\n",
    "    # mcts = MCTS_AlphaZero(obs, model, network, config)\n",
    "    while not done:\n",
    "        action, pi = MCTS_AlphaZero(obs, env, network, config).search()\n",
    "        # action, pi = mcts.search()\n",
    "        ep_obs.append(obs)\n",
    "        logits.append(pi)\n",
    "\n",
    "        obs, r, done, _ = env.step(action)\n",
    "\n",
    "        # Reuse Search Tree\n",
    "        # mcts.forward(action)\n",
    "        rewards.append(r)\n",
    "\n",
    "    returns = compute_returns(rewards, config[\"discount\"])\n",
    "\n",
    "    for i in range(len(returns)):\n",
    "        memory.store_transition(ep_obs[i], logits[i], returns[i])\n",
    "    \n",
    "    return sum(rewards), len(rewards)\n",
    "\n",
    "def policy_iteration(env, network, config):\n",
    "    writer = SummaryWriter(config[\"log_path\"])\n",
    "    memory = ReplayMemory(config[\"memory_size\"], env)\n",
    "    optimizer = torch.optim.Adam(network.parameters(), lr=config[\"learning_rate\"], weight_decay=1e-4)\n",
    "    pbar = tqdm(range(config[\"training_steps\"]))\n",
    "    total_rewards = 0\n",
    "    for global_step in pbar:\n",
    "        ep_rewards, ep_length = episode(env, network, memory, config)\n",
    "        total_rewards += ep_rewards\n",
    "\n",
    "        # Only train once buffer large enough, and rewards to learn with\n",
    "        for _ in range(config[\"epochs\"]):\n",
    "            batch = memory.sample_batch(config[\"batch_size\"])\n",
    "            vloss, ploss = train_on_batch(network, optimizer, batch, global_step, writer) \n",
    "\n",
    "\n",
    "        if global_step % 5 == 0:\n",
    "            writer.add_scalar(\"losses/loss\", (ploss + vloss).mean().item(), global_step)\n",
    "            writer.add_scalar(\"losses/policy_loss\", ploss.mean().item(), global_step)\n",
    "            writer.add_scalar(\"losses/value_loss\", vloss.mean().item(), global_step)\n",
    "        \n",
    "        if (global_step % config[\"checkpoint_freq\"] == 0):\n",
    "            torch.save(network.state_dict(), config[\"checkpoint_path\"] + f\"model_{global_step}.pt\")\n",
    "        \n",
    "        writer.add_scalar(\"Success Rate\", total_rewards / (global_step + 1), global_step)\n",
    "        writer.add_scalar(\"Episode Length\", ep_length, global_step)\n",
    "        pbar.set_description(f\"Memory size: {memory.counter}, Cumulative rewards: {total_rewards}\")\n",
    "    return network\n",
    "\n",
    "lake_actions = {\n",
    "    0: \"LEFT\",\n",
    "    1: \"DOWN\", \n",
    "    2: \"RIGHT\",\n",
    "    3: \"UP\"\n",
    "}\n",
    "\n",
    "room_actions = {\n",
    "    0: \"left\",\n",
    "    1: \"right\",\n",
    "    2: \"forward\",\n",
    "    3: \"pickup\",\n",
    "    4: \"drop\",\n",
    "    5: \"toggle\",\n",
    "    6: \"done\" \n",
    "}\n",
    "\n",
    "DEFAULT_CONFIG = {\n",
    "    \"training_steps\": 100,\n",
    "    \"batch_size\": 128,\n",
    "    \"learning_rate\": 1e-3,\n",
    "    \"memory_size\": 1000,\n",
    "    \"discount\": 0.9,\n",
    "    \"search_iters\": 20,\n",
    "    \"checkpoint_freq\": 50000,\n",
    "    \"epochs\": 20,\n",
    "    \"checkpoint_path\": \"./frozen_lake/\",\n",
    "    \"log_path\": \"./frozen_lake/\"\n",
    "}"
   ]
  },
  {
   "cell_type": "code",
   "execution_count": 34,
   "metadata": {},
   "outputs": [
    {
     "name": "stderr",
     "output_type": "stream",
     "text": [
      "Memory size: 1196, Cumulative rewards: 3.0:  62%|██████▏   | 62/100 [01:07<00:41,  1.08s/it]\n"
     ]
    },
    {
     "ename": "KeyboardInterrupt",
     "evalue": "",
     "output_type": "error",
     "traceback": [
      "\u001b[0;31m---------------------------------------------------------------------------\u001b[0m",
      "\u001b[0;31mKeyboardInterrupt\u001b[0m                         Traceback (most recent call last)",
      "Cell \u001b[0;32mIn [34], line 4\u001b[0m\n\u001b[1;32m      2\u001b[0m env\u001b[39m.\u001b[39m_max_episode_steps \u001b[39m=\u001b[39m \u001b[39m20\u001b[39m\n\u001b[1;32m      3\u001b[0m net \u001b[39m=\u001b[39m DenseMCTSNet(env)\n\u001b[0;32m----> 4\u001b[0m policy_iteration(env, net, DEFAULT_CONFIG)\n",
      "Cell \u001b[0;32mIn [32], line 63\u001b[0m, in \u001b[0;36mpolicy_iteration\u001b[0;34m(env, network, config)\u001b[0m\n\u001b[1;32m     61\u001b[0m total_rewards \u001b[39m=\u001b[39m \u001b[39m0\u001b[39m\n\u001b[1;32m     62\u001b[0m \u001b[39mfor\u001b[39;00m global_step \u001b[39min\u001b[39;00m pbar:\n\u001b[0;32m---> 63\u001b[0m     ep_rewards, ep_length \u001b[39m=\u001b[39m episode(env, network, memory, config)\n\u001b[1;32m     64\u001b[0m     total_rewards \u001b[39m+\u001b[39m\u001b[39m=\u001b[39m ep_rewards\n\u001b[1;32m     66\u001b[0m     \u001b[39m# Only train once buffer large enough, and rewards to learn with\u001b[39;00m\n",
      "Cell \u001b[0;32mIn [32], line 39\u001b[0m, in \u001b[0;36mepisode\u001b[0;34m(env, network, memory, config)\u001b[0m\n\u001b[1;32m     37\u001b[0m \u001b[39m# mcts = MCTS_AlphaZero(obs, model, network, config)\u001b[39;00m\n\u001b[1;32m     38\u001b[0m \u001b[39mwhile\u001b[39;00m \u001b[39mnot\u001b[39;00m done:\n\u001b[0;32m---> 39\u001b[0m     action, pi \u001b[39m=\u001b[39m MCTS_AlphaZero(obs, env, network, config)\u001b[39m.\u001b[39;49msearch()\n\u001b[1;32m     40\u001b[0m     \u001b[39m# action, pi = mcts.search()\u001b[39;00m\n\u001b[1;32m     41\u001b[0m     obs, r, done, _ \u001b[39m=\u001b[39m env\u001b[39m.\u001b[39mstep(action)\n",
      "File \u001b[0;32m/mnt/c/Users/luker/projects/rl-refresher/mcts-alpha-zero/mcts.py:69\u001b[0m, in \u001b[0;36mMCTS_AlphaZero.search\u001b[0;34m(self)\u001b[0m\n\u001b[1;32m     66\u001b[0m     next_node \u001b[39m=\u001b[39m \u001b[39mself\u001b[39m\u001b[39m.\u001b[39m_select(next_node)\n\u001b[1;32m     68\u001b[0m \u001b[39m# Expand the leaf node by evaluating network for policy probs and value at state, sample most likely action\u001b[39;00m\n\u001b[0;32m---> 69\u001b[0m value \u001b[39m=\u001b[39m \u001b[39mself\u001b[39;49m\u001b[39m.\u001b[39;49m_expand(next_node)\n\u001b[1;32m     71\u001b[0m \u001b[39m# Backup the value of this node or the reward if its a terminal state (TODO: Seems suspicious for non terminal rewards)\u001b[39;00m\n\u001b[1;32m     72\u001b[0m \u001b[39mself\u001b[39m\u001b[39m.\u001b[39m_backup(next_node, value)\n",
      "File \u001b[0;32m/mnt/c/Users/luker/projects/rl-refresher/mcts-alpha-zero/mcts.py:98\u001b[0m, in \u001b[0;36mMCTS_AlphaZero._expand\u001b[0;34m(self, node)\u001b[0m\n\u001b[1;32m     95\u001b[0m     \u001b[39mreturn\u001b[39;00m node\u001b[39m.\u001b[39mreward\n\u001b[1;32m     97\u001b[0m \u001b[39m# Expand and add children with predicted prior\u001b[39;00m\n\u001b[0;32m---> 98\u001b[0m prior, value \u001b[39m=\u001b[39m \u001b[39mself\u001b[39m\u001b[39m.\u001b[39mnetwork(torch\u001b[39m.\u001b[39;49mTensor([node\u001b[39m.\u001b[39;49mstate]))\n\u001b[1;32m     99\u001b[0m prior, value \u001b[39m=\u001b[39m prior\u001b[39m.\u001b[39mdetach()\u001b[39m.\u001b[39mnumpy(), value\u001b[39m.\u001b[39mdetach()\u001b[39m.\u001b[39mnumpy()[\u001b[39m0\u001b[39m]\n\u001b[1;32m    101\u001b[0m \u001b[39m# Get current env to sample actions from\u001b[39;00m\n",
      "\u001b[0;31mKeyboardInterrupt\u001b[0m: "
     ]
    }
   ],
   "source": [
    "env = gym.make(\"FrozenLake-v1\", is_slippery=False)\n",
    "env._max_episode_steps = 20\n",
    "net = DenseMCTSNet(env)\n",
    "policy_iteration(env, net, DEFAULT_CONFIG)"
   ]
  },
  {
   "cell_type": "code",
   "execution_count": 39,
   "metadata": {},
   "outputs": [
    {
     "data": {
      "text/plain": [
       "Text(0.5, 1.0, 'Value function')"
      ]
     },
     "execution_count": 39,
     "metadata": {},
     "output_type": "execute_result"
    },
    {
     "data": {
      "image/png": "[encoded data removed]",
      "text/plain": [
       "<Figure size 640x480 with 1 Axes>"
      ]
     },
     "metadata": {},
     "output_type": "display_data"
    }
   ],
   "source": [
    "fresh_net = DenseMCTSNet(env)\n",
    "grid= np.zeros((4, 4))\n",
    "for i in range(16):\n",
    "    grid[np.unravel_index(i, (4,4))] += fresh_net(torch.Tensor([i]))[1].detach().numpy()\n",
    "plt.imshow(grid)\n",
    "plt.title(\"Value function\")\n"
   ]
  },
  {
   "cell_type": "code",
   "execution_count": 40,
   "metadata": {},
   "outputs": [
    {
     "data": {
      "text/plain": [
       "Text(0.5, 1.0, 'Value function')"
      ]
     },
     "execution_count": 40,
     "metadata": {},
     "output_type": "execute_result"
    },
    {
     "data": {
      "image/png": "[encoded data removed]",
      "text/plain": [
       "<Figure size 640x480 with 1 Axes>"
      ]
     },
     "metadata": {},
     "output_type": "display_data"
    }
   ],
   "source": [
    "grid = np.zeros((4, 4))\n",
    "for i in range(16):\n",
    "    grid[np.unravel_index(i, (4,4))] += net(torch.Tensor([i]))[1].detach().numpy()\n",
    "plt.imshow(grid)\n",
    "plt.title(\"Value function\")"
   ]
  },
  {
   "cell_type": "code",
   "execution_count": 31,
   "metadata": {},
   "outputs": [
    {
     "name": "stdout",
     "output_type": "stream",
     "text": [
      "[0, 0, 0, 0, 0, 0, 0, 0, 0, 0, 0, 0, 0, 0, 0, 4, 8, 9, 13, 14, 15]\n",
      "[0.12157665 0.13508517 0.15009464 0.16677182 0.18530202 0.20589113\n",
      " 0.22876792 0.25418658 0.28242954 0.3138106  0.34867844 0.38742049\n",
      " 0.43046721 0.4782969  0.531441   0.59049    0.6561     0.729\n",
      " 0.81       0.9        1.        ]\n"
     ]
    },
    {
     "data": {
      "text/plain": [
       "Text(0.5, 1.0, 'Value function')"
      ]
     },
     "execution_count": 31,
     "metadata": {},
     "output_type": "execute_result"
    },
    {
     "data": {
      "image/png": "[encoded data removed]",
      "text/plain": [
       "<Figure size 640x480 with 1 Axes>"
      ]
     },
     "metadata": {},
     "output_type": "display_data"
    }
   ],
   "source": [
    "obs = env.reset()\n",
    "ep_obs = [obs]\n",
    "rewards = [0]\n",
    "done = False\n",
    "while not done:\n",
    "    action, pi = MCTS_AlphaZero(obs, env, net, DEFAULT_CONFIG).search()\n",
    "    # action, pi = mcts.search()\n",
    "    obs, r, done, _ = env.step(action)\n",
    "    rewards.append(r)\n",
    "    ep_obs.append(obs)\n",
    "\n",
    "returns = compute_returns(rewards, 0.9)\n",
    "\n",
    "print(ep_obs)\n",
    "print(returns)\n",
    "\n",
    "grid = np.zeros((4, 4))\n",
    "for i,v in zip(ep_obs, returns):\n",
    "    grid[np.unravel_index(i, (4,4))] += net(torch.Tensor([i]))[1].detach().numpy()\n",
    "    # grid[np.unravel_index(i, (4,4))] += v \n",
    "plt.imshow(grid)\n",
    "plt.title(\"Value function\")"
   ]
  },
  {
   "cell_type": "code",
   "execution_count": null,
   "metadata": {},
   "outputs": [],
   "source": []
  },
  {
   "cell_type": "code",
   "execution_count": null,
   "metadata": {},
   "outputs": [],
   "source": []
  }
 ],
 "metadata": {
  "kernelspec": {
   "display_name": "Python 3.10.6 64-bit",
   "language": "python",
   "name": "python3"
  },
  "language_info": {
   "codemirror_mode": {
    "name": "ipython",
    "version": 3
   },
   "file_extension": ".py",
   "mimetype": "text/x-python",
   "name": "python",
   "nbconvert_exporter": "python",
   "pygments_lexer": "ipython3",
   "version": "3.10.6"
  },
  "orig_nbformat": 4,
  "vscode": {
   "interpreter": {
    "hash": "e7370f93d1d0cde622a1f8e1c04877d8463912d04d973331ad4851f04de6915a"
   }
  }
 },
 "nbformat": 4,
 "nbformat_minor": 2
}
