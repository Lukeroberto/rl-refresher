{
 "cells": [
  {
   "cell_type": "code",
   "execution_count": 1,
   "metadata": {},
   "outputs": [
    {
     "name": "stderr",
     "output_type": "stream",
     "text": [
      "/home/luke/.local/lib/python3.10/site-packages/tqdm/auto.py:22: TqdmWarning: IProgress not found. Please update jupyter and ipywidgets. See https://ipywidgets.readthedocs.io/en/stable/user_install.html\n",
      "  from .autonotebook import tqdm as notebook_tqdm\n"
     ]
    }
   ],
   "source": [
    "import gym\n",
    "from gym import wrappers\n",
    "from gym.spaces.utils import flatdim\n",
    "\n",
    "import torch\n",
    "from torch import nn\n",
    "from torch.functional import F\n",
    "from torch.utils.tensorboard import SummaryWriter\n",
    "from torch.distributions.categorical import Categorical\n",
    "\n",
    "import numpy as np\n",
    "import cv2\n",
    "from tqdm import tqdm\n",
    "\n",
    "from copy import deepcopy\n",
    "import mediapy\n",
    "import collections\n",
    "\n",
    "# Comment out for debugging\n",
    "import warnings\n",
    "warnings.filterwarnings('ignore')"
   ]
  },
  {
   "cell_type": "code",
   "execution_count": null,
   "metadata": {},
   "outputs": [],
   "source": [
    "# World Models\n",
    "class SequenceModel(nn.Module):\n",
    "    def __init__(self, h_shape, z_shape):\n",
    "        self.h_shape = h_shape\n",
    "        self.z_shape = z_shape\n",
    "\n",
    "        self.model = nn.Sequential()\n",
    "    \n",
    "    def step(self, h_t, z_t, a_t):\n",
    "        return self.model(h_t, z_t, a_t)\n",
    "\n",
    "class Encoder(nn.Module):\n",
    "    def __init__(self, h_shape, x_shape, z_shape):\n",
    "        self.h_shape = h_shape\n",
    "        self.x_shape = x_shape\n",
    "        self.z_shape = z_shape\n",
    "\n",
    "        self.encoder = nn.Sequential()\n",
    "    \n",
    "    def encode(self, h_t, x_t):\n",
    "        return self.encoder(h_t, x_t)\n",
    "\n",
    "class Decoder(nn.Module):\n",
    "    def __init__(self, h_shape, z_shape, x_shape):\n",
    "        self.h_shape = h_shape\n",
    "        self.z_shape = z_shape\n",
    "        self.x_shape = x_shape\n",
    "\n",
    "        self.encoder = nn.Sequential()\n",
    "    \n",
    "    def encode(self, h_t, z_t):\n",
    "        return self.encoder(h_t, z_t)\n",
    "\n",
    "class DynamicsModel(nn.Module):\n",
    "    def __init__(self, h_shape, z_shape):\n",
    "        self.h_shape = h_shape\n",
    "        self.z_shape = z_shape\n",
    "\n",
    "        self.dynamics = nn.Sequential()\n",
    "    \n",
    "    def step(self, h_t):\n",
    "        return self.dynamics(h_t)\n",
    "\n",
    "class RewardPredictor(nn.Module):\n",
    "    def __init__(self, h_shape, z_shape):\n",
    "        self.h_shape = h_shape\n",
    "        self.z_shape = z_shape\n",
    "\n",
    "        self.rewards = nn.Sequential()\n",
    "    \n",
    "    def reward(self, h_t, z_t):\n",
    "        return self.rewards(h_t, z_t)\n",
    "\n",
    "class TerminationPredictor(nn.Module): # called \"continue predictor\"\n",
    "    def __init__(self, h_shape, z_shape):\n",
    "        self.h_shape = h_shape\n",
    "        self.z_shape = z_shape\n",
    "\n",
    "        self.terminator = nn.Sequential()\n",
    "\n",
    "    def is_terminated(self, h_t, z_t):\n",
    "        return self.terminator(h_t, z_t)\n",
    "\n",
    "# Actor/Critic Models\n",
    "class Agent(nn.Module):\n",
    "    def __init__(self, env):\n",
    "        self.obs_shape = env.observation_shape\n",
    "        self.action_shape = env.action_shape\n",
    "\n",
    "        self.actor = nn.Sequential()\n",
    "        self.critic =nn.Sequential()\n",
    "    \n",
    "    def value(self, x):\n",
    "        return self.critic(x)\n",
    "    \n",
    "    def act(self, x):\n",
    "        logits = self.actor(x)\n",
    "        probs = Categorical(logits=logits)\n",
    "        return probs.sample()\n"
   ]
  }
 ],
 "metadata": {
  "kernelspec": {
   "display_name": "Python 3.10.6 64-bit",
   "language": "python",
   "name": "python3"
  },
  "language_info": {
   "codemirror_mode": {
    "name": "ipython",
    "version": 3
   },
   "file_extension": ".py",
   "mimetype": "text/x-python",
   "name": "python",
   "nbconvert_exporter": "python",
   "pygments_lexer": "ipython3",
   "version": "3.10.6 (main, Nov 14 2022, 16:10:14) [GCC 11.3.0]"
  },
  "orig_nbformat": 4,
  "vscode": {
   "interpreter": {
    "hash": "e7370f93d1d0cde622a1f8e1c04877d8463912d04d973331ad4851f04de6915a"
   }
  }
 },
 "nbformat": 4,
 "nbformat_minor": 2
}
